{
 "cells": [
  {
   "cell_type": "code",
   "execution_count": 1,
   "metadata": {},
   "outputs": [],
   "source": [
    "#pip install -e git+https://github.com/FrederikFertin/PyEPO.git@development#egg=pyepo"
   ]
  },
  {
   "cell_type": "code",
   "execution_count": 2,
   "metadata": {},
   "outputs": [
    {
     "name": "stdout",
     "output_type": "stream",
     "text": [
      "Auto-Sklearn cannot be imported.\n"
     ]
    }
   ],
   "source": [
    "import gurobipy as gp\n",
    "from gurobipy import GRB\n",
    "import numpy as np\n",
    "import pyepo\n",
    "from pyepo.model.grb import optGrbModel\n",
    "import torch\n",
    "from torch import nn\n",
    "from torch.utils.data import DataLoader\n",
    "from gurobipy import Model, GRB, quicksum\n",
    "\n",
    "import pandas as pd\n",
    "\n",
    "import matplotlib\n",
    "import matplotlib.pyplot as plt\n",
    "%matplotlib inline\n",
    "\n",
    "#from sklearn_extra.cluster import KMedoids\n",
    "import copy"
   ]
  },
  {
   "cell_type": "code",
   "execution_count": 3,
   "metadata": {},
   "outputs": [],
   "source": [
    "# load data\n",
    "red = (0.77, 0, 0.05) # (196, 0, 13)\n",
    "blue = (0.12, 0.24, 1) # (31, 61, 255)\n",
    "# green = (0.31, 1, 0.34) # (79, 255, 87)\n",
    "green = (0.122, 00.816, 0.51) # (31, 208, 130)\n",
    "navyblue = (0, 0, 0.4) # (0, 0, 102)\n",
    "black = (0, 0, 0)\n",
    "white = (1, 1, 1)\n",
    "cgreen = (0.57254902, 0.7254902 , 0.51372549) # (146, 185, 131)\n",
    "cblue = (0.70196078, 0.83137255, 1) # (179, 212, 255)\n",
    "\n",
    "top_domain = 53.32 # 90% quantile\n",
    "\n",
    "\n",
    "\n",
    "def import_data(negative_prices=False):\n",
    "    # import data and set constants\n",
    "    all_data = pd.read_csv(\"2020_data.csv\")\n",
    "    prices_UP = np.maximum(all_data[\"UP\"].to_numpy(),0)\n",
    "    prices_DW = np.maximum(all_data[\"DW\"].to_numpy(),0)\n",
    "    prices_F = np.maximum(all_data[\"forward_RE\"].to_numpy(),0)\n",
    "    prices_forecast = np.maximum(all_data[\"forward_FC\"].to_numpy(), 0)\n",
    "\n",
    "    nominal_wind = 10\n",
    "    features = all_data.loc[:, [\"Offshore DK2\", \"Offshore DK1\", \"Onshore DK2\", \"Onshore DK1\", \"production_FC\"]]\n",
    "    features[\"forward\"] = prices_F\n",
    "    features_red = all_data.loc[:, [\"production_FC\"]]\n",
    "    features_red[\"forward\"] = prices_F\n",
    "    realized = all_data.loc[:, \"production_RE\"].to_numpy()\n",
    "    realized *= nominal_wind\n",
    "\n",
    "    price_H = 35.199999999999996\n",
    "    penalty = np.quantile(prices_UP, 0.95) # 95% quantile of deficit_settle price over all 2 years\n",
    "    # penalty = 2 * price_H\n",
    "    # penalty = np.max(prices_B) # Something HIGHER is needed apparently\n",
    "\n",
    "    return (\n",
    "        prices_UP,\n",
    "        prices_DW,\n",
    "        prices_F,\n",
    "        prices_forecast,\n",
    "        features,\n",
    "        features_red,\n",
    "        realized,\n",
    "        price_H,\n",
    "        penalty\n",
    "    )"
   ]
  },
  {
   "cell_type": "code",
   "execution_count": 4,
   "metadata": {},
   "outputs": [],
   "source": [
    "# c = [lambda_H, lambda_F, -lambda_UP, lambda_DW, -penalty]"
   ]
  },
  {
   "cell_type": "code",
   "execution_count": 5,
   "metadata": {},
   "outputs": [],
   "source": [
    "import os\n",
    "# get current directory\n",
    "path = os.getcwd()\n",
    "import os.path\n",
    "\n",
    "def getParent(path, levels = 1):\n",
    "    common = path\n",
    " \n",
    "    # Using for loop for getting\n",
    "    # starting point required for\n",
    "    # os.path.relpath()\n",
    "    for i in range(levels + 1):\n",
    " \n",
    "        # Starting point\n",
    "        common = os.path.dirname(common)\n",
    " \n",
    "    # Parent directory upto specified\n",
    "    # level\n",
    "    return os.path.relpath(path, common)\n"
   ]
  },
  {
   "cell_type": "code",
   "execution_count": 6,
   "metadata": {},
   "outputs": [],
   "source": [
    "#Import data\n",
    "(prices_UP,prices_DW,prices_F,prices_forecast,features,features_red,realized,price_H,penalty) = import_data()\n",
    "\n",
    "# Change forward prices to forecast prices in features\n",
    "features[\"forward\"] = prices_forecast\n",
    "\n",
    "periods = list(range(0, len(prices_F) )) # Total time considered 2020-2021\n",
    "n_periods = 24 # Number of periods in a day\n",
    "n_days = 30 # Number of days in training set and test set\n",
    "n_hours = n_days * n_periods\n",
    "num_feat = n_periods*6 # size of feature\n",
    "num_feat_rf = 2 # size of feature\n",
    "num_item = 120 # number of predictons (Forward bid and Hydrogen)\n",
    "\n",
    "lambda_H_list = [price_H for i in range(n_periods)]\n",
    "penalty_list = [-penalty for i in range(n_periods)]\n",
    "\n",
    "def flatten_extend(matrix):\n",
    "     flat_list = []\n",
    "     for row in matrix:\n",
    "         flat_list.extend(row)\n",
    "     return flat_list"
   ]
  },
  {
   "cell_type": "code",
   "execution_count": 7,
   "metadata": {},
   "outputs": [],
   "source": [
    "c_train = np.asarray([flatten_extend([lambda_H_list, prices_F[d: d+n_periods], -prices_UP[d: d+n_periods], prices_DW[d: d+n_periods], penalty_list]) for d in range(int(n_hours/n_periods))])\n",
    "c_test = np.asarray([flatten_extend([lambda_H_list, prices_F[d: d+n_periods], -prices_UP[d: d+n_periods], prices_DW[d: d+n_periods], penalty_list]) for d in range(int(n_hours/n_periods), int(2*n_hours/n_periods))])\n",
    "wind_train = np.asarray([flatten_extend([realized[d:d+n_periods]]) for d in range(int(n_hours/n_periods))])\n",
    "wind_test = np.asarray([flatten_extend([realized[d:d+n_periods]]) for d in range(int(n_hours/n_periods), int(2*n_hours/n_periods))])\n",
    "x_train = np.asarray([flatten_extend(features.values[d:d+n_periods]) for d in range(int(n_hours/n_periods))])\n",
    "x_test = np.asarray([flatten_extend(features.values[d:d+n_periods]) for d in range(int(n_hours/n_periods), int(2*n_hours/n_periods))])\n",
    "# Standardize x_train and x_test\n",
    "x_train = (x_train - np.mean(x_train, axis=0)) / np.std(x_train, axis=0)\n",
    "x_test = (x_test - np.mean(x_train, axis=0)) / np.std(x_train, axis=0)\n",
    "# As matrix:\n",
    "#c_train = np.asarray([np.transpose([lambda_H_list, prices_F[d: d+n_periods], prices_UP[d: d+n_periods], prices_DW[d: d+n_periods], penalty_list]) for d in range(int(n_hours/n_periods))])\n",
    "#c_test = np.asarray([np.transpose([lambda_H_list, prices_F[d: d+n_periods], prices_UP[d: d+n_periods], prices_DW[d: d+n_periods], penalty_list]) for d in range(int(n_hours/n_periods), int(2*n_hours/n_periods))])\n",
    "#c_train = np.asarray([[lambda_H_list, prices_F[d: d+n_periods], prices_UP[d: d+n_periods], prices_DW[d: d+n_periods], penalty_list] for d in range(int(n_hours/n_periods))])\n",
    "#c_test = np.asarray([[lambda_H_list, prices_F[d: d+n_periods], prices_UP[d: d+n_periods], prices_DW[d: d+n_periods], penalty_list] for d in range(int(n_hours/n_periods), int(2*n_hours/n_periods))])"
   ]
  },
  {
   "cell_type": "code",
   "execution_count": 8,
   "metadata": {},
   "outputs": [
    {
     "data": {
      "text/plain": [
       "array([10.        , 10.        ,  9.95098039, 10.        ,  9.95098039,\n",
       "        9.95098039,  9.95098039, 10.        , 10.        , 10.        ,\n",
       "       10.        , 10.        ,  9.95098039,  9.01960784,  9.31372549,\n",
       "        8.1372549 ,  4.50980392,  9.75490196,  9.95098039,  9.95098039,\n",
       "        9.95098039, 10.        ,  9.95098039, 10.        ])"
      ]
     },
     "execution_count": 8,
     "metadata": {},
     "output_type": "execute_result"
    }
   ],
   "source": [
    "wind_train[1]"
   ]
  },
  {
   "cell_type": "code",
   "execution_count": 9,
   "metadata": {},
   "outputs": [],
   "source": [
    "\n",
    "# optimization model\n",
    "class myModel(optGrbModel):\n",
    "    def __init__(self, realized, *args, **kwargs):        \n",
    "        #Fixed parameters\n",
    "        self.max_elec = 10\n",
    "        self.max_wind = 10\n",
    "        self.nominal_wind = 10\n",
    "        self.min_production = 50\n",
    "        self.periods = np.arange(len(realized))\n",
    "        self.E_real = realized\n",
    "        super().__init__()\n",
    "\n",
    "    def _getModel(self):\n",
    "\n",
    "        initial_plan = Model(\"Gurobi.Optimizer\")\n",
    "\n",
    "        # Definition of variables\n",
    "        x = initial_plan.addMVar((5,len(self.periods)), name=\"x\")\n",
    "        \"\"\"\n",
    "        hydrogen_plan = initial_plan.addVars(self.periods, name=\"p_H\", lb=0)\n",
    "        forward_bid = initial_plan.addVars(self.periods, name=\"p_F\")\n",
    "        p_UP = initial_plan.addVars(self.periods, name=\"p_UP\", lb=0)\n",
    "        p_DW = initial_plan.addVars(self.periods, name=\"p_DW\", lb=0)\n",
    "        p_slack = initial_plan.addVars(self.periods, name=\"p_slack\", lb=0)\n",
    "        \"\"\"\n",
    "\n",
    "        # Objective: Maximize profit\n",
    "        initial_plan.modelSense = GRB.MAXIMIZE\n",
    "        #initial_plan.setObjective(\n",
    "        #    quicksum(\n",
    "        #        lambda_F[t] * p_F[t] +\n",
    "        #        lambda_H * hydrogen[t] +\n",
    "        #        lambda_DW[t] * E_DW[t] -\n",
    "        #        lambda_UP[t] * E_UP[t]\n",
    "        #        for t in periods\n",
    "        #    ), GRB.MAXIMIZE\n",
    "        #)\n",
    "\n",
    "        # Constraints\n",
    "        # Max capacity\n",
    "        for t in self.periods:\n",
    "            \"\"\"\n",
    "            initial_plan.addConstr(forward_bid[t] <= self.max_wind, name=f\"wind_capacity_up_{t}\")\n",
    "            initial_plan.addConstr(forward_bid[t] >= -self.max_elec, name=f\"wind_capacity_dw_{t}\")\n",
    "            initial_plan.addConstr(hydrogen_plan[t] <= self.max_elec, name=f\"elec_capacity_{t}\")\n",
    "            initial_plan.addConstr(self.E_real[t] - hydrogen_plan[t] - forward_bid[t] == p_UP[t] - p_DW[t], name=f\"balancing_{t}\")\n",
    "            initial_plan.addConstr(hydrogen_plan[t] + self.min_production/len(self.periods) - p_slack[t] <= 0, name=f\"slack_{t}\")\n",
    "            \"\"\"\n",
    "            initial_plan.addConstr(x[1,t] <= self.max_wind, name=f\"wind_capacity_up_{t}\")\n",
    "            initial_plan.addConstr(x[1,t] >= -self.max_elec, name=f\"wind_capacity_dw_{t}\")\n",
    "            initial_plan.addConstr(x[0,t] <= self.max_elec, name=f\"elec_capacity_{t}\")\n",
    "            initial_plan.addConstr(x[0,t] >= 0, name=f\"elec_capacity_lb_{t}\")\n",
    "            initial_plan.addConstr(x[2,t] >= 0, name=f\"up_regulation_lb_{t}\")\n",
    "            initial_plan.addConstr(x[2,t] <= 2*self.max_wind, name=f\"up_regulation_lb_{t}\")\n",
    "            initial_plan.addConstr(x[3,t] >= 0, name=f\"dw_regulation_lb_{t}\")\n",
    "            initial_plan.addConstr(x[3,t] <= 2*self.max_wind, name=f\"dw_regulation_lb_{t}\")\n",
    "            initial_plan.addConstr(x[4,t] >= 0, name=f\"slack_regulation_lb_{t}\")\n",
    "            initial_plan.addConstr(x[4,t] <= self.min_production/len(self.periods), name=f\"slack_regulation_ub_{t}\")\n",
    "            initial_plan.addConstr(self.E_real[t] - x[0,t] - x[1,t] == -x[2,t] + x[3,t], name=f\"balacing_{t}\")\n",
    "            initial_plan.addConstr(-x[0,t] + self.min_production/len(self.periods) - x[4,t] <= 0, name=f\"slack_{t}\")\n",
    "\n",
    "        # Finalizing model setup\n",
    "        #initial_plan.update()\n",
    "        #print(type(hydrogen_plan))\n",
    "        #x = dict(hydrogen_plan).update(dict(forward_bid)).update(dict(p_UP)).update(dict(p_DW)).update(dict(p_slack))\n",
    "        #print(hydrogen_plan, forward_bid, p_UP, p_DW, p_slack)\n",
    "        #x = initial_plan.getVars()\n",
    "        #x = dict(zip([v.varName for v in x], x))\n",
    "        \n",
    "        return initial_plan, x"
   ]
  },
  {
   "cell_type": "code",
   "execution_count": 10,
   "metadata": {},
   "outputs": [
    {
     "name": "stdout",
     "output_type": "stream",
     "text": [
      "<class 'gurobipy.MVar'>\n",
      "Set parameter Username\n",
      "Academic license - for non-commercial use only - expires 2025-04-10\n"
     ]
    }
   ],
   "source": [
    "print(gp.MVar)\n",
    "model = Model(\"Gurobi.Optimizer\")\n",
    "\n",
    "# Definition of variables\n",
    "x = model.addVars(n_periods, name=\"x\", lb=0)\n",
    "y = model.addVars(n_periods, name=\"y\", lb=0)\n",
    "\n"
   ]
  },
  {
   "cell_type": "code",
   "execution_count": 11,
   "metadata": {},
   "outputs": [
    {
     "data": {
      "text/plain": [
       "120"
      ]
     },
     "execution_count": 11,
     "metadata": {},
     "output_type": "execute_result"
    }
   ],
   "source": [
    "model = myModel(wind_train[0])\n",
    "x = model._getModel()[1]\n",
    "np.array([[2,3],[2,3\n",
    "                 ]]) @ [[2,3],[2,3]]\n",
    "c_train[0].size\n"
   ]
  },
  {
   "cell_type": "code",
   "execution_count": 12,
   "metadata": {},
   "outputs": [
    {
     "name": "stdout",
     "output_type": "stream",
     "text": [
      "Optimizing for optDataset...\n"
     ]
    },
    {
     "name": "stderr",
     "output_type": "stream",
     "text": [
      "100%|██████████| 30/30 [00:05<00:00,  5.27it/s]\n"
     ]
    },
    {
     "name": "stdout",
     "output_type": "stream",
     "text": [
      "Optimizing for optDataset...\n"
     ]
    },
    {
     "name": "stderr",
     "output_type": "stream",
     "text": [
      "100%|██████████| 30/30 [00:05<00:00,  5.92it/s]\n"
     ]
    }
   ],
   "source": [
    "# get optDataset\n",
    "from pyepo.data.datasetParams import optDatasetParams\n",
    "\n",
    "#dataset_train = pyepo.data.dataset.optDataset(myModel(wind_train[0]), x_train, c_train)\n",
    "#dataset_test = pyepo.data.dataset.optDataset(myModel(wind_train[0]), x_test, c_test)\n",
    "\n",
    "dataset_train = optDatasetParams(myModel, x_train, c_train, wind_train)\n",
    "dataset_test = optDatasetParams(myModel, x_test, c_test, wind_test)\n",
    "\n"
   ]
  },
  {
   "cell_type": "code",
   "execution_count": 13,
   "metadata": {},
   "outputs": [],
   "source": [
    "batch_size = 1\n",
    "loader_train = DataLoader(dataset_train, batch_size=batch_size, shuffle=False)\n",
    "loader_test = DataLoader(dataset_test, batch_size=batch_size, shuffle=False)"
   ]
  },
  {
   "cell_type": "code",
   "execution_count": 14,
   "metadata": {},
   "outputs": [],
   "source": [
    "# prediction model\n",
    "class LinearRegression(nn.Module):\n",
    "\n",
    "    def __init__(self):\n",
    "        super(LinearRegression, self).__init__()\n",
    "        self.linear = nn.Linear(num_feat, num_item)\n",
    "\n",
    "    def forward(self, x):\n",
    "        out = self.linear(x)\n",
    "        return out\n",
    "\n",
    "reg = LinearRegression()"
   ]
  },
  {
   "cell_type": "code",
   "execution_count": 15,
   "metadata": {},
   "outputs": [
    {
     "name": "stderr",
     "output_type": "stream",
     "text": [
      "  0%|          | 0/30 [00:00<?, ?it/s]"
     ]
    },
    {
     "name": "stderr",
     "output_type": "stream",
     "text": [
      "100%|██████████| 30/30 [00:05<00:00,  5.01it/s]\n"
     ]
    }
   ],
   "source": [
    "from pyepo.metric.regretParams import regretParams\n",
    "regret = regretParams(reg, myModel, loader_test, wind_test)"
   ]
  },
  {
   "cell_type": "code",
   "execution_count": 16,
   "metadata": {},
   "outputs": [],
   "source": [
    "import time\n",
    "from tqdm import tqdm\n",
    "\n",
    "# train model\n",
    "def trainModel(reg, loss_function, method_name, num_epochs=20, lr=1e-2):\n",
    "    # set adam optimizer\n",
    "    optimizer = torch.optim.Adam(reg.parameters(), lr=lr)\n",
    "    # train mode\n",
    "    reg.train()\n",
    "    # init log\n",
    "    loss_log = []\n",
    "    loss_log_regret = [regretParams(reg, myModel, loader_test, wind_test)]\n",
    "    # init elpased time\n",
    "    elapsed = 0\n",
    "    for epoch in range(num_epochs):\n",
    "        # start timing\n",
    "        tick = time.time()\n",
    "        # load data\n",
    "        for i, data in enumerate(tqdm(loader_train)):\n",
    "            wind = wind_train[i]\n",
    "            opt_model = myModel(wind)\n",
    "            loss_func = loss_function(opt_model, processes=1)\n",
    "            x, c, w, z = data\n",
    "            # cuda\n",
    "            if torch.cuda.is_available():\n",
    "                x, c, w, z = x.cuda(), c.cuda(), w.cuda(), z.cuda()\n",
    "            # forward pass\n",
    "            cp = reg(x)\n",
    "            if method_name == \"spo+\":\n",
    "                loss = loss_func(cp, c, w, z)\n",
    "            if method_name in [\"ptb\", \"pfy\", \"imle\", \"nce\", \"cmap\"]:\n",
    "                loss = loss_func(cp, w)\n",
    "            if method_name in [\"dbb\", \"nid\"]:\n",
    "                loss = loss_func(cp, c, z)\n",
    "            if method_name == \"ltr\":\n",
    "                loss = loss_func(cp, c)\n",
    "            # backward pass\n",
    "            optimizer.zero_grad()\n",
    "            loss.backward()\n",
    "            optimizer.step()\n",
    "            # record time\n",
    "            tock = time.time()\n",
    "            elapsed += tock - tick\n",
    "            # log\n",
    "            loss_log.append(loss.item())\n",
    "        regret = regretParams(reg, myModel, loader_test, wind_test)\n",
    "        loss_log_regret.append(regret)\n",
    "        print(\"Epoch {:2},  Loss: {:9.4f},  Regret: {:7.4f}%\".format(epoch+1, loss.item(), regret*100))\n",
    "    print(\"Total Elapsed Time: {:.2f} Sec.\".format(elapsed))\n",
    "    return loss_log, loss_log_regret"
   ]
  },
  {
   "cell_type": "code",
   "execution_count": 22,
   "metadata": {},
   "outputs": [],
   "source": [
    "from matplotlib import pyplot as plt\n",
    "\n",
    "def visLearningCurve(loss_log, loss_log_regret):\n",
    "    # create figure and subplots\n",
    "    fig, (ax1, ax2) = plt.subplots(1, 2, figsize=(16,4))\n",
    "\n",
    "    # draw plot for training loss\n",
    "    ax1.plot(loss_log, color=\"c\", lw=1)\n",
    "    ax1.tick_params(axis=\"both\", which=\"major\", labelsize=12)\n",
    "    ax1.set_xlabel(\"Iters\", fontsize=16)\n",
    "    ax1.set_ylabel(\"Loss\", fontsize=16)\n",
    "    ax1.set_title(\"Learning Curve on Training Set\", fontsize=16)\n",
    "\n",
    "    # draw plot for regret on test\n",
    "    ax2.plot(loss_log_regret, color=\"royalblue\", ls=\"--\", alpha=0.7, lw=1)\n",
    "    ax2.set_xticks(range(0, len(loss_log_regret), 2))\n",
    "    ax2.tick_params(axis=\"both\", which=\"major\", labelsize=12)\n",
    "    ax2.set_ylim(0, 1)\n",
    "    ax2.set_xlabel(\"Epochs\", fontsize=16)\n",
    "    ax2.set_ylabel(\"Regret\", fontsize=16)\n",
    "    ax2.set_title(\"Learning Curve on Test Set\", fontsize=16)\n",
    "\n",
    "    plt.show()"
   ]
  },
  {
   "cell_type": "code",
   "execution_count": 18,
   "metadata": {},
   "outputs": [],
   "source": [
    "import torch\n",
    "# init model\n",
    "reg = LinearRegression()\n",
    "# cuda\n",
    "if torch.cuda.is_available():\n",
    "    reg = reg.cuda()\n",
    "# init SPO+ loss\n",
    "spop = pyepo.func.SPOPlus\n",
    "# spop = pyepo.func.SPOPlus(optmodel, processes=2)"
   ]
  },
  {
   "cell_type": "code",
   "execution_count": 19,
   "metadata": {},
   "outputs": [
    {
     "name": "stderr",
     "output_type": "stream",
     "text": [
      "100%|██████████| 30/30 [00:05<00:00,  5.05it/s]\n"
     ]
    },
    {
     "name": "stdout",
     "output_type": "stream",
     "text": [
      "Num of cores: 1\n",
      "Num of cores: 1\n",
      "Num of cores: 1\n",
      "Num of cores: 1\n",
      "Num of cores: 1\n",
      "Num of cores: 1\n",
      "Num of cores: 1\n",
      "Num of cores: 1\n",
      "Num of cores: 1\n",
      "Num of cores: 1\n",
      "Num of cores: 1\n",
      "Num of cores: 1\n",
      "Num of cores: 1\n",
      "Num of cores: 1\n",
      "Num of cores: 1\n",
      "Num of cores: 1\n",
      "Num of cores: 1\n",
      "Num of cores: 1\n",
      "Num of cores: 1\n",
      "Num of cores: 1\n",
      "Num of cores: 1\n",
      "Num of cores: 1\n",
      "Num of cores: 1\n",
      "Num of cores: 1\n",
      "Num of cores: 1\n",
      "Num of cores: 1\n",
      "Num of cores: 1\n",
      "Num of cores: 1\n",
      "Num of cores: 1\n",
      "Num of cores: 1\n"
     ]
    },
    {
     "name": "stderr",
     "output_type": "stream",
     "text": [
      "100%|██████████| 30/30 [00:06<00:00,  4.80it/s]\n"
     ]
    },
    {
     "name": "stdout",
     "output_type": "stream",
     "text": [
      "Epoch  1,  Loss: 17537.6758,  Regret: 83.0729%\n",
      "Num of cores: 1\n",
      "Num of cores: 1\n",
      "Num of cores: 1\n",
      "Num of cores: 1\n",
      "Num of cores: 1\n",
      "Num of cores: 1\n",
      "Num of cores: 1\n",
      "Num of cores: 1\n",
      "Num of cores: 1\n",
      "Num of cores: 1\n",
      "Num of cores: 1\n",
      "Num of cores: 1\n",
      "Num of cores: 1\n",
      "Num of cores: 1\n",
      "Num of cores: 1\n",
      "Num of cores: 1\n",
      "Num of cores: 1\n",
      "Num of cores: 1\n",
      "Num of cores: 1\n",
      "Num of cores: 1\n",
      "Num of cores: 1\n",
      "Num of cores: 1\n",
      "Num of cores: 1\n",
      "Num of cores: 1\n",
      "Num of cores: 1\n",
      "Num of cores: 1\n",
      "Num of cores: 1\n",
      "Num of cores: 1\n",
      "Num of cores: 1\n",
      "Num of cores: 1\n"
     ]
    },
    {
     "name": "stderr",
     "output_type": "stream",
     "text": [
      "100%|██████████| 30/30 [00:06<00:00,  4.50it/s]\n"
     ]
    },
    {
     "name": "stdout",
     "output_type": "stream",
     "text": [
      "Epoch  2,  Loss: 12582.5518,  Regret: 72.1728%\n",
      "Num of cores: 1\n",
      "Num of cores: 1\n",
      "Num of cores: 1\n",
      "Num of cores: 1\n",
      "Num of cores: 1\n",
      "Num of cores: 1\n",
      "Num of cores: 1\n",
      "Num of cores: 1\n",
      "Num of cores: 1\n",
      "Num of cores: 1\n",
      "Num of cores: 1\n",
      "Num of cores: 1\n",
      "Num of cores: 1\n",
      "Num of cores: 1\n",
      "Num of cores: 1\n",
      "Num of cores: 1\n",
      "Num of cores: 1\n",
      "Num of cores: 1\n",
      "Num of cores: 1\n",
      "Num of cores: 1\n",
      "Num of cores: 1\n",
      "Num of cores: 1\n",
      "Num of cores: 1\n",
      "Num of cores: 1\n",
      "Num of cores: 1\n",
      "Num of cores: 1\n",
      "Num of cores: 1\n",
      "Num of cores: 1\n",
      "Num of cores: 1\n",
      "Num of cores: 1\n"
     ]
    },
    {
     "name": "stderr",
     "output_type": "stream",
     "text": [
      "100%|██████████| 30/30 [00:05<00:00,  5.56it/s]\n"
     ]
    },
    {
     "name": "stdout",
     "output_type": "stream",
     "text": [
      "Epoch  3,  Loss: 12349.4492,  Regret: 77.6362%\n",
      "Num of cores: 1\n",
      "Num of cores: 1\n",
      "Num of cores: 1\n",
      "Num of cores: 1\n",
      "Num of cores: 1\n",
      "Num of cores: 1\n",
      "Num of cores: 1\n",
      "Num of cores: 1\n",
      "Num of cores: 1\n",
      "Num of cores: 1\n",
      "Num of cores: 1\n",
      "Num of cores: 1\n",
      "Num of cores: 1\n",
      "Num of cores: 1\n",
      "Num of cores: 1\n",
      "Num of cores: 1\n",
      "Num of cores: 1\n",
      "Num of cores: 1\n",
      "Num of cores: 1\n",
      "Num of cores: 1\n",
      "Num of cores: 1\n",
      "Num of cores: 1\n",
      "Num of cores: 1\n",
      "Num of cores: 1\n",
      "Num of cores: 1\n",
      "Num of cores: 1\n",
      "Num of cores: 1\n",
      "Num of cores: 1\n",
      "Num of cores: 1\n",
      "Num of cores: 1\n"
     ]
    },
    {
     "name": "stderr",
     "output_type": "stream",
     "text": [
      "100%|██████████| 30/30 [00:05<00:00,  5.53it/s]\n"
     ]
    },
    {
     "name": "stdout",
     "output_type": "stream",
     "text": [
      "Epoch  4,  Loss: 11704.9033,  Regret: 77.0285%\n",
      "Num of cores: 1\n",
      "Num of cores: 1\n",
      "Num of cores: 1\n",
      "Num of cores: 1\n",
      "Num of cores: 1\n",
      "Num of cores: 1\n",
      "Num of cores: 1\n",
      "Num of cores: 1\n",
      "Num of cores: 1\n",
      "Num of cores: 1\n",
      "Num of cores: 1\n",
      "Num of cores: 1\n",
      "Num of cores: 1\n",
      "Num of cores: 1\n",
      "Num of cores: 1\n",
      "Num of cores: 1\n",
      "Num of cores: 1\n",
      "Num of cores: 1\n",
      "Num of cores: 1\n",
      "Num of cores: 1\n",
      "Num of cores: 1\n",
      "Num of cores: 1\n",
      "Num of cores: 1\n",
      "Num of cores: 1\n",
      "Num of cores: 1\n",
      "Num of cores: 1\n",
      "Num of cores: 1\n",
      "Num of cores: 1\n",
      "Num of cores: 1\n",
      "Num of cores: 1\n"
     ]
    },
    {
     "name": "stderr",
     "output_type": "stream",
     "text": [
      "100%|██████████| 30/30 [00:05<00:00,  5.47it/s]\n"
     ]
    },
    {
     "name": "stdout",
     "output_type": "stream",
     "text": [
      "Epoch  5,  Loss: 11671.1846,  Regret: 81.7974%\n",
      "Num of cores: 1\n",
      "Num of cores: 1\n",
      "Num of cores: 1\n",
      "Num of cores: 1\n",
      "Num of cores: 1\n",
      "Num of cores: 1\n",
      "Num of cores: 1\n",
      "Num of cores: 1\n",
      "Num of cores: 1\n",
      "Num of cores: 1\n",
      "Num of cores: 1\n",
      "Num of cores: 1\n",
      "Num of cores: 1\n",
      "Num of cores: 1\n",
      "Num of cores: 1\n",
      "Num of cores: 1\n",
      "Num of cores: 1\n",
      "Num of cores: 1\n",
      "Num of cores: 1\n",
      "Num of cores: 1\n",
      "Num of cores: 1\n",
      "Num of cores: 1\n",
      "Num of cores: 1\n",
      "Num of cores: 1\n",
      "Num of cores: 1\n",
      "Num of cores: 1\n",
      "Num of cores: 1\n",
      "Num of cores: 1\n",
      "Num of cores: 1\n",
      "Num of cores: 1\n"
     ]
    },
    {
     "name": "stderr",
     "output_type": "stream",
     "text": [
      "100%|██████████| 30/30 [00:06<00:00,  4.67it/s]\n"
     ]
    },
    {
     "name": "stdout",
     "output_type": "stream",
     "text": [
      "Epoch  6,  Loss: 11827.7090,  Regret: 80.4099%\n",
      "Num of cores: 1\n",
      "Num of cores: 1\n",
      "Num of cores: 1\n",
      "Num of cores: 1\n",
      "Num of cores: 1\n",
      "Num of cores: 1\n",
      "Num of cores: 1\n",
      "Num of cores: 1\n",
      "Num of cores: 1\n",
      "Num of cores: 1\n",
      "Num of cores: 1\n",
      "Num of cores: 1\n",
      "Num of cores: 1\n",
      "Num of cores: 1\n",
      "Num of cores: 1\n",
      "Num of cores: 1\n",
      "Num of cores: 1\n",
      "Num of cores: 1\n",
      "Num of cores: 1\n",
      "Num of cores: 1\n",
      "Num of cores: 1\n",
      "Num of cores: 1\n",
      "Num of cores: 1\n",
      "Num of cores: 1\n",
      "Num of cores: 1\n",
      "Num of cores: 1\n",
      "Num of cores: 1\n",
      "Num of cores: 1\n",
      "Num of cores: 1\n",
      "Num of cores: 1\n"
     ]
    },
    {
     "name": "stderr",
     "output_type": "stream",
     "text": [
      "100%|██████████| 30/30 [00:06<00:00,  4.59it/s]\n"
     ]
    },
    {
     "name": "stdout",
     "output_type": "stream",
     "text": [
      "Epoch  7,  Loss: 10912.4756,  Regret: 83.7010%\n",
      "Num of cores: 1\n",
      "Num of cores: 1\n",
      "Num of cores: 1\n",
      "Num of cores: 1\n",
      "Num of cores: 1\n",
      "Num of cores: 1\n",
      "Num of cores: 1\n",
      "Num of cores: 1\n",
      "Num of cores: 1\n",
      "Num of cores: 1\n",
      "Num of cores: 1\n",
      "Num of cores: 1\n",
      "Num of cores: 1\n",
      "Num of cores: 1\n",
      "Num of cores: 1\n",
      "Num of cores: 1\n",
      "Num of cores: 1\n",
      "Num of cores: 1\n",
      "Num of cores: 1\n",
      "Num of cores: 1\n",
      "Num of cores: 1\n",
      "Num of cores: 1\n",
      "Num of cores: 1\n",
      "Num of cores: 1\n",
      "Num of cores: 1\n",
      "Num of cores: 1\n",
      "Num of cores: 1\n",
      "Num of cores: 1\n",
      "Num of cores: 1\n",
      "Num of cores: 1\n"
     ]
    },
    {
     "name": "stderr",
     "output_type": "stream",
     "text": [
      "100%|██████████| 30/30 [00:07<00:00,  3.84it/s]\n"
     ]
    },
    {
     "name": "stdout",
     "output_type": "stream",
     "text": [
      "Epoch  8,  Loss: 10818.9805,  Regret: 81.9779%\n",
      "Num of cores: 1\n",
      "Num of cores: 1\n",
      "Num of cores: 1\n",
      "Num of cores: 1\n",
      "Num of cores: 1\n",
      "Num of cores: 1\n",
      "Num of cores: 1\n",
      "Num of cores: 1\n",
      "Num of cores: 1\n",
      "Num of cores: 1\n",
      "Num of cores: 1\n",
      "Num of cores: 1\n",
      "Num of cores: 1\n",
      "Num of cores: 1\n",
      "Num of cores: 1\n",
      "Num of cores: 1\n",
      "Num of cores: 1\n",
      "Num of cores: 1\n",
      "Num of cores: 1\n",
      "Num of cores: 1\n",
      "Num of cores: 1\n",
      "Num of cores: 1\n",
      "Num of cores: 1\n",
      "Num of cores: 1\n",
      "Num of cores: 1\n",
      "Num of cores: 1\n",
      "Num of cores: 1\n",
      "Num of cores: 1\n",
      "Num of cores: 1\n",
      "Num of cores: 1\n"
     ]
    },
    {
     "name": "stderr",
     "output_type": "stream",
     "text": [
      "100%|██████████| 30/30 [00:07<00:00,  3.99it/s]\n"
     ]
    },
    {
     "name": "stdout",
     "output_type": "stream",
     "text": [
      "Epoch  9,  Loss: 10722.5342,  Regret: 80.9913%\n",
      "Num of cores: 1\n",
      "Num of cores: 1\n",
      "Num of cores: 1\n",
      "Num of cores: 1\n",
      "Num of cores: 1\n",
      "Num of cores: 1\n",
      "Num of cores: 1\n",
      "Num of cores: 1\n",
      "Num of cores: 1\n",
      "Num of cores: 1\n",
      "Num of cores: 1\n",
      "Num of cores: 1\n",
      "Num of cores: 1\n",
      "Num of cores: 1\n",
      "Num of cores: 1\n",
      "Num of cores: 1\n",
      "Num of cores: 1\n",
      "Num of cores: 1\n",
      "Num of cores: 1\n",
      "Num of cores: 1\n",
      "Num of cores: 1\n",
      "Num of cores: 1\n",
      "Num of cores: 1\n",
      "Num of cores: 1\n",
      "Num of cores: 1\n",
      "Num of cores: 1\n",
      "Num of cores: 1\n",
      "Num of cores: 1\n",
      "Num of cores: 1\n",
      "Num of cores: 1\n"
     ]
    },
    {
     "name": "stderr",
     "output_type": "stream",
     "text": [
      "100%|██████████| 30/30 [00:08<00:00,  3.73it/s]\n"
     ]
    },
    {
     "name": "stdout",
     "output_type": "stream",
     "text": [
      "Epoch 10,  Loss: 10505.3574,  Regret: 79.5697%\n",
      "Num of cores: 1\n",
      "Num of cores: 1\n",
      "Num of cores: 1\n",
      "Num of cores: 1\n",
      "Num of cores: 1\n",
      "Num of cores: 1\n",
      "Num of cores: 1\n",
      "Num of cores: 1\n",
      "Num of cores: 1\n",
      "Num of cores: 1\n",
      "Num of cores: 1\n",
      "Num of cores: 1\n",
      "Num of cores: 1\n",
      "Num of cores: 1\n",
      "Num of cores: 1\n",
      "Num of cores: 1\n",
      "Num of cores: 1\n",
      "Num of cores: 1\n",
      "Num of cores: 1\n",
      "Num of cores: 1\n",
      "Num of cores: 1\n",
      "Num of cores: 1\n",
      "Num of cores: 1\n",
      "Num of cores: 1\n",
      "Num of cores: 1\n",
      "Num of cores: 1\n",
      "Num of cores: 1\n",
      "Num of cores: 1\n",
      "Num of cores: 1\n",
      "Num of cores: 1\n"
     ]
    },
    {
     "name": "stderr",
     "output_type": "stream",
     "text": [
      "100%|██████████| 30/30 [00:06<00:00,  4.54it/s]\n"
     ]
    },
    {
     "name": "stdout",
     "output_type": "stream",
     "text": [
      "Epoch 11,  Loss: 10806.3555,  Regret: 80.8237%\n",
      "Num of cores: 1\n",
      "Num of cores: 1\n",
      "Num of cores: 1\n",
      "Num of cores: 1\n",
      "Num of cores: 1\n",
      "Num of cores: 1\n",
      "Num of cores: 1\n",
      "Num of cores: 1\n",
      "Num of cores: 1\n",
      "Num of cores: 1\n",
      "Num of cores: 1\n",
      "Num of cores: 1\n",
      "Num of cores: 1\n",
      "Num of cores: 1\n",
      "Num of cores: 1\n",
      "Num of cores: 1\n",
      "Num of cores: 1\n",
      "Num of cores: 1\n",
      "Num of cores: 1\n",
      "Num of cores: 1\n",
      "Num of cores: 1\n",
      "Num of cores: 1\n",
      "Num of cores: 1\n",
      "Num of cores: 1\n",
      "Num of cores: 1\n",
      "Num of cores: 1\n",
      "Num of cores: 1\n",
      "Num of cores: 1\n",
      "Num of cores: 1\n",
      "Num of cores: 1\n"
     ]
    },
    {
     "name": "stderr",
     "output_type": "stream",
     "text": [
      "100%|██████████| 30/30 [00:05<00:00,  5.26it/s]\n"
     ]
    },
    {
     "name": "stdout",
     "output_type": "stream",
     "text": [
      "Epoch 12,  Loss: 10468.4971,  Regret: 79.3969%\n",
      "Num of cores: 1\n",
      "Num of cores: 1\n",
      "Num of cores: 1\n",
      "Num of cores: 1\n",
      "Num of cores: 1\n",
      "Num of cores: 1\n",
      "Num of cores: 1\n",
      "Num of cores: 1\n",
      "Num of cores: 1\n",
      "Num of cores: 1\n",
      "Num of cores: 1\n",
      "Num of cores: 1\n",
      "Num of cores: 1\n",
      "Num of cores: 1\n",
      "Num of cores: 1\n",
      "Num of cores: 1\n",
      "Num of cores: 1\n",
      "Num of cores: 1\n",
      "Num of cores: 1\n",
      "Num of cores: 1\n",
      "Num of cores: 1\n",
      "Num of cores: 1\n",
      "Num of cores: 1\n",
      "Num of cores: 1\n",
      "Num of cores: 1\n",
      "Num of cores: 1\n",
      "Num of cores: 1\n",
      "Num of cores: 1\n",
      "Num of cores: 1\n",
      "Num of cores: 1\n"
     ]
    },
    {
     "name": "stderr",
     "output_type": "stream",
     "text": [
      "100%|██████████| 30/30 [00:05<00:00,  5.23it/s]\n"
     ]
    },
    {
     "name": "stdout",
     "output_type": "stream",
     "text": [
      "Epoch 13,  Loss: 10442.4697,  Regret: 80.5877%\n",
      "Num of cores: 1\n",
      "Num of cores: 1\n",
      "Num of cores: 1\n",
      "Num of cores: 1\n",
      "Num of cores: 1\n",
      "Num of cores: 1\n",
      "Num of cores: 1\n",
      "Num of cores: 1\n",
      "Num of cores: 1\n",
      "Num of cores: 1\n",
      "Num of cores: 1\n",
      "Num of cores: 1\n",
      "Num of cores: 1\n",
      "Num of cores: 1\n",
      "Num of cores: 1\n",
      "Num of cores: 1\n",
      "Num of cores: 1\n",
      "Num of cores: 1\n",
      "Num of cores: 1\n",
      "Num of cores: 1\n",
      "Num of cores: 1\n",
      "Num of cores: 1\n",
      "Num of cores: 1\n",
      "Num of cores: 1\n",
      "Num of cores: 1\n",
      "Num of cores: 1\n",
      "Num of cores: 1\n",
      "Num of cores: 1\n",
      "Num of cores: 1\n",
      "Num of cores: 1\n"
     ]
    },
    {
     "name": "stderr",
     "output_type": "stream",
     "text": [
      "100%|██████████| 30/30 [00:05<00:00,  5.38it/s]\n"
     ]
    },
    {
     "name": "stdout",
     "output_type": "stream",
     "text": [
      "Epoch 14,  Loss: 10457.6201,  Regret: 80.3003%\n",
      "Num of cores: 1\n",
      "Num of cores: 1\n",
      "Num of cores: 1\n",
      "Num of cores: 1\n",
      "Num of cores: 1\n",
      "Num of cores: 1\n",
      "Num of cores: 1\n",
      "Num of cores: 1\n",
      "Num of cores: 1\n",
      "Num of cores: 1\n",
      "Num of cores: 1\n",
      "Num of cores: 1\n",
      "Num of cores: 1\n",
      "Num of cores: 1\n",
      "Num of cores: 1\n",
      "Num of cores: 1\n",
      "Num of cores: 1\n",
      "Num of cores: 1\n",
      "Num of cores: 1\n",
      "Num of cores: 1\n",
      "Num of cores: 1\n",
      "Num of cores: 1\n",
      "Num of cores: 1\n",
      "Num of cores: 1\n",
      "Num of cores: 1\n",
      "Num of cores: 1\n",
      "Num of cores: 1\n",
      "Num of cores: 1\n",
      "Num of cores: 1\n",
      "Num of cores: 1\n"
     ]
    },
    {
     "name": "stderr",
     "output_type": "stream",
     "text": [
      "100%|██████████| 30/30 [00:05<00:00,  5.44it/s]\n"
     ]
    },
    {
     "name": "stdout",
     "output_type": "stream",
     "text": [
      "Epoch 15,  Loss: 10370.2881,  Regret: 84.9691%\n",
      "Num of cores: 1\n",
      "Num of cores: 1\n",
      "Num of cores: 1\n",
      "Num of cores: 1\n",
      "Num of cores: 1\n",
      "Num of cores: 1\n",
      "Num of cores: 1\n",
      "Num of cores: 1\n",
      "Num of cores: 1\n",
      "Num of cores: 1\n",
      "Num of cores: 1\n",
      "Num of cores: 1\n",
      "Num of cores: 1\n",
      "Num of cores: 1\n",
      "Num of cores: 1\n",
      "Num of cores: 1\n",
      "Num of cores: 1\n",
      "Num of cores: 1\n",
      "Num of cores: 1\n",
      "Num of cores: 1\n",
      "Num of cores: 1\n",
      "Num of cores: 1\n",
      "Num of cores: 1\n",
      "Num of cores: 1\n",
      "Num of cores: 1\n",
      "Num of cores: 1\n",
      "Num of cores: 1\n",
      "Num of cores: 1\n",
      "Num of cores: 1\n",
      "Num of cores: 1\n"
     ]
    },
    {
     "name": "stderr",
     "output_type": "stream",
     "text": [
      "100%|██████████| 30/30 [00:05<00:00,  5.10it/s]\n"
     ]
    },
    {
     "name": "stdout",
     "output_type": "stream",
     "text": [
      "Epoch 16,  Loss: 10019.2852,  Regret: 82.3026%\n",
      "Num of cores: 1\n",
      "Num of cores: 1\n",
      "Num of cores: 1\n",
      "Num of cores: 1\n",
      "Num of cores: 1\n",
      "Num of cores: 1\n",
      "Num of cores: 1\n",
      "Num of cores: 1\n",
      "Num of cores: 1\n",
      "Num of cores: 1\n",
      "Num of cores: 1\n",
      "Num of cores: 1\n",
      "Num of cores: 1\n",
      "Num of cores: 1\n",
      "Num of cores: 1\n",
      "Num of cores: 1\n",
      "Num of cores: 1\n",
      "Num of cores: 1\n",
      "Num of cores: 1\n",
      "Num of cores: 1\n",
      "Num of cores: 1\n",
      "Num of cores: 1\n",
      "Num of cores: 1\n",
      "Num of cores: 1\n",
      "Num of cores: 1\n",
      "Num of cores: 1\n",
      "Num of cores: 1\n",
      "Num of cores: 1\n",
      "Num of cores: 1\n",
      "Num of cores: 1\n"
     ]
    },
    {
     "name": "stderr",
     "output_type": "stream",
     "text": [
      "100%|██████████| 30/30 [00:05<00:00,  5.33it/s]\n"
     ]
    },
    {
     "name": "stdout",
     "output_type": "stream",
     "text": [
      "Epoch 17,  Loss: 10193.5586,  Regret: 81.9675%\n",
      "Num of cores: 1\n",
      "Num of cores: 1\n",
      "Num of cores: 1\n",
      "Num of cores: 1\n",
      "Num of cores: 1\n",
      "Num of cores: 1\n",
      "Num of cores: 1\n",
      "Num of cores: 1\n",
      "Num of cores: 1\n",
      "Num of cores: 1\n",
      "Num of cores: 1\n",
      "Num of cores: 1\n",
      "Num of cores: 1\n",
      "Num of cores: 1\n",
      "Num of cores: 1\n",
      "Num of cores: 1\n",
      "Num of cores: 1\n",
      "Num of cores: 1\n",
      "Num of cores: 1\n",
      "Num of cores: 1\n",
      "Num of cores: 1\n",
      "Num of cores: 1\n",
      "Num of cores: 1\n",
      "Num of cores: 1\n",
      "Num of cores: 1\n",
      "Num of cores: 1\n",
      "Num of cores: 1\n",
      "Num of cores: 1\n",
      "Num of cores: 1\n",
      "Num of cores: 1\n"
     ]
    },
    {
     "name": "stderr",
     "output_type": "stream",
     "text": [
      "100%|██████████| 30/30 [00:06<00:00,  4.90it/s]\n"
     ]
    },
    {
     "name": "stdout",
     "output_type": "stream",
     "text": [
      "Epoch 18,  Loss: 9647.8574,  Regret: 80.9244%\n",
      "Num of cores: 1\n",
      "Num of cores: 1\n",
      "Num of cores: 1\n",
      "Num of cores: 1\n",
      "Num of cores: 1\n",
      "Num of cores: 1\n",
      "Num of cores: 1\n",
      "Num of cores: 1\n",
      "Num of cores: 1\n",
      "Num of cores: 1\n",
      "Num of cores: 1\n",
      "Num of cores: 1\n",
      "Num of cores: 1\n",
      "Num of cores: 1\n",
      "Num of cores: 1\n",
      "Num of cores: 1\n",
      "Num of cores: 1\n",
      "Num of cores: 1\n",
      "Num of cores: 1\n",
      "Num of cores: 1\n",
      "Num of cores: 1\n",
      "Num of cores: 1\n",
      "Num of cores: 1\n",
      "Num of cores: 1\n",
      "Num of cores: 1\n",
      "Num of cores: 1\n",
      "Num of cores: 1\n",
      "Num of cores: 1\n",
      "Num of cores: 1\n",
      "Num of cores: 1\n"
     ]
    },
    {
     "name": "stderr",
     "output_type": "stream",
     "text": [
      "100%|██████████| 30/30 [00:05<00:00,  5.20it/s]\n"
     ]
    },
    {
     "name": "stdout",
     "output_type": "stream",
     "text": [
      "Epoch 19,  Loss: 9775.6689,  Regret: 84.0346%\n",
      "Num of cores: 1\n",
      "Num of cores: 1\n",
      "Num of cores: 1\n",
      "Num of cores: 1\n",
      "Num of cores: 1\n",
      "Num of cores: 1\n",
      "Num of cores: 1\n",
      "Num of cores: 1\n",
      "Num of cores: 1\n",
      "Num of cores: 1\n",
      "Num of cores: 1\n",
      "Num of cores: 1\n",
      "Num of cores: 1\n",
      "Num of cores: 1\n",
      "Num of cores: 1\n",
      "Num of cores: 1\n",
      "Num of cores: 1\n",
      "Num of cores: 1\n",
      "Num of cores: 1\n",
      "Num of cores: 1\n",
      "Num of cores: 1\n",
      "Num of cores: 1\n",
      "Num of cores: 1\n",
      "Num of cores: 1\n",
      "Num of cores: 1\n",
      "Num of cores: 1\n",
      "Num of cores: 1\n",
      "Num of cores: 1\n",
      "Num of cores: 1\n",
      "Num of cores: 1\n"
     ]
    },
    {
     "name": "stderr",
     "output_type": "stream",
     "text": [
      "100%|██████████| 30/30 [00:05<00:00,  5.33it/s]"
     ]
    },
    {
     "name": "stdout",
     "output_type": "stream",
     "text": [
      "Epoch 20,  Loss: 9432.6299,  Regret: 80.6396%\n",
      "Total Elapsed Time: 2283.95 Sec.\n"
     ]
    },
    {
     "name": "stderr",
     "output_type": "stream",
     "text": [
      "\n"
     ]
    }
   ],
   "source": [
    "loss_log, loss_log_regret = trainModel(reg, loss_function=spop, method_name=\"spo+\")"
   ]
  },
  {
   "cell_type": "code",
   "execution_count": 21,
   "metadata": {},
   "outputs": [
    {
     "data": {
      "text/plain": [
       "[0.8276952140010976,\n",
       " 0.8307290006739397,\n",
       " 0.721727757156323,\n",
       " 0.7763615389116347,\n",
       " 0.7702847430724417,\n",
       " 0.817973608288024,\n",
       " 0.804098578347446,\n",
       " 0.8370099745918587,\n",
       " 0.8197787205883551,\n",
       " 0.809913035496134,\n",
       " 0.7956972448130878,\n",
       " 0.8082370245344374,\n",
       " 0.7939694348779968,\n",
       " 0.8058765882003683,\n",
       " 0.8030033481794534,\n",
       " 0.8496909117511535,\n",
       " 0.8230256965428493,\n",
       " 0.8196747364988041,\n",
       " 0.8092436008487156,\n",
       " 0.8403461661597825,\n",
       " 0.8063955909586952]"
      ]
     },
     "execution_count": 21,
     "metadata": {},
     "output_type": "execute_result"
    }
   ],
   "source": [
    "loss_log_regret"
   ]
  },
  {
   "cell_type": "code",
   "execution_count": 23,
   "metadata": {},
   "outputs": [
    {
     "data": {
      "image/png": "[encoded data removed]",
      "text/plain": [
       "<Figure size 1600x400 with 2 Axes>"
      ]
     },
     "metadata": {},
     "output_type": "display_data"
    }
   ],
   "source": [
    "visLearningCurve(loss_log, loss_log_regret)"
   ]
  }
 ],
 "metadata": {
  "kernelspec": {
   "display_name": "Pyepo",
   "language": "python",
   "name": "python3"
  },
  "language_info": {
   "codemirror_mode": {
    "name": "ipython",
    "version": 3
   },
   "file_extension": ".py",
   "mimetype": "text/x-python",
   "name": "python",
   "nbconvert_exporter": "python",
   "pygments_lexer": "ipython3",
   "version": "3.10.5"
  }
 },
 "nbformat": 4,
 "nbformat_minor": 2
}
