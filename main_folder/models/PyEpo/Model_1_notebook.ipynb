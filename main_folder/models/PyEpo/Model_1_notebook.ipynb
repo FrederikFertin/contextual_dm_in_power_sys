{
 "cells": [
  {
   "cell_type": "code",
   "execution_count": 1,
   "metadata": {},
   "outputs": [],
   "source": [
    "#pip install -e git+https://github.com/FrederikFertin/PyEPO.git@development#egg=pyepo"
   ]
  },
  {
   "cell_type": "code",
   "execution_count": 53,
   "metadata": {},
   "outputs": [],
   "source": [
    "import gurobipy as gp\n",
    "from gurobipy import GRB\n",
    "import numpy as np\n",
    "import pyepo\n",
    "from pyepo.model.grb import optGrbModel\n",
    "import torch\n",
    "from torch import nn\n",
    "from torch.utils.data import DataLoader\n",
    "from gurobipy import Model, GRB, quicksum\n",
    "\n",
    "import pandas as pd\n",
    "\n",
    "import matplotlib\n",
    "import matplotlib.pyplot as plt\n",
    "%matplotlib inline\n",
    "\n",
    "#from sklearn_extra.cluster import KMedoids\n",
    "import copy"
   ]
  },
  {
   "cell_type": "code",
   "execution_count": 54,
   "metadata": {},
   "outputs": [],
   "source": [
    "# load data\n",
    "red = (0.77, 0, 0.05) # (196, 0, 13)\n",
    "blue = (0.12, 0.24, 1) # (31, 61, 255)\n",
    "# green = (0.31, 1, 0.34) # (79, 255, 87)\n",
    "green = (0.122, 00.816, 0.51) # (31, 208, 130)\n",
    "navyblue = (0, 0, 0.4) # (0, 0, 102)\n",
    "black = (0, 0, 0)\n",
    "white = (1, 1, 1)\n",
    "cgreen = (0.57254902, 0.7254902 , 0.51372549) # (146, 185, 131)\n",
    "cblue = (0.70196078, 0.83137255, 1) # (179, 212, 255)\n",
    "\n",
    "top_domain = 53.32 # 90% quantile\n",
    "\n",
    "\n",
    "\n",
    "def import_data(negative_prices=False):\n",
    "    # import data and set constants\n",
    "    all_data = pd.read_csv(\"2020_data.csv\")\n",
    "    prices_UP = np.maximum(all_data[\"UP\"].to_numpy(),0)\n",
    "    prices_DW = np.maximum(all_data[\"DW\"].to_numpy(),0)\n",
    "    prices_F = np.maximum(all_data[\"forward_RE\"].to_numpy(),0)\n",
    "    prices_forecast = np.maximum(all_data[\"forward_FC\"].to_numpy(), 0)\n",
    "\n",
    "    nominal_wind = 10\n",
    "    features = all_data.loc[:, [\"Offshore DK2\", \"Offshore DK1\", \"Onshore DK2\", \"Onshore DK1\", \"production_FC\"]]\n",
    "    features[\"forward\"] = prices_F\n",
    "    features_red = all_data.loc[:, [\"production_FC\"]]\n",
    "    features_red[\"forward\"] = prices_F\n",
    "    realized = all_data.loc[:, \"production_RE\"].to_numpy()\n",
    "    realized *= nominal_wind\n",
    "\n",
    "    price_H = 35.2\n",
    "    penalty = np.quantile(prices_UP, 0.95) # 95% quantile of deficit_settle price over all 2 years\n",
    "    # penalty = 2 * price_H\n",
    "    # penalty = np.max(prices_B) # Something HIGHER is needed apparently\n",
    "\n",
    "    return (\n",
    "        prices_UP,\n",
    "        prices_DW,\n",
    "        prices_F,\n",
    "        prices_forecast,\n",
    "        features,\n",
    "        features_red,\n",
    "        realized,\n",
    "        price_H,\n",
    "        penalty\n",
    "    )"
   ]
  },
  {
   "cell_type": "code",
   "execution_count": 55,
   "metadata": {},
   "outputs": [],
   "source": [
    "# c = [lambda_H, lambda_F, -lambda_UP, lambda_DW, -penalty]"
   ]
  },
  {
   "cell_type": "code",
   "execution_count": 56,
   "metadata": {},
   "outputs": [],
   "source": [
    "import os\n",
    "# get current directory\n",
    "path = os.getcwd()\n",
    "import os.path\n",
    "\n",
    "def getParent(path, levels = 1):\n",
    "    common = path\n",
    " \n",
    "    # Using for loop for getting\n",
    "    # starting point required for\n",
    "    # os.path.relpath()\n",
    "    for i in range(levels + 1):\n",
    " \n",
    "        # Starting point\n",
    "        common = os.path.dirname(common)\n",
    " \n",
    "    # Parent directory upto specified\n",
    "    # level\n",
    "    return os.path.relpath(path, common)\n"
   ]
  },
  {
   "cell_type": "code",
   "execution_count": 57,
   "metadata": {},
   "outputs": [],
   "source": [
    "#Import data\n",
    "(prices_UP,prices_DW,prices_F,prices_forecast,features,features_red,realized,price_H,penalty) = import_data()\n",
    "\n",
    "# Change forward prices to forecast prices in features\n",
    "features[\"forward\"] = prices_forecast\n",
    "\n",
    "periods = list(range(0, len(prices_F) )) # Total time considered 2020-2021\n",
    "n_periods = 24 # Number of periods in a day\n",
    "n_days = 182 # Number of days in training set and test set\n",
    "n_hours = n_days * n_periods\n",
    "num_feat = n_periods*6 # size of feature\n",
    "num_feat_rf = 2 # size of feature\n",
    "num_item = 120 # number of predictions (Forward bid and Hydrogen)\n",
    "\n",
    "lambda_H_list = [price_H for i in range(n_periods)]\n",
    "penalty_list = [-penalty for i in range(n_periods)]\n",
    "\n",
    "def flatten_extend(matrix):\n",
    "     flat_list = []\n",
    "     for row in matrix:\n",
    "         flat_list.extend(row)\n",
    "     return flat_list"
   ]
  },
  {
   "cell_type": "code",
   "execution_count": 58,
   "metadata": {},
   "outputs": [],
   "source": [
    "# \n",
    "c_train = np.asarray([flatten_extend([lambda_H_list, prices_F[d: d+n_periods], -prices_UP[d: d+n_periods], prices_DW[d: d+n_periods], penalty_list]) for d in range(int(n_hours/n_periods))])\n",
    "c_test = np.asarray([flatten_extend([lambda_H_list, prices_F[d: d+n_periods], -prices_UP[d: d+n_periods], prices_DW[d: d+n_periods], penalty_list]) for d in range(int(n_hours/n_periods), int(2*n_hours/n_periods))])\n",
    "wind_train = np.asarray([flatten_extend([realized[d:d+n_periods]]) for d in range(int(n_hours/n_periods))])\n",
    "wind_test = np.asarray([flatten_extend([realized[d:d+n_periods]]) for d in range(int(n_hours/n_periods), int(2*n_hours/n_periods))])\n",
    "x_train = np.asarray([flatten_extend(features.values[d:d+n_periods]) for d in range(int(n_hours/n_periods))])\n",
    "x_test = np.asarray([flatten_extend(features.values[d:d+n_periods]) for d in range(int(n_hours/n_periods), int(2*n_hours/n_periods))])\n",
    "\n",
    "# Standardize x_train and x_test\n",
    "x_train = (x_train - np.mean(x_train, axis=0)) / np.std(x_train, axis=0)\n",
    "x_test = (x_test - np.mean(x_train, axis=0)) / np.std(x_train, axis=0)\n",
    "\n",
    "# As matrix:\n",
    "#c_train = np.asarray([np.transpose([lambda_H_list, prices_F[d: d+n_periods], prices_UP[d: d+n_periods], prices_DW[d: d+n_periods], penalty_list]) for d in range(int(n_hours/n_periods))])\n",
    "#c_test = np.asarray([np.transpose([lambda_H_list, prices_F[d: d+n_periods], prices_UP[d: d+n_periods], prices_DW[d: d+n_periods], penalty_list]) for d in range(int(n_hours/n_periods), int(2*n_hours/n_periods))])\n",
    "#c_train = np.asarray([[lambda_H_list, prices_F[d: d+n_periods], prices_UP[d: d+n_periods], prices_DW[d: d+n_periods], penalty_list] for d in range(int(n_hours/n_periods))])\n",
    "#c_test = np.asarray([[lambda_H_list, prices_F[d: d+n_periods], prices_UP[d: d+n_periods], prices_DW[d: d+n_periods], penalty_list] for d in range(int(n_hours/n_periods), int(2*n_hours/n_periods))])"
   ]
  },
  {
   "cell_type": "code",
   "execution_count": 59,
   "metadata": {},
   "outputs": [],
   "source": [
    "\n",
    "# optimization model\n",
    "class myModel(optGrbModel):\n",
    "    def __init__(self, realized, *args, **kwargs):        \n",
    "        #Fixed parameters\n",
    "        self.max_elec = 10\n",
    "        self.max_wind = 10\n",
    "        self.nominal_wind = 10\n",
    "        self.min_production = 50\n",
    "        self.periods = np.arange(len(realized))\n",
    "        self.E_real = realized\n",
    "        super().__init__()\n",
    "\n",
    "    def _getModel(self):\n",
    "\n",
    "        initial_plan = Model(\"Gurobi.Optimizer\")\n",
    "\n",
    "        # Definition of variables\n",
    "        x = initial_plan.addMVar((5,len(self.periods)), name=\"x\")\n",
    "        \"\"\"\n",
    "        hydrogen_plan = initial_plan.addVars(self.periods, name=\"p_H\", lb=0)\n",
    "        forward_bid = initial_plan.addVars(self.periods, name=\"p_F\")\n",
    "        p_UP = initial_plan.addVars(self.periods, name=\"p_UP\", lb=0)\n",
    "        p_DW = initial_plan.addVars(self.periods, name=\"p_DW\", lb=0)\n",
    "        p_slack = initial_plan.addVars(self.periods, name=\"p_slack\", lb=0)\n",
    "        \"\"\"\n",
    "\n",
    "        # Objective: Maximize profit\n",
    "        initial_plan.modelSense = GRB.MAXIMIZE\n",
    "        #initial_plan.setObjective(\n",
    "        #    quicksum(\n",
    "        #        lambda_F[t] * p_F[t] +\n",
    "        #        lambda_H * hydrogen[t] +\n",
    "        #        lambda_DW[t] * E_DW[t] -\n",
    "        #        lambda_UP[t] * E_UP[t]\n",
    "        #        for t in periods\n",
    "        #    ), GRB.MAXIMIZE\n",
    "        #)\n",
    "\n",
    "        # Constraints\n",
    "        # Max capacity\n",
    "        for t in self.periods:\n",
    "            \"\"\"\n",
    "            initial_plan.addConstr(forward_bid[t] <= self.max_wind, name=f\"wind_capacity_up_{t}\")\n",
    "            initial_plan.addConstr(forward_bid[t] >= -self.max_elec, name=f\"wind_capacity_dw_{t}\")\n",
    "            initial_plan.addConstr(hydrogen_plan[t] <= self.max_elec, name=f\"elec_capacity_{t}\")\n",
    "            initial_plan.addConstr(self.E_real[t] - hydrogen_plan[t] - forward_bid[t] == p_UP[t] - p_DW[t], name=f\"balancing_{t}\")\n",
    "            initial_plan.addConstr(hydrogen_plan[t] + self.min_production/len(self.periods) - p_slack[t] <= 0, name=f\"slack_{t}\")\n",
    "            \"\"\"\n",
    "            initial_plan.addConstr(x[1,t] <= self.max_wind, name=f\"wind_capacity_up_{t}\")\n",
    "            initial_plan.addConstr(x[1,t] >= -self.max_elec, name=f\"wind_capacity_dw_{t}\")\n",
    "            initial_plan.addConstr(x[0,t] <= self.max_elec, name=f\"elec_capacity_{t}\")\n",
    "            initial_plan.addConstr(x[0,t] >= 0, name=f\"elec_capacity_lb_{t}\")\n",
    "            initial_plan.addConstr(x[2,t] >= 0, name=f\"up_regulation_lb_{t}\")\n",
    "            initial_plan.addConstr(x[2,t] <= 2*self.max_wind, name=f\"up_regulation_lb_{t}\")\n",
    "            initial_plan.addConstr(x[3,t] >= 0, name=f\"dw_regulation_lb_{t}\")\n",
    "            initial_plan.addConstr(x[3,t] <= 2*self.max_wind, name=f\"dw_regulation_lb_{t}\")\n",
    "            initial_plan.addConstr(x[4,t] >= 0, name=f\"slack_regulation_lb_{t}\")\n",
    "            initial_plan.addConstr(x[4,t] <= self.min_production/len(self.periods), name=f\"slack_regulation_ub_{t}\")\n",
    "            initial_plan.addConstr(self.E_real[t] - x[0,t] - x[1,t] == -x[2,t] + x[3,t], name=f\"balacing_{t}\")\n",
    "            initial_plan.addConstr(-x[0,t] + self.min_production/len(self.periods) - x[4,t] <= 0, name=f\"slack_{t}\")\n",
    "\n",
    "        # Finalizing model setup\n",
    "        #initial_plan.update()\n",
    "        #print(type(hydrogen_plan))\n",
    "        #x = dict(hydrogen_plan).update(dict(forward_bid)).update(dict(p_UP)).update(dict(p_DW)).update(dict(p_slack))\n",
    "        #print(hydrogen_plan, forward_bid, p_UP, p_DW, p_slack)\n",
    "        #x = initial_plan.getVars()\n",
    "        #x = dict(zip([v.varName for v in x], x))\n",
    "        \n",
    "        return initial_plan, x"
   ]
  },
  {
   "cell_type": "code",
   "execution_count": 60,
   "metadata": {},
   "outputs": [
    {
     "name": "stdout",
     "output_type": "stream",
     "text": [
      "<class 'gurobipy.MVar'>\n"
     ]
    }
   ],
   "source": [
    "print(gp.MVar)\n",
    "model = Model(\"Gurobi.Optimizer\")\n",
    "\n",
    "# Definition of variables\n",
    "x = model.addVars(n_periods, name=\"x\", lb=0)\n",
    "y = model.addVars(n_periods, name=\"y\", lb=0)\n",
    "\n"
   ]
  },
  {
   "cell_type": "code",
   "execution_count": 61,
   "metadata": {},
   "outputs": [
    {
     "data": {
      "text/plain": [
       "120"
      ]
     },
     "execution_count": 61,
     "metadata": {},
     "output_type": "execute_result"
    }
   ],
   "source": [
    "model = myModel(wind_train[0])\n",
    "x = model._getModel()[1]\n",
    "np.array([[2,3],[2,3\n",
    "                 ]]) @ [[2,3],[2,3]]\n",
    "c_train[0].size\n"
   ]
  },
  {
   "cell_type": "code",
   "execution_count": 62,
   "metadata": {},
   "outputs": [
    {
     "name": "stdout",
     "output_type": "stream",
     "text": [
      "Optimizing for optDataset...\n"
     ]
    },
    {
     "name": "stderr",
     "output_type": "stream",
     "text": [
      "100%|██████████| 182/182 [00:29<00:00,  6.14it/s]\n"
     ]
    },
    {
     "name": "stdout",
     "output_type": "stream",
     "text": [
      "Optimizing for optDataset...\n"
     ]
    },
    {
     "name": "stderr",
     "output_type": "stream",
     "text": [
      "100%|██████████| 182/182 [00:29<00:00,  6.22it/s]\n"
     ]
    }
   ],
   "source": [
    "# get optDataset\n",
    "from pyepo.data.datasetParams import optDatasetParams\n",
    "\n",
    "#dataset_train = pyepo.data.dataset.optDataset(myModel(wind_train[0]), x_train, c_train)\n",
    "#dataset_test = pyepo.data.dataset.optDataset(myModel(wind_train[0]), x_test, c_test)\n",
    "\n",
    "dataset_train = optDatasetParams(myModel, x_train, c_train, wind_train)\n",
    "dataset_test = optDatasetParams(myModel, x_test, c_test, wind_test)\n",
    "\n"
   ]
  },
  {
   "cell_type": "code",
   "execution_count": 63,
   "metadata": {},
   "outputs": [],
   "source": [
    "batch_size = 1\n",
    "loader_train = DataLoader(dataset_train, batch_size=batch_size, shuffle=False)\n",
    "loader_test = DataLoader(dataset_test, batch_size=batch_size, shuffle=False)"
   ]
  },
  {
   "cell_type": "markdown",
   "metadata": {},
   "source": [
    "# Training with fixed regression outputs for hydrogen and penalty costs."
   ]
  },
  {
   "cell_type": "code",
   "execution_count": 64,
   "metadata": {},
   "outputs": [],
   "source": [
    "# prediction model\n",
    "from torch import nn\n",
    "class LinearRegressionCostVector(nn.Module):\n",
    "\n",
    "    def __init__(self, input_size, output_size, constant_indices, constant_values, mask):\n",
    "        super(LinearRegressionCostVector, self).__init__()\n",
    "        self.linear = nn.Linear(input_size, output_size)\n",
    "        self.constant_indices = constant_indices\n",
    "        self.constant_values = constant_values\n",
    "        self.mask = mask\n",
    "\n",
    "    def forward(self, x):\n",
    "        out = self.linear(x)\n",
    "        for i in range(len(self.constant_indices)):\n",
    "            if self.constant_indices[i] == 1:\n",
    "                if i < 24:\n",
    "                    out[:,i] = self.constant_values[0]\n",
    "                else:\n",
    "                    out[:,i] = self.constant_values[1]\n",
    "        return out\n",
    "\n",
    "# Initialize the model\n",
    "constant_indices = np.zeros(num_item)\n",
    "constant_indices[0:24] = 1\n",
    "constant_indices[num_item-24:num_item] = 1\n",
    "grad_mask = (constant_indices == 0).astype(int)\n",
    "\n",
    "reg = LinearRegressionCostVector(num_feat, num_item, constant_indices=constant_indices, constant_values=[price_H, -penalty], mask=grad_mask)"
   ]
  },
  {
   "cell_type": "code",
   "execution_count": 65,
   "metadata": {},
   "outputs": [
    {
     "name": "stderr",
     "output_type": "stream",
     "text": [
      "100%|██████████| 182/182 [00:32<00:00,  5.55it/s]\n"
     ]
    }
   ],
   "source": [
    "from pyepo.metric.regretParams import regretParams\n",
    "regret = regretParams(reg, myModel, loader_test, wind_test)\n",
    "\n",
    "def custom_backward(loss, model):\n",
    "    loss.backward()\n",
    "    for param in model.parameters():\n",
    "        if param.grad is not None:\n",
    "            param.grad = (param.grad.T * model.mask).T.type(torch.FloatTensor)"
   ]
  },
  {
   "cell_type": "code",
   "execution_count": 66,
   "metadata": {},
   "outputs": [],
   "source": [
    "import time\n",
    "from tqdm import tqdm\n",
    "\n",
    "# train model\n",
    "def trainModel(reg, loss_function, method_name, num_epochs=20, lr=1e-2):\n",
    "    # set adam optimizer\n",
    "    optimizer = torch.optim.Adam(reg.parameters(), lr=lr)\n",
    "    # train mode\n",
    "    reg.train()\n",
    "    # init log\n",
    "    loss_log = []\n",
    "    loss_log_regret = [regretParams(reg, myModel, loader_test, wind_test)]\n",
    "    # init elpased time\n",
    "    elapsed = 0\n",
    "    for epoch in range(num_epochs):\n",
    "        # start timing\n",
    "        tick = time.time()\n",
    "        # load data\n",
    "        for i, data in enumerate(tqdm(loader_train)):\n",
    "            wind = wind_train[i]\n",
    "            opt_model = myModel(wind)\n",
    "            loss_func = loss_function(opt_model, processes=1)\n",
    "            x, c, w, z = data\n",
    "            # cuda\n",
    "            if torch.cuda.is_available():\n",
    "                x, c, w, z = x.cuda(), c.cuda(), w.cuda(), z.cuda()\n",
    "            # forward pass\n",
    "            cp = reg(x)\n",
    "            if method_name == \"spo+\":\n",
    "                loss = loss_func(cp, c, w, z)\n",
    "            if method_name in [\"ptb\", \"pfy\", \"imle\", \"nce\", \"cmap\"]:\n",
    "                loss = loss_func(cp, w)\n",
    "            if method_name in [\"dbb\", \"nid\"]:\n",
    "                loss = loss_func(cp, c, z)\n",
    "            if method_name == \"ltr\":\n",
    "                loss = loss_func(cp, c)\n",
    "            # backward pass\n",
    "            optimizer.zero_grad()\n",
    "            custom_backward(loss, reg)\n",
    "            optimizer.step()\n",
    "            # record time\n",
    "            tock = time.time()\n",
    "            elapsed += tock - tick\n",
    "            # log\n",
    "            loss_log.append(loss.item())\n",
    "        regret = regretParams(reg, myModel, loader_test, wind_test)\n",
    "        loss_log_regret.append(regret)\n",
    "        print(\"Epoch {:2},  Loss: {:9.4f},  Regret: {:7.4f}%\".format(epoch+1, loss.item(), regret*100))\n",
    "    print(\"Total Elapsed Time: {:.2f} Sec.\".format(elapsed))\n",
    "    return loss_log, loss_log_regret"
   ]
  },
  {
   "cell_type": "code",
   "execution_count": 67,
   "metadata": {},
   "outputs": [],
   "source": [
    "from matplotlib import pyplot as plt\n",
    "\n",
    "def visLearningCurve(loss_log, loss_log_regret):\n",
    "    # create figure and subplots\n",
    "    fig, (ax1, ax2) = plt.subplots(1, 2, figsize=(16,4))\n",
    "\n",
    "    # draw plot for training loss\n",
    "    ax1.plot(loss_log, color=\"c\", lw=1)\n",
    "    ax1.tick_params(axis=\"both\", which=\"major\", labelsize=12)\n",
    "    ax1.set_xlabel(\"Iters\", fontsize=16)\n",
    "    ax1.set_ylabel(\"Loss\", fontsize=16)\n",
    "    ax1.set_title(\"Learning Curve on Training Set\", fontsize=16)\n",
    "\n",
    "    # draw plot for regret on test\n",
    "    ax2.plot(loss_log_regret, color=\"royalblue\", ls=\"--\", alpha=0.7, lw=1)\n",
    "    ax2.set_xticks(range(0, len(loss_log_regret), 2))\n",
    "    ax2.tick_params(axis=\"both\", which=\"major\", labelsize=12)\n",
    "    ax2.set_ylim(0, 1)\n",
    "    ax2.set_xlabel(\"Epochs\", fontsize=16)\n",
    "    ax2.set_ylabel(\"Regret\", fontsize=16)\n",
    "    ax2.set_title(\"Learning Curve on Test Set\", fontsize=16)\n",
    "\n",
    "    plt.show()"
   ]
  },
  {
   "cell_type": "code",
   "execution_count": 68,
   "metadata": {},
   "outputs": [],
   "source": [
    "import torch\n",
    "# init model\n",
    "#reg = LinearRegression()\n",
    "# cuda\n",
    "if torch.cuda.is_available():\n",
    "    reg = reg.cuda()\n",
    "# init SPO+ loss\n",
    "spop = pyepo.func.SPOPlus\n",
    "# spop = pyepo.func.SPOPlus(optmodel, processes=2)"
   ]
  },
  {
   "cell_type": "code",
   "execution_count": 69,
   "metadata": {},
   "outputs": [
    {
     "name": "stderr",
     "output_type": "stream",
     "text": [
      "100%|██████████| 182/182 [00:34<00:00,  5.27it/s]\n",
      "100%|██████████| 182/182 [00:40<00:00,  4.46it/s]\n",
      "100%|██████████| 182/182 [00:35<00:00,  5.15it/s]\n"
     ]
    },
    {
     "name": "stdout",
     "output_type": "stream",
     "text": [
      "Epoch  1,  Loss: 19822.8145,  Regret: 33.5706%\n"
     ]
    },
    {
     "name": "stderr",
     "output_type": "stream",
     "text": [
      "100%|██████████| 182/182 [00:41<00:00,  4.34it/s]\n",
      "100%|██████████| 182/182 [00:33<00:00,  5.47it/s]\n"
     ]
    },
    {
     "name": "stdout",
     "output_type": "stream",
     "text": [
      "Epoch  2,  Loss: 20317.6992,  Regret: 43.7463%\n"
     ]
    },
    {
     "name": "stderr",
     "output_type": "stream",
     "text": [
      "100%|██████████| 182/182 [00:38<00:00,  4.70it/s]\n",
      "100%|██████████| 182/182 [00:32<00:00,  5.65it/s]\n"
     ]
    },
    {
     "name": "stdout",
     "output_type": "stream",
     "text": [
      "Epoch  3,  Loss: 22624.8477,  Regret: 48.2761%\n"
     ]
    },
    {
     "name": "stderr",
     "output_type": "stream",
     "text": [
      "100%|██████████| 182/182 [00:39<00:00,  4.59it/s]\n",
      "100%|██████████| 182/182 [00:32<00:00,  5.61it/s]\n"
     ]
    },
    {
     "name": "stdout",
     "output_type": "stream",
     "text": [
      "Epoch  4,  Loss: 22485.5371,  Regret: 49.3373%\n"
     ]
    },
    {
     "name": "stderr",
     "output_type": "stream",
     "text": [
      "100%|██████████| 182/182 [00:38<00:00,  4.77it/s]\n",
      "100%|██████████| 182/182 [00:33<00:00,  5.41it/s]\n"
     ]
    },
    {
     "name": "stdout",
     "output_type": "stream",
     "text": [
      "Epoch  5,  Loss: 22122.7656,  Regret: 51.0268%\n"
     ]
    },
    {
     "name": "stderr",
     "output_type": "stream",
     "text": [
      "100%|██████████| 182/182 [00:37<00:00,  4.83it/s]\n",
      "100%|██████████| 182/182 [00:32<00:00,  5.54it/s]\n"
     ]
    },
    {
     "name": "stdout",
     "output_type": "stream",
     "text": [
      "Epoch  6,  Loss: 21457.5762,  Regret: 52.0861%\n"
     ]
    },
    {
     "name": "stderr",
     "output_type": "stream",
     "text": [
      "100%|██████████| 182/182 [00:37<00:00,  4.89it/s]\n",
      "100%|██████████| 182/182 [00:32<00:00,  5.54it/s]\n"
     ]
    },
    {
     "name": "stdout",
     "output_type": "stream",
     "text": [
      "Epoch  7,  Loss: 21147.3008,  Regret: 52.3748%\n"
     ]
    },
    {
     "name": "stderr",
     "output_type": "stream",
     "text": [
      "100%|██████████| 182/182 [00:37<00:00,  4.84it/s]\n",
      "100%|██████████| 182/182 [00:32<00:00,  5.63it/s]\n"
     ]
    },
    {
     "name": "stdout",
     "output_type": "stream",
     "text": [
      "Epoch  8,  Loss: 20482.7871,  Regret: 53.0608%\n"
     ]
    },
    {
     "name": "stderr",
     "output_type": "stream",
     "text": [
      "100%|██████████| 182/182 [00:37<00:00,  4.80it/s]\n",
      "100%|██████████| 182/182 [00:32<00:00,  5.63it/s]\n"
     ]
    },
    {
     "name": "stdout",
     "output_type": "stream",
     "text": [
      "Epoch  9,  Loss: 20620.7500,  Regret: 51.8110%\n"
     ]
    },
    {
     "name": "stderr",
     "output_type": "stream",
     "text": [
      "100%|██████████| 182/182 [00:38<00:00,  4.75it/s]\n",
      "100%|██████████| 182/182 [00:32<00:00,  5.56it/s]\n"
     ]
    },
    {
     "name": "stdout",
     "output_type": "stream",
     "text": [
      "Epoch 10,  Loss: 19848.8164,  Regret: 52.6426%\n"
     ]
    },
    {
     "name": "stderr",
     "output_type": "stream",
     "text": [
      "100%|██████████| 182/182 [00:38<00:00,  4.75it/s]\n",
      "100%|██████████| 182/182 [00:32<00:00,  5.53it/s]\n"
     ]
    },
    {
     "name": "stdout",
     "output_type": "stream",
     "text": [
      "Epoch 11,  Loss: 18836.1484,  Regret: 52.3698%\n"
     ]
    },
    {
     "name": "stderr",
     "output_type": "stream",
     "text": [
      "100%|██████████| 182/182 [00:37<00:00,  4.84it/s]\n",
      "100%|██████████| 182/182 [00:32<00:00,  5.54it/s]\n"
     ]
    },
    {
     "name": "stdout",
     "output_type": "stream",
     "text": [
      "Epoch 12,  Loss: 19021.4453,  Regret: 51.1140%\n"
     ]
    },
    {
     "name": "stderr",
     "output_type": "stream",
     "text": [
      "100%|██████████| 182/182 [00:37<00:00,  4.83it/s]\n",
      "100%|██████████| 182/182 [00:33<00:00,  5.45it/s]\n"
     ]
    },
    {
     "name": "stdout",
     "output_type": "stream",
     "text": [
      "Epoch 13,  Loss: 18114.1172,  Regret: 51.7364%\n"
     ]
    },
    {
     "name": "stderr",
     "output_type": "stream",
     "text": [
      "100%|██████████| 182/182 [00:38<00:00,  4.78it/s]\n",
      "100%|██████████| 182/182 [00:33<00:00,  5.48it/s]\n"
     ]
    },
    {
     "name": "stdout",
     "output_type": "stream",
     "text": [
      "Epoch 14,  Loss: 18289.7207,  Regret: 51.2796%\n"
     ]
    },
    {
     "name": "stderr",
     "output_type": "stream",
     "text": [
      "100%|██████████| 182/182 [00:38<00:00,  4.75it/s]\n",
      "100%|██████████| 182/182 [00:32<00:00,  5.57it/s]\n"
     ]
    },
    {
     "name": "stdout",
     "output_type": "stream",
     "text": [
      "Epoch 15,  Loss: 17807.2754,  Regret: 51.2804%\n"
     ]
    },
    {
     "name": "stderr",
     "output_type": "stream",
     "text": [
      "100%|██████████| 182/182 [00:38<00:00,  4.75it/s]\n",
      "100%|██████████| 182/182 [00:32<00:00,  5.63it/s]\n"
     ]
    },
    {
     "name": "stdout",
     "output_type": "stream",
     "text": [
      "Epoch 16,  Loss: 16894.2363,  Regret: 51.4538%\n"
     ]
    },
    {
     "name": "stderr",
     "output_type": "stream",
     "text": [
      "100%|██████████| 182/182 [00:37<00:00,  4.83it/s]\n",
      "100%|██████████| 182/182 [00:32<00:00,  5.63it/s]\n"
     ]
    },
    {
     "name": "stdout",
     "output_type": "stream",
     "text": [
      "Epoch 17,  Loss: 16580.2500,  Regret: 51.3548%\n"
     ]
    },
    {
     "name": "stderr",
     "output_type": "stream",
     "text": [
      "100%|██████████| 182/182 [00:48<00:00,  3.73it/s]\n",
      "100%|██████████| 182/182 [00:33<00:00,  5.37it/s]\n"
     ]
    },
    {
     "name": "stdout",
     "output_type": "stream",
     "text": [
      "Epoch 18,  Loss: 16391.9844,  Regret: 50.8712%\n"
     ]
    },
    {
     "name": "stderr",
     "output_type": "stream",
     "text": [
      "100%|██████████| 182/182 [00:37<00:00,  4.81it/s]\n",
      "100%|██████████| 182/182 [00:32<00:00,  5.56it/s]\n"
     ]
    },
    {
     "name": "stdout",
     "output_type": "stream",
     "text": [
      "Epoch 19,  Loss: 15910.7119,  Regret: 51.4478%\n"
     ]
    },
    {
     "name": "stderr",
     "output_type": "stream",
     "text": [
      "100%|██████████| 182/182 [00:37<00:00,  4.82it/s]\n",
      "100%|██████████| 182/182 [00:32<00:00,  5.57it/s]"
     ]
    },
    {
     "name": "stdout",
     "output_type": "stream",
     "text": [
      "Epoch 20,  Loss: 15431.8398,  Regret: 50.8126%\n",
      "Total Elapsed Time: 70224.56 Sec.\n"
     ]
    },
    {
     "name": "stderr",
     "output_type": "stream",
     "text": [
      "\n"
     ]
    }
   ],
   "source": [
    "loss_log, loss_log_regret = trainModel(reg, loss_function=spop, method_name=\"spo+\")"
   ]
  },
  {
   "cell_type": "code",
   "execution_count": 70,
   "metadata": {},
   "outputs": [
    {
     "data": {
      "text/plain": [
       "[0.431160161814534,\n",
       " 0.3357062588386604,\n",
       " 0.43746250333649733,\n",
       " 0.4827612970862749,\n",
       " 0.49337293811682836,\n",
       " 0.5102678374796383,\n",
       " 0.5208611726278124,\n",
       " 0.5237478721281125,\n",
       " 0.5306082157524696,\n",
       " 0.5181097178151353,\n",
       " 0.5264264219434299,\n",
       " 0.5236979828756377,\n",
       " 0.511140181392179,\n",
       " 0.5173635042441425,\n",
       " 0.5127959052404437,\n",
       " 0.5128035989331803,\n",
       " 0.5145383012145396,\n",
       " 0.5135478769698005,\n",
       " 0.5087120412045422,\n",
       " 0.5144781035719611,\n",
       " 0.5081257758977854]"
      ]
     },
     "execution_count": 70,
     "metadata": {},
     "output_type": "execute_result"
    }
   ],
   "source": [
    "loss_log_regret"
   ]
  },
  {
   "cell_type": "code",
   "execution_count": 71,
   "metadata": {},
   "outputs": [
    {
     "data": {
      "image/png": "[encoded data removed]",
      "text/plain": [
       "<Figure size 1600x400 with 2 Axes>"
      ]
     },
     "metadata": {},
     "output_type": "display_data"
    }
   ],
   "source": [
    "visLearningCurve(loss_log, loss_log_regret)"
   ]
  },
  {
   "cell_type": "markdown",
   "metadata": {},
   "source": [
    "# Training without fixing regression model output for hydrogen and penalty\n"
   ]
  },
  {
   "cell_type": "code",
   "execution_count": 72,
   "metadata": {},
   "outputs": [],
   "source": [
    "# prediction model\n",
    "class LinearRegression(nn.Module):\n",
    "\n",
    "    def __init__(self):\n",
    "        super(LinearRegression, self).__init__()\n",
    "        self.linear = nn.Linear(num_feat, num_item)\n",
    "\n",
    "    def forward(self, x):\n",
    "        out = self.linear(x)\n",
    "        return out\n",
    "\n",
    "reg = LinearRegression()"
   ]
  },
  {
   "cell_type": "code",
   "execution_count": 73,
   "metadata": {},
   "outputs": [
    {
     "name": "stderr",
     "output_type": "stream",
     "text": [
      "100%|██████████| 182/182 [00:31<00:00,  5.74it/s]\n"
     ]
    }
   ],
   "source": [
    "from pyepo.metric.regretParams import regretParams\n",
    "regret = regretParams(reg, myModel, loader_test, wind_test)"
   ]
  },
  {
   "cell_type": "code",
   "execution_count": 74,
   "metadata": {},
   "outputs": [],
   "source": [
    "import time\n",
    "from tqdm import tqdm\n",
    "\n",
    "# train model\n",
    "def trainModel(reg, loss_function, method_name, num_epochs=20, lr=1e-2):\n",
    "    # set adam optimizer\n",
    "    optimizer = torch.optim.Adam(reg.parameters(), lr=lr)\n",
    "    # train mode\n",
    "    reg.train()\n",
    "    # init log\n",
    "    loss_log = []\n",
    "    loss_log_regret = [regretParams(reg, myModel, loader_test, wind_test)]\n",
    "    # init elpased time\n",
    "    elapsed = 0\n",
    "    for epoch in range(num_epochs):\n",
    "        # start timing\n",
    "        tick = time.time()\n",
    "        # load data\n",
    "        for i, data in enumerate(tqdm(loader_train)):\n",
    "            wind = wind_train[i]\n",
    "            opt_model = myModel(wind)\n",
    "            loss_func = loss_function(opt_model, processes=1)\n",
    "            x, c, w, z = data\n",
    "            # cuda\n",
    "            if torch.cuda.is_available():\n",
    "                x, c, w, z = x.cuda(), c.cuda(), w.cuda(), z.cuda()\n",
    "            # forward pass\n",
    "            cp = reg(x)\n",
    "            if method_name == \"spo+\":\n",
    "                loss = loss_func(cp, c, w, z)\n",
    "            if method_name in [\"ptb\", \"pfy\", \"imle\", \"nce\", \"cmap\"]:\n",
    "                loss = loss_func(cp, w)\n",
    "            if method_name in [\"dbb\", \"nid\"]:\n",
    "                loss = loss_func(cp, c, z)\n",
    "            if method_name == \"ltr\":\n",
    "                loss = loss_func(cp, c)\n",
    "            # backward pass\n",
    "            optimizer.zero_grad()\n",
    "            loss.backward()\n",
    "            optimizer.step()\n",
    "            # record time\n",
    "            tock = time.time()\n",
    "            elapsed += tock - tick\n",
    "            # log\n",
    "            loss_log.append(loss.item())\n",
    "        regret = regretParams(reg, myModel, loader_test, wind_test)\n",
    "        loss_log_regret.append(regret)\n",
    "        print(\"Epoch {:2},  Loss: {:9.4f},  Regret: {:7.4f}%\".format(epoch+1, loss.item(), regret*100))\n",
    "    print(\"Total Elapsed Time: {:.2f} Sec.\".format(elapsed))\n",
    "    return loss_log, loss_log_regret"
   ]
  },
  {
   "cell_type": "code",
   "execution_count": 75,
   "metadata": {},
   "outputs": [],
   "source": [
    "import torch\n",
    "# init model\n",
    "reg = LinearRegression()\n",
    "# cuda\n",
    "if torch.cuda.is_available():\n",
    "    reg = reg.cuda()\n",
    "# init SPO+ loss\n",
    "spop = pyepo.func.SPOPlus\n",
    "# spop = pyepo.func.SPOPlus(optmodel, processes=2)"
   ]
  },
  {
   "cell_type": "code",
   "execution_count": 76,
   "metadata": {},
   "outputs": [
    {
     "name": "stderr",
     "output_type": "stream",
     "text": [
      "100%|██████████| 182/182 [00:30<00:00,  5.87it/s]\n",
      "100%|██████████| 182/182 [00:36<00:00,  4.98it/s]\n",
      "100%|██████████| 182/182 [00:31<00:00,  5.79it/s]\n"
     ]
    },
    {
     "name": "stdout",
     "output_type": "stream",
     "text": [
      "Epoch  1,  Loss: 11170.3477,  Regret: 44.0620%\n"
     ]
    },
    {
     "name": "stderr",
     "output_type": "stream",
     "text": [
      "100%|██████████| 182/182 [00:36<00:00,  4.93it/s]\n",
      "100%|██████████| 182/182 [00:31<00:00,  5.85it/s]\n"
     ]
    },
    {
     "name": "stdout",
     "output_type": "stream",
     "text": [
      "Epoch  2,  Loss: 10139.6426,  Regret: 44.8333%\n"
     ]
    },
    {
     "name": "stderr",
     "output_type": "stream",
     "text": [
      "100%|██████████| 182/182 [00:38<00:00,  4.70it/s]\n",
      "100%|██████████| 182/182 [00:31<00:00,  5.79it/s]\n"
     ]
    },
    {
     "name": "stdout",
     "output_type": "stream",
     "text": [
      "Epoch  3,  Loss: 9848.5605,  Regret: 45.6173%\n"
     ]
    },
    {
     "name": "stderr",
     "output_type": "stream",
     "text": [
      "100%|██████████| 182/182 [00:36<00:00,  5.04it/s]\n",
      "100%|██████████| 182/182 [00:31<00:00,  5.79it/s]\n"
     ]
    },
    {
     "name": "stdout",
     "output_type": "stream",
     "text": [
      "Epoch  4,  Loss: 9199.8457,  Regret: 45.9385%\n"
     ]
    },
    {
     "name": "stderr",
     "output_type": "stream",
     "text": [
      "100%|██████████| 182/182 [00:36<00:00,  5.04it/s]\n",
      "100%|██████████| 182/182 [00:31<00:00,  5.72it/s]\n"
     ]
    },
    {
     "name": "stdout",
     "output_type": "stream",
     "text": [
      "Epoch  5,  Loss: 8780.9551,  Regret: 44.9661%\n"
     ]
    },
    {
     "name": "stderr",
     "output_type": "stream",
     "text": [
      "100%|██████████| 182/182 [00:37<00:00,  4.91it/s]\n",
      "100%|██████████| 182/182 [00:31<00:00,  5.74it/s]\n"
     ]
    },
    {
     "name": "stdout",
     "output_type": "stream",
     "text": [
      "Epoch  6,  Loss: 8818.6973,  Regret: 47.0856%\n"
     ]
    },
    {
     "name": "stderr",
     "output_type": "stream",
     "text": [
      "100%|██████████| 182/182 [00:36<00:00,  4.98it/s]\n",
      "100%|██████████| 182/182 [00:31<00:00,  5.87it/s]\n"
     ]
    },
    {
     "name": "stdout",
     "output_type": "stream",
     "text": [
      "Epoch  7,  Loss: 7919.2686,  Regret: 48.2294%\n"
     ]
    },
    {
     "name": "stderr",
     "output_type": "stream",
     "text": [
      "100%|██████████| 182/182 [00:36<00:00,  4.95it/s]\n",
      "100%|██████████| 182/182 [00:30<00:00,  5.90it/s]\n"
     ]
    },
    {
     "name": "stdout",
     "output_type": "stream",
     "text": [
      "Epoch  8,  Loss: 7666.6875,  Regret: 48.8293%\n"
     ]
    },
    {
     "name": "stderr",
     "output_type": "stream",
     "text": [
      "100%|██████████| 182/182 [00:37<00:00,  4.85it/s]\n",
      "100%|██████████| 182/182 [00:31<00:00,  5.86it/s]\n"
     ]
    },
    {
     "name": "stdout",
     "output_type": "stream",
     "text": [
      "Epoch  9,  Loss: 7592.5479,  Regret: 49.2970%\n"
     ]
    },
    {
     "name": "stderr",
     "output_type": "stream",
     "text": [
      "100%|██████████| 182/182 [00:39<00:00,  4.60it/s]\n",
      "100%|██████████| 182/182 [00:33<00:00,  5.44it/s]\n"
     ]
    },
    {
     "name": "stdout",
     "output_type": "stream",
     "text": [
      "Epoch 10,  Loss: 7127.7686,  Regret: 47.6198%\n"
     ]
    },
    {
     "name": "stderr",
     "output_type": "stream",
     "text": [
      "100%|██████████| 182/182 [00:38<00:00,  4.78it/s]\n",
      "100%|██████████| 182/182 [00:32<00:00,  5.63it/s]\n"
     ]
    },
    {
     "name": "stdout",
     "output_type": "stream",
     "text": [
      "Epoch 11,  Loss: 6589.9697,  Regret: 45.9039%\n"
     ]
    },
    {
     "name": "stderr",
     "output_type": "stream",
     "text": [
      "100%|██████████| 182/182 [00:37<00:00,  4.87it/s]\n",
      "100%|██████████| 182/182 [00:33<00:00,  5.46it/s]\n"
     ]
    },
    {
     "name": "stdout",
     "output_type": "stream",
     "text": [
      "Epoch 12,  Loss: 6009.4722,  Regret: 48.2295%\n"
     ]
    },
    {
     "name": "stderr",
     "output_type": "stream",
     "text": [
      "100%|██████████| 182/182 [00:36<00:00,  4.93it/s]\n",
      "100%|██████████| 182/182 [00:32<00:00,  5.57it/s]\n"
     ]
    },
    {
     "name": "stdout",
     "output_type": "stream",
     "text": [
      "Epoch 13,  Loss: 6328.6572,  Regret: 46.0795%\n"
     ]
    },
    {
     "name": "stderr",
     "output_type": "stream",
     "text": [
      "100%|██████████| 182/182 [00:38<00:00,  4.79it/s]\n",
      "100%|██████████| 182/182 [00:32<00:00,  5.67it/s]\n"
     ]
    },
    {
     "name": "stdout",
     "output_type": "stream",
     "text": [
      "Epoch 14,  Loss: 5226.0454,  Regret: 46.0270%\n"
     ]
    },
    {
     "name": "stderr",
     "output_type": "stream",
     "text": [
      "100%|██████████| 182/182 [00:37<00:00,  4.87it/s]\n",
      "100%|██████████| 182/182 [00:32<00:00,  5.61it/s]\n"
     ]
    },
    {
     "name": "stdout",
     "output_type": "stream",
     "text": [
      "Epoch 15,  Loss: 5234.8975,  Regret: 44.7433%\n"
     ]
    },
    {
     "name": "stderr",
     "output_type": "stream",
     "text": [
      "100%|██████████| 182/182 [00:37<00:00,  4.84it/s]\n",
      "100%|██████████| 182/182 [00:32<00:00,  5.64it/s]\n"
     ]
    },
    {
     "name": "stdout",
     "output_type": "stream",
     "text": [
      "Epoch 16,  Loss: 4897.2529,  Regret: 46.0112%\n"
     ]
    },
    {
     "name": "stderr",
     "output_type": "stream",
     "text": [
      "100%|██████████| 182/182 [00:37<00:00,  4.85it/s]\n",
      "100%|██████████| 182/182 [00:32<00:00,  5.59it/s]\n"
     ]
    },
    {
     "name": "stdout",
     "output_type": "stream",
     "text": [
      "Epoch 17,  Loss: 4348.7490,  Regret: 45.9671%\n"
     ]
    },
    {
     "name": "stderr",
     "output_type": "stream",
     "text": [
      "100%|██████████| 182/182 [00:38<00:00,  4.78it/s]\n",
      "100%|██████████| 182/182 [00:34<00:00,  5.31it/s]\n"
     ]
    },
    {
     "name": "stdout",
     "output_type": "stream",
     "text": [
      "Epoch 18,  Loss: 3843.0684,  Regret: 47.3947%\n"
     ]
    },
    {
     "name": "stderr",
     "output_type": "stream",
     "text": [
      "100%|██████████| 182/182 [00:39<00:00,  4.61it/s]\n",
      "100%|██████████| 182/182 [00:33<00:00,  5.45it/s]\n"
     ]
    },
    {
     "name": "stdout",
     "output_type": "stream",
     "text": [
      "Epoch 19,  Loss: 3810.5088,  Regret: 47.6100%\n"
     ]
    },
    {
     "name": "stderr",
     "output_type": "stream",
     "text": [
      "100%|██████████| 182/182 [00:38<00:00,  4.78it/s]\n",
      "100%|██████████| 182/182 [00:32<00:00,  5.55it/s]"
     ]
    },
    {
     "name": "stdout",
     "output_type": "stream",
     "text": [
      "Epoch 20,  Loss: 3405.7031,  Regret: 47.6574%\n",
      "Total Elapsed Time: 68636.63 Sec.\n"
     ]
    },
    {
     "name": "stderr",
     "output_type": "stream",
     "text": [
      "\n"
     ]
    }
   ],
   "source": [
    "loss_log, loss_log_regret = trainModel(reg, loss_function=spop, method_name=\"spo+\")"
   ]
  },
  {
   "cell_type": "code",
   "execution_count": 77,
   "metadata": {},
   "outputs": [
    {
     "data": {
      "image/png": "[encoded data removed]",
      "text/plain": [
       "<Figure size 1600x400 with 2 Axes>"
      ]
     },
     "metadata": {},
     "output_type": "display_data"
    }
   ],
   "source": [
    "visLearningCurve(loss_log, loss_log_regret)"
   ]
  },
  {
   "cell_type": "code",
   "execution_count": null,
   "metadata": {},
   "outputs": [],
   "source": []
  }
 ],
 "metadata": {
  "kernelspec": {
   "display_name": "Pyepo",
   "language": "python",
   "name": "python3"
  },
  "language_info": {
   "codemirror_mode": {
    "name": "ipython",
    "version": 3
   },
   "file_extension": ".py",
   "mimetype": "text/x-python",
   "name": "python",
   "nbconvert_exporter": "python",
   "pygments_lexer": "ipython3",
   "version": "3.10.5"
  }
 },
 "nbformat": 4,
 "nbformat_minor": 2
}
