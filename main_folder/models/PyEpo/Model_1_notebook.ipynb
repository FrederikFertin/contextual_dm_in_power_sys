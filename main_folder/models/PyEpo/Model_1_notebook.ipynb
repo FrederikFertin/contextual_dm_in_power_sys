{
 "cells": [
  {
   "cell_type": "code",
   "execution_count": 1,
   "metadata": {},
   "outputs": [],
   "source": [
    "#pip install -e git+https://github.com/FrederikFertin/PyEPO.git@development#egg=pyepo"
   ]
  },
  {
   "cell_type": "code",
   "execution_count": 1,
   "metadata": {},
   "outputs": [
    {
     "name": "stdout",
     "output_type": "stream",
     "text": [
      "Auto-Sklearn cannot be imported.\n"
     ]
    }
   ],
   "source": [
    "import gurobipy as gp\n",
    "from gurobipy import GRB\n",
    "import numpy as np\n",
    "import pyepo\n",
    "from pyepo.model.grb import optGrbModel\n",
    "import torch\n",
    "from torch import nn\n",
    "from torch.utils.data import DataLoader\n",
    "from gurobipy import Model, GRB, quicksum\n",
    "\n",
    "import pandas as pd\n",
    "\n",
    "import matplotlib\n",
    "import matplotlib.pyplot as plt\n",
    "%matplotlib inline\n",
    "\n",
    "#from sklearn_extra.cluster import KMedoids\n",
    "import copy\n",
    "\n",
    "device = torch.device('cuda' if torch.has_cuda else 'cpu')"
   ]
  },
  {
   "cell_type": "code",
   "execution_count": 25,
   "metadata": {},
   "outputs": [],
   "source": [
    "# load data\n",
    "red = (0.77, 0, 0.05) # (196, 0, 13)\n",
    "blue = (0.12, 0.24, 1) # (31, 61, 255)\n",
    "# green = (0.31, 1, 0.34) # (79, 255, 87)\n",
    "green = (0.122, 00.816, 0.51) # (31, 208, 130)\n",
    "navyblue = (0, 0, 0.4) # (0, 0, 102)\n",
    "black = (0, 0, 0)\n",
    "white = (1, 1, 1)\n",
    "cgreen = (0.57254902, 0.7254902 , 0.51372549) # (146, 185, 131)\n",
    "cblue = (0.70196078, 0.83137255, 1) # (179, 212, 255)\n",
    "\n",
    "top_domain = 53.32 # 90% quantile\n",
    "\n",
    "\n",
    "\n",
    "def import_data(negative_prices=False):\n",
    "    # import data and set constants\n",
    "    all_data = pd.read_csv(\"2020_data.csv\")\n",
    "    prices_UP = np.maximum(all_data[\"UP\"].to_numpy(),0)\n",
    "    prices_DW = np.maximum(all_data[\"DW\"].to_numpy(),0)\n",
    "    prices_F = np.maximum(all_data[\"forward_RE\"].to_numpy(),0)\n",
    "    prices_forecast = np.maximum(all_data[\"forward_FC\"].to_numpy(), 0)\n",
    "\n",
    "    nominal_wind = 10\n",
    "    features = all_data.loc[:, [\"Offshore DK2\", \"Offshore DK1\", \"Onshore DK2\", \"Onshore DK1\", \"production_FC\"]]\n",
    "    features[\"forward\"] = prices_F\n",
    "    features_red = all_data.loc[:, [\"production_FC\"]]\n",
    "    features_red[\"forward\"] = prices_F\n",
    "    realized = all_data.loc[:, \"production_RE\"].to_numpy()\n",
    "    realized *= nominal_wind\n",
    "\n",
    "    price_H = 35.2\n",
    "    penalty = np.quantile(prices_UP, 0.95) # 95% quantile of deficit_settle price over all 2 years\n",
    "    # penalty = 2 * price_H\n",
    "    # penalty = np.max(prices_B) # Something HIGHER is needed apparently\n",
    "\n",
    "    return (\n",
    "        prices_UP,\n",
    "        prices_DW,\n",
    "        prices_F,\n",
    "        prices_forecast,\n",
    "        features,\n",
    "        features_red,\n",
    "        realized,\n",
    "        price_H,\n",
    "        penalty\n",
    "    )"
   ]
  },
  {
   "cell_type": "code",
   "execution_count": 26,
   "metadata": {},
   "outputs": [],
   "source": [
    "# c = [lambda_H, lambda_F, -lambda_UP, lambda_DW, -penalty]"
   ]
  },
  {
   "cell_type": "code",
   "execution_count": 4,
   "metadata": {},
   "outputs": [],
   "source": [
    "import os\n",
    "# get current directory\n",
    "path = os.getcwd()\n",
    "import os.path\n",
    "\n",
    "def getParent(path, levels = 1):\n",
    "    common = path\n",
    " \n",
    "    # Using for loop for getting\n",
    "    # starting point required for\n",
    "    # os.path.relpath()\n",
    "    for i in range(levels + 1):\n",
    " \n",
    "        # Starting point\n",
    "        common = os.path.dirname(common)\n",
    " \n",
    "    # Parent directory upto specified\n",
    "    # level\n",
    "    return os.path.relpath(path, common)\n"
   ]
  },
  {
   "cell_type": "code",
   "execution_count": 27,
   "metadata": {},
   "outputs": [],
   "source": [
    "#Import data\n",
    "(prices_UP,prices_DW,prices_F,prices_forecast,features,features_red,realized,price_H,penalty) = import_data()\n",
    "\n",
    "# Change forward prices to forecast prices in features\n",
    "features[\"forward\"] = prices_forecast\n",
    "\n",
    "periods = list(range(0, len(prices_F) )) # Total time considered 2020-2021\n",
    "n_periods = 24 # Number of periods in a day\n",
    "n_days = 50 # Number of days in training set and test set\n",
    "n_hours = n_days * n_periods\n",
    "num_feat = n_periods*6 # size of feature\n",
    "num_feat_rf = 2 # size of feature\n",
    "num_item = 120 # number of predictions (Forward bid and Hydrogen)\n",
    "\n",
    "lambda_H_list = [price_H for i in range(n_periods)]\n",
    "penalty_list = [-penalty for i in range(n_periods)]\n",
    "\n",
    "def flatten_extend(matrix):\n",
    "     flat_list = []\n",
    "     for row in matrix:\n",
    "         flat_list.extend(row)\n",
    "     return flat_list"
   ]
  },
  {
   "cell_type": "code",
   "execution_count": 28,
   "metadata": {},
   "outputs": [],
   "source": [
    "# \n",
    "c_train = np.asarray([flatten_extend([lambda_H_list, prices_F[d: d+n_periods], -prices_UP[d: d+n_periods], prices_DW[d: d+n_periods], penalty_list]) for d in range(int(n_hours/n_periods))])\n",
    "c_test = np.asarray([flatten_extend([lambda_H_list, prices_F[d: d+n_periods], -prices_UP[d: d+n_periods], prices_DW[d: d+n_periods], penalty_list]) for d in range(int(n_hours/n_periods), int(2*n_hours/n_periods))])\n",
    "wind_train = np.asarray([flatten_extend([realized[d:d+n_periods]]) for d in range(int(n_hours/n_periods))])\n",
    "wind_test = np.asarray([flatten_extend([realized[d:d+n_periods]]) for d in range(int(n_hours/n_periods), int(2*n_hours/n_periods))])\n",
    "x_train = np.asarray([flatten_extend(features.values[d:d+n_periods]) for d in range(int(n_hours/n_periods))])\n",
    "x_test = np.asarray([flatten_extend(features.values[d:d+n_periods]) for d in range(int(n_hours/n_periods), int(2*n_hours/n_periods))])\n",
    "\n",
    "# Standardize x_train and x_test\n",
    "x_train = (x_train - np.mean(x_train, axis=0)) / np.std(x_train, axis=0)\n",
    "x_test = (x_test - np.mean(x_train, axis=0)) / np.std(x_train, axis=0)\n",
    "\n",
    "# As matrix:\n",
    "#c_train = np.asarray([np.transpose([lambda_H_list, prices_F[d: d+n_periods], prices_UP[d: d+n_periods], prices_DW[d: d+n_periods], penalty_list]) for d in range(int(n_hours/n_periods))])\n",
    "#c_test = np.asarray([np.transpose([lambda_H_list, prices_F[d: d+n_periods], prices_UP[d: d+n_periods], prices_DW[d: d+n_periods], penalty_list]) for d in range(int(n_hours/n_periods), int(2*n_hours/n_periods))])\n",
    "#c_train = np.asarray([[lambda_H_list, prices_F[d: d+n_periods], prices_UP[d: d+n_periods], prices_DW[d: d+n_periods], penalty_list] for d in range(int(n_hours/n_periods))])\n",
    "#c_test = np.asarray([[lambda_H_list, prices_F[d: d+n_periods], prices_UP[d: d+n_periods], prices_DW[d: d+n_periods], penalty_list] for d in range(int(n_hours/n_periods), int(2*n_hours/n_periods))])"
   ]
  },
  {
   "cell_type": "code",
   "execution_count": 7,
   "metadata": {},
   "outputs": [],
   "source": [
    "\n",
    "# optimization model\n",
    "class myModel(optGrbModel):\n",
    "    def __init__(self, realized, *args, **kwargs):        \n",
    "        #Fixed parameters\n",
    "        self.max_elec = 10\n",
    "        self.max_wind = 10\n",
    "        self.nominal_wind = 10\n",
    "        self.min_production = 50\n",
    "        self.periods = np.arange(len(realized))\n",
    "        self.E_real = realized\n",
    "        super().__init__()\n",
    "\n",
    "    def _getModel(self):\n",
    "\n",
    "        initial_plan = Model(\"Gurobi.Optimizer\")\n",
    "\n",
    "        # Definition of variables\n",
    "        x = initial_plan.addMVar((5,len(self.periods)), name=\"x\")\n",
    "        \"\"\"\n",
    "        hydrogen_plan = initial_plan.addVars(self.periods, name=\"p_H\", lb=0)\n",
    "        forward_bid = initial_plan.addVars(self.periods, name=\"p_F\")\n",
    "        p_UP = initial_plan.addVars(self.periods, name=\"p_UP\", lb=0)\n",
    "        p_DW = initial_plan.addVars(self.periods, name=\"p_DW\", lb=0)\n",
    "        p_slack = initial_plan.addVars(self.periods, name=\"p_slack\", lb=0)\n",
    "        \"\"\"\n",
    "\n",
    "        # Objective: Maximize profit\n",
    "        initial_plan.modelSense = GRB.MAXIMIZE\n",
    "        #initial_plan.setObjective(\n",
    "        #    quicksum(\n",
    "        #        lambda_F[t] * p_F[t] +\n",
    "        #        lambda_H * hydrogen[t] +\n",
    "        #        lambda_DW[t] * E_DW[t] -\n",
    "        #        lambda_UP[t] * E_UP[t]\n",
    "        #        for t in periods\n",
    "        #    ), GRB.MAXIMIZE\n",
    "        #)\n",
    "\n",
    "        # Constraints\n",
    "        # Max capacity\n",
    "        for t in self.periods:\n",
    "            \"\"\"\n",
    "            initial_plan.addConstr(forward_bid[t] <= self.max_wind, name=f\"wind_capacity_up_{t}\")\n",
    "            initial_plan.addConstr(forward_bid[t] >= -self.max_elec, name=f\"wind_capacity_dw_{t}\")\n",
    "            initial_plan.addConstr(hydrogen_plan[t] <= self.max_elec, name=f\"elec_capacity_{t}\")\n",
    "            initial_plan.addConstr(self.E_real[t] - hydrogen_plan[t] - forward_bid[t] == p_UP[t] - p_DW[t], name=f\"balancing_{t}\")\n",
    "            initial_plan.addConstr(hydrogen_plan[t] + self.min_production/len(self.periods) - p_slack[t] <= 0, name=f\"slack_{t}\")\n",
    "            \"\"\"\n",
    "            initial_plan.addConstr(x[1,t] <= self.max_wind, name=f\"wind_capacity_up_{t}\")\n",
    "            initial_plan.addConstr(x[1,t] >= -self.max_elec, name=f\"wind_capacity_dw_{t}\")\n",
    "            initial_plan.addConstr(x[0,t] <= self.max_elec, name=f\"elec_capacity_{t}\")\n",
    "            initial_plan.addConstr(x[0,t] >= 0, name=f\"elec_capacity_lb_{t}\")\n",
    "            initial_plan.addConstr(x[2,t] >= 0, name=f\"up_regulation_lb_{t}\")\n",
    "            initial_plan.addConstr(x[2,t] <= 2*self.max_wind, name=f\"up_regulation_lb_{t}\")\n",
    "            initial_plan.addConstr(x[3,t] >= 0, name=f\"dw_regulation_lb_{t}\")\n",
    "            initial_plan.addConstr(x[3,t] <= 2*self.max_wind, name=f\"dw_regulation_lb_{t}\")\n",
    "            initial_plan.addConstr(x[4,t] >= 0, name=f\"slack_regulation_lb_{t}\")\n",
    "            initial_plan.addConstr(x[4,t] <= self.min_production/len(self.periods), name=f\"slack_regulation_ub_{t}\")\n",
    "            initial_plan.addConstr(self.E_real[t] - x[0,t] - x[1,t] == -x[2,t] + x[3,t], name=f\"balacing_{t}\")\n",
    "            initial_plan.addConstr(-x[0,t] + self.min_production/len(self.periods) - x[4,t] <= 0, name=f\"slack_{t}\")\n",
    "\n",
    "        # Finalizing model setup\n",
    "        #initial_plan.update()\n",
    "        #print(type(hydrogen_plan))\n",
    "        #x = dict(hydrogen_plan).update(dict(forward_bid)).update(dict(p_UP)).update(dict(p_DW)).update(dict(p_slack))\n",
    "        #print(hydrogen_plan, forward_bid, p_UP, p_DW, p_slack)\n",
    "        #x = initial_plan.getVars()\n",
    "        #x = dict(zip([v.varName for v in x], x))\n",
    "        \n",
    "        return initial_plan, x"
   ]
  },
  {
   "cell_type": "code",
   "execution_count": null,
   "metadata": {},
   "outputs": [],
   "source": []
  },
  {
   "cell_type": "code",
   "execution_count": 29,
   "metadata": {},
   "outputs": [
    {
     "name": "stdout",
     "output_type": "stream",
     "text": [
      "Optimizing for optDataset...\n"
     ]
    },
    {
     "name": "stderr",
     "output_type": "stream",
     "text": [
      "  0%|          | 0/50 [00:00<?, ?it/s]\n"
     ]
    },
    {
     "ename": "ValueError",
     "evalue": "For optModel, the method 'solve' should return solution vector and objective value.",
     "output_type": "error",
     "traceback": [
      "\u001b[1;31m---------------------------------------------------------------------------\u001b[0m",
      "\u001b[1;31mValueError\u001b[0m                                Traceback (most recent call last)",
      "File \u001b[1;32mc:\\Users\\ande7\\anaconda3\\envs\\Pyepo\\Lib\\site-packages\\pyepo\\data\\datasetParams.py:67\u001b[0m, in \u001b[0;36moptDatasetParams._getSolsParams\u001b[1;34m(self)\u001b[0m\n\u001b[0;32m     66\u001b[0m     \u001b[38;5;28mself\u001b[39m\u001b[38;5;241m.\u001b[39mmodel \u001b[38;5;241m=\u001b[39m \u001b[38;5;28mself\u001b[39m\u001b[38;5;241m.\u001b[39mmodel_type(\u001b[38;5;28mself\u001b[39m\u001b[38;5;241m.\u001b[39mparams[ix])\n\u001b[1;32m---> 67\u001b[0m     sol, obj \u001b[38;5;241m=\u001b[39m \u001b[38;5;28mself\u001b[39m\u001b[38;5;241m.\u001b[39m_solve(c)\n\u001b[0;32m     68\u001b[0m \u001b[38;5;28;01mexcept\u001b[39;00m:\n",
      "File \u001b[1;32mc:\\Users\\ande7\\anaconda3\\envs\\Pyepo\\Lib\\site-packages\\pyepo\\data\\datasetParams.py:105\u001b[0m, in \u001b[0;36moptDatasetParams._solve\u001b[1;34m(self, cost)\u001b[0m\n\u001b[0;32m     96\u001b[0m \u001b[38;5;250m\u001b[39m\u001b[38;5;124;03m\"\"\"\u001b[39;00m\n\u001b[0;32m     97\u001b[0m \u001b[38;5;124;03mA method to solve optimization problem to get an optimal solution with given cost\u001b[39;00m\n\u001b[0;32m     98\u001b[0m \n\u001b[1;32m   (...)\u001b[0m\n\u001b[0;32m    103\u001b[0m \u001b[38;5;124;03m    tuple: optimal solution (np.ndarray) and objective value (float)\u001b[39;00m\n\u001b[0;32m    104\u001b[0m \u001b[38;5;124;03m\"\"\"\u001b[39;00m\n\u001b[1;32m--> 105\u001b[0m \u001b[38;5;28mself\u001b[39m\u001b[38;5;241m.\u001b[39mmodel\u001b[38;5;241m.\u001b[39msetObj(cost)\n\u001b[0;32m    106\u001b[0m sol, obj \u001b[38;5;241m=\u001b[39m \u001b[38;5;28mself\u001b[39m\u001b[38;5;241m.\u001b[39mmodel\u001b[38;5;241m.\u001b[39msolve()\n",
      "File \u001b[1;32mc:\\Users\\ande7\\anaconda3\\envs\\Pyepo\\Lib\\site-packages\\pyepo\\model\\grb\\grbmodel.py:57\u001b[0m, in \u001b[0;36moptGrbModel.setObj\u001b[1;34m(self, c)\u001b[0m\n\u001b[0;32m     56\u001b[0m \u001b[38;5;28;01mif\u001b[39;00m \u001b[38;5;28misinstance\u001b[39m(\u001b[38;5;28mself\u001b[39m\u001b[38;5;241m.\u001b[39mx, gp\u001b[38;5;241m.\u001b[39mMVar):\n\u001b[1;32m---> 57\u001b[0m     obj \u001b[38;5;241m=\u001b[39m np\u001b[38;5;241m.\u001b[39marray(c) \u001b[38;5;241m@\u001b[39m \u001b[38;5;28mself\u001b[39m\u001b[38;5;241m.\u001b[39mx\n\u001b[0;32m     58\u001b[0m \u001b[38;5;66;03m# vars\u001b[39;00m\n\u001b[0;32m     59\u001b[0m \u001b[38;5;28;01melse\u001b[39;00m:\n",
      "File \u001b[1;32msrc\\\\gurobipy\\\\mvar.pxi:393\u001b[0m, in \u001b[0;36mgurobipy.MVar.__rmatmul__\u001b[1;34m()\u001b[0m\n",
      "File \u001b[1;32msrc\\\\gurobipy\\\\mlinexpr.pxi:325\u001b[0m, in \u001b[0;36mgurobipy.MLinExpr._from_matmul_right\u001b[1;34m()\u001b[0m\n",
      "File \u001b[1;32msrc\\\\gurobipy\\\\util.pxi:83\u001b[0m, in \u001b[0;36mgurobipy._matmul_shape\u001b[1;34m()\u001b[0m\n",
      "\u001b[1;31mValueError\u001b[0m: Mismatching inner dimensions 120 vs. 5",
      "\nDuring handling of the above exception, another exception occurred:\n",
      "\u001b[1;31mValueError\u001b[0m                                Traceback (most recent call last)",
      "Cell \u001b[1;32mIn[29], line 7\u001b[0m\n\u001b[0;32m      2\u001b[0m \u001b[38;5;28;01mfrom\u001b[39;00m \u001b[38;5;21;01mpyepo\u001b[39;00m\u001b[38;5;21;01m.\u001b[39;00m\u001b[38;5;21;01mdata\u001b[39;00m\u001b[38;5;21;01m.\u001b[39;00m\u001b[38;5;21;01mdatasetParams\u001b[39;00m \u001b[38;5;28;01mimport\u001b[39;00m optDatasetParams\n\u001b[0;32m      4\u001b[0m \u001b[38;5;66;03m#dataset_train = pyepo.data.dataset.optDataset(myModel(wind_train[0]), x_train, c_train)\u001b[39;00m\n\u001b[0;32m      5\u001b[0m \u001b[38;5;66;03m#dataset_test = pyepo.data.dataset.optDataset(myModel(wind_train[0]), x_test, c_test)\u001b[39;00m\n\u001b[1;32m----> 7\u001b[0m dataset_train \u001b[38;5;241m=\u001b[39m optDatasetParams(myModel, x_train, c_train, wind_train)\n\u001b[0;32m      8\u001b[0m dataset_test \u001b[38;5;241m=\u001b[39m optDatasetParams(myModel, x_test, c_test, wind_test)\n\u001b[0;32m     10\u001b[0m batch_size \u001b[38;5;241m=\u001b[39m \u001b[38;5;241m1\u001b[39m\n",
      "File \u001b[1;32mc:\\Users\\ande7\\anaconda3\\envs\\Pyepo\\Lib\\site-packages\\pyepo\\data\\datasetParams.py:52\u001b[0m, in \u001b[0;36moptDatasetParams.__init__\u001b[1;34m(self, model, feats, costs, wind)\u001b[0m\n\u001b[0;32m     50\u001b[0m \u001b[38;5;66;03m# find optimal solutions\u001b[39;00m\n\u001b[0;32m     51\u001b[0m \u001b[38;5;28;01mif\u001b[39;00m wind \u001b[38;5;129;01mis\u001b[39;00m \u001b[38;5;129;01mnot\u001b[39;00m \u001b[38;5;28;01mNone\u001b[39;00m:\n\u001b[1;32m---> 52\u001b[0m     \u001b[38;5;28mself\u001b[39m\u001b[38;5;241m.\u001b[39msols, \u001b[38;5;28mself\u001b[39m\u001b[38;5;241m.\u001b[39mobjs \u001b[38;5;241m=\u001b[39m \u001b[38;5;28mself\u001b[39m\u001b[38;5;241m.\u001b[39m_getSolsParams()\n\u001b[0;32m     53\u001b[0m \u001b[38;5;28;01melse\u001b[39;00m:\n\u001b[0;32m     54\u001b[0m     \u001b[38;5;28mself\u001b[39m\u001b[38;5;241m.\u001b[39msols, \u001b[38;5;28mself\u001b[39m\u001b[38;5;241m.\u001b[39mobjs \u001b[38;5;241m=\u001b[39m \u001b[38;5;28mself\u001b[39m\u001b[38;5;241m.\u001b[39m_getSols()\n",
      "File \u001b[1;32mc:\\Users\\ande7\\anaconda3\\envs\\Pyepo\\Lib\\site-packages\\pyepo\\data\\datasetParams.py:69\u001b[0m, in \u001b[0;36moptDatasetParams._getSolsParams\u001b[1;34m(self)\u001b[0m\n\u001b[0;32m     67\u001b[0m     sol, obj \u001b[38;5;241m=\u001b[39m \u001b[38;5;28mself\u001b[39m\u001b[38;5;241m.\u001b[39m_solve(c)\n\u001b[0;32m     68\u001b[0m \u001b[38;5;28;01mexcept\u001b[39;00m:\n\u001b[1;32m---> 69\u001b[0m     \u001b[38;5;28;01mraise\u001b[39;00m \u001b[38;5;167;01mValueError\u001b[39;00m(\n\u001b[0;32m     70\u001b[0m         \u001b[38;5;124m\"\u001b[39m\u001b[38;5;124mFor optModel, the method \u001b[39m\u001b[38;5;124m'\u001b[39m\u001b[38;5;124msolve\u001b[39m\u001b[38;5;124m'\u001b[39m\u001b[38;5;124m should return solution vector and objective value.\u001b[39m\u001b[38;5;124m\"\u001b[39m\n\u001b[0;32m     71\u001b[0m     )\n\u001b[0;32m     72\u001b[0m sols\u001b[38;5;241m.\u001b[39mappend(sol)\n\u001b[0;32m     73\u001b[0m objs\u001b[38;5;241m.\u001b[39mappend([obj])\n",
      "\u001b[1;31mValueError\u001b[0m: For optModel, the method 'solve' should return solution vector and objective value."
     ]
    }
   ],
   "source": [
    "# get optDataset\n",
    "from pyepo.data.datasetParams import optDatasetParams\n",
    "\n",
    "#dataset_train = pyepo.data.dataset.optDataset(myModel(wind_train[0]), x_train, c_train)\n",
    "#dataset_test = pyepo.data.dataset.optDataset(myModel(wind_train[0]), x_test, c_test)\n",
    "\n",
    "dataset_train = optDatasetParams(myModel, x_train, c_train, wind_train)\n",
    "dataset_test = optDatasetParams(myModel, x_test, c_test, wind_test)\n",
    "\n",
    "batch_size = 1\n",
    "loader_train = DataLoader(dataset_train, batch_size=batch_size, shuffle=False)\n",
    "loader_test = DataLoader(dataset_test, batch_size=batch_size, shuffle=False)"
   ]
  },
  {
   "cell_type": "markdown",
   "metadata": {},
   "source": [
    "# Training with fixed regression outputs for hydrogen and penalty costs."
   ]
  },
  {
   "cell_type": "code",
   "execution_count": null,
   "metadata": {},
   "outputs": [],
   "source": [
    "# prediction model\n",
    "from torch import nn\n",
    "class LinearRegressionCostVector(nn.Module):\n",
    "\n",
    "    def __init__(self, input_size, output_size, constant_indices, constant_values, mask):\n",
    "        super(LinearRegressionCostVector, self).__init__()\n",
    "        self.linear = nn.Linear(input_size, output_size)\n",
    "        self.constant_indices = constant_indices\n",
    "        self.constant_values = constant_values\n",
    "        self.mask = mask\n",
    "\n",
    "    def forward(self, x):\n",
    "        out = self.linear(x)\n",
    "        for i in range(len(self.constant_indices)):\n",
    "            if self.constant_indices[i] == 1:\n",
    "                if i < 24:\n",
    "                    out[:,i] = self.constant_values[0]\n",
    "                else:\n",
    "                    out[:,i] = self.constant_values[1]\n",
    "        return out\n",
    "\n",
    "# Initialize the model\n",
    "constant_indices = np.zeros(num_item)\n",
    "constant_indices[0:24] = 1\n",
    "constant_indices[num_item-24:num_item] = 1\n",
    "grad_mask = (constant_indices == 0).astype(int)\n",
    "\n",
    "reg = LinearRegressionCostVector(num_feat, num_item, constant_indices=constant_indices, constant_values=[price_H, -penalty], mask=grad_mask)"
   ]
  },
  {
   "cell_type": "code",
   "execution_count": 24,
   "metadata": {},
   "outputs": [],
   "source": [
    "from pyepo.metric.regretParams import regretParams\n",
    "#regret = regretParams(reg, myModel, loader_test, wind_test)\n",
    "\n",
    "def custom_backward(loss, model):\n",
    "    loss.backward()\n",
    "    for param in model.parameters():\n",
    "        if param.grad is not None:\n",
    "            param.grad = (param.grad.T * model.mask).T.type(torch.FloatTensor)"
   ]
  },
  {
   "cell_type": "code",
   "execution_count": null,
   "metadata": {},
   "outputs": [],
   "source": [
    "import time\n",
    "from tqdm import tqdm\n",
    "\n",
    "# train model\n",
    "def trainModel(reg, loss_function, method_name, num_epochs=20, lr=1e-2):\n",
    "    # set adam optimizer\n",
    "    optimizer = torch.optim.Adam(reg.parameters(), lr=lr)\n",
    "    # train mode\n",
    "    reg.train()\n",
    "    # init log\n",
    "    loss_log = []\n",
    "    loss_log_regret = [regretParams(reg, myModel, loader_test, wind_test)]\n",
    "    # init elpased time\n",
    "    elapsed = 0\n",
    "    for epoch in range(num_epochs):\n",
    "        # start timing\n",
    "        tick = time.time()\n",
    "        # load data\n",
    "        for i, data in enumerate(tqdm(loader_train)):\n",
    "            wind = wind_train[i]\n",
    "            opt_model = myModel(wind)\n",
    "            loss_func = loss_function(opt_model, processes=1)\n",
    "            x, c, w, z = data\n",
    "            # cuda\n",
    "            if torch.cuda.is_available():\n",
    "                x, c, w, z = x.cuda(), c.cuda(), w.cuda(), z.cuda()\n",
    "            # forward pass\n",
    "            cp = reg(x)\n",
    "            if method_name == \"spo+\":\n",
    "                loss = loss_func(cp, c, w, z)\n",
    "            if method_name in [\"ptb\", \"pfy\", \"imle\", \"nce\", \"cmap\"]:\n",
    "                loss = loss_func(cp, w)\n",
    "            if method_name in [\"dbb\", \"nid\"]:\n",
    "                loss = loss_func(cp, c, z)\n",
    "            if method_name == \"ltr\":\n",
    "                loss = loss_func(cp, c)\n",
    "            # backward pass\n",
    "            optimizer.zero_grad()\n",
    "            custom_backward(loss, reg)\n",
    "            optimizer.step()\n",
    "            # record time\n",
    "            tock = time.time()\n",
    "            elapsed += tock - tick\n",
    "            # log\n",
    "            loss_log.append(loss.item())\n",
    "        regret = regretParams(reg, myModel, loader_test, wind_test)\n",
    "        loss_log_regret.append(regret)\n",
    "        print(\"Epoch {:2},  Loss: {:9.4f},  Regret: {:7.4f}%\".format(epoch+1, loss.item(), regret*100))\n",
    "    print(\"Total Elapsed Time: {:.2f} Sec.\".format(elapsed))\n",
    "    return loss_log, loss_log_regret"
   ]
  },
  {
   "cell_type": "code",
   "execution_count": 23,
   "metadata": {},
   "outputs": [],
   "source": [
    "from matplotlib import pyplot as plt\n",
    "\n",
    "def visLearningCurve(loss_log, loss_log_regret):\n",
    "    # create figure and subplots\n",
    "    fig, (ax1, ax2) = plt.subplots(1, 2, figsize=(16,4))\n",
    "\n",
    "    # draw plot for training loss\n",
    "    ax1.plot(loss_log, color=\"c\", lw=1)\n",
    "    ax1.tick_params(axis=\"both\", which=\"major\", labelsize=12)\n",
    "    ax1.set_xlabel(\"Iters\", fontsize=16)\n",
    "    ax1.set_ylabel(\"Loss\", fontsize=16)\n",
    "    ax1.set_title(\"Learning Curve on Training Set\", fontsize=16)\n",
    "\n",
    "    # draw plot for regret on test\n",
    "    ax2.plot(loss_log_regret, color=\"royalblue\", ls=\"--\", alpha=0.7, lw=1)\n",
    "    ax2.set_xticks(range(0, len(loss_log_regret), 2))\n",
    "    ax2.tick_params(axis=\"both\", which=\"major\", labelsize=12)\n",
    "    ax2.set_ylim(0, 1)\n",
    "    ax2.set_xlabel(\"Epochs\", fontsize=16)\n",
    "    ax2.set_ylabel(\"Regret\", fontsize=16)\n",
    "    ax2.set_title(\"Learning Curve on Test Set\", fontsize=16)\n",
    "\n",
    "    plt.show()"
   ]
  },
  {
   "cell_type": "code",
   "execution_count": null,
   "metadata": {},
   "outputs": [],
   "source": [
    "import torch\n",
    "# init model\n",
    "#reg = LinearRegression()\n",
    "# cuda\n",
    "if torch.cuda.is_available():\n",
    "    reg = reg.cuda()\n",
    "# init SPO+ loss\n",
    "spop = pyepo.func.SPOPlus\n",
    "# spop = pyepo.func.SPOPlus(optmodel, processes=2)"
   ]
  },
  {
   "cell_type": "code",
   "execution_count": null,
   "metadata": {},
   "outputs": [
    {
     "name": "stderr",
     "output_type": "stream",
     "text": [
      "100%|██████████| 50/50 [00:09<00:00,  5.55it/s]\n",
      "  0%|          | 0/50 [00:00<?, ?it/s]C:\\Users\\Frede\\AppData\\Local\\Temp\\ipykernel_8500\\3410439245.py:8: UserWarning: The use of `x.T` on tensors of dimension other than 2 to reverse their shape is deprecated and it will throw an error in a future release. Consider `x.mT` to transpose batches of matrices or `x.permute(*torch.arange(x.ndim - 1, -1, -1))` to reverse the dimensions of a tensor. (Triggered internally at ..\\aten\\src\\ATen\\native\\TensorShape.cpp:3679.)\n",
      "  param.grad = (param.grad.T * model.mask).T.type(torch.FloatTensor)\n",
      "100%|██████████| 50/50 [00:09<00:00,  5.34it/s]\n",
      "100%|██████████| 50/50 [00:08<00:00,  5.81it/s]\n"
     ]
    },
    {
     "name": "stdout",
     "output_type": "stream",
     "text": [
      "Epoch  1,  Loss: 21962.5820,  Regret: 18.6432%\n"
     ]
    },
    {
     "name": "stderr",
     "output_type": "stream",
     "text": [
      "100%|██████████| 50/50 [00:09<00:00,  5.31it/s]\n",
      "100%|██████████| 50/50 [00:08<00:00,  5.79it/s]\n"
     ]
    },
    {
     "name": "stdout",
     "output_type": "stream",
     "text": [
      "Epoch  2,  Loss: 20858.7910,  Regret: 20.7233%\n"
     ]
    },
    {
     "name": "stderr",
     "output_type": "stream",
     "text": [
      "100%|██████████| 50/50 [00:09<00:00,  5.17it/s]\n",
      "100%|██████████| 50/50 [00:08<00:00,  5.89it/s]\n"
     ]
    },
    {
     "name": "stdout",
     "output_type": "stream",
     "text": [
      "Epoch  3,  Loss: 18408.9102,  Regret: 43.3761%\n"
     ]
    },
    {
     "name": "stderr",
     "output_type": "stream",
     "text": [
      "100%|██████████| 50/50 [00:10<00:00,  4.81it/s]\n",
      "100%|██████████| 50/50 [00:09<00:00,  5.32it/s]\n"
     ]
    },
    {
     "name": "stdout",
     "output_type": "stream",
     "text": [
      "Epoch  4,  Loss: 13436.7090,  Regret: 47.3286%\n"
     ]
    },
    {
     "name": "stderr",
     "output_type": "stream",
     "text": [
      "100%|██████████| 50/50 [00:11<00:00,  4.19it/s]\n",
      "100%|██████████| 50/50 [00:09<00:00,  5.06it/s]\n"
     ]
    },
    {
     "name": "stdout",
     "output_type": "stream",
     "text": [
      "Epoch  5,  Loss: 11923.6973,  Regret: 64.9291%\n"
     ]
    },
    {
     "name": "stderr",
     "output_type": "stream",
     "text": [
      "100%|██████████| 50/50 [00:10<00:00,  4.76it/s]\n",
      "100%|██████████| 50/50 [00:09<00:00,  5.21it/s]\n"
     ]
    },
    {
     "name": "stdout",
     "output_type": "stream",
     "text": [
      "Epoch  6,  Loss: 8301.2471,  Regret: 66.9053%\n"
     ]
    },
    {
     "name": "stderr",
     "output_type": "stream",
     "text": [
      "100%|██████████| 50/50 [00:10<00:00,  4.55it/s]\n",
      "100%|██████████| 50/50 [00:09<00:00,  5.07it/s]\n"
     ]
    },
    {
     "name": "stdout",
     "output_type": "stream",
     "text": [
      "Epoch  7,  Loss: 6878.0557,  Regret: 65.2661%\n"
     ]
    },
    {
     "name": "stderr",
     "output_type": "stream",
     "text": [
      "100%|██████████| 50/50 [00:10<00:00,  4.68it/s]\n",
      "100%|██████████| 50/50 [00:09<00:00,  5.52it/s]\n"
     ]
    },
    {
     "name": "stdout",
     "output_type": "stream",
     "text": [
      "Epoch  8,  Loss: 4717.0073,  Regret: 68.1235%\n"
     ]
    },
    {
     "name": "stderr",
     "output_type": "stream",
     "text": [
      "100%|██████████| 50/50 [00:10<00:00,  4.73it/s]\n",
      "100%|██████████| 50/50 [00:09<00:00,  5.53it/s]\n"
     ]
    },
    {
     "name": "stdout",
     "output_type": "stream",
     "text": [
      "Epoch  9,  Loss: 4089.5913,  Regret: 67.7689%\n"
     ]
    },
    {
     "name": "stderr",
     "output_type": "stream",
     "text": [
      "100%|██████████| 50/50 [00:10<00:00,  4.77it/s]\n",
      "100%|██████████| 50/50 [00:08<00:00,  5.61it/s]\n"
     ]
    },
    {
     "name": "stdout",
     "output_type": "stream",
     "text": [
      "Epoch 10,  Loss: 3012.8916,  Regret: 67.2469%\n"
     ]
    },
    {
     "name": "stderr",
     "output_type": "stream",
     "text": [
      "100%|██████████| 50/50 [00:11<00:00,  4.47it/s]\n",
      "100%|██████████| 50/50 [00:08<00:00,  6.00it/s]\n"
     ]
    },
    {
     "name": "stdout",
     "output_type": "stream",
     "text": [
      "Epoch 11,  Loss: 2225.3982,  Regret: 67.0751%\n"
     ]
    },
    {
     "name": "stderr",
     "output_type": "stream",
     "text": [
      "100%|██████████| 50/50 [00:09<00:00,  5.07it/s]\n",
      "100%|██████████| 50/50 [00:09<00:00,  5.55it/s]\n"
     ]
    },
    {
     "name": "stdout",
     "output_type": "stream",
     "text": [
      "Epoch 12,  Loss: 2038.2482,  Regret: 66.2378%\n"
     ]
    },
    {
     "name": "stderr",
     "output_type": "stream",
     "text": [
      "100%|██████████| 50/50 [00:09<00:00,  5.13it/s]\n",
      "100%|██████████| 50/50 [00:08<00:00,  5.74it/s]\n"
     ]
    },
    {
     "name": "stdout",
     "output_type": "stream",
     "text": [
      "Epoch 13,  Loss: 1150.3965,  Regret: 68.9976%\n"
     ]
    },
    {
     "name": "stderr",
     "output_type": "stream",
     "text": [
      "100%|██████████| 50/50 [00:10<00:00,  4.73it/s]\n",
      "100%|██████████| 50/50 [00:08<00:00,  5.85it/s]\n"
     ]
    },
    {
     "name": "stdout",
     "output_type": "stream",
     "text": [
      "Epoch 14,  Loss:  957.5940,  Regret: 66.2068%\n"
     ]
    },
    {
     "name": "stderr",
     "output_type": "stream",
     "text": [
      "100%|██████████| 50/50 [00:11<00:00,  4.42it/s]\n",
      "100%|██████████| 50/50 [00:09<00:00,  5.17it/s]\n"
     ]
    },
    {
     "name": "stdout",
     "output_type": "stream",
     "text": [
      "Epoch 15,  Loss:  920.8848,  Regret: 66.1215%\n"
     ]
    },
    {
     "name": "stderr",
     "output_type": "stream",
     "text": [
      "100%|██████████| 50/50 [00:09<00:00,  5.02it/s]\n",
      "100%|██████████| 50/50 [00:10<00:00,  4.91it/s]\n"
     ]
    },
    {
     "name": "stdout",
     "output_type": "stream",
     "text": [
      "Epoch 16,  Loss:  763.4749,  Regret: 66.9851%\n"
     ]
    },
    {
     "name": "stderr",
     "output_type": "stream",
     "text": [
      "100%|██████████| 50/50 [00:10<00:00,  4.88it/s]\n",
      "100%|██████████| 50/50 [00:09<00:00,  5.39it/s]\n"
     ]
    },
    {
     "name": "stdout",
     "output_type": "stream",
     "text": [
      "Epoch 17,  Loss: 1027.3145,  Regret: 65.6149%\n"
     ]
    },
    {
     "name": "stderr",
     "output_type": "stream",
     "text": [
      "100%|██████████| 50/50 [00:09<00:00,  5.08it/s]\n",
      "100%|██████████| 50/50 [00:08<00:00,  5.98it/s]\n"
     ]
    },
    {
     "name": "stdout",
     "output_type": "stream",
     "text": [
      "Epoch 18,  Loss: 1438.0355,  Regret: 66.1509%\n"
     ]
    },
    {
     "name": "stderr",
     "output_type": "stream",
     "text": [
      "100%|██████████| 50/50 [00:09<00:00,  5.07it/s]\n",
      "100%|██████████| 50/50 [00:08<00:00,  5.99it/s]\n"
     ]
    },
    {
     "name": "stdout",
     "output_type": "stream",
     "text": [
      "Epoch 19,  Loss: 1077.3135,  Regret: 65.6259%\n"
     ]
    },
    {
     "name": "stderr",
     "output_type": "stream",
     "text": [
      "100%|██████████| 50/50 [00:09<00:00,  5.10it/s]\n",
      "100%|██████████| 50/50 [00:08<00:00,  5.86it/s]"
     ]
    },
    {
     "name": "stdout",
     "output_type": "stream",
     "text": [
      "Epoch 20,  Loss:  725.3096,  Regret: 65.7945%\n",
      "Total Elapsed Time: 5227.61 Sec.\n"
     ]
    },
    {
     "name": "stderr",
     "output_type": "stream",
     "text": [
      "\n"
     ]
    }
   ],
   "source": [
    "loss_log, loss_log_regret = trainModel(reg, loss_function=spop, method_name=\"spo+\")"
   ]
  },
  {
   "cell_type": "code",
   "execution_count": null,
   "metadata": {},
   "outputs": [
    {
     "data": {
      "text/plain": [
       "[0.431160161814534,\n",
       " 0.3357062588386604,\n",
       " 0.43746250333649733,\n",
       " 0.4827612970862749,\n",
       " 0.49337293811682836,\n",
       " 0.5102678374796383,\n",
       " 0.5208611726278124,\n",
       " 0.5237478721281125,\n",
       " 0.5306082157524696,\n",
       " 0.5181097178151353,\n",
       " 0.5264264219434299,\n",
       " 0.5236979828756377,\n",
       " 0.511140181392179,\n",
       " 0.5173635042441425,\n",
       " 0.5127959052404437,\n",
       " 0.5128035989331803,\n",
       " 0.5145383012145396,\n",
       " 0.5135478769698005,\n",
       " 0.5087120412045422,\n",
       " 0.5144781035719611,\n",
       " 0.5081257758977854]"
      ]
     },
     "execution_count": 70,
     "metadata": {},
     "output_type": "execute_result"
    }
   ],
   "source": [
    "loss_log_regret"
   ]
  },
  {
   "cell_type": "code",
   "execution_count": null,
   "metadata": {},
   "outputs": [
    {
     "data": {
      "image/png": "[encoded data removed]",
      "text/plain": [
       "<Figure size 1600x400 with 2 Axes>"
      ]
     },
     "metadata": {},
     "output_type": "display_data"
    }
   ],
   "source": [
    "visLearningCurve(loss_log, loss_log_regret)"
   ]
  },
  {
   "cell_type": "markdown",
   "metadata": {},
   "source": [
    "# Training without fixing regression model output for hydrogen and penalty\n"
   ]
  },
  {
   "cell_type": "code",
   "execution_count": null,
   "metadata": {},
   "outputs": [],
   "source": [
    "# prediction model\n",
    "class LinearRegression(nn.Module):\n",
    "\n",
    "    def __init__(self, input_size, output_size):\n",
    "        super(LinearRegression, self).__init__()\n",
    "        #self.linear = nn.Linear(num_feat, num_item)\n",
    "        self.linear = nn.Sequential( \n",
    "            nn.Linear(input_size, 100),\n",
    "            nn.Dropout(0.5),\n",
    "            nn.ReLU(),\n",
    "            nn.Linear(100, 100),\n",
    "            nn.ReLU(),\n",
    "            nn.Linear(100, output_size)\n",
    "        )\n",
    "\n",
    "    def forward(self, x):\n",
    "        out = self.linear(x)\n",
    "        return out\n",
    "\n",
    "reg = LinearRegression(num_feat, num_item)"
   ]
  },
  {
   "cell_type": "code",
   "execution_count": null,
   "metadata": {},
   "outputs": [],
   "source": [
    "from pyepo.metric.regretParams import regretParams\n",
    "#regret = regretParams(reg, myModel, loader_test, wind_test)"
   ]
  },
  {
   "cell_type": "code",
   "execution_count": null,
   "metadata": {},
   "outputs": [],
   "source": [
    "import time\n",
    "from tqdm import tqdm\n",
    "\n",
    "# train model\n",
    "def trainModel(reg, loss_function, method_name, num_epochs=20, lr=1e-2):\n",
    "    # set adam optimizer\n",
    "    \n",
    "    optimizer = torch.optim.Adam(reg.parameters(), lr=lr)\n",
    "    lr_scheduler = torch.optim.lr_scheduler.ExponentialLR(optimizer, gamma = 0.98)\n",
    "    # train mode\n",
    "    reg.train()\n",
    "    # init log\n",
    "    loss_log = []\n",
    "    loss_log_regret = [regretParams(reg, myModel, loader_test, wind_test)]\n",
    "    # init elpased time\n",
    "    elapsed = 0\n",
    "    for epoch in range(num_epochs):\n",
    "        # start timing\n",
    "        tick = time.time()\n",
    "        # load data\n",
    "        for i, data in enumerate(tqdm(loader_train)):\n",
    "            wind = wind_train[i]\n",
    "            opt_model = myModel(wind)\n",
    "            loss_func = loss_function(opt_model, processes=1)\n",
    "            x, c, w, z = data\n",
    "            # cuda\n",
    "            if torch.cuda.is_available():\n",
    "                x, c, w, z = x.cuda(), c.cuda(), w.cuda(), z.cuda()\n",
    "            # forward pass\n",
    "            cp = reg(x)\n",
    "            if method_name == \"spo+\":\n",
    "                loss = loss_func(cp, c, w, z)\n",
    "            if method_name in [\"ptb\", \"pfy\", \"imle\", \"nce\", \"cmap\"]:\n",
    "                loss = loss_func(cp, w)\n",
    "            if method_name in [\"dbb\", \"nid\"]:\n",
    "                loss = loss_func(cp, c, z)\n",
    "            if method_name == \"ltr\":\n",
    "                loss = loss_func(cp, c)\n",
    "            # backward pass\n",
    "            optimizer.zero_grad()\n",
    "            loss.backward()\n",
    "            optimizer.step()\n",
    "            # record time\n",
    "            tock = time.time()\n",
    "            elapsed += tock - tick\n",
    "            # log\n",
    "            loss_log.append(loss.item())\n",
    "        lr_scheduler.step()\n",
    "        regret = regretParams(reg, myModel, loader_test, wind_test)\n",
    "        loss_log_regret.append(regret)\n",
    "        print(\"Epoch {:2},  Loss: {:9.4f},  Regret: {:7.4f}%\".format(epoch+1, loss.item(), regret*100))\n",
    "    print(\"Total Elapsed Time: {:.2f} Sec.\".format(elapsed))\n",
    "    return loss_log, loss_log_regret"
   ]
  },
  {
   "cell_type": "code",
   "execution_count": null,
   "metadata": {},
   "outputs": [],
   "source": [
    "import torch\n",
    "# init model\n",
    "reg = LinearRegression()\n",
    "# cuda\n",
    "if torch.cuda.is_available():\n",
    "    reg = reg.cuda()\n",
    "# init SPO+ loss\n",
    "spop = pyepo.func.SPOPlus\n",
    "# spop = pyepo.func.SPOPlus(optmodel, processes=2)"
   ]
  },
  {
   "cell_type": "code",
   "execution_count": null,
   "metadata": {},
   "outputs": [
    {
     "name": "stderr",
     "output_type": "stream",
     "text": [
      "100%|██████████| 50/50 [00:11<00:00,  4.47it/s]\n",
      "100%|██████████| 50/50 [00:13<00:00,  3.72it/s]\n",
      "100%|██████████| 50/50 [00:10<00:00,  4.72it/s]\n"
     ]
    },
    {
     "name": "stdout",
     "output_type": "stream",
     "text": [
      "Epoch  1,  Loss: 5527.8027,  Regret:  5.8345%\n"
     ]
    },
    {
     "name": "stderr",
     "output_type": "stream",
     "text": [
      "100%|██████████| 50/50 [00:13<00:00,  3.69it/s]\n",
      "100%|██████████| 50/50 [00:15<00:00,  3.19it/s]\n"
     ]
    },
    {
     "name": "stdout",
     "output_type": "stream",
     "text": [
      "Epoch  2,  Loss: 5935.5898,  Regret:  8.2725%\n"
     ]
    },
    {
     "name": "stderr",
     "output_type": "stream",
     "text": [
      "100%|██████████| 50/50 [00:14<00:00,  3.43it/s]\n",
      "100%|██████████| 50/50 [00:09<00:00,  5.06it/s]\n"
     ]
    },
    {
     "name": "stdout",
     "output_type": "stream",
     "text": [
      "Epoch  3,  Loss: 3289.2344,  Regret:  5.8869%\n"
     ]
    },
    {
     "name": "stderr",
     "output_type": "stream",
     "text": [
      "100%|██████████| 50/50 [00:10<00:00,  4.90it/s]\n",
      "100%|██████████| 50/50 [00:09<00:00,  5.52it/s]\n"
     ]
    },
    {
     "name": "stdout",
     "output_type": "stream",
     "text": [
      "Epoch  4,  Loss: 3475.5535,  Regret:  6.2483%\n"
     ]
    },
    {
     "name": "stderr",
     "output_type": "stream",
     "text": [
      "100%|██████████| 50/50 [00:16<00:00,  3.10it/s]\n",
      "100%|██████████| 50/50 [00:12<00:00,  3.92it/s]\n"
     ]
    },
    {
     "name": "stdout",
     "output_type": "stream",
     "text": [
      "Epoch  5,  Loss: 2333.8855,  Regret:  9.1146%\n"
     ]
    },
    {
     "name": "stderr",
     "output_type": "stream",
     "text": [
      "100%|██████████| 50/50 [00:10<00:00,  4.96it/s]\n",
      "100%|██████████| 50/50 [00:12<00:00,  4.02it/s]\n"
     ]
    },
    {
     "name": "stdout",
     "output_type": "stream",
     "text": [
      "Epoch  6,  Loss: 5472.0020,  Regret:  5.5254%\n"
     ]
    },
    {
     "name": "stderr",
     "output_type": "stream",
     "text": [
      "100%|██████████| 50/50 [00:18<00:00,  2.74it/s]\n",
      "100%|██████████| 50/50 [00:12<00:00,  3.90it/s]\n"
     ]
    },
    {
     "name": "stdout",
     "output_type": "stream",
     "text": [
      "Epoch  7,  Loss: 3340.9192,  Regret:  7.5809%\n"
     ]
    },
    {
     "name": "stderr",
     "output_type": "stream",
     "text": [
      "100%|██████████| 50/50 [00:12<00:00,  4.12it/s]\n",
      "100%|██████████| 50/50 [00:09<00:00,  5.55it/s]\n"
     ]
    },
    {
     "name": "stdout",
     "output_type": "stream",
     "text": [
      "Epoch  8,  Loss: 2723.5771,  Regret:  7.0122%\n"
     ]
    },
    {
     "name": "stderr",
     "output_type": "stream",
     "text": [
      "100%|██████████| 50/50 [00:10<00:00,  4.70it/s]\n",
      "100%|██████████| 50/50 [00:09<00:00,  5.48it/s]\n"
     ]
    },
    {
     "name": "stdout",
     "output_type": "stream",
     "text": [
      "Epoch  9,  Loss: 2540.3765,  Regret:  8.1016%\n"
     ]
    },
    {
     "name": "stderr",
     "output_type": "stream",
     "text": [
      "100%|██████████| 50/50 [00:10<00:00,  4.60it/s]\n",
      "100%|██████████| 50/50 [00:09<00:00,  5.44it/s]\n"
     ]
    },
    {
     "name": "stdout",
     "output_type": "stream",
     "text": [
      "Epoch 10,  Loss: 2941.0417,  Regret:  8.7097%\n"
     ]
    },
    {
     "name": "stderr",
     "output_type": "stream",
     "text": [
      "100%|██████████| 50/50 [00:10<00:00,  4.61it/s]\n",
      "100%|██████████| 50/50 [00:09<00:00,  5.29it/s]\n"
     ]
    },
    {
     "name": "stdout",
     "output_type": "stream",
     "text": [
      "Epoch 11,  Loss: 2673.4783,  Regret: 11.5251%\n"
     ]
    },
    {
     "name": "stderr",
     "output_type": "stream",
     "text": [
      "100%|██████████| 50/50 [00:11<00:00,  4.50it/s]\n",
      "100%|██████████| 50/50 [00:11<00:00,  4.28it/s]\n"
     ]
    },
    {
     "name": "stdout",
     "output_type": "stream",
     "text": [
      "Epoch 12,  Loss: 1908.4738,  Regret:  6.4483%\n"
     ]
    },
    {
     "name": "stderr",
     "output_type": "stream",
     "text": [
      "100%|██████████| 50/50 [00:11<00:00,  4.23it/s]\n",
      "100%|██████████| 50/50 [00:09<00:00,  5.07it/s]\n"
     ]
    },
    {
     "name": "stdout",
     "output_type": "stream",
     "text": [
      "Epoch 13,  Loss: 2280.7246,  Regret:  5.8282%\n"
     ]
    },
    {
     "name": "stderr",
     "output_type": "stream",
     "text": [
      "100%|██████████| 50/50 [00:12<00:00,  4.06it/s]\n",
      "100%|██████████| 50/50 [00:11<00:00,  4.25it/s]\n"
     ]
    },
    {
     "name": "stdout",
     "output_type": "stream",
     "text": [
      "Epoch 14,  Loss: 2909.9565,  Regret:  5.5211%\n"
     ]
    },
    {
     "name": "stderr",
     "output_type": "stream",
     "text": [
      "100%|██████████| 50/50 [00:17<00:00,  2.82it/s]\n",
      "100%|██████████| 50/50 [00:15<00:00,  3.21it/s]\n"
     ]
    },
    {
     "name": "stdout",
     "output_type": "stream",
     "text": [
      "Epoch 15,  Loss: 3192.3013,  Regret:  6.2752%\n"
     ]
    },
    {
     "name": "stderr",
     "output_type": "stream",
     "text": [
      "100%|██████████| 50/50 [00:16<00:00,  3.11it/s]\n",
      "100%|██████████| 50/50 [00:11<00:00,  4.50it/s]\n"
     ]
    },
    {
     "name": "stdout",
     "output_type": "stream",
     "text": [
      "Epoch 16,  Loss: 2990.0073,  Regret:  6.1019%\n"
     ]
    },
    {
     "name": "stderr",
     "output_type": "stream",
     "text": [
      "100%|██████████| 50/50 [00:13<00:00,  3.75it/s]\n",
      "100%|██████████| 50/50 [00:09<00:00,  5.09it/s]\n"
     ]
    },
    {
     "name": "stdout",
     "output_type": "stream",
     "text": [
      "Epoch 17,  Loss: 1706.5533,  Regret:  7.6812%\n"
     ]
    },
    {
     "name": "stderr",
     "output_type": "stream",
     "text": [
      "100%|██████████| 50/50 [00:10<00:00,  4.65it/s]\n",
      "100%|██████████| 50/50 [00:09<00:00,  5.40it/s]\n"
     ]
    },
    {
     "name": "stdout",
     "output_type": "stream",
     "text": [
      "Epoch 18,  Loss: 3481.8940,  Regret:  5.5254%\n"
     ]
    },
    {
     "name": "stderr",
     "output_type": "stream",
     "text": [
      "100%|██████████| 50/50 [00:10<00:00,  4.60it/s]\n",
      "100%|██████████| 50/50 [00:09<00:00,  5.42it/s]\n"
     ]
    },
    {
     "name": "stdout",
     "output_type": "stream",
     "text": [
      "Epoch 19,  Loss: 2033.1821,  Regret:  5.6383%\n"
     ]
    },
    {
     "name": "stderr",
     "output_type": "stream",
     "text": [
      "100%|██████████| 50/50 [00:11<00:00,  4.28it/s]\n",
      "100%|██████████| 50/50 [00:11<00:00,  4.33it/s]"
     ]
    },
    {
     "name": "stdout",
     "output_type": "stream",
     "text": [
      "Epoch 20,  Loss: 2203.3367,  Regret:  5.9590%\n",
      "Total Elapsed Time: 6539.34 Sec.\n"
     ]
    },
    {
     "name": "stderr",
     "output_type": "stream",
     "text": [
      "\n"
     ]
    }
   ],
   "source": [
    "loss_log, loss_log_regret = trainModel(reg, loss_function=spop, method_name=\"spo+\")"
   ]
  },
  {
   "cell_type": "code",
   "execution_count": null,
   "metadata": {},
   "outputs": [
    {
     "data": {
      "image/png": "[encoded data removed]",
      "text/plain": [
       "<Figure size 1600x400 with 2 Axes>"
      ]
     },
     "metadata": {},
     "output_type": "display_data"
    }
   ],
   "source": [
    "visLearningCurve(loss_log, loss_log_regret) # 50% dropout rate - gamma = 0.98"
   ]
  },
  {
   "cell_type": "code",
   "execution_count": 9,
   "metadata": {},
   "outputs": [],
   "source": [
    "#visLearningCurve(loss_log, loss_log_regret) # 20% dropout rate - gamma = 0.98"
   ]
  },
  {
   "cell_type": "code",
   "execution_count": 10,
   "metadata": {},
   "outputs": [],
   "source": [
    "#visLearningCurve(loss_log, loss_log_regret) # No dropout rate - no exponential learning rate"
   ]
  },
  {
   "cell_type": "markdown",
   "metadata": {},
   "source": [
    "# Real intertemporal model"
   ]
  },
  {
   "cell_type": "code",
   "execution_count": 22,
   "metadata": {},
   "outputs": [],
   "source": [
    "num_feat = n_periods*6 # size of feature\n",
    "num_item = 4*24 # number of predictions (Forward bid and Hydrogen)\n",
    "c_train = np.asarray([flatten_extend([lambda_H_list, prices_F[d: d+n_periods], -prices_UP[d: d+n_periods], prices_DW[d: d+n_periods]]) for d in range(int(n_hours/n_periods))])\n",
    "c_test = np.asarray([flatten_extend([lambda_H_list, prices_F[d: d+n_periods], -prices_UP[d: d+n_periods], prices_DW[d: d+n_periods]]) for d in range(int(n_hours/n_periods), int(2*n_hours/n_periods))])\n"
   ]
  },
  {
   "cell_type": "code",
   "execution_count": 12,
   "metadata": {},
   "outputs": [],
   "source": [
    "\n",
    "# optimization model\n",
    "class hydrogenPlanning(optGrbModel):\n",
    "    def __init__(self, realized, *args, **kwargs):        \n",
    "        #Fixed parameters\n",
    "        self.max_elec = 10\n",
    "        self.max_wind = 10\n",
    "        self.nominal_wind = 10\n",
    "        self.min_production = 50\n",
    "        self.periods = np.arange(len(realized))\n",
    "        self.E_real = realized\n",
    "        super().__init__()\n",
    "\n",
    "    def _getModel(self):\n",
    "\n",
    "        initial_plan = Model(\"Gurobi.Optimizer\")\n",
    "\n",
    "        # Definition of variables\n",
    "        x = initial_plan.addMVar((4,len(self.periods)), name=\"x\")\n",
    "        \"\"\"\n",
    "        hydrogen_plan = initial_plan.addVars(self.periods, name=\"p_H\", lb=0)\n",
    "        forward_bid = initial_plan.addVars(self.periods, name=\"p_F\")\n",
    "        p_UP = initial_plan.addVars(self.periods, name=\"p_UP\", lb=0)\n",
    "        p_DW = initial_plan.addVars(self.periods, name=\"p_DW\", lb=0)\n",
    "        \"\"\"\n",
    "\n",
    "        # Objective: Maximize profit\n",
    "        initial_plan.modelSense = GRB.MAXIMIZE\n",
    "        #initial_plan.setObjective(\n",
    "        #    quicksum(\n",
    "        #        lambda_F[t] * p_F[t] +\n",
    "        #        lambda_H * hydrogen[t] +\n",
    "        #        lambda_DW[t] * E_DW[t] -\n",
    "        #        lambda_UP[t] * E_UP[t]\n",
    "        #        for t in periods\n",
    "        #    ), GRB.MAXIMIZE\n",
    "        #)\n",
    "\n",
    "        # Constraints\n",
    "        # Max capacity\n",
    "        initial_plan.addConstr(self.min_production <= gp.quicksum(x[0,t] for t in self.periods), name=\"min_hydrogen_production\")\n",
    "        for t in self.periods:\n",
    "            \"\"\"\n",
    "            initial_plan.addConstr(forward_bid[t] <= self.max_wind, name=f\"wind_capacity_up_{t}\")\n",
    "            initial_plan.addConstr(forward_bid[t] >= -self.max_elec, name=f\"wind_capacity_dw_{t}\")\n",
    "            initial_plan.addConstr(hydrogen_plan[t] <= self.max_elec, name=f\"elec_capacity_{t}\")\n",
    "            initial_plan.addConstr(self.E_real[t] - hydrogen_plan[t] - forward_bid[t] == p_UP[t] - p_DW[t], name=f\"balancing_{t}\")\n",
    "            initial_plan.addConstr(hydrogen_plan[t] + self.min_production/len(self.periods) - p_slack[t] <= 0, name=f\"slack_{t}\")\n",
    "            \"\"\"\n",
    "            initial_plan.addConstr(x[0,t] >= 0, name=f\"elec_capacity_lb_{t}\")\n",
    "            initial_plan.addConstr(x[0,t] <= self.max_elec, name=f\"elec_capacity_ub_{t}\")\n",
    "            initial_plan.addConstr(x[1,t] >= -self.max_elec, name=f\"wind_capacity_lb_{t}\")\n",
    "            initial_plan.addConstr(x[1,t] <= self.max_wind, name=f\"wind_capacity_ub_{t}\")\n",
    "            initial_plan.addConstr(x[2,t] >= 0, name=f\"up_regulation_lb_{t}\")\n",
    "            initial_plan.addConstr(x[2,t] <= 10*self.max_wind, name=f\"up_regulation_ub_{t}\")\n",
    "            initial_plan.addConstr(x[3,t] >= 0, name=f\"dw_regulation_lb_{t}\")\n",
    "            initial_plan.addConstr(x[3,t] <= 10*self.max_wind, name=f\"dw_regulation_ub_{t}\")\n",
    "            initial_plan.addConstr(self.E_real[t] - x[0,t] - x[1,t] == -x[2,t] + x[3,t], name=f\"balancing_{t}\")\n",
    "            #initial_plan.addConstr(-x[0,t] + self.min_production/len(self.periods) - x[4,t] <= 0, name=f\"slack_{t}\")\n",
    "\n",
    "        # Finalizing model setup\n",
    "        #initial_plan.update()\n",
    "        #print(type(hydrogen_plan))\n",
    "        #x = dict(hydrogen_plan).update(dict(forward_bid)).update(dict(p_UP)).update(dict(p_DW)).update(dict(p_slack))\n",
    "        #print(hydrogen_plan, forward_bid, p_UP, p_DW, p_slack)\n",
    "        #x = initial_plan.getVars()\n",
    "        #x = dict(zip([v.varName for v in x], x))\n",
    "        \n",
    "        return initial_plan, x"
   ]
  },
  {
   "cell_type": "code",
   "execution_count": 13,
   "metadata": {},
   "outputs": [
    {
     "name": "stdout",
     "output_type": "stream",
     "text": [
      "Optimizing for optDataset...\n"
     ]
    },
    {
     "name": "stderr",
     "output_type": "stream",
     "text": [
      "  0%|          | 0/50 [00:00<?, ?it/s]\n"
     ]
    },
    {
     "ename": "ValueError",
     "evalue": "For optModel, the method 'solve' should return solution vector and objective value.",
     "output_type": "error",
     "traceback": [
      "\u001b[1;31m---------------------------------------------------------------------------\u001b[0m",
      "\u001b[1;31mValueError\u001b[0m                                Traceback (most recent call last)",
      "File \u001b[1;32mc:\\Users\\ande7\\anaconda3\\envs\\Pyepo\\Lib\\site-packages\\pyepo\\data\\datasetParams.py:67\u001b[0m, in \u001b[0;36moptDatasetParams._getSolsParams\u001b[1;34m(self)\u001b[0m\n\u001b[0;32m     66\u001b[0m     \u001b[38;5;28mself\u001b[39m\u001b[38;5;241m.\u001b[39mmodel \u001b[38;5;241m=\u001b[39m \u001b[38;5;28mself\u001b[39m\u001b[38;5;241m.\u001b[39mmodel_type(\u001b[38;5;28mself\u001b[39m\u001b[38;5;241m.\u001b[39mparams[ix])\n\u001b[1;32m---> 67\u001b[0m     sol, obj \u001b[38;5;241m=\u001b[39m \u001b[38;5;28mself\u001b[39m\u001b[38;5;241m.\u001b[39m_solve(c)\n\u001b[0;32m     68\u001b[0m \u001b[38;5;28;01mexcept\u001b[39;00m:\n",
      "File \u001b[1;32mc:\\Users\\ande7\\anaconda3\\envs\\Pyepo\\Lib\\site-packages\\pyepo\\data\\datasetParams.py:105\u001b[0m, in \u001b[0;36moptDatasetParams._solve\u001b[1;34m(self, cost)\u001b[0m\n\u001b[0;32m     96\u001b[0m \u001b[38;5;250m\u001b[39m\u001b[38;5;124;03m\"\"\"\u001b[39;00m\n\u001b[0;32m     97\u001b[0m \u001b[38;5;124;03mA method to solve optimization problem to get an optimal solution with given cost\u001b[39;00m\n\u001b[0;32m     98\u001b[0m \n\u001b[1;32m   (...)\u001b[0m\n\u001b[0;32m    103\u001b[0m \u001b[38;5;124;03m    tuple: optimal solution (np.ndarray) and objective value (float)\u001b[39;00m\n\u001b[0;32m    104\u001b[0m \u001b[38;5;124;03m\"\"\"\u001b[39;00m\n\u001b[1;32m--> 105\u001b[0m \u001b[38;5;28mself\u001b[39m\u001b[38;5;241m.\u001b[39mmodel\u001b[38;5;241m.\u001b[39msetObj(cost)\n\u001b[0;32m    106\u001b[0m sol, obj \u001b[38;5;241m=\u001b[39m \u001b[38;5;28mself\u001b[39m\u001b[38;5;241m.\u001b[39mmodel\u001b[38;5;241m.\u001b[39msolve()\n",
      "File \u001b[1;32mc:\\Users\\ande7\\anaconda3\\envs\\Pyepo\\Lib\\site-packages\\pyepo\\model\\grb\\grbmodel.py:57\u001b[0m, in \u001b[0;36moptGrbModel.setObj\u001b[1;34m(self, c)\u001b[0m\n\u001b[0;32m     56\u001b[0m \u001b[38;5;28;01mif\u001b[39;00m \u001b[38;5;28misinstance\u001b[39m(\u001b[38;5;28mself\u001b[39m\u001b[38;5;241m.\u001b[39mx, gp\u001b[38;5;241m.\u001b[39mMVar):\n\u001b[1;32m---> 57\u001b[0m     obj \u001b[38;5;241m=\u001b[39m np\u001b[38;5;241m.\u001b[39marray(c) \u001b[38;5;241m@\u001b[39m \u001b[38;5;28mself\u001b[39m\u001b[38;5;241m.\u001b[39mx\n\u001b[0;32m     58\u001b[0m \u001b[38;5;66;03m# vars\u001b[39;00m\n\u001b[0;32m     59\u001b[0m \u001b[38;5;28;01melse\u001b[39;00m:\n",
      "File \u001b[1;32msrc\\\\gurobipy\\\\mvar.pxi:393\u001b[0m, in \u001b[0;36mgurobipy.MVar.__rmatmul__\u001b[1;34m()\u001b[0m\n",
      "File \u001b[1;32msrc\\\\gurobipy\\\\mlinexpr.pxi:325\u001b[0m, in \u001b[0;36mgurobipy.MLinExpr._from_matmul_right\u001b[1;34m()\u001b[0m\n",
      "File \u001b[1;32msrc\\\\gurobipy\\\\util.pxi:83\u001b[0m, in \u001b[0;36mgurobipy._matmul_shape\u001b[1;34m()\u001b[0m\n",
      "\u001b[1;31mValueError\u001b[0m: Mismatching inner dimensions 96 vs. 4",
      "\nDuring handling of the above exception, another exception occurred:\n",
      "\u001b[1;31mValueError\u001b[0m                                Traceback (most recent call last)",
      "Cell \u001b[1;32mIn[13], line 2\u001b[0m\n\u001b[0;32m      1\u001b[0m \u001b[38;5;28;01mfrom\u001b[39;00m \u001b[38;5;21;01mpyepo\u001b[39;00m\u001b[38;5;21;01m.\u001b[39;00m\u001b[38;5;21;01mdata\u001b[39;00m\u001b[38;5;21;01m.\u001b[39;00m\u001b[38;5;21;01mdatasetParams\u001b[39;00m \u001b[38;5;28;01mimport\u001b[39;00m optDatasetParams\n\u001b[1;32m----> 2\u001b[0m dataset_train \u001b[38;5;241m=\u001b[39m optDatasetParams(hydrogenPlanning, x_train, c_train, wind_train)\n\u001b[0;32m      3\u001b[0m dataset_test \u001b[38;5;241m=\u001b[39m optDatasetParams(hydrogenPlanning, x_test, c_test, wind_test)\n\u001b[0;32m      5\u001b[0m batch_size \u001b[38;5;241m=\u001b[39m \u001b[38;5;241m1\u001b[39m\n",
      "File \u001b[1;32mc:\\Users\\ande7\\anaconda3\\envs\\Pyepo\\Lib\\site-packages\\pyepo\\data\\datasetParams.py:52\u001b[0m, in \u001b[0;36moptDatasetParams.__init__\u001b[1;34m(self, model, feats, costs, wind)\u001b[0m\n\u001b[0;32m     50\u001b[0m \u001b[38;5;66;03m# find optimal solutions\u001b[39;00m\n\u001b[0;32m     51\u001b[0m \u001b[38;5;28;01mif\u001b[39;00m wind \u001b[38;5;129;01mis\u001b[39;00m \u001b[38;5;129;01mnot\u001b[39;00m \u001b[38;5;28;01mNone\u001b[39;00m:\n\u001b[1;32m---> 52\u001b[0m     \u001b[38;5;28mself\u001b[39m\u001b[38;5;241m.\u001b[39msols, \u001b[38;5;28mself\u001b[39m\u001b[38;5;241m.\u001b[39mobjs \u001b[38;5;241m=\u001b[39m \u001b[38;5;28mself\u001b[39m\u001b[38;5;241m.\u001b[39m_getSolsParams()\n\u001b[0;32m     53\u001b[0m \u001b[38;5;28;01melse\u001b[39;00m:\n\u001b[0;32m     54\u001b[0m     \u001b[38;5;28mself\u001b[39m\u001b[38;5;241m.\u001b[39msols, \u001b[38;5;28mself\u001b[39m\u001b[38;5;241m.\u001b[39mobjs \u001b[38;5;241m=\u001b[39m \u001b[38;5;28mself\u001b[39m\u001b[38;5;241m.\u001b[39m_getSols()\n",
      "File \u001b[1;32mc:\\Users\\ande7\\anaconda3\\envs\\Pyepo\\Lib\\site-packages\\pyepo\\data\\datasetParams.py:69\u001b[0m, in \u001b[0;36moptDatasetParams._getSolsParams\u001b[1;34m(self)\u001b[0m\n\u001b[0;32m     67\u001b[0m     sol, obj \u001b[38;5;241m=\u001b[39m \u001b[38;5;28mself\u001b[39m\u001b[38;5;241m.\u001b[39m_solve(c)\n\u001b[0;32m     68\u001b[0m \u001b[38;5;28;01mexcept\u001b[39;00m:\n\u001b[1;32m---> 69\u001b[0m     \u001b[38;5;28;01mraise\u001b[39;00m \u001b[38;5;167;01mValueError\u001b[39;00m(\n\u001b[0;32m     70\u001b[0m         \u001b[38;5;124m\"\u001b[39m\u001b[38;5;124mFor optModel, the method \u001b[39m\u001b[38;5;124m'\u001b[39m\u001b[38;5;124msolve\u001b[39m\u001b[38;5;124m'\u001b[39m\u001b[38;5;124m should return solution vector and objective value.\u001b[39m\u001b[38;5;124m\"\u001b[39m\n\u001b[0;32m     71\u001b[0m     )\n\u001b[0;32m     72\u001b[0m sols\u001b[38;5;241m.\u001b[39mappend(sol)\n\u001b[0;32m     73\u001b[0m objs\u001b[38;5;241m.\u001b[39mappend([obj])\n",
      "\u001b[1;31mValueError\u001b[0m: For optModel, the method 'solve' should return solution vector and objective value."
     ]
    }
   ],
   "source": [
    "from pyepo.data.datasetParams import optDatasetParams\n",
    "dataset_train = optDatasetParams(hydrogenPlanning, x_train, c_train, wind_train)\n",
    "dataset_test = optDatasetParams(hydrogenPlanning, x_test, c_test, wind_test)\n",
    "\n",
    "batch_size = 1\n",
    "loader_train = DataLoader(dataset_train, batch_size=batch_size, shuffle=False)\n",
    "loader_test = DataLoader(dataset_test, batch_size=batch_size, shuffle=False)"
   ]
  },
  {
   "cell_type": "code",
   "execution_count": 19,
   "metadata": {},
   "outputs": [],
   "source": [
    "# prediction model\n",
    "class LinearRegression(nn.Module):\n",
    "\n",
    "    def __init__(self, input_size, output_size):\n",
    "        super(LinearRegression, self).__init__()\n",
    "        #self.linear = nn.Linear(num_feat, num_item)\n",
    "        self.linear = nn.Sequential( \n",
    "            nn.Linear(input_size, 100),\n",
    "            nn.Dropout(0.5),\n",
    "            nn.ReLU(),\n",
    "            nn.Linear(100, 100),\n",
    "            nn.ReLU(),\n",
    "            nn.Linear(100, output_size)\n",
    "        )\n",
    "\n",
    "    def forward(self, x):\n",
    "        out = self.linear(x)\n",
    "        return out\n",
    "\n",
    "reg = LinearRegression(num_feat, num_item)\n",
    "\n",
    "# cuda\n",
    "if torch.cuda.is_available():\n",
    "    reg = reg.cuda()\n",
    "# init SPO+ loss\n",
    "spop = pyepo.func.SPOPlus"
   ]
  },
  {
   "cell_type": "code",
   "execution_count": 20,
   "metadata": {},
   "outputs": [],
   "source": [
    "import time\n",
    "from tqdm import tqdm\n",
    "from pyepo.metric.regretParams import regretParams\n",
    "\n",
    "# train model\n",
    "def trainModel(reg, loss_function, method_name, num_epochs=20, lr=1e-2):\n",
    "    # set adam optimizer\n",
    "    \n",
    "    optimizer = torch.optim.Adam(reg.parameters(), lr=lr)\n",
    "    lr_scheduler = torch.optim.lr_scheduler.ExponentialLR(optimizer, gamma = 0.98)\n",
    "    # train mode\n",
    "    reg.train()\n",
    "    # init log\n",
    "    loss_log = []\n",
    "    loss_log_regret = [regretParams(reg, hydrogenPlanning, loader_test, wind_test)]\n",
    "    # init elpased time\n",
    "    elapsed = 0\n",
    "    for epoch in range(num_epochs):\n",
    "        # start timing\n",
    "        tick = time.time()\n",
    "        # load data\n",
    "        for i, data in enumerate(tqdm(loader_train)):\n",
    "            wind = wind_train[i]\n",
    "            opt_model = hydrogenPlanning(wind)\n",
    "            loss_func = loss_function(opt_model, processes=1)\n",
    "            x, c, w, z = data\n",
    "            # cuda\n",
    "            if torch.cuda.is_available():\n",
    "                x, c, w, z = x.cuda(), c.cuda(), w.cuda(), z.cuda()\n",
    "            # forward pass\n",
    "            cp = reg(x)\n",
    "            if method_name == \"spo+\":\n",
    "                loss = loss_func(cp, c, w, z)\n",
    "            if method_name in [\"ptb\", \"pfy\", \"imle\", \"nce\", \"cmap\"]:\n",
    "                loss = loss_func(cp, w)\n",
    "            if method_name in [\"dbb\", \"nid\"]:\n",
    "                loss = loss_func(cp, c, z)\n",
    "            if method_name == \"ltr\":\n",
    "                loss = loss_func(cp, c)\n",
    "            # backward pass\n",
    "            optimizer.zero_grad()\n",
    "            loss.backward()\n",
    "            optimizer.step()\n",
    "            # record time\n",
    "            tock = time.time()\n",
    "            elapsed += tock - tick\n",
    "            # log\n",
    "            loss_log.append(loss.item())\n",
    "        lr_scheduler.step()\n",
    "        regret = regretParams(reg, hydrogenPlanning, loader_test, wind_test)\n",
    "        loss_log_regret.append(regret)\n",
    "        print(\"Epoch {:2},  Loss: {:9.4f},  Regret: {:7.4f}%\".format(epoch+1, loss.item(), regret*100))\n",
    "    print(\"Total Elapsed Time: {:.2f} Sec.\".format(elapsed))\n",
    "    return loss_log, loss_log_regret"
   ]
  },
  {
   "cell_type": "code",
   "execution_count": 21,
   "metadata": {},
   "outputs": [
    {
     "ename": "NameError",
     "evalue": "name 'loader_test' is not defined",
     "output_type": "error",
     "traceback": [
      "\u001b[1;31m---------------------------------------------------------------------------\u001b[0m",
      "\u001b[1;31mNameError\u001b[0m                                 Traceback (most recent call last)",
      "Cell \u001b[1;32mIn[21], line 1\u001b[0m\n\u001b[1;32m----> 1\u001b[0m loss_log, loss_log_regret \u001b[38;5;241m=\u001b[39m trainModel(reg, loss_function\u001b[38;5;241m=\u001b[39mspop, method_name\u001b[38;5;241m=\u001b[39m\u001b[38;5;124m\"\u001b[39m\u001b[38;5;124mspo+\u001b[39m\u001b[38;5;124m\"\u001b[39m)\n",
      "Cell \u001b[1;32mIn[20], line 15\u001b[0m, in \u001b[0;36mtrainModel\u001b[1;34m(reg, loss_function, method_name, num_epochs, lr)\u001b[0m\n\u001b[0;32m     13\u001b[0m \u001b[38;5;66;03m# init log\u001b[39;00m\n\u001b[0;32m     14\u001b[0m loss_log \u001b[38;5;241m=\u001b[39m []\n\u001b[1;32m---> 15\u001b[0m loss_log_regret \u001b[38;5;241m=\u001b[39m [regretParams(reg, hydrogenPlanning, loader_test, wind_test)]\n\u001b[0;32m     16\u001b[0m \u001b[38;5;66;03m# init elpased time\u001b[39;00m\n\u001b[0;32m     17\u001b[0m elapsed \u001b[38;5;241m=\u001b[39m \u001b[38;5;241m0\u001b[39m\n",
      "\u001b[1;31mNameError\u001b[0m: name 'loader_test' is not defined"
     ]
    }
   ],
   "source": [
    "loss_log, loss_log_regret = trainModel(reg, loss_function=spop, method_name=\"spo+\")"
   ]
  },
  {
   "cell_type": "code",
   "execution_count": null,
   "metadata": {},
   "outputs": [
    {
     "data": {
      "image/png": "[encoded data removed]",
      "text/plain": [
       "<Figure size 1600x400 with 2 Axes>"
      ]
     },
     "metadata": {},
     "output_type": "display_data"
    }
   ],
   "source": [
    "visLearningCurve(loss_log, loss_log_regret)"
   ]
  },
  {
   "cell_type": "code",
   "execution_count": null,
   "metadata": {},
   "outputs": [
    {
     "name": "stdout",
     "output_type": "stream",
     "text": [
      "tensor([[  73.5468,  118.9732,   86.2337,  105.8148,   74.5600,   52.5004,\n",
      "           93.5348,   78.9880,   63.9228,   93.4311,   99.0079,   94.7690,\n",
      "           94.3152,   77.7097,   91.4928,   83.5319,   74.1805,   69.2801,\n",
      "           90.9795,   98.3776,  109.4495,   83.7620,   94.8622,  109.4124,\n",
      "          -54.5121,  -59.7605,  -45.2815,  -84.2073,  -91.6669, -101.3159,\n",
      "          -77.4850,  -91.5839, -110.1920,  -56.1562,  -64.7541,  -43.2940,\n",
      "           54.7954,   59.4353,   42.0992,  -98.5492,  -85.9656, -108.6260,\n",
      "          -82.6831,  -61.6253,  -65.5810,  -89.1724,  -71.7380,  -74.9801,\n",
      "          -22.7588,   13.7576,   18.1717,   -2.4638,  -36.0462,  -12.6659,\n",
      "          -29.9727,  -13.5523,  -39.8004,   55.1200,   49.9153,   53.6728,\n",
      "           64.8909,   45.9516,   31.1580,  -38.4509,  -89.8980, -126.9334,\n",
      "          -50.7990,  -16.3419,   31.8747,  -31.3599,   19.6280,  -24.6146,\n",
      "          -57.8432,   20.8636,    2.1942,  -43.8282,  -50.7846,  -85.2045,\n",
      "          -80.7060,  -66.3967,  -81.4499,   45.2828,   38.0578,   30.9175,\n",
      "           39.4370,   29.4842,    7.0279,  -70.2107,  -82.9659, -108.7654,\n",
      "          -42.2660,  -26.1589,   13.8549,  -84.6968,   20.3556,  -18.9024]],\n",
      "       grad_fn=<AddmmBackward0>)\n"
     ]
    }
   ],
   "source": [
    "for data in loader_train:\n",
    "    x, c, w, z = data\n",
    "    # cuda\n",
    "    if torch.cuda.is_available():\n",
    "        x, c, w, z = x.cuda(), c.cuda(), w.cuda(), z.cuda()\n",
    "    # forward pass\n",
    "    cp = reg(x)\n",
    "    print(cp)\n",
    "    break\n"
   ]
  },
  {
   "cell_type": "code",
   "execution_count": 15,
   "metadata": {},
   "outputs": [],
   "source": [
    "\n",
    "# optimization model\n",
    "class hydrogenPlanning(optGrbModel):\n",
    "    def __init__(self, realized, *args, **kwargs):        \n",
    "        #Fixed parameters\n",
    "        self.max_elec = 10\n",
    "        self.max_wind = 10\n",
    "        self.nominal_wind = 10\n",
    "        self.min_production = 50\n",
    "        self.periods = np.arange(len(realized))\n",
    "        self.E_real = realized\n",
    "        super().__init__()\n",
    "\n",
    "    def _getModel(self):\n",
    "\n",
    "        initial_plan = Model(\"Gurobi.Optimizer\")\n",
    "\n",
    "        # Definition of variables\n",
    "        x = initial_plan.addMVar((4*len(self.periods)), name=\"x\")\n",
    "        \"\"\"\n",
    "        hydrogen_plan = initial_plan.addVars(self.periods, name=\"p_H\", lb=0)\n",
    "        forward_bid = initial_plan.addVars(self.periods, name=\"p_F\")\n",
    "        p_UP = initial_plan.addVars(self.periods, name=\"p_UP\", lb=0)\n",
    "        p_DW = initial_plan.addVars(self.periods, name=\"p_DW\", lb=0)\n",
    "        \"\"\"\n",
    "\n",
    "        # Objective: Maximize profit\n",
    "        initial_plan.modelSense = GRB.MAXIMIZE\n",
    "        #initial_plan.setObjective(\n",
    "        #    quicksum(\n",
    "        #        lambda_F[t] * p_F[t] +\n",
    "        #        lambda_H * hydrogen[t] +\n",
    "        #        lambda_DW[t] * E_DW[t] -\n",
    "        #        lambda_UP[t] * E_UP[t]\n",
    "        #        for t in periods\n",
    "        #    ), GRB.MAXIMIZE\n",
    "        #)\n",
    "\n",
    "        # Constraints\n",
    "        # Max capacity\n",
    "        initial_plan.addConstr(self.min_production <= gp.quicksum(x[t] for t in self.periods), name=\"min_hydrogen_production\")\n",
    "        for t in np.arange(0,len(self.periods)):\n",
    "            initial_plan.addConstr(x[t] >= 0, name=f\"elec_capacity_lb_{t}\")\n",
    "            initial_plan.addConstr(x[t] <= self.max_elec, name=f\"elec_capacity_ub_{t}\")\n",
    "        for t in np.arange(len(self.periods),2*len(self.periods)):\n",
    "            initial_plan.addConstr(x[t] >= -self.max_elec, name=f\"wind_capacity_lb_{t}\")\n",
    "            initial_plan.addConstr(x[t] <= self.max_wind, name=f\"wind_capacity_ub_{t}\")\n",
    "        for t in np.arange(2*len(self.periods),3*len(self.periods)):\n",
    "            initial_plan.addConstr(x[t] >= 0, name=f\"up_regulation_lb_{t}\")\n",
    "            initial_plan.addConstr(x[t] <= 10*self.max_wind, name=f\"up_regulation_ub_{t}\")\n",
    "        for t in np.arange(3*len(self.periods),4*len(self.periods)):\n",
    "            initial_plan.addConstr(x[t] >= 0, name=f\"dw_regulation_lb_{t}\")\n",
    "            initial_plan.addConstr(x[t] <= 10*self.max_wind, name=f\"dw_regulation_ub_{t}\")\n",
    "        for t in np.arange(0,len(self.periods)):\n",
    "            initial_plan.addConstr(self.E_real[t] - x[t] - x[t+24] == -x[t+48] + x[t+72], name=f\"balancing_{t}\")\n",
    "            #initial_plan.addConstr(-x[0,t] + self.min_production/len(self.periods) - x[4,t] <= 0, name=f\"slack_{t}\")\n",
    "        initial_plan.addConstr(gp.quicksum(x[t] for t in np.arange(0,len(self.periods))) == self.min_production, name=\"min_hydrogen_production\")\n",
    "\n",
    "        # Finalizing model setup\n",
    "        #initial_plan.update()\n",
    "        #print(type(hydrogen_plan))\n",
    "        #x = dict(hydrogen_plan).update(dict(forward_bid)).update(dict(p_UP)).update(dict(p_DW)).update(dict(p_slack))\n",
    "        #print(hydrogen_plan, forward_bid, p_UP, p_DW, p_slack)\n",
    "        #x = initial_plan.getVars()\n",
    "        #x = dict(zip([v.varName for v in x], x))\n",
    "        \n",
    "        return initial_plan, x"
   ]
  },
  {
   "cell_type": "code",
   "execution_count": null,
   "metadata": {},
   "outputs": [],
   "source": []
  },
  {
   "cell_type": "code",
   "execution_count": null,
   "metadata": {},
   "outputs": [],
   "source": []
  },
  {
   "cell_type": "code",
   "execution_count": null,
   "metadata": {},
   "outputs": [],
   "source": []
  }
 ],
 "metadata": {
  "kernelspec": {
   "display_name": "Pyepo",
   "language": "python",
   "name": "python3"
  },
  "language_info": {
   "codemirror_mode": {
    "name": "ipython",
    "version": 3
   },
   "file_extension": ".py",
   "mimetype": "text/x-python",
   "name": "python",
   "nbconvert_exporter": "python",
   "pygments_lexer": "ipython3",
   "version": "3.11.9"
  }
 },
 "nbformat": 4,
 "nbformat_minor": 2
}
