{
 "cells": [
  {
   "cell_type": "code",
   "execution_count": 1,
   "metadata": {},
   "outputs": [
    {
     "name": "stdout",
     "output_type": "stream",
     "text": [
      "Auto-Sklearn cannot be imported.\n"
     ]
    },
    {
     "name": "stderr",
     "output_type": "stream",
     "text": [
      "Failed to detect the name of this notebook, you can set it manually with the WANDB_NOTEBOOK_NAME environment variable to enable code saving.\n",
      "\u001b[34m\u001b[1mwandb\u001b[0m: Currently logged in as: \u001b[33madh\u001b[0m. Use \u001b[1m`wandb login --relogin`\u001b[0m to force relogin\n"
     ]
    }
   ],
   "source": [
    "import gurobipy as gp\n",
    "from gurobipy import GRB\n",
    "import numpy as np\n",
    "import pyepo\n",
    "from pyepo.model.grb import optGrbModel\n",
    "import torch\n",
    "from torch import nn\n",
    "from torch.utils.data import DataLoader\n",
    "from gurobipy import Model, GRB, quicksum\n",
    "from sklearn.preprocessing import StandardScaler\n",
    "import pandas as pd\n",
    "import wandb \n",
    "wandb.login()\n",
    "import matplotlib\n",
    "import matplotlib.pyplot as plt\n",
    "%matplotlib inline\n",
    "import time\n",
    "from tqdm import tqdm\n",
    "from pyepo.metric.regretParams import regretParams\n",
    "# train model\n",
    "\n",
    "#from sklearn_extra.cluster import KMedoids\n",
    "import copy"
   ]
  },
  {
   "cell_type": "code",
   "execution_count": 2,
   "metadata": {},
   "outputs": [],
   "source": [
    "# load data\n",
    "red = (0.77, 0, 0.05) # (196, 0, 13)\n",
    "blue = (0.12, 0.24, 1) # (31, 61, 255)\n",
    "# green = (0.31, 1, 0.34) # (79, 255, 87)\n",
    "green = (0.122, 00.816, 0.51) # (31, 208, 130)\n",
    "navyblue = (0, 0, 0.4) # (0, 0, 102)\n",
    "black = (0, 0, 0)\n",
    "white = (1, 1, 1)\n",
    "cgreen = (0.57254902, 0.7254902 , 0.51372549) # (146, 185, 131)\n",
    "cblue = (0.70196078, 0.83137255, 1) # (179, 212, 255)\n",
    "\n",
    "top_domain = 53.32 # 90% quantile\n",
    "\n",
    "\n",
    "\n",
    "def import_data(negative_prices=False):\n",
    "    # import data and set constants\n",
    "    all_data = pd.read_csv(\"2020_data.csv\")\n",
    "    prices_UP = np.maximum(all_data[\"UP\"].to_numpy(),0)\n",
    "    prices_DW = np.maximum(all_data[\"DW\"].to_numpy(),0)\n",
    "    prices_F = np.maximum(all_data[\"forward_RE\"].to_numpy(),0)\n",
    "    prices_forecast = np.maximum(all_data[\"forward_FC\"].to_numpy(), 0)\n",
    "\n",
    "    nominal_wind = 10\n",
    "    features = all_data.loc[:, [\"Offshore DK2\", \"Offshore DK1\", \"Onshore DK2\", \"Onshore DK1\", \"production_FC\"]]\n",
    "    features[\"forward\"] = prices_F\n",
    "    features_red = all_data.loc[:, [\"production_FC\"]]\n",
    "    features_red[\"forward\"] = prices_F\n",
    "    realized = all_data.loc[:, \"production_RE\"].to_numpy()\n",
    "    realized *= nominal_wind\n",
    "\n",
    "    price_H = 35.2\n",
    "    penalty = np.quantile(prices_UP, 0.95) # 95% quantile of deficit_settle price over all 2 years\n",
    "    # penalty = 2 * price_H\n",
    "    # penalty = np.max(prices_B) # Something HIGHER is needed apparently\n",
    "\n",
    "    return (\n",
    "        prices_UP,\n",
    "        prices_DW,\n",
    "        prices_F,\n",
    "        prices_forecast,\n",
    "        features,\n",
    "        features_red,\n",
    "        realized,\n",
    "        price_H,\n",
    "        penalty\n",
    "    )"
   ]
  },
  {
   "cell_type": "code",
   "execution_count": 3,
   "metadata": {},
   "outputs": [],
   "source": [
    "#Import data\n",
    "(prices_UP,prices_DW,prices_F,prices_forecast,features,features_red,realized,price_H,penalty) = import_data()\n",
    "\n",
    "# Change forward prices to forecast prices in features\n",
    "features[\"forward\"] = prices_forecast\n",
    "\n",
    "periods = list(range(0, len(prices_F) )) # Total time considered 2020-2021\n",
    "n_periods = 24 # Number of periods in a day\n",
    "n_days = 50 # Number of days in training set and test set\n",
    "n_hours = n_days * n_periods\n",
    "\n",
    "num_feat = n_periods*6 # size of feature\n",
    "num_feat_rf = 2 # size of feature\n",
    "num_item = 120 # number of predictions (Forward bid and Hydrogen)\n",
    "n_val_days = 10 # number of validation days \n",
    "n_hours_val = n_periods*n_val_days\n",
    "lambda_H_list = [price_H for i in range(n_periods)]\n",
    "penalty_list = [-penalty for i in range(n_periods)]\n",
    "\n",
    "lambda_H_list = [price_H for i in range(n_periods)]\n",
    "penalty_list = [-penalty for i in range(n_periods)]\n",
    "\n",
    "def flatten_extend(matrix):\n",
    "     flat_list = []\n",
    "     for row in matrix:\n",
    "         flat_list.extend(row)\n",
    "     return flat_list"
   ]
  },
  {
   "cell_type": "code",
   "execution_count": null,
   "metadata": {},
   "outputs": [],
   "source": []
  },
  {
   "cell_type": "code",
   "execution_count": 4,
   "metadata": {},
   "outputs": [],
   "source": [
    "from pyepo.model.grb import optGrbModel\n",
    "\n",
    "# optimization model\n",
    "class hydrogenPlanning(optGrbModel):\n",
    "    def __init__(self, realized, *args, **kwargs):        \n",
    "        #Fixed parameters\n",
    "        self.max_elec = 10\n",
    "        self.max_wind = 10\n",
    "        self.nominal_wind = 10\n",
    "        self.min_production = 50\n",
    "        self.periods = np.arange(len(realized))\n",
    "        self.E_real = realized\n",
    "        super().__init__()\n",
    "\n",
    "    def _getModel(self):\n",
    "\n",
    "        self.initial_plan = Model(\"Gurobi.Optimizer\")\n",
    "\n",
    "        # Definition of variables\n",
    "        self.var = self.initial_plan.addVars((4*len(self.periods)), name=\"x\")\n",
    "        # 1-24: Hydrogen plan, 25-48: Forward bids, 49-72: Up regulation, 73-96: Down regulation\n",
    "        # Objective: Maximize profit\n",
    "        self.initial_plan.modelSense = GRB.MAXIMIZE\n",
    "\n",
    "        # Constraints\n",
    "        # Max capacity\n",
    "        self.initial_plan.addConstr(self.min_production <= gp.quicksum(self.var[t] for t in self.periods), name=\"min_hydrogen_production\")\n",
    "        for t in np.arange(0,len(self.periods)):\n",
    "            self.initial_plan.addConstr(self.var[t] >= 0, name=f\"elec_capacity_lb_{t}\")\n",
    "            self.initial_plan.addConstr(self.var[t] <= self.max_elec, name=f\"elec_capacity_ub_{t}\")\n",
    "        for t in np.arange(len(self.periods),2*len(self.periods)):\n",
    "            self.initial_plan.addConstr(self.var[t] >= -self.max_elec, name=f\"wind_capacity_lb_{t}\")\n",
    "            self.initial_plan.addConstr(self.var[t] <= self.max_wind, name=f\"wind_capacity_ub_{t}\")\n",
    "        for t in np.arange(2*len(self.periods),3*len(self.periods)):\n",
    "            self.initial_plan.addConstr(self.var[t] >= 0, name=f\"up_regulation_lb_{t}\")\n",
    "            self.initial_plan.addConstr(self.var[t] <= 10*self.max_wind, name=f\"up_regulation_ub_{t}\")\n",
    "        for t in np.arange(3*len(self.periods),4*len(self.periods)):\n",
    "            self.initial_plan.addConstr(self.var[t] >= 0, name=f\"dw_regulation_lb_{t}\")\n",
    "            self.initial_plan.addConstr(self.var[t] <= 10*self.max_wind, name=f\"dw_regulation_ub_{t}\")\n",
    "        for t in np.arange(0,len(self.periods)):\n",
    "            self.initial_plan.addConstr(self.E_real[t] - self.var[t] - self.var[t+24] == -self.var[t+48] + self.var[t+72], name=f\"balancing_{t}\")\n",
    "            #initial_plan.addConstr(-x[0,t] + self.min_production/len(self.periods) - x[4,t] <= 0, name=f\"slack_{t}\")\n",
    "        self.initial_plan.addConstr(gp.quicksum(self.var[t] for t in np.arange(0,len(self.periods))) == self.min_production, name=\"min_hydrogen_production\")\n",
    "        \n",
    "        return self.initial_plan, self.var\n",
    "    \n",
    "    def setObjective(self, c):\n",
    "        # Objective: Maximize profit\n",
    "        self.initial_plan.setObjective(gp.quicksum(self.var[t]*c[t] for t in np.arange(0,4*len(self.periods))), GRB.MAXIMIZE)\n",
    "\n",
    "    def get_plan(self):\n",
    "        self.initial_plan.optimize()\n",
    "        self.initial_plan.update()\n",
    "        x_values = []\n",
    "        for var in model.initial_plan.getVars():\n",
    "            x_values.append(var.x)\n",
    "        hydrogen = x_values[0:len(self.periods)]\n",
    "        forward_bids = x_values[len(self.periods):2*len(self.periods)]\n",
    "        return forward_bids, hydrogen\n"
   ]
  },
  {
   "cell_type": "code",
   "execution_count": 5,
   "metadata": {},
   "outputs": [],
   "source": [
    "from matplotlib import pyplot as plt\n",
    "\n",
    "def visLearningCurve(loss_log, loss_log_regret):\n",
    "    # create figure and subplots\n",
    "    fig, (ax1, ax2) = plt.subplots(1, 2, figsize=(16,4))\n",
    "\n",
    "    # draw plot for training loss\n",
    "    ax1.plot(loss_log, color=\"c\", lw=1)\n",
    "    ax1.tick_params(axis=\"both\", which=\"major\", labelsize=12)\n",
    "    ax1.set_xlabel(\"Iters\", fontsize=16)\n",
    "    ax1.set_ylabel(\"Loss\", fontsize=16)\n",
    "    ax1.set_title(\"Learning Curve on Training Set\", fontsize=16)\n",
    "\n",
    "    # draw plot for regret on test\n",
    "    ax2.plot(loss_log_regret, color=\"royalblue\", ls=\"--\", alpha=0.7, lw=1)\n",
    "    ax2.set_xticks(range(0, len(loss_log_regret), 2))\n",
    "    ax2.tick_params(axis=\"both\", which=\"major\", labelsize=12)\n",
    "    ax2.set_ylim(0, 1)\n",
    "    ax2.set_xlabel(\"Epochs\", fontsize=16)\n",
    "    ax2.set_ylabel(\"Regret\", fontsize=16)\n",
    "    ax2.set_title(\"Learning Curve on Test Set\", fontsize=16)\n",
    "\n",
    "    plt.show()"
   ]
  },
  {
   "cell_type": "code",
   "execution_count": 6,
   "metadata": {},
   "outputs": [],
   "source": [
    "num_feat = n_periods*6 # size of feature\n",
    "num_item = 4*24 # number of predictions (Forward bid and Hydrogen)\n",
    "\n",
    "wind_train = np.asarray([flatten_extend([realized[d:d+n_periods]]) for d in range(int(n_hours/n_periods))])\n",
    "wind_val   = wind_train[-n_val_days:,:]\n",
    "wind_train   = wind_train[:(n_days-n_val_days),:]\n",
    "wind_test = np.asarray([flatten_extend([realized[d:d+n_periods]]) for d in range(int(n_hours/n_periods), int(2*n_hours/n_periods))])\n",
    "\"\"\"\n",
    "x_train = np.asarray([flatten_extend(features.values[d:d+n_periods]) for d in range(int(n_hours/n_periods))])\n",
    "x_test = np.asarray([flatten_extend(features.values[d:d+n_periods]) for d in range(int(n_hours/n_periods), int(2*n_hours/n_periods))])\n",
    "\"\"\"\n",
    "\n",
    "x_train_df = features.iloc[:(n_hours-n_hours_val)]\n",
    "x_val_df = features.iloc[(n_hours-n_hours_val):n_hours]\n",
    "x_test_df = features.iloc[n_hours:(n_hours+n_hours)]\n",
    "\n",
    "\n",
    "# Create a StandardScaler object (fitted on train data)\n",
    "scaler = StandardScaler()\n",
    "scaler.fit(x_train_df)\n",
    "\n",
    "# Standardize train and test dataframes separately\n",
    "x_train_df = pd.DataFrame(scaler.transform(x_train_df), columns=x_train_df.columns)\n",
    "x_val_df = pd.DataFrame(scaler.transform(x_val_df), columns=x_val_df.columns)\n",
    "x_test_df = pd.DataFrame(scaler.transform(x_test_df), columns=x_test_df.columns)\n",
    "\n",
    "\n",
    "x_train = []\n",
    "x_val = []\n",
    "x_test = []\n",
    "for i in range(0, len(x_train_df), 24):\n",
    "    x_train.append((x_train_df.iloc[i:i+24]).values.T.flatten())  # Extract 24 rows for each day\n",
    "for i in range(0, len(x_val_df), 24):\n",
    "    x_val.append((x_val_df.iloc[i:i+24]).values.T.flatten())\n",
    "for i in range(0, len(x_test_df), 24):\n",
    "    x_test.append((x_test_df.iloc[i:i+24]).values.T.flatten()) \n",
    "\n",
    "\n",
    "# Standardize x_train and x_test\n",
    "#train_mean = np.mean(x_train, axis=0)\n",
    "#train_std = np.std(x_train, axis=0)\n",
    "#x_train_stand = (x_train - train_mean) / train_std\n",
    "#x_test_stand = (x_test - train_mean) / train_std\n",
    "\n",
    "c_train = np.asarray([flatten_extend([lambda_H_list, prices_F[d: d+n_periods], -prices_UP[d: d+n_periods], prices_DW[d: d+n_periods]]) for d in range(int(n_hours/n_periods))])\n",
    "c_val   = c_train[-n_val_days:,:]\n",
    "c_train   = c_train[:(n_days-n_val_days),:]\n",
    "c_test = np.asarray([flatten_extend([lambda_H_list, prices_F[d: d+n_periods], -prices_UP[d: d+n_periods], prices_DW[d: d+n_periods]]) for d in range(int(n_hours/n_periods), int(2*n_hours/n_periods))])\n"
   ]
  },
  {
   "cell_type": "code",
   "execution_count": 7,
   "metadata": {},
   "outputs": [
    {
     "name": "stdout",
     "output_type": "stream",
     "text": [
      "Optimizing for optDataset...\n"
     ]
    },
    {
     "name": "stderr",
     "output_type": "stream",
     "text": [
      "  0%|          | 0/40 [00:00<?, ?it/s]"
     ]
    },
    {
     "name": "stdout",
     "output_type": "stream",
     "text": [
      "Set parameter Username\n",
      "Academic license - for non-commercial use only - expires 2024-12-02\n"
     ]
    },
    {
     "name": "stderr",
     "output_type": "stream",
     "text": [
      "100%|██████████| 40/40 [00:03<00:00, 11.68it/s]\n"
     ]
    },
    {
     "name": "stdout",
     "output_type": "stream",
     "text": [
      "Optimizing for optDataset...\n"
     ]
    },
    {
     "name": "stderr",
     "output_type": "stream",
     "text": [
      "100%|██████████| 10/10 [00:00<00:00, 10.92it/s]\n"
     ]
    },
    {
     "name": "stdout",
     "output_type": "stream",
     "text": [
      "Optimizing for optDataset...\n"
     ]
    },
    {
     "name": "stderr",
     "output_type": "stream",
     "text": [
      "100%|██████████| 50/50 [00:04<00:00, 11.01it/s]\n"
     ]
    }
   ],
   "source": [
    "from pyepo.data.datasetParams import optDatasetParams\n",
    "dataset_train = optDatasetParams(hydrogenPlanning, x_train, c_train, wind_train)\n",
    "dataset_val = optDatasetParams(hydrogenPlanning, x_val, c_val, wind_val)\n",
    "dataset_test = optDatasetParams(hydrogenPlanning, x_test, c_test, wind_test)\n",
    "\n",
    "batch_size = 1\n",
    "loader_train = DataLoader(dataset_train, batch_size=batch_size, shuffle=False)\n",
    "loader_val = DataLoader(dataset_val, batch_size=batch_size, shuffle=False)\n",
    "loader_test = DataLoader(dataset_test, batch_size=batch_size, shuffle=False)"
   ]
  },
  {
   "cell_type": "code",
   "execution_count": 8,
   "metadata": {},
   "outputs": [],
   "source": [
    "# prediction model\n",
    "class LinearRegression(nn.Module):\n",
    "\n",
    "    def __init__(self, input_size, output_size,neurons,dropout):\n",
    "        super(LinearRegression, self).__init__()\n",
    "        #self.linear = nn.Linear(num_feat, num_item)\n",
    "        self.linear = nn.Sequential( \n",
    "            nn.Linear(input_size, neurons),\n",
    "            nn.Dropout(dropout),\n",
    "            nn.ReLU(),\n",
    "            nn.Linear(neurons, neurons),\n",
    "            nn.ReLU(),\n",
    "            nn.Linear(neurons, output_size)\n",
    "        )\n",
    "\n",
    "    def forward(self, x):\n",
    "        out = self.linear(x)\n",
    "        return out\n"
   ]
  },
  {
   "cell_type": "markdown",
   "metadata": {},
   "source": [
    "Optimize for regret, which will have to be done on validation set "
   ]
  },
  {
   "cell_type": "code",
   "execution_count": 9,
   "metadata": {},
   "outputs": [],
   "source": [
    "def trainModel(config=None):#, num_epochs=20, lr=1e-2):\n",
    "    # set adam optimizer\n",
    "    with wandb.init(config=config):\n",
    "        config = wandb.config\n",
    "        # If called by wandb.agent, as below,\n",
    "        # this config will be set by Sweep Controller\n",
    "        #pprint(config)\n",
    "        reg = LinearRegression(num_feat, num_item,config.neurons,config.dropout)\n",
    "        # cuda\n",
    "        if torch.cuda.is_available():\n",
    "            reg = reg.cuda()\n",
    "        # init SPO+ loss\n",
    "        spop = pyepo.func.SPOPlus\n",
    "    \n",
    "        optimizer = torch.optim.Adam(reg.parameters(), lr=config.lr)\n",
    "        lr_scheduler = torch.optim.lr_scheduler.ExponentialLR(optimizer, gamma = config.gamma)\n",
    "        # train mode\n",
    "        reg.train()\n",
    "        # init log\n",
    "        loss_log = []\n",
    "        # using validation regret instead of test regret\n",
    "        loss_log_regret = [regretParams(reg, hydrogenPlanning, loader_val, wind_val)]\n",
    "        # init elpased time\n",
    "        elapsed = 0\n",
    "        wandb.watch(reg, log_freq=100)\n",
    "        for epoch in range(config.num_epochs):\n",
    "            # start timing\n",
    "            tick = time.time()\n",
    "            # load data\n",
    "            for i, data in enumerate(tqdm(loader_train)):\n",
    "                wind = wind_train[i]\n",
    "                opt_model = hydrogenPlanning(wind)\n",
    "                loss_func = spop(opt_model, processes=1)\n",
    "                x, c, w, z = data\n",
    "                # cuda\n",
    "                if torch.cuda.is_available():\n",
    "                    x, c, w, z = x.cuda(), c.cuda(), w.cuda(), z.cuda()\n",
    "                # forward pass\n",
    "                cp = reg(x)\n",
    "                if config.method_name == \"spo+\":\n",
    "                    loss = loss_func(cp, c, w, z)\n",
    "                if config.method_name in [\"ptb\", \"pfy\", \"imle\", \"nce\", \"cmap\"]:\n",
    "                    loss = loss_func(cp, w)\n",
    "                if config.method_name in [\"dbb\", \"nid\"]:\n",
    "                    loss = loss_func(cp, c, z)\n",
    "                if config.method_name == \"ltr\":\n",
    "                    loss = loss_func(cp, c)\n",
    "                # backward pass\n",
    "                optimizer.zero_grad()\n",
    "                loss.backward()\n",
    "                #for name, param in reg.named_parameters():\n",
    "                #    wandb.log({f\"{name}.grad\": param.grad.norm()}, step=epoch)\n",
    "                optimizer.step()\n",
    "                # record time\n",
    "                tock = time.time()\n",
    "                elapsed += tock - tick\n",
    "                # log\n",
    "                loss_log.append(loss.item())\n",
    "                wandb.log({\"Linear loss\": loss})\n",
    "            lr_scheduler.step()\n",
    "            # validation regret\n",
    "            regret = regretParams(reg, hydrogenPlanning, loader_val, wind_val)\n",
    "            loss_log_regret.append(regret)\n",
    "            wandb.log({\"Regret\": regret})\n",
    "            print(\"Epoch {:2},  Loss: {:9.4f},  Regret: {:7.4f}%\".format(epoch+1, loss.item(), regret*100))\n",
    "      \n",
    "        print(\"Total Elapsed Time: {:.2f} Sec.\".format(elapsed))\n",
    "        return reg, loss_log, loss_log_regret"
   ]
  },
  {
   "cell_type": "code",
   "execution_count": 10,
   "metadata": {},
   "outputs": [
    {
     "name": "stdout",
     "output_type": "stream",
     "text": [
      "{'method': 'random',\n",
      " 'metric': {'goal': 'minimize', 'name': 'Regret'},\n",
      " 'parameters': {'dropout': {'values': [0.1, 0.2, 0.3]},\n",
      "                'gamma': {'values': [0.9, 0.95, 0.99]},\n",
      "                'lr': {'values': [0.01, 0.001, 0.0001]},\n",
      "                'method_name': {'value': 'spo+'},\n",
      "                'neurons': {'values': [32, 64, 128]},\n",
      "                'num_epochs': {'values': [1, 2]}}}\n",
      "Create sweep with ID: fglu1ygo\n",
      "Sweep URL: https://wandb.ai/Pyepo_special/Sweep%20Pyepo/sweeps/fglu1ygo\n"
     ]
    }
   ],
   "source": [
    "# Hyper parameters\n",
    "\n",
    "import pprint\n",
    "sweep_config = {\n",
    "    'method': 'random', # grid, random\n",
    "    'metric': {\n",
    "      'name': 'Regret',\n",
    "      'goal': 'minimize'   \n",
    "    },\n",
    "}\n",
    "parameters_dict =  {\n",
    "        'lr': {\n",
    "            'values': [1e-2, 1e-3, 1e-4]\n",
    "        },\n",
    "        'gamma': {\n",
    "            'values': [0.9, 0.95, 0.99]\n",
    "        },\n",
    "        'num_epochs': {\n",
    "            'values': [1,2]\n",
    "        },\n",
    "        'neurons': {\n",
    "            'values': [32, 64, 128]\n",
    "            },\n",
    "            'dropout': {\n",
    "                'values': [0.1, 0.2, 0.3]\n",
    "            },\n",
    "            #\"loss_function\": {\"value\":spop},\n",
    "            \"method_name\": {\"value\":\"spo+\"},\n",
    "    }\n",
    "sweep_config['parameters'] = parameters_dict\n",
    "pprint.pprint(sweep_config)\n",
    "sweep_id = wandb.sweep(sweep_config, entity=\"Pyepo_special\",project=\"Sweep Pyepo\")"
   ]
  },
  {
   "cell_type": "code",
   "execution_count": 11,
   "metadata": {},
   "outputs": [
    {
     "name": "stderr",
     "output_type": "stream",
     "text": [
      "\u001b[34m\u001b[1mwandb\u001b[0m: Agent Starting Run: goo96j4g with config:\n",
      "\u001b[34m\u001b[1mwandb\u001b[0m: \tdropout: 0.3\n",
      "\u001b[34m\u001b[1mwandb\u001b[0m: \tgamma: 0.95\n",
      "\u001b[34m\u001b[1mwandb\u001b[0m: \tlr: 0.001\n",
      "\u001b[34m\u001b[1mwandb\u001b[0m: \tmethod_name: spo+\n",
      "\u001b[34m\u001b[1mwandb\u001b[0m: \tneurons: 64\n",
      "\u001b[34m\u001b[1mwandb\u001b[0m: \tnum_epochs: 2\n",
      "Failed to detect the name of this notebook, you can set it manually with the WANDB_NOTEBOOK_NAME environment variable to enable code saving.\n",
      "\u001b[34m\u001b[1mwandb\u001b[0m: Currently logged in as: \u001b[33madh\u001b[0m (\u001b[33mPyepo_special\u001b[0m). Use \u001b[1m`wandb login --relogin`\u001b[0m to force relogin\n"
     ]
    },
    {
     "data": {
      "text/html": [
       "Tracking run with wandb version 0.17.0"
      ],
      "text/plain": [
       "<IPython.core.display.HTML object>"
      ]
     },
     "metadata": {},
     "output_type": "display_data"
    },
    {
     "data": {
      "text/html": [
       "Run data is saved locally in <code>c:\\Users\\ande7\\Documents\\Semester 3\\Special\\Course Material\\contextual_dm_in_power_sys\\main_folder\\models\\PyEpo\\wandb\\run-20240513_011840-goo96j4g</code>"
      ],
      "text/plain": [
       "<IPython.core.display.HTML object>"
      ]
     },
     "metadata": {},
     "output_type": "display_data"
    },
    {
     "data": {
      "text/html": [
       "Syncing run <strong><a href='https://wandb.ai/Pyepo_special/Sweep%20Pyepo/runs/goo96j4g' target=\"_blank\">usual-sweep-1</a></strong> to <a href='https://wandb.ai/Pyepo_special/Sweep%20Pyepo' target=\"_blank\">Weights & Biases</a> (<a href='https://wandb.me/run' target=\"_blank\">docs</a>)<br/>Sweep page: <a href='https://wandb.ai/Pyepo_special/Sweep%20Pyepo/sweeps/fglu1ygo' target=\"_blank\">https://wandb.ai/Pyepo_special/Sweep%20Pyepo/sweeps/fglu1ygo</a>"
      ],
      "text/plain": [
       "<IPython.core.display.HTML object>"
      ]
     },
     "metadata": {},
     "output_type": "display_data"
    },
    {
     "data": {
      "text/html": [
       " View project at <a href='https://wandb.ai/Pyepo_special/Sweep%20Pyepo' target=\"_blank\">https://wandb.ai/Pyepo_special/Sweep%20Pyepo</a>"
      ],
      "text/plain": [
       "<IPython.core.display.HTML object>"
      ]
     },
     "metadata": {},
     "output_type": "display_data"
    },
    {
     "data": {
      "text/html": [
       " View sweep at <a href='https://wandb.ai/Pyepo_special/Sweep%20Pyepo/sweeps/fglu1ygo' target=\"_blank\">https://wandb.ai/Pyepo_special/Sweep%20Pyepo/sweeps/fglu1ygo</a>"
      ],
      "text/plain": [
       "<IPython.core.display.HTML object>"
      ]
     },
     "metadata": {},
     "output_type": "display_data"
    },
    {
     "data": {
      "text/html": [
       " View run at <a href='https://wandb.ai/Pyepo_special/Sweep%20Pyepo/runs/goo96j4g' target=\"_blank\">https://wandb.ai/Pyepo_special/Sweep%20Pyepo/runs/goo96j4g</a>"
      ],
      "text/plain": [
       "<IPython.core.display.HTML object>"
      ]
     },
     "metadata": {},
     "output_type": "display_data"
    },
    {
     "name": "stderr",
     "output_type": "stream",
     "text": [
      "100%|██████████| 10/10 [00:00<00:00, 11.06it/s]\n",
      "100%|██████████| 40/40 [00:04<00:00,  9.83it/s]\n",
      "100%|██████████| 10/10 [00:00<00:00, 10.87it/s]\n"
     ]
    },
    {
     "name": "stdout",
     "output_type": "stream",
     "text": [
      "Epoch  1,  Loss: 11739.2090,  Regret: 21.1288%\n"
     ]
    },
    {
     "name": "stderr",
     "output_type": "stream",
     "text": [
      "100%|██████████| 40/40 [00:04<00:00,  9.78it/s]\n",
      "100%|██████████| 10/10 [00:00<00:00, 10.88it/s]\n"
     ]
    },
    {
     "name": "stdout",
     "output_type": "stream",
     "text": [
      "Epoch  2,  Loss: 5802.2456,  Regret:  5.1282%\n",
      "Total Elapsed Time: 166.46 Sec.\n"
     ]
    },
    {
     "data": {
      "text/html": [
       "<style>\n",
       "    table.wandb td:nth-child(1) { padding: 0 10px; text-align: left ; width: auto;} td:nth-child(2) {text-align: left ; width: 100%}\n",
       "    .wandb-row { display: flex; flex-direction: row; flex-wrap: wrap; justify-content: flex-start; width: 100% }\n",
       "    .wandb-col { display: flex; flex-direction: column; flex-basis: 100%; flex: 1; padding: 10px; }\n",
       "    </style>\n",
       "<div class=\"wandb-row\"><div class=\"wandb-col\"><h3>Run history:</h3><br/><table class=\"wandb\"><tr><td>Linear loss</td><td>▆▆▆▆▆▇▇██▇▄▄▃▃▃▃▃▃▃▃▆▆▆▆▆▇▇▇█▇▃▃▂▃▂▂▁▂▂▁</td></tr><tr><td>Regret</td><td>█▁</td></tr></table><br/></div><div class=\"wandb-col\"><h3>Run summary:</h3><br/><table class=\"wandb\"><tr><td>Linear loss</td><td>5802.24561</td></tr><tr><td>Regret</td><td>0.05128</td></tr></table><br/></div></div>"
      ],
      "text/plain": [
       "<IPython.core.display.HTML object>"
      ]
     },
     "metadata": {},
     "output_type": "display_data"
    },
    {
     "data": {
      "text/html": [
       " View run <strong style=\"color:#cdcd00\">usual-sweep-1</strong> at: <a href='https://wandb.ai/Pyepo_special/Sweep%20Pyepo/runs/goo96j4g' target=\"_blank\">https://wandb.ai/Pyepo_special/Sweep%20Pyepo/runs/goo96j4g</a><br/> View project at: <a href='https://wandb.ai/Pyepo_special/Sweep%20Pyepo' target=\"_blank\">https://wandb.ai/Pyepo_special/Sweep%20Pyepo</a><br/>Synced 5 W&B file(s), 0 media file(s), 0 artifact file(s) and 0 other file(s)"
      ],
      "text/plain": [
       "<IPython.core.display.HTML object>"
      ]
     },
     "metadata": {},
     "output_type": "display_data"
    },
    {
     "data": {
      "text/html": [
       "Find logs at: <code>.\\wandb\\run-20240513_011840-goo96j4g\\logs</code>"
      ],
      "text/plain": [
       "<IPython.core.display.HTML object>"
      ]
     },
     "metadata": {},
     "output_type": "display_data"
    },
    {
     "name": "stderr",
     "output_type": "stream",
     "text": [
      "\u001b[34m\u001b[1mwandb\u001b[0m: Agent Starting Run: qafso9u9 with config:\n",
      "\u001b[34m\u001b[1mwandb\u001b[0m: \tdropout: 0.2\n",
      "\u001b[34m\u001b[1mwandb\u001b[0m: \tgamma: 0.9\n",
      "\u001b[34m\u001b[1mwandb\u001b[0m: \tlr: 0.0001\n",
      "\u001b[34m\u001b[1mwandb\u001b[0m: \tmethod_name: spo+\n",
      "\u001b[34m\u001b[1mwandb\u001b[0m: \tneurons: 32\n",
      "\u001b[34m\u001b[1mwandb\u001b[0m: \tnum_epochs: 1\n",
      "Failed to detect the name of this notebook, you can set it manually with the WANDB_NOTEBOOK_NAME environment variable to enable code saving.\n"
     ]
    },
    {
     "data": {
      "text/html": [
       "Tracking run with wandb version 0.17.0"
      ],
      "text/plain": [
       "<IPython.core.display.HTML object>"
      ]
     },
     "metadata": {},
     "output_type": "display_data"
    },
    {
     "data": {
      "text/html": [
       "Run data is saved locally in <code>c:\\Users\\ande7\\Documents\\Semester 3\\Special\\Course Material\\contextual_dm_in_power_sys\\main_folder\\models\\PyEpo\\wandb\\run-20240513_011906-qafso9u9</code>"
      ],
      "text/plain": [
       "<IPython.core.display.HTML object>"
      ]
     },
     "metadata": {},
     "output_type": "display_data"
    },
    {
     "data": {
      "text/html": [
       "Syncing run <strong><a href='https://wandb.ai/Pyepo_special/Sweep%20Pyepo/runs/qafso9u9' target=\"_blank\">astral-sweep-2</a></strong> to <a href='https://wandb.ai/Pyepo_special/Sweep%20Pyepo' target=\"_blank\">Weights & Biases</a> (<a href='https://wandb.me/run' target=\"_blank\">docs</a>)<br/>Sweep page: <a href='https://wandb.ai/Pyepo_special/Sweep%20Pyepo/sweeps/fglu1ygo' target=\"_blank\">https://wandb.ai/Pyepo_special/Sweep%20Pyepo/sweeps/fglu1ygo</a>"
      ],
      "text/plain": [
       "<IPython.core.display.HTML object>"
      ]
     },
     "metadata": {},
     "output_type": "display_data"
    },
    {
     "data": {
      "text/html": [
       " View project at <a href='https://wandb.ai/Pyepo_special/Sweep%20Pyepo' target=\"_blank\">https://wandb.ai/Pyepo_special/Sweep%20Pyepo</a>"
      ],
      "text/plain": [
       "<IPython.core.display.HTML object>"
      ]
     },
     "metadata": {},
     "output_type": "display_data"
    },
    {
     "data": {
      "text/html": [
       " View sweep at <a href='https://wandb.ai/Pyepo_special/Sweep%20Pyepo/sweeps/fglu1ygo' target=\"_blank\">https://wandb.ai/Pyepo_special/Sweep%20Pyepo/sweeps/fglu1ygo</a>"
      ],
      "text/plain": [
       "<IPython.core.display.HTML object>"
      ]
     },
     "metadata": {},
     "output_type": "display_data"
    },
    {
     "data": {
      "text/html": [
       " View run at <a href='https://wandb.ai/Pyepo_special/Sweep%20Pyepo/runs/qafso9u9' target=\"_blank\">https://wandb.ai/Pyepo_special/Sweep%20Pyepo/runs/qafso9u9</a>"
      ],
      "text/plain": [
       "<IPython.core.display.HTML object>"
      ]
     },
     "metadata": {},
     "output_type": "display_data"
    },
    {
     "name": "stderr",
     "output_type": "stream",
     "text": [
      "100%|██████████| 10/10 [00:00<00:00, 11.64it/s]\n",
      "100%|██████████| 40/40 [00:04<00:00,  9.99it/s]\n",
      "100%|██████████| 10/10 [00:00<00:00, 10.51it/s]\n"
     ]
    },
    {
     "name": "stdout",
     "output_type": "stream",
     "text": [
      "Epoch  1,  Loss: 13840.5508,  Regret: 144.0936%\n",
      "Total Elapsed Time: 83.30 Sec.\n"
     ]
    },
    {
     "data": {
      "text/html": [
       "<style>\n",
       "    table.wandb td:nth-child(1) { padding: 0 10px; text-align: left ; width: auto;} td:nth-child(2) {text-align: left ; width: 100%}\n",
       "    .wandb-row { display: flex; flex-direction: row; flex-wrap: wrap; justify-content: flex-start; width: 100% }\n",
       "    .wandb-col { display: flex; flex-direction: column; flex-basis: 100%; flex: 1; padding: 10px; }\n",
       "    </style>\n",
       "<div class=\"wandb-row\"><div class=\"wandb-col\"><h3>Run history:</h3><br/><table class=\"wandb\"><tr><td>Linear loss</td><td>▅▅▅▅▅▅▅▅▅▆▆▇▇▇▇███▆▄▂▃▃▃▁▂▂▂▂▁▁▁▁▂▂▂▂▂▂▃</td></tr><tr><td>Regret</td><td>▁</td></tr></table><br/></div><div class=\"wandb-col\"><h3>Run summary:</h3><br/><table class=\"wandb\"><tr><td>Linear loss</td><td>13840.55078</td></tr><tr><td>Regret</td><td>1.44094</td></tr></table><br/></div></div>"
      ],
      "text/plain": [
       "<IPython.core.display.HTML object>"
      ]
     },
     "metadata": {},
     "output_type": "display_data"
    },
    {
     "data": {
      "text/html": [
       " View run <strong style=\"color:#cdcd00\">astral-sweep-2</strong> at: <a href='https://wandb.ai/Pyepo_special/Sweep%20Pyepo/runs/qafso9u9' target=\"_blank\">https://wandb.ai/Pyepo_special/Sweep%20Pyepo/runs/qafso9u9</a><br/> View project at: <a href='https://wandb.ai/Pyepo_special/Sweep%20Pyepo' target=\"_blank\">https://wandb.ai/Pyepo_special/Sweep%20Pyepo</a><br/>Synced 5 W&B file(s), 0 media file(s), 0 artifact file(s) and 0 other file(s)"
      ],
      "text/plain": [
       "<IPython.core.display.HTML object>"
      ]
     },
     "metadata": {},
     "output_type": "display_data"
    },
    {
     "data": {
      "text/html": [
       "Find logs at: <code>.\\wandb\\run-20240513_011906-qafso9u9\\logs</code>"
      ],
      "text/plain": [
       "<IPython.core.display.HTML object>"
      ]
     },
     "metadata": {},
     "output_type": "display_data"
    }
   ],
   "source": [
    "#loss_log, loss_log_regret = trainModel(loss_function=spop, method_name=\"spo+\")\n",
    "wandb.agent(sweep_id, function=trainModel,count=2)"
   ]
  },
  {
   "cell_type": "code",
   "execution_count": 12,
   "metadata": {},
   "outputs": [
    {
     "data": {
      "text/html": [
       "Changes to your `wandb` environment variables will be ignored because your `wandb` session has already started. For more information on how to modify your settings with `wandb.init()` arguments, please refer to <a href='https://wandb.me/wandb-init' target=\"_blank\">the W&B docs</a>."
      ],
      "text/plain": [
       "<IPython.core.display.HTML object>"
      ]
     },
     "metadata": {},
     "output_type": "display_data"
    },
    {
     "data": {
      "text/html": [
       "Tracking run with wandb version 0.17.0"
      ],
      "text/plain": [
       "<IPython.core.display.HTML object>"
      ]
     },
     "metadata": {},
     "output_type": "display_data"
    },
    {
     "data": {
      "text/html": [
       "Run data is saved locally in <code>c:\\Users\\ande7\\Documents\\Semester 3\\Special\\Course Material\\contextual_dm_in_power_sys\\main_folder\\models\\PyEpo\\wandb\\run-20240513_011919-qafso9u9</code>"
      ],
      "text/plain": [
       "<IPython.core.display.HTML object>"
      ]
     },
     "metadata": {},
     "output_type": "display_data"
    },
    {
     "data": {
      "text/html": [
       "Syncing run <strong><a href='https://wandb.ai/Pyepo_special/Sweep%20Pyepo/runs/qafso9u9' target=\"_blank\">astral-sweep-2</a></strong> to <a href='https://wandb.ai/Pyepo_special/Sweep%20Pyepo' target=\"_blank\">Weights & Biases</a> (<a href='https://wandb.me/run' target=\"_blank\">docs</a>)<br/>Sweep page: <a href='https://wandb.ai/Pyepo_special/Sweep%20Pyepo/sweeps/fglu1ygo' target=\"_blank\">https://wandb.ai/Pyepo_special/Sweep%20Pyepo/sweeps/fglu1ygo</a>"
      ],
      "text/plain": [
       "<IPython.core.display.HTML object>"
      ]
     },
     "metadata": {},
     "output_type": "display_data"
    },
    {
     "data": {
      "text/html": [
       " View project at <a href='https://wandb.ai/Pyepo_special/Sweep%20Pyepo' target=\"_blank\">https://wandb.ai/Pyepo_special/Sweep%20Pyepo</a>"
      ],
      "text/plain": [
       "<IPython.core.display.HTML object>"
      ]
     },
     "metadata": {},
     "output_type": "display_data"
    },
    {
     "data": {
      "text/html": [
       " View sweep at <a href='https://wandb.ai/Pyepo_special/Sweep%20Pyepo/sweeps/fglu1ygo' target=\"_blank\">https://wandb.ai/Pyepo_special/Sweep%20Pyepo/sweeps/fglu1ygo</a>"
      ],
      "text/plain": [
       "<IPython.core.display.HTML object>"
      ]
     },
     "metadata": {},
     "output_type": "display_data"
    },
    {
     "data": {
      "text/html": [
       " View run at <a href='https://wandb.ai/Pyepo_special/Sweep%20Pyepo/runs/qafso9u9' target=\"_blank\">https://wandb.ai/Pyepo_special/Sweep%20Pyepo/runs/qafso9u9</a>"
      ],
      "text/plain": [
       "<IPython.core.display.HTML object>"
      ]
     },
     "metadata": {},
     "output_type": "display_data"
    },
    {
     "name": "stderr",
     "output_type": "stream",
     "text": [
      "100%|██████████| 10/10 [00:00<00:00, 11.98it/s]\n",
      "100%|██████████| 40/40 [00:04<00:00,  9.88it/s]\n",
      "100%|██████████| 10/10 [00:00<00:00, 10.32it/s]\n"
     ]
    },
    {
     "name": "stdout",
     "output_type": "stream",
     "text": [
      "Epoch  1,  Loss: 14457.5098,  Regret: 155.6363%\n",
      "Total Elapsed Time: 84.06 Sec.\n"
     ]
    },
    {
     "data": {
      "text/html": [
       "<style>\n",
       "    table.wandb td:nth-child(1) { padding: 0 10px; text-align: left ; width: auto;} td:nth-child(2) {text-align: left ; width: 100%}\n",
       "    .wandb-row { display: flex; flex-direction: row; flex-wrap: wrap; justify-content: flex-start; width: 100% }\n",
       "    .wandb-col { display: flex; flex-direction: column; flex-basis: 100%; flex: 1; padding: 10px; }\n",
       "    </style>\n",
       "<div class=\"wandb-row\"><div class=\"wandb-col\"><h3>Run history:</h3><br/><table class=\"wandb\"><tr><td>Linear loss</td><td>▅▅▅▅▅▅▅▅▅▆▆▆▇▇▇▇██▆▄▂▃▃▃▁▂▂▂▂▁▁▁▁▁▂▂▂▂▂▃</td></tr><tr><td>Regret</td><td>▁</td></tr></table><br/></div><div class=\"wandb-col\"><h3>Run summary:</h3><br/><table class=\"wandb\"><tr><td>Linear loss</td><td>14457.50977</td></tr><tr><td>Regret</td><td>1.55636</td></tr></table><br/></div></div>"
      ],
      "text/plain": [
       "<IPython.core.display.HTML object>"
      ]
     },
     "metadata": {},
     "output_type": "display_data"
    },
    {
     "data": {
      "text/html": [
       " View run <strong style=\"color:#cdcd00\">astral-sweep-2</strong> at: <a href='https://wandb.ai/Pyepo_special/Sweep%20Pyepo/runs/qafso9u9' target=\"_blank\">https://wandb.ai/Pyepo_special/Sweep%20Pyepo/runs/qafso9u9</a><br/> View project at: <a href='https://wandb.ai/Pyepo_special/Sweep%20Pyepo' target=\"_blank\">https://wandb.ai/Pyepo_special/Sweep%20Pyepo</a><br/>Synced 5 W&B file(s), 0 media file(s), 0 artifact file(s) and 0 other file(s)"
      ],
      "text/plain": [
       "<IPython.core.display.HTML object>"
      ]
     },
     "metadata": {},
     "output_type": "display_data"
    },
    {
     "data": {
      "text/html": [
       "Find logs at: <code>.\\wandb\\run-20240513_011919-qafso9u9\\logs</code>"
      ],
      "text/plain": [
       "<IPython.core.display.HTML object>"
      ]
     },
     "metadata": {},
     "output_type": "display_data"
    },
    {
     "data": {
      "text/plain": [
       "([20281.544921875,\n",
       "  19974.154296875,\n",
       "  19756.255859375,\n",
       "  19838.318359375,\n",
       "  19828.84765625,\n",
       "  19946.4296875,\n",
       "  19807.166015625,\n",
       "  19866.6640625,\n",
       "  20170.3046875,\n",
       "  21178.5859375,\n",
       "  21880.283203125,\n",
       "  22605.62109375,\n",
       "  23390.3984375,\n",
       "  24018.73828125,\n",
       "  24284.20703125,\n",
       "  24902.45703125,\n",
       "  25349.046875,\n",
       "  26299.056640625,\n",
       "  22586.5859375,\n",
       "  17839.33984375,\n",
       "  13351.6806640625,\n",
       "  13913.33203125,\n",
       "  14296.82421875,\n",
       "  14712.955078125,\n",
       "  10907.1787109375,\n",
       "  11831.9140625,\n",
       "  12372.4990234375,\n",
       "  12266.27734375,\n",
       "  11930.2216796875,\n",
       "  11453.40234375,\n",
       "  10883.701171875,\n",
       "  10458.009765625,\n",
       "  10510.6640625,\n",
       "  11229.9765625,\n",
       "  11781.5,\n",
       "  12418.857421875,\n",
       "  13032.65625,\n",
       "  12637.048828125,\n",
       "  13542.5810546875,\n",
       "  14457.509765625],\n",
       " [1.7086393511020548, 1.5563626884494317])"
      ]
     },
     "execution_count": 12,
     "metadata": {},
     "output_type": "execute_result"
    }
   ],
   "source": [
    "# Redo training with best hyperparameters\n",
    "best_config={\n",
    "        'lr': 1e-2,\n",
    "        'gamma': 0.9,\n",
    "        'num_epochs': 10,\n",
    "        'neurons': 40,\n",
    "        'dropout': 0.5,\n",
    "        \"method_name\": \"spo+\",\n",
    "    }\n",
    "\n",
    "reg, loss_log, loss_log_regret = trainModel(best_config)"
   ]
  },
  {
   "cell_type": "markdown",
   "metadata": {},
   "source": [
    "Try on test set "
   ]
  },
  {
   "cell_type": "code",
   "execution_count": 15,
   "metadata": {},
   "outputs": [
    {
     "ename": "NameError",
     "evalue": "name 'reg' is not defined",
     "output_type": "error",
     "traceback": [
      "\u001b[1;31m---------------------------------------------------------------------------\u001b[0m",
      "\u001b[1;31mNameError\u001b[0m                                 Traceback (most recent call last)",
      "Cell \u001b[1;32mIn[15], line 1\u001b[0m\n\u001b[1;32m----> 1\u001b[0m reg(x_test)\n",
      "\u001b[1;31mNameError\u001b[0m: name 'reg' is not defined"
     ]
    }
   ],
   "source": [
    "forward_bids = []\n",
    "hydrogen_plan = []\n",
    "reg.eval()\n",
    "for i, data in enumerate(loader_test):\n",
    "    x, c, w, z = data\n",
    "    if torch.cuda.is_available():\n",
    "        x, c, w, z = x.cuda(), c.cuda(), w.cuda(), z.cuda()\n",
    "    predicted_costs = reg(x).detach().numpy()[0]\n",
    "    model = hydrogenPlanning(realized=wind_test[i])\n",
    "    model.setObjective(predicted_costs)\n",
    "    forward, hydrogen = model.get_plan()\n",
    "    forward_bids.extend(forward)\n",
    "    hydrogen_plan.extend(hydrogen)\n"
   ]
  },
  {
   "cell_type": "code",
   "execution_count": null,
   "metadata": {},
   "outputs": [],
   "source": [
    "pd.DataFrame({\"forward bid\" : forward_bids,\"hydrogen production\" : hydrogen_plan}).to_csv(\"ILO_base.csv\")"
   ]
  }
 ],
 "metadata": {
  "kernelspec": {
   "display_name": "Pyepo",
   "language": "python",
   "name": "python3"
  },
  "language_info": {
   "codemirror_mode": {
    "name": "ipython",
    "version": 3
   },
   "file_extension": ".py",
   "mimetype": "text/x-python",
   "name": "python",
   "nbconvert_exporter": "python",
   "pygments_lexer": "ipython3",
   "version": "3.11.9"
  }
 },
 "nbformat": 4,
 "nbformat_minor": 2
}
