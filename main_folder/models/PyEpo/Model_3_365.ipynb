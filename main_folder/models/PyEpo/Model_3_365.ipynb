{
 "cells": [
  {
   "cell_type": "code",
   "execution_count": 1,
   "metadata": {},
   "outputs": [
    {
     "name": "stdout",
     "output_type": "stream",
     "text": [
      "Auto-Sklearn cannot be imported.\n"
     ]
    },
    {
     "name": "stderr",
     "output_type": "stream",
     "text": [
      "Failed to detect the name of this notebook, you can set it manually with the WANDB_NOTEBOOK_NAME environment variable to enable code saving.\n",
      "\u001b[34m\u001b[1mwandb\u001b[0m: Currently logged in as: \u001b[33madh\u001b[0m. Use \u001b[1m`wandb login --relogin`\u001b[0m to force relogin\n"
     ]
    }
   ],
   "source": [
    "import gurobipy as gp\n",
    "from gurobipy import GRB\n",
    "import numpy as np\n",
    "import pyepo\n",
    "from pyepo.model.grb import optGrbModel\n",
    "import torch\n",
    "from torch import nn\n",
    "from torch.utils.data import DataLoader\n",
    "from gurobipy import Model, GRB, quicksum\n",
    "from sklearn.preprocessing import StandardScaler\n",
    "import pandas as pd\n",
    "import wandb \n",
    "wandb.login()\n",
    "import matplotlib\n",
    "import matplotlib.pyplot as plt\n",
    "%matplotlib inline\n",
    "import time\n",
    "from tqdm import tqdm\n",
    "from pyepo.metric.regretParams import regretParams\n",
    "# train model\n",
    "\n",
    "#from sklearn_extra.cluster import KMedoids\n",
    "import copy"
   ]
  },
  {
   "cell_type": "code",
   "execution_count": 2,
   "metadata": {},
   "outputs": [],
   "source": [
    "# load data\n",
    "red = (0.77, 0, 0.05) # (196, 0, 13)\n",
    "blue = (0.12, 0.24, 1) # (31, 61, 255)\n",
    "# green = (0.31, 1, 0.34) # (79, 255, 87)\n",
    "green = (0.122, 00.816, 0.51) # (31, 208, 130)\n",
    "navyblue = (0, 0, 0.4) # (0, 0, 102)\n",
    "black = (0, 0, 0)\n",
    "white = (1, 1, 1)\n",
    "cgreen = (0.57254902, 0.7254902 , 0.51372549) # (146, 185, 131)\n",
    "cblue = (0.70196078, 0.83137255, 1) # (179, 212, 255)\n",
    "\n",
    "top_domain = 53.32 # 90% quantile\n",
    "\n",
    "\n",
    "\n",
    "def import_data(negative_prices=False):\n",
    "    # import data and set constants\n",
    "    all_data = pd.read_csv(\"2020_data.csv\")\n",
    "    prices_UP = np.maximum(all_data[\"UP\"].to_numpy(),0)\n",
    "    prices_DW = np.maximum(all_data[\"DW\"].to_numpy(),0)\n",
    "    prices_F = np.maximum(all_data[\"forward_RE\"].to_numpy(),0)\n",
    "    prices_forecast = np.maximum(all_data[\"forward_FC\"].to_numpy(), 0)\n",
    "\n",
    "    nominal_wind = 10\n",
    "    features = all_data.loc[:, [\"Offshore DK2\", \"Offshore DK1\", \"Onshore DK2\", \"Onshore DK1\", \"production_FC\"]]\n",
    "    features[\"forward\"] = prices_F\n",
    "    features_red = all_data.loc[:, [\"production_FC\"]]\n",
    "    features_red[\"forward\"] = prices_F\n",
    "    realized = all_data.loc[:, \"production_RE\"].to_numpy()\n",
    "    realized *= nominal_wind\n",
    "\n",
    "    price_H = 35.2\n",
    "    penalty = np.quantile(prices_UP, 0.95) # 95% quantile of deficit_settle price over all 2 years\n",
    "    # penalty = 2 * price_H\n",
    "    # penalty = np.max(prices_B) # Something HIGHER is needed apparently\n",
    "\n",
    "    return (\n",
    "        prices_UP,\n",
    "        prices_DW,\n",
    "        prices_F,\n",
    "        prices_forecast,\n",
    "        features,\n",
    "        features_red,\n",
    "        realized,\n",
    "        price_H,\n",
    "        penalty\n",
    "    )"
   ]
  },
  {
   "cell_type": "code",
   "execution_count": 11,
   "metadata": {},
   "outputs": [],
   "source": [
    "#Import data\n",
    "(prices_UP,prices_DW,prices_F,prices_forecast,features,features_red,realized,price_H,penalty) = import_data()\n",
    "\n",
    "# Change forward prices to forecast prices in features\n",
    "features[\"forward\"] = prices_forecast\n",
    "\n",
    "periods = list(range(0, len(prices_F) )) # Total time considered 2020-2021\n",
    "n_periods = 24 # Number of periods in a day\n",
    "n_days = 365 # Number of days in training set and test set\n",
    "n_hours = n_days * n_periods\n",
    "num_cost = 4 # number of cost parameters\n",
    "num_feat = n_periods*6 # size of feature\n",
    "num_feat_rf = 2 # size of feature\n",
    "num_item = num_cost*n_periods # number of predictions (Forward bid and Hydrogen)\n",
    "#n_val_days = 10 # number of validation days \n",
    "#n_hours_val = n_periods*n_val_days\n",
    "lambda_H_list = [price_H for i in range(n_periods)]\n",
    "penalty_list = [-penalty for i in range(n_periods)]\n",
    "\n",
    "lambda_H_list = [price_H for i in range(n_periods)]\n",
    "penalty_list = [-penalty for i in range(n_periods)]\n",
    "\n",
    "def flatten_extend(matrix):\n",
    "     flat_list = []\n",
    "     for row in matrix:\n",
    "         flat_list.extend(row)\n",
    "     return flat_list"
   ]
  },
  {
   "cell_type": "code",
   "execution_count": 12,
   "metadata": {},
   "outputs": [],
   "source": [
    "from pyepo.model.grb import optGrbModel\n",
    "\n",
    "# optimization model\n",
    "class hydrogenPlanning(optGrbModel):\n",
    "    def __init__(self, realized, *args, **kwargs):        \n",
    "        #Fixed parameters\n",
    "        self.max_elec = 10\n",
    "        self.max_wind = 10\n",
    "        self.nominal_wind = 10\n",
    "        self.min_production = 50\n",
    "        self.periods = np.arange(len(realized))\n",
    "        self.E_real = realized\n",
    "        super().__init__()\n",
    "\n",
    "    def _getModel(self):\n",
    "\n",
    "        self.initial_plan = Model(\"Gurobi.Optimizer\")\n",
    "\n",
    "        # Definition of variables\n",
    "        self.var = self.initial_plan.addVars((4*len(self.periods)), name=\"x\")\n",
    "        # 1-24: Hydrogen plan, 25-48: Forward bids, 49-72: Up regulation, 73-96: Down regulation\n",
    "        # Objective: Maximize profit\n",
    "        self.initial_plan.modelSense = GRB.MAXIMIZE\n",
    "\n",
    "        # Constraints\n",
    "        # Max capacity\n",
    "        \n",
    "        self.initial_plan.addConstr(self.min_production <= gp.quicksum(self.var[t] for t in self.periods), name=\"min_hydrogen_production\")\n",
    "        for t in np.arange(0,len(self.periods)):\n",
    "            self.initial_plan.addConstr(self.var[t] >= 0, name=f\"elec_capacity_lb_{t}\")\n",
    "            self.initial_plan.addConstr(self.var[t] <= self.max_elec, name=f\"elec_capacity_ub_{t}\")\n",
    "        for t in np.arange(len(self.periods),2*len(self.periods)):\n",
    "            self.initial_plan.addConstr(self.var[t] >= -self.max_elec, name=f\"wind_capacity_lb_{t}\")\n",
    "            self.initial_plan.addConstr(self.var[t] <= self.max_wind, name=f\"wind_capacity_ub_{t}\")\n",
    "        for t in np.arange(2*len(self.periods),3*len(self.periods)):\n",
    "            self.initial_plan.addConstr(self.var[t] >= 0, name=f\"up_regulation_lb_{t}\")\n",
    "            self.initial_plan.addConstr(self.var[t] <= 10*self.max_wind, name=f\"up_regulation_ub_{t}\")\n",
    "        for t in np.arange(3*len(self.periods),4*len(self.periods)):\n",
    "            self.initial_plan.addConstr(self.var[t] >= 0, name=f\"dw_regulation_lb_{t}\")\n",
    "            self.initial_plan.addConstr(self.var[t] <= 10*self.max_wind, name=f\"dw_regulation_ub_{t}\")\n",
    "        for t in np.arange(0,len(self.periods)):\n",
    "            self.initial_plan.addConstr(self.E_real[t] - self.var[t] - self.var[t+24] == -self.var[t+48] + self.var[t+72], name=f\"balancing_{t}\")\n",
    "            #initial_plan.addConstr(-x[0,t] + self.min_production/len(self.periods) - x[4,t] <= 0, name=f\"slack_{t}\")\n",
    "        self.initial_plan.addConstr(gp.quicksum(self.var[t] for t in np.arange(0,len(self.periods))) == self.min_production, name=\"min_hydrogen_production\")\n",
    "        \n",
    "        return self.initial_plan, self.var\n",
    "    \n",
    "    def setObjective(self, c):\n",
    "        # Objective: Maximize profit\n",
    "        self.initial_plan.setObjective(gp.quicksum(self.var[t]*c[t] for t in np.arange(0,4*len(self.periods))), GRB.MAXIMIZE)\n",
    "\n",
    "    def get_plan(self):\n",
    "        self.initial_plan.optimize()\n",
    "        self.initial_plan.update()\n",
    "        x_values = []\n",
    "        for var in self.initial_plan.getVars():\n",
    "            x_values.append(var.x)\n",
    "        hydrogen = x_values[0:len(self.periods)]\n",
    "        forward_bids = x_values[len(self.periods):2*len(self.periods)]\n",
    "        return forward_bids, hydrogen\n"
   ]
  },
  {
   "cell_type": "code",
   "execution_count": 13,
   "metadata": {},
   "outputs": [],
   "source": [
    "from matplotlib import pyplot as plt\n",
    "\n",
    "def visLearningCurve(loss_log, loss_log_regret):\n",
    "    # create figure and subplots\n",
    "    fig, (ax1, ax2) = plt.subplots(1, 2, figsize=(16,4))\n",
    "\n",
    "    # draw plot for training loss\n",
    "    ax1.plot(loss_log, color=\"c\", lw=1)\n",
    "    ax1.tick_params(axis=\"both\", which=\"major\", labelsize=12)\n",
    "    ax1.set_xlabel(\"Iters\", fontsize=16)\n",
    "    ax1.set_ylabel(\"Loss\", fontsize=16)\n",
    "    ax1.set_title(\"Learning Curve on Training Set\", fontsize=16)\n",
    "\n",
    "    # draw plot for regret on test\n",
    "    ax2.plot(loss_log_regret, color=\"royalblue\", ls=\"--\", alpha=0.7, lw=1)\n",
    "    ax2.set_xticks(range(0, len(loss_log_regret), 2))\n",
    "    ax2.tick_params(axis=\"both\", which=\"major\", labelsize=12)\n",
    "    ax2.set_ylim(0, 1)\n",
    "    ax2.set_xlabel(\"Epochs\", fontsize=16)\n",
    "    ax2.set_ylabel(\"Regret\", fontsize=16)\n",
    "    ax2.set_title(\"Learning Curve on Test Set\", fontsize=16)\n",
    "\n",
    "    plt.show()"
   ]
  },
  {
   "cell_type": "code",
   "execution_count": 14,
   "metadata": {},
   "outputs": [],
   "source": [
    "num_feat = n_periods*6 # size of feature\n",
    "num_item = 4*24 # number of predictions (Forward bid and Hydrogen)\n",
    "\n",
    "wind_train = np.asarray([flatten_extend([realized[d:d+n_periods]]) for d in range(int(n_hours/n_periods))])\n",
    "#wind_val   = wind_train[-n_val_days:,:]\n",
    "#wind_train   = wind_train[:(n_days-n_val_days),:]\n",
    "wind_test = np.asarray([flatten_extend([realized[d:d+n_periods]]) for d in range(int(n_hours/n_periods), int(2*n_hours/n_periods))])\n",
    "\"\"\"\n",
    "x_train = np.asarray([flatten_extend(features.values[d:d+n_periods]) for d in range(int(n_hours/n_periods))])\n",
    "x_test = np.asarray([flatten_extend(features.values[d:d+n_periods]) for d in range(int(n_hours/n_periods), int(2*n_hours/n_periods))])\n",
    "\"\"\"\n",
    "\n",
    "\n",
    "x_train_df = features.iloc[:n_hours]\n",
    "\n",
    "#x_train_df = features.iloc[:(n_hours-n_hours_val)]\n",
    "#x_val_df = features.iloc[(n_hours-n_hours_val):n_hours]\n",
    "x_test_df = features.iloc[n_hours:(n_hours+n_hours)]\n",
    "\n",
    "\n",
    "# Create a StandardScaler object (fitted on train data)\n",
    "scaler = StandardScaler()\n",
    "scaler.fit(x_train_df)\n",
    "\n",
    "# Standardize train and test dataframes separately\n",
    "x_train_df = pd.DataFrame(scaler.transform(x_train_df), columns=x_train_df.columns)\n",
    "#x_val_df = pd.DataFrame(scaler.transform(x_val_df), columns=x_val_df.columns)\n",
    "x_test_df = pd.DataFrame(scaler.transform(x_test_df), columns=x_test_df.columns)\n",
    "\n",
    "\n",
    "x_train = []\n",
    "#x_val = []\n",
    "#for i in range(0, len(x_val_df), 24):\n",
    "#    x_val.append((x_val_df.iloc[i:i+24]).values.T.flatten())\n",
    "x_test = []\n",
    "for i in range(0, len(x_train_df), 24):\n",
    "    x_train.append((x_train_df.iloc[i:i+24]).values.T.flatten())  # Extract 24 rows for each day\n",
    "\n",
    "for i in range(0, len(x_test_df), 24):\n",
    "    x_test.append((x_test_df.iloc[i:i+24]).values.T.flatten()) \n",
    "\n",
    "\n",
    "# Standardize x_train and x_test\n",
    "#train_mean = np.mean(x_train, axis=0)\n",
    "#train_std = np.std(x_train, axis=0)\n",
    "#x_train_stand = (x_train - train_mean) / train_std\n",
    "#x_test_stand = (x_test - train_mean) / train_std\n",
    "\n",
    "c_train = np.asarray([flatten_extend([lambda_H_list, prices_F[d: d+n_periods], -prices_UP[d: d+n_periods], prices_DW[d: d+n_periods]]) for d in range(int(n_hours/n_periods))])\n",
    "#c_val   = c_train[-n_val_days:,:]\n",
    "#c_train   = c_train[:(n_days-n_val_days),:]\n",
    "c_test = np.asarray([flatten_extend([lambda_H_list, prices_F[d: d+n_periods], -prices_UP[d: d+n_periods], prices_DW[d: d+n_periods]]) for d in range(int(n_hours/n_periods), int(2*n_hours/n_periods))])\n"
   ]
  },
  {
   "cell_type": "code",
   "execution_count": 15,
   "metadata": {},
   "outputs": [
    {
     "name": "stdout",
     "output_type": "stream",
     "text": [
      "Optimizing for optDataset...\n"
     ]
    },
    {
     "name": "stderr",
     "output_type": "stream",
     "text": [
      "100%|██████████| 365/365 [00:01<00:00, 185.25it/s]\n"
     ]
    },
    {
     "name": "stdout",
     "output_type": "stream",
     "text": [
      "Optimizing for optDataset...\n"
     ]
    },
    {
     "name": "stderr",
     "output_type": "stream",
     "text": [
      "100%|██████████| 365/365 [00:02<00:00, 177.07it/s]\n"
     ]
    }
   ],
   "source": [
    "from pyepo.data.datasetParams import optDatasetParams\n",
    "dataset_train = optDatasetParams(hydrogenPlanning, x_train, c_train, wind_train)\n",
    "#dataset_val = optDatasetParams(hydrogenPlanning, x_val, c_val, wind_val)\n",
    "dataset_test = optDatasetParams(hydrogenPlanning, x_test, c_test, wind_test)\n",
    "\n",
    "batch_size = 1\n",
    "loader_train = DataLoader(dataset_train, batch_size=batch_size, shuffle=False)\n",
    "#loader_val = DataLoader(dataset_val, batch_size=batch_size, shuffle=False)\n",
    "loader_test = DataLoader(dataset_test, batch_size=batch_size, shuffle=False)"
   ]
  },
  {
   "cell_type": "code",
   "execution_count": 16,
   "metadata": {},
   "outputs": [],
   "source": [
    "# prediction model\n",
    "class LinearRegression(nn.Module):\n",
    "\n",
    "    def __init__(self, input_size, output_size,neurons,dropout):\n",
    "        super(LinearRegression, self).__init__()\n",
    "        #self.linear = nn.Linear(num_feat, num_item)\n",
    "        self.linear = nn.Sequential( \n",
    "            nn.Linear(input_size, neurons),\n",
    "            nn.Dropout(dropout),\n",
    "            nn.ReLU(),\n",
    "            nn.Linear(neurons, neurons),\n",
    "            nn.ReLU(),\n",
    "            nn.Linear(neurons, output_size)\n",
    "        )\n",
    "\n",
    "    def forward(self, x):\n",
    "        out = self.linear(x)\n",
    "        return out\n"
   ]
  },
  {
   "cell_type": "code",
   "execution_count": 17,
   "metadata": {},
   "outputs": [],
   "source": [
    "def trainModel(config=None):#, num_epochs=20, lr=1e-2):\n",
    "    # set adam optimizer\n",
    "    with wandb.init(config=config):\n",
    "        config = wandb.config\n",
    "        # If called by wandb.agent, as below,\n",
    "        # this config will be set by Sweep Controller\n",
    "        #pprint(config)\n",
    "        reg = LinearRegression(num_feat, num_item,config.neurons,config.dropout)\n",
    "        # cuda\n",
    "        if torch.cuda.is_available():\n",
    "            reg = reg.cuda()\n",
    "        # init SPO+ loss\n",
    "        spop = pyepo.func.SPOPlus\n",
    "    \n",
    "        optimizer = torch.optim.Adam(reg.parameters(), lr=config.lr)\n",
    "        lr_scheduler = torch.optim.lr_scheduler.ExponentialLR(optimizer, gamma = config.gamma)\n",
    "        # train mode\n",
    "        reg.train()\n",
    "        # init log\n",
    "        loss_log = []\n",
    "        # using validation regret instead of test regret\n",
    "        loss_log_regret = [regretParams(reg, hydrogenPlanning, loader_test, wind_test)]\n",
    "        # init elpased time\n",
    "        elapsed = 0\n",
    "        wandb.watch(reg, log_freq=100)\n",
    "        for epoch in range(config.num_epochs):\n",
    "            # start timing\n",
    "            tick = time.time()\n",
    "            # load data\n",
    "            for i, data in enumerate(tqdm(loader_train)):\n",
    "                wind = wind_train[i]\n",
    "                opt_model = hydrogenPlanning(wind)\n",
    "                loss_func = spop(opt_model, processes=1)\n",
    "                x, c, w, z = data\n",
    "                # cuda\n",
    "                if torch.cuda.is_available():\n",
    "                    x, c, w, z = x.cuda(), c.cuda(), w.cuda(), z.cuda()\n",
    "                # forward pass\n",
    "                cp = reg(x)\n",
    "                if config.method_name == \"spo+\":\n",
    "                    loss = loss_func(cp, c, w, z)\n",
    "                if config.method_name in [\"ptb\", \"pfy\", \"imle\", \"nce\", \"cmap\"]:\n",
    "                    loss = loss_func(cp, w)\n",
    "                if config.method_name in [\"dbb\", \"nid\"]:\n",
    "                    loss = loss_func(cp, c, z)\n",
    "                if config.method_name == \"ltr\":\n",
    "                    loss = loss_func(cp, c)\n",
    "                # backward pass\n",
    "                optimizer.zero_grad()\n",
    "                loss.backward()\n",
    "                #for name, param in reg.named_parameters():\n",
    "                #    wandb.log({f\"{name}.grad\": param.grad.norm()}, step=epoch)\n",
    "                optimizer.step()\n",
    "                # record time\n",
    "                tock = time.time()\n",
    "                elapsed += tock - tick\n",
    "                # log\n",
    "                loss_log.append(loss.item())\n",
    "                wandb.log({\"Linear loss\": loss})\n",
    "            lr_scheduler.step()\n",
    "            # validation regret\n",
    "            regret = regretParams(reg, hydrogenPlanning, loader_test, wind_test)\n",
    "            loss_log_regret.append(regret)\n",
    "            wandb.log({\"Regret\": regret})\n",
    "            print(\"Epoch {:2},  Loss: {:9.4f},  Regret: {:7.4f}%\".format(epoch+1, loss.item(), regret*100))\n",
    "      \n",
    "        print(\"Total Elapsed Time: {:.2f} Sec.\".format(elapsed))\n",
    "        return reg, loss_log, loss_log_regret"
   ]
  },
  {
   "cell_type": "code",
   "execution_count": 10,
   "metadata": {},
   "outputs": [
    {
     "name": "stdout",
     "output_type": "stream",
     "text": [
      "{'method': 'random',\n",
      " 'metric': {'goal': 'minimize', 'name': 'Regret'},\n",
      " 'name': 'Basic Model Sweep',\n",
      " 'parameters': {'dropout': {'values': [0.2, 0.5, 0.7, 0.9]},\n",
      "                'gamma': {'values': [0.9, 0.95, 0.99]},\n",
      "                'lr': {'values': [0.01, 0.001, 0.0001]},\n",
      "                'method_name': {'value': 'spo+'},\n",
      "                'neurons': {'values': [32, 64, 128]},\n",
      "                'num_epochs': {'values': [10, 20, 30]}}}\n",
      "Create sweep with ID: 21l2bgkz\n",
      "Sweep URL: https://wandb.ai/Pyepo_special/Sweep%20Pyepo%20Basic%20Model/sweeps/21l2bgkz\n"
     ]
    }
   ],
   "source": [
    "# Hyper parameters\n",
    "\n",
    "import pprint\n",
    "sweep_config = {\n",
    "     'name': 'Basic Model Sweep',\n",
    "    'method': 'random', # grid, random\n",
    "    'metric': {\n",
    "    'name': 'Regret',\n",
    "      'goal': 'minimize'   \n",
    "    },\n",
    "}\n",
    "parameters_dict =  {\n",
    "        'lr': {\n",
    "            'values': [1e-2, 1e-3, 1e-4]\n",
    "        },\n",
    "        'gamma': {\n",
    "            'values': [0.9, 0.95, 0.99]\n",
    "        },\n",
    "        'num_epochs': {\n",
    "            'values': [10,20,30]\n",
    "        },\n",
    "        'neurons': {\n",
    "            'values': [32, 64, 128]\n",
    "            },\n",
    "            'dropout': {\n",
    "                'values': [0.2,0.5,0.7,0.9]\n",
    "            },\n",
    "            #\"loss_function\": {\"value\":spop},\n",
    "            \"method_name\": {\"value\":\"spo+\"},\n",
    "    }\n",
    "sweep_config['parameters'] = parameters_dict\n",
    "pprint.pprint(sweep_config)\n",
    "sweep_id = wandb.sweep(sweep_config, entity=\"Pyepo_special\",project=\"Sweep Pyepo Basic Model\")"
   ]
  },
  {
   "cell_type": "code",
   "execution_count": 12,
   "metadata": {},
   "outputs": [
    {
     "name": "stderr",
     "output_type": "stream",
     "text": [
      "\u001b[34m\u001b[1mwandb\u001b[0m: Agent Starting Run: dwk0psgm with config:\n",
      "\u001b[34m\u001b[1mwandb\u001b[0m: \tdropout: 0.2\n",
      "\u001b[34m\u001b[1mwandb\u001b[0m: \tgamma: 0.99\n",
      "\u001b[34m\u001b[1mwandb\u001b[0m: \tlr: 0.01\n",
      "\u001b[34m\u001b[1mwandb\u001b[0m: \tmethod_name: spo+\n",
      "\u001b[34m\u001b[1mwandb\u001b[0m: \tneurons: 32\n",
      "\u001b[34m\u001b[1mwandb\u001b[0m: \tnum_epochs: 30\n",
      "Failed to detect the name of this notebook, you can set it manually with the WANDB_NOTEBOOK_NAME environment variable to enable code saving.\n",
      "\u001b[34m\u001b[1mwandb\u001b[0m: Currently logged in as: \u001b[33madh\u001b[0m (\u001b[33mPyepo_special\u001b[0m). Use \u001b[1m`wandb login --relogin`\u001b[0m to force relogin\n"
     ]
    },
    {
     "data": {
      "text/html": [
       "Tracking run with wandb version 0.17.0"
      ],
      "text/plain": [
       "<IPython.core.display.HTML object>"
      ]
     },
     "metadata": {},
     "output_type": "display_data"
    },
    {
     "data": {
      "text/html": [
       "Run data is saved locally in <code>c:\\Users\\ande7\\Documents\\Semester 3\\Special\\Course Material\\contextual_dm_in_power_sys\\main_folder\\models\\PyEpo\\wandb\\run-20240515_114848-dwk0psgm</code>"
      ],
      "text/plain": [
       "<IPython.core.display.HTML object>"
      ]
     },
     "metadata": {},
     "output_type": "display_data"
    },
    {
     "data": {
      "text/html": [
       "Syncing run <strong><a href='https://wandb.ai/Pyepo_special/Sweep%20Pyepo%20Basic%20Model/runs/dwk0psgm' target=\"_blank\">worthy-sweep-1</a></strong> to <a href='https://wandb.ai/Pyepo_special/Sweep%20Pyepo%20Basic%20Model' target=\"_blank\">Weights & Biases</a> (<a href='https://wandb.me/run' target=\"_blank\">docs</a>)<br/>Sweep page: <a href='https://wandb.ai/Pyepo_special/Sweep%20Pyepo%20Basic%20Model/sweeps/21l2bgkz' target=\"_blank\">https://wandb.ai/Pyepo_special/Sweep%20Pyepo%20Basic%20Model/sweeps/21l2bgkz</a>"
      ],
      "text/plain": [
       "<IPython.core.display.HTML object>"
      ]
     },
     "metadata": {},
     "output_type": "display_data"
    },
    {
     "data": {
      "text/html": [
       " View project at <a href='https://wandb.ai/Pyepo_special/Sweep%20Pyepo%20Basic%20Model' target=\"_blank\">https://wandb.ai/Pyepo_special/Sweep%20Pyepo%20Basic%20Model</a>"
      ],
      "text/plain": [
       "<IPython.core.display.HTML object>"
      ]
     },
     "metadata": {},
     "output_type": "display_data"
    },
    {
     "data": {
      "text/html": [
       " View sweep at <a href='https://wandb.ai/Pyepo_special/Sweep%20Pyepo%20Basic%20Model/sweeps/21l2bgkz' target=\"_blank\">https://wandb.ai/Pyepo_special/Sweep%20Pyepo%20Basic%20Model/sweeps/21l2bgkz</a>"
      ],
      "text/plain": [
       "<IPython.core.display.HTML object>"
      ]
     },
     "metadata": {},
     "output_type": "display_data"
    },
    {
     "data": {
      "text/html": [
       " View run at <a href='https://wandb.ai/Pyepo_special/Sweep%20Pyepo%20Basic%20Model/runs/dwk0psgm' target=\"_blank\">https://wandb.ai/Pyepo_special/Sweep%20Pyepo%20Basic%20Model/runs/dwk0psgm</a>"
      ],
      "text/plain": [
       "<IPython.core.display.HTML object>"
      ]
     },
     "metadata": {},
     "output_type": "display_data"
    },
    {
     "name": "stderr",
     "output_type": "stream",
     "text": [
      "100%|██████████| 180/180 [00:01<00:00, 136.31it/s]\n",
      "100%|██████████| 180/180 [00:02<00:00, 72.17it/s]\n",
      "100%|██████████| 180/180 [00:01<00:00, 133.68it/s]\n"
     ]
    },
    {
     "name": "stdout",
     "output_type": "stream",
     "text": [
      "Epoch  1,  Loss: 18474.5742,  Regret: 11.1446%\n"
     ]
    },
    {
     "name": "stderr",
     "output_type": "stream",
     "text": [
      "100%|██████████| 180/180 [00:02<00:00, 71.50it/s]\n",
      "100%|██████████| 180/180 [00:01<00:00, 120.19it/s]\n"
     ]
    },
    {
     "name": "stdout",
     "output_type": "stream",
     "text": [
      "Epoch  2,  Loss: 16107.9199,  Regret: 16.8112%\n"
     ]
    },
    {
     "name": "stderr",
     "output_type": "stream",
     "text": [
      "100%|██████████| 180/180 [00:02<00:00, 73.12it/s]\n",
      "100%|██████████| 180/180 [00:01<00:00, 121.77it/s]\n"
     ]
    },
    {
     "name": "stdout",
     "output_type": "stream",
     "text": [
      "Epoch  3,  Loss: 15413.8594,  Regret: 14.6075%\n"
     ]
    },
    {
     "name": "stderr",
     "output_type": "stream",
     "text": [
      "100%|██████████| 180/180 [00:03<00:00, 56.06it/s]\n",
      "100%|██████████| 180/180 [00:01<00:00, 108.94it/s]\n"
     ]
    },
    {
     "name": "stdout",
     "output_type": "stream",
     "text": [
      "Epoch  4,  Loss: 10957.2939,  Regret: 12.0378%\n"
     ]
    },
    {
     "name": "stderr",
     "output_type": "stream",
     "text": [
      "100%|██████████| 180/180 [00:03<00:00, 54.03it/s]\n",
      "100%|██████████| 180/180 [00:02<00:00, 79.58it/s] \n"
     ]
    },
    {
     "name": "stdout",
     "output_type": "stream",
     "text": [
      "Epoch  5,  Loss: 14003.2734,  Regret: 15.8918%\n"
     ]
    },
    {
     "name": "stderr",
     "output_type": "stream",
     "text": [
      "100%|██████████| 180/180 [00:04<00:00, 37.42it/s]\n",
      "100%|██████████| 180/180 [00:04<00:00, 40.16it/s]\n"
     ]
    },
    {
     "name": "stdout",
     "output_type": "stream",
     "text": [
      "Epoch  6,  Loss: 15397.7715,  Regret:  7.7423%\n"
     ]
    },
    {
     "name": "stderr",
     "output_type": "stream",
     "text": [
      "100%|██████████| 180/180 [00:04<00:00, 40.95it/s]\n",
      "100%|██████████| 180/180 [00:03<00:00, 48.35it/s]\n"
     ]
    },
    {
     "name": "stdout",
     "output_type": "stream",
     "text": [
      "Epoch  7,  Loss: 15819.1162,  Regret: 11.2649%\n"
     ]
    },
    {
     "name": "stderr",
     "output_type": "stream",
     "text": [
      "100%|██████████| 180/180 [00:04<00:00, 40.59it/s]\n",
      "100%|██████████| 180/180 [00:03<00:00, 50.81it/s]\n"
     ]
    },
    {
     "name": "stdout",
     "output_type": "stream",
     "text": [
      "Epoch  8,  Loss: 10783.7891,  Regret: 11.2553%\n"
     ]
    },
    {
     "name": "stderr",
     "output_type": "stream",
     "text": [
      "100%|██████████| 180/180 [00:04<00:00, 41.95it/s]\n",
      "100%|██████████| 180/180 [00:03<00:00, 45.39it/s]\n"
     ]
    },
    {
     "name": "stdout",
     "output_type": "stream",
     "text": [
      "Epoch  9,  Loss: 12274.5078,  Regret:  8.9165%\n"
     ]
    },
    {
     "name": "stderr",
     "output_type": "stream",
     "text": [
      "100%|██████████| 180/180 [00:04<00:00, 39.88it/s]\n",
      "100%|██████████| 180/180 [00:02<00:00, 81.03it/s] \n"
     ]
    },
    {
     "name": "stdout",
     "output_type": "stream",
     "text": [
      "Epoch 10,  Loss: 12945.9727,  Regret: 11.2500%\n"
     ]
    },
    {
     "name": "stderr",
     "output_type": "stream",
     "text": [
      "100%|██████████| 180/180 [00:03<00:00, 49.83it/s]\n",
      "100%|██████████| 180/180 [00:01<00:00, 123.47it/s]\n"
     ]
    },
    {
     "name": "stdout",
     "output_type": "stream",
     "text": [
      "Epoch 11,  Loss: 13772.5811,  Regret:  8.3364%\n"
     ]
    },
    {
     "name": "stderr",
     "output_type": "stream",
     "text": [
      "100%|██████████| 180/180 [00:04<00:00, 42.61it/s]\n",
      "100%|██████████| 180/180 [00:01<00:00, 129.53it/s]\n"
     ]
    },
    {
     "name": "stdout",
     "output_type": "stream",
     "text": [
      "Epoch 12,  Loss: 13742.7324,  Regret:  8.5483%\n"
     ]
    },
    {
     "name": "stderr",
     "output_type": "stream",
     "text": [
      "100%|██████████| 180/180 [00:04<00:00, 41.14it/s]\n",
      "100%|██████████| 180/180 [00:03<00:00, 46.02it/s]\n"
     ]
    },
    {
     "name": "stdout",
     "output_type": "stream",
     "text": [
      "Epoch 13,  Loss: 14683.6270,  Regret:  8.8675%\n"
     ]
    },
    {
     "name": "stderr",
     "output_type": "stream",
     "text": [
      "100%|██████████| 180/180 [00:04<00:00, 39.38it/s]\n",
      "100%|██████████| 180/180 [00:04<00:00, 43.77it/s]\n"
     ]
    },
    {
     "name": "stdout",
     "output_type": "stream",
     "text": [
      "Epoch 14,  Loss: 7806.4150,  Regret: 12.8043%\n"
     ]
    },
    {
     "name": "stderr",
     "output_type": "stream",
     "text": [
      "100%|██████████| 180/180 [00:04<00:00, 39.08it/s]\n",
      "100%|██████████| 180/180 [00:04<00:00, 41.62it/s]\n"
     ]
    },
    {
     "name": "stdout",
     "output_type": "stream",
     "text": [
      "Epoch 15,  Loss: 10160.7021,  Regret:  8.2341%\n"
     ]
    },
    {
     "name": "stderr",
     "output_type": "stream",
     "text": [
      "100%|██████████| 180/180 [00:04<00:00, 40.46it/s]\n",
      "100%|██████████| 180/180 [00:04<00:00, 43.99it/s]\n"
     ]
    },
    {
     "name": "stdout",
     "output_type": "stream",
     "text": [
      "Epoch 16,  Loss: 14173.9795,  Regret:  8.2334%\n"
     ]
    },
    {
     "name": "stderr",
     "output_type": "stream",
     "text": [
      "100%|██████████| 180/180 [00:04<00:00, 39.36it/s]\n",
      "100%|██████████| 180/180 [00:04<00:00, 44.17it/s]\n"
     ]
    },
    {
     "name": "stdout",
     "output_type": "stream",
     "text": [
      "Epoch 17,  Loss: 13983.6455,  Regret:  8.6991%\n"
     ]
    },
    {
     "name": "stderr",
     "output_type": "stream",
     "text": [
      "100%|██████████| 180/180 [00:04<00:00, 39.11it/s]\n",
      "100%|██████████| 180/180 [00:04<00:00, 44.19it/s]\n"
     ]
    },
    {
     "name": "stdout",
     "output_type": "stream",
     "text": [
      "Epoch 18,  Loss: 15821.1387,  Regret:  9.6906%\n"
     ]
    },
    {
     "name": "stderr",
     "output_type": "stream",
     "text": [
      "100%|██████████| 180/180 [00:04<00:00, 38.93it/s]\n",
      "100%|██████████| 180/180 [00:03<00:00, 45.62it/s]\n"
     ]
    },
    {
     "name": "stdout",
     "output_type": "stream",
     "text": [
      "Epoch 19,  Loss: 9600.0039,  Regret:  8.5677%\n"
     ]
    },
    {
     "name": "stderr",
     "output_type": "stream",
     "text": [
      "100%|██████████| 180/180 [00:04<00:00, 39.54it/s]\n",
      "100%|██████████| 180/180 [00:04<00:00, 44.72it/s]\n"
     ]
    },
    {
     "name": "stdout",
     "output_type": "stream",
     "text": [
      "Epoch 20,  Loss: 13392.6904,  Regret:  8.8454%\n"
     ]
    },
    {
     "name": "stderr",
     "output_type": "stream",
     "text": [
      "100%|██████████| 180/180 [00:04<00:00, 39.26it/s]\n",
      "100%|██████████| 180/180 [00:03<00:00, 46.42it/s]\n"
     ]
    },
    {
     "name": "stdout",
     "output_type": "stream",
     "text": [
      "Epoch 21,  Loss: 10059.9141,  Regret: 11.0458%\n"
     ]
    },
    {
     "name": "stderr",
     "output_type": "stream",
     "text": [
      "100%|██████████| 180/180 [00:04<00:00, 39.76it/s]\n",
      "100%|██████████| 180/180 [00:03<00:00, 47.24it/s]\n"
     ]
    },
    {
     "name": "stdout",
     "output_type": "stream",
     "text": [
      "Epoch 22,  Loss: 13269.8545,  Regret: 10.7902%\n"
     ]
    },
    {
     "name": "stderr",
     "output_type": "stream",
     "text": [
      "100%|██████████| 180/180 [00:04<00:00, 40.84it/s]\n",
      "100%|██████████| 180/180 [00:03<00:00, 47.79it/s]\n"
     ]
    },
    {
     "name": "stdout",
     "output_type": "stream",
     "text": [
      "Epoch 23,  Loss: 9913.8535,  Regret:  8.0658%\n"
     ]
    },
    {
     "name": "stderr",
     "output_type": "stream",
     "text": [
      "100%|██████████| 180/180 [00:04<00:00, 40.23it/s]\n",
      "100%|██████████| 180/180 [00:03<00:00, 49.05it/s]\n"
     ]
    },
    {
     "name": "stdout",
     "output_type": "stream",
     "text": [
      "Epoch 24,  Loss: 8634.0400,  Regret:  8.8442%\n"
     ]
    },
    {
     "name": "stderr",
     "output_type": "stream",
     "text": [
      "100%|██████████| 180/180 [00:04<00:00, 40.82it/s]\n",
      "100%|██████████| 180/180 [00:03<00:00, 47.63it/s]\n"
     ]
    },
    {
     "name": "stdout",
     "output_type": "stream",
     "text": [
      "Epoch 25,  Loss: 7603.0811,  Regret:  8.9904%\n"
     ]
    },
    {
     "name": "stderr",
     "output_type": "stream",
     "text": [
      "100%|██████████| 180/180 [00:04<00:00, 39.46it/s]\n",
      "100%|██████████| 180/180 [00:03<00:00, 48.40it/s]\n"
     ]
    },
    {
     "name": "stdout",
     "output_type": "stream",
     "text": [
      "Epoch 26,  Loss: 12969.2646,  Regret: 10.2048%\n"
     ]
    },
    {
     "name": "stderr",
     "output_type": "stream",
     "text": [
      "100%|██████████| 180/180 [00:04<00:00, 39.26it/s]\n",
      "100%|██████████| 180/180 [00:03<00:00, 48.03it/s]\n"
     ]
    },
    {
     "name": "stdout",
     "output_type": "stream",
     "text": [
      "Epoch 27,  Loss: 9476.9434,  Regret:  9.3839%\n"
     ]
    },
    {
     "name": "stderr",
     "output_type": "stream",
     "text": [
      "100%|██████████| 180/180 [00:04<00:00, 40.08it/s]\n",
      "100%|██████████| 180/180 [00:03<00:00, 45.54it/s]\n"
     ]
    },
    {
     "name": "stdout",
     "output_type": "stream",
     "text": [
      "Epoch 28,  Loss: 12864.5820,  Regret: 10.8120%\n"
     ]
    },
    {
     "name": "stderr",
     "output_type": "stream",
     "text": [
      "100%|██████████| 180/180 [00:04<00:00, 40.35it/s]\n",
      "100%|██████████| 180/180 [00:03<00:00, 47.07it/s]\n"
     ]
    },
    {
     "name": "stdout",
     "output_type": "stream",
     "text": [
      "Epoch 29,  Loss: 12825.9258,  Regret:  9.6786%\n"
     ]
    },
    {
     "name": "stderr",
     "output_type": "stream",
     "text": [
      "100%|██████████| 180/180 [00:04<00:00, 39.81it/s]\n",
      "100%|██████████| 180/180 [00:03<00:00, 49.19it/s]\n"
     ]
    },
    {
     "name": "stdout",
     "output_type": "stream",
     "text": [
      "Epoch 30,  Loss: 12572.7363,  Regret:  9.4700%\n",
      "Total Elapsed Time: 11333.38 Sec.\n"
     ]
    },
    {
     "data": {
      "text/html": [
       "<style>\n",
       "    table.wandb td:nth-child(1) { padding: 0 10px; text-align: left ; width: auto;} td:nth-child(2) {text-align: left ; width: 100%}\n",
       "    .wandb-row { display: flex; flex-direction: row; flex-wrap: wrap; justify-content: flex-start; width: 100% }\n",
       "    .wandb-col { display: flex; flex-direction: column; flex-basis: 100%; flex: 1; padding: 10px; }\n",
       "    </style>\n",
       "<div class=\"wandb-row\"><div class=\"wandb-col\"><h3>Run history:</h3><br/><table class=\"wandb\"><tr><td>Linear loss</td><td>▃█▆▂▂▅▄▄▁▃▄▂▂▇▆▁▂▁▄▂▃▅▇▁▂▁▅▃▃█▄▂▂▁█▆▁█▃▄</td></tr><tr><td>Regret</td><td>▄█▆▄▇▁▄▄▂▄▁▂▂▅▁▁▂▃▂▂▄▃▁▂▂▃▂▃▂▂</td></tr></table><br/></div><div class=\"wandb-col\"><h3>Run summary:</h3><br/><table class=\"wandb\"><tr><td>Linear loss</td><td>12572.73633</td></tr><tr><td>Regret</td><td>0.0947</td></tr></table><br/></div></div>"
      ],
      "text/plain": [
       "<IPython.core.display.HTML object>"
      ]
     },
     "metadata": {},
     "output_type": "display_data"
    },
    {
     "data": {
      "text/html": [
       " View run <strong style=\"color:#cdcd00\">worthy-sweep-1</strong> at: <a href='https://wandb.ai/Pyepo_special/Sweep%20Pyepo%20Basic%20Model/runs/dwk0psgm' target=\"_blank\">https://wandb.ai/Pyepo_special/Sweep%20Pyepo%20Basic%20Model/runs/dwk0psgm</a><br/> View project at: <a href='https://wandb.ai/Pyepo_special/Sweep%20Pyepo%20Basic%20Model' target=\"_blank\">https://wandb.ai/Pyepo_special/Sweep%20Pyepo%20Basic%20Model</a><br/>Synced 5 W&B file(s), 0 media file(s), 0 artifact file(s) and 0 other file(s)"
      ],
      "text/plain": [
       "<IPython.core.display.HTML object>"
      ]
     },
     "metadata": {},
     "output_type": "display_data"
    },
    {
     "data": {
      "text/html": [
       "Find logs at: <code>.\\wandb\\run-20240515_114848-dwk0psgm\\logs</code>"
      ],
      "text/plain": [
       "<IPython.core.display.HTML object>"
      ]
     },
     "metadata": {},
     "output_type": "display_data"
    },
    {
     "name": "stderr",
     "output_type": "stream",
     "text": [
      "\u001b[34m\u001b[1mwandb\u001b[0m: Agent Starting Run: pz1iixym with config:\n",
      "\u001b[34m\u001b[1mwandb\u001b[0m: \tdropout: 0.2\n",
      "\u001b[34m\u001b[1mwandb\u001b[0m: \tgamma: 0.95\n",
      "\u001b[34m\u001b[1mwandb\u001b[0m: \tlr: 0.001\n",
      "\u001b[34m\u001b[1mwandb\u001b[0m: \tmethod_name: spo+\n",
      "\u001b[34m\u001b[1mwandb\u001b[0m: \tneurons: 32\n",
      "\u001b[34m\u001b[1mwandb\u001b[0m: \tnum_epochs: 10\n",
      "Failed to detect the name of this notebook, you can set it manually with the WANDB_NOTEBOOK_NAME environment variable to enable code saving.\n"
     ]
    },
    {
     "data": {
      "text/html": [
       "Tracking run with wandb version 0.17.0"
      ],
      "text/plain": [
       "<IPython.core.display.HTML object>"
      ]
     },
     "metadata": {},
     "output_type": "display_data"
    },
    {
     "data": {
      "text/html": [
       "Run data is saved locally in <code>c:\\Users\\ande7\\Documents\\Semester 3\\Special\\Course Material\\contextual_dm_in_power_sys\\main_folder\\models\\PyEpo\\wandb\\run-20240515_115251-pz1iixym</code>"
      ],
      "text/plain": [
       "<IPython.core.display.HTML object>"
      ]
     },
     "metadata": {},
     "output_type": "display_data"
    },
    {
     "data": {
      "text/html": [
       "Syncing run <strong><a href='https://wandb.ai/Pyepo_special/Sweep%20Pyepo%20Basic%20Model/runs/pz1iixym' target=\"_blank\">eager-sweep-2</a></strong> to <a href='https://wandb.ai/Pyepo_special/Sweep%20Pyepo%20Basic%20Model' target=\"_blank\">Weights & Biases</a> (<a href='https://wandb.me/run' target=\"_blank\">docs</a>)<br/>Sweep page: <a href='https://wandb.ai/Pyepo_special/Sweep%20Pyepo%20Basic%20Model/sweeps/21l2bgkz' target=\"_blank\">https://wandb.ai/Pyepo_special/Sweep%20Pyepo%20Basic%20Model/sweeps/21l2bgkz</a>"
      ],
      "text/plain": [
       "<IPython.core.display.HTML object>"
      ]
     },
     "metadata": {},
     "output_type": "display_data"
    },
    {
     "data": {
      "text/html": [
       " View project at <a href='https://wandb.ai/Pyepo_special/Sweep%20Pyepo%20Basic%20Model' target=\"_blank\">https://wandb.ai/Pyepo_special/Sweep%20Pyepo%20Basic%20Model</a>"
      ],
      "text/plain": [
       "<IPython.core.display.HTML object>"
      ]
     },
     "metadata": {},
     "output_type": "display_data"
    },
    {
     "data": {
      "text/html": [
       " View sweep at <a href='https://wandb.ai/Pyepo_special/Sweep%20Pyepo%20Basic%20Model/sweeps/21l2bgkz' target=\"_blank\">https://wandb.ai/Pyepo_special/Sweep%20Pyepo%20Basic%20Model/sweeps/21l2bgkz</a>"
      ],
      "text/plain": [
       "<IPython.core.display.HTML object>"
      ]
     },
     "metadata": {},
     "output_type": "display_data"
    },
    {
     "data": {
      "text/html": [
       " View run at <a href='https://wandb.ai/Pyepo_special/Sweep%20Pyepo%20Basic%20Model/runs/pz1iixym' target=\"_blank\">https://wandb.ai/Pyepo_special/Sweep%20Pyepo%20Basic%20Model/runs/pz1iixym</a>"
      ],
      "text/plain": [
       "<IPython.core.display.HTML object>"
      ]
     },
     "metadata": {},
     "output_type": "display_data"
    },
    {
     "name": "stderr",
     "output_type": "stream",
     "text": [
      "100%|██████████| 180/180 [00:03<00:00, 49.81it/s]\n",
      "100%|██████████| 180/180 [00:04<00:00, 40.70it/s]\n",
      "100%|██████████| 180/180 [00:03<00:00, 48.22it/s]\n"
     ]
    },
    {
     "name": "stdout",
     "output_type": "stream",
     "text": [
      "Epoch  1,  Loss: 14786.6006,  Regret:  7.9631%\n"
     ]
    },
    {
     "name": "stderr",
     "output_type": "stream",
     "text": [
      "100%|██████████| 180/180 [00:04<00:00, 40.40it/s]\n",
      "100%|██████████| 180/180 [00:03<00:00, 47.72it/s]\n"
     ]
    },
    {
     "name": "stdout",
     "output_type": "stream",
     "text": [
      "Epoch  2,  Loss: 13996.5537,  Regret:  8.0546%\n"
     ]
    },
    {
     "name": "stderr",
     "output_type": "stream",
     "text": [
      "100%|██████████| 180/180 [00:04<00:00, 40.96it/s]\n",
      "100%|██████████| 180/180 [00:03<00:00, 47.80it/s]\n"
     ]
    },
    {
     "name": "stdout",
     "output_type": "stream",
     "text": [
      "Epoch  3,  Loss: 12560.5449,  Regret:  7.7437%\n"
     ]
    },
    {
     "name": "stderr",
     "output_type": "stream",
     "text": [
      "100%|██████████| 180/180 [00:04<00:00, 41.07it/s]\n",
      "100%|██████████| 180/180 [00:03<00:00, 46.99it/s]\n"
     ]
    },
    {
     "name": "stdout",
     "output_type": "stream",
     "text": [
      "Epoch  4,  Loss: 12306.2949,  Regret:  7.6011%\n"
     ]
    },
    {
     "name": "stderr",
     "output_type": "stream",
     "text": [
      "100%|██████████| 180/180 [00:04<00:00, 40.30it/s]\n",
      "100%|██████████| 180/180 [00:04<00:00, 44.49it/s]\n"
     ]
    },
    {
     "name": "stdout",
     "output_type": "stream",
     "text": [
      "Epoch  5,  Loss: 11728.0361,  Regret:  7.4841%\n"
     ]
    },
    {
     "name": "stderr",
     "output_type": "stream",
     "text": [
      "100%|██████████| 180/180 [00:04<00:00, 40.27it/s]\n",
      "100%|██████████| 180/180 [00:04<00:00, 44.75it/s]\n"
     ]
    },
    {
     "name": "stdout",
     "output_type": "stream",
     "text": [
      "Epoch  6,  Loss: 11240.9492,  Regret:  7.4165%\n"
     ]
    },
    {
     "name": "stderr",
     "output_type": "stream",
     "text": [
      "100%|██████████| 180/180 [00:04<00:00, 40.43it/s]\n",
      "100%|██████████| 180/180 [00:03<00:00, 46.00it/s]\n"
     ]
    },
    {
     "name": "stdout",
     "output_type": "stream",
     "text": [
      "Epoch  7,  Loss: 11008.7793,  Regret:  7.2850%\n"
     ]
    },
    {
     "name": "stderr",
     "output_type": "stream",
     "text": [
      "100%|██████████| 180/180 [00:04<00:00, 40.17it/s]\n",
      "100%|██████████| 180/180 [00:03<00:00, 46.36it/s]\n"
     ]
    },
    {
     "name": "stdout",
     "output_type": "stream",
     "text": [
      "Epoch  8,  Loss: 10591.1836,  Regret:  7.3660%\n"
     ]
    },
    {
     "name": "stderr",
     "output_type": "stream",
     "text": [
      "100%|██████████| 180/180 [00:04<00:00, 41.09it/s]\n",
      "100%|██████████| 180/180 [00:03<00:00, 47.01it/s]\n"
     ]
    },
    {
     "name": "stdout",
     "output_type": "stream",
     "text": [
      "Epoch  9,  Loss: 11244.0371,  Regret:  7.2630%\n"
     ]
    },
    {
     "name": "stderr",
     "output_type": "stream",
     "text": [
      "100%|██████████| 180/180 [00:04<00:00, 40.98it/s]\n",
      "100%|██████████| 180/180 [00:03<00:00, 47.76it/s]\n"
     ]
    },
    {
     "name": "stdout",
     "output_type": "stream",
     "text": [
      "Epoch 10,  Loss: 12452.1836,  Regret:  7.2452%\n",
      "Total Elapsed Time: 4021.61 Sec.\n"
     ]
    },
    {
     "data": {
      "text/html": [
       "<style>\n",
       "    table.wandb td:nth-child(1) { padding: 0 10px; text-align: left ; width: auto;} td:nth-child(2) {text-align: left ; width: 100%}\n",
       "    .wandb-row { display: flex; flex-direction: row; flex-wrap: wrap; justify-content: flex-start; width: 100% }\n",
       "    .wandb-col { display: flex; flex-direction: column; flex-basis: 100%; flex: 1; padding: 10px; }\n",
       "    </style>\n",
       "<div class=\"wandb-row\"><div class=\"wandb-col\"><h3>Run history:</h3><br/><table class=\"wandb\"><tr><td>Linear loss</td><td>█▅▂▅▇▃▂▆█▄▂▆▃▁▂▅▇▂▄▆▇▃▁▄▃▁▅▆▃▁▄▄▁▂▄▅▁▂▅▇</td></tr><tr><td>Regret</td><td>▇█▅▄▃▂▁▂▁▁</td></tr></table><br/></div><div class=\"wandb-col\"><h3>Run summary:</h3><br/><table class=\"wandb\"><tr><td>Linear loss</td><td>12452.18359</td></tr><tr><td>Regret</td><td>0.07245</td></tr></table><br/></div></div>"
      ],
      "text/plain": [
       "<IPython.core.display.HTML object>"
      ]
     },
     "metadata": {},
     "output_type": "display_data"
    },
    {
     "data": {
      "text/html": [
       " View run <strong style=\"color:#cdcd00\">eager-sweep-2</strong> at: <a href='https://wandb.ai/Pyepo_special/Sweep%20Pyepo%20Basic%20Model/runs/pz1iixym' target=\"_blank\">https://wandb.ai/Pyepo_special/Sweep%20Pyepo%20Basic%20Model/runs/pz1iixym</a><br/> View project at: <a href='https://wandb.ai/Pyepo_special/Sweep%20Pyepo%20Basic%20Model' target=\"_blank\">https://wandb.ai/Pyepo_special/Sweep%20Pyepo%20Basic%20Model</a><br/>Synced 5 W&B file(s), 0 media file(s), 0 artifact file(s) and 0 other file(s)"
      ],
      "text/plain": [
       "<IPython.core.display.HTML object>"
      ]
     },
     "metadata": {},
     "output_type": "display_data"
    },
    {
     "data": {
      "text/html": [
       "Find logs at: <code>.\\wandb\\run-20240515_115251-pz1iixym\\logs</code>"
      ],
      "text/plain": [
       "<IPython.core.display.HTML object>"
      ]
     },
     "metadata": {},
     "output_type": "display_data"
    },
    {
     "name": "stderr",
     "output_type": "stream",
     "text": [
      "\u001b[34m\u001b[1mwandb\u001b[0m: Agent Starting Run: 20yfe3dr with config:\n",
      "\u001b[34m\u001b[1mwandb\u001b[0m: \tdropout: 0.9\n",
      "\u001b[34m\u001b[1mwandb\u001b[0m: \tgamma: 0.99\n",
      "\u001b[34m\u001b[1mwandb\u001b[0m: \tlr: 0.0001\n",
      "\u001b[34m\u001b[1mwandb\u001b[0m: \tmethod_name: spo+\n",
      "\u001b[34m\u001b[1mwandb\u001b[0m: \tneurons: 64\n",
      "\u001b[34m\u001b[1mwandb\u001b[0m: \tnum_epochs: 10\n",
      "Failed to detect the name of this notebook, you can set it manually with the WANDB_NOTEBOOK_NAME environment variable to enable code saving.\n"
     ]
    },
    {
     "data": {
      "text/html": [
       "Tracking run with wandb version 0.17.0"
      ],
      "text/plain": [
       "<IPython.core.display.HTML object>"
      ]
     },
     "metadata": {},
     "output_type": "display_data"
    },
    {
     "data": {
      "text/html": [
       "Run data is saved locally in <code>c:\\Users\\ande7\\Documents\\Semester 3\\Special\\Course Material\\contextual_dm_in_power_sys\\main_folder\\models\\PyEpo\\wandb\\run-20240515_115435-20yfe3dr</code>"
      ],
      "text/plain": [
       "<IPython.core.display.HTML object>"
      ]
     },
     "metadata": {},
     "output_type": "display_data"
    },
    {
     "data": {
      "text/html": [
       "Syncing run <strong><a href='https://wandb.ai/Pyepo_special/Sweep%20Pyepo%20Basic%20Model/runs/20yfe3dr' target=\"_blank\">cool-sweep-3</a></strong> to <a href='https://wandb.ai/Pyepo_special/Sweep%20Pyepo%20Basic%20Model' target=\"_blank\">Weights & Biases</a> (<a href='https://wandb.me/run' target=\"_blank\">docs</a>)<br/>Sweep page: <a href='https://wandb.ai/Pyepo_special/Sweep%20Pyepo%20Basic%20Model/sweeps/21l2bgkz' target=\"_blank\">https://wandb.ai/Pyepo_special/Sweep%20Pyepo%20Basic%20Model/sweeps/21l2bgkz</a>"
      ],
      "text/plain": [
       "<IPython.core.display.HTML object>"
      ]
     },
     "metadata": {},
     "output_type": "display_data"
    },
    {
     "data": {
      "text/html": [
       " View project at <a href='https://wandb.ai/Pyepo_special/Sweep%20Pyepo%20Basic%20Model' target=\"_blank\">https://wandb.ai/Pyepo_special/Sweep%20Pyepo%20Basic%20Model</a>"
      ],
      "text/plain": [
       "<IPython.core.display.HTML object>"
      ]
     },
     "metadata": {},
     "output_type": "display_data"
    },
    {
     "data": {
      "text/html": [
       " View sweep at <a href='https://wandb.ai/Pyepo_special/Sweep%20Pyepo%20Basic%20Model/sweeps/21l2bgkz' target=\"_blank\">https://wandb.ai/Pyepo_special/Sweep%20Pyepo%20Basic%20Model/sweeps/21l2bgkz</a>"
      ],
      "text/plain": [
       "<IPython.core.display.HTML object>"
      ]
     },
     "metadata": {},
     "output_type": "display_data"
    },
    {
     "data": {
      "text/html": [
       " View run at <a href='https://wandb.ai/Pyepo_special/Sweep%20Pyepo%20Basic%20Model/runs/20yfe3dr' target=\"_blank\">https://wandb.ai/Pyepo_special/Sweep%20Pyepo%20Basic%20Model/runs/20yfe3dr</a>"
      ],
      "text/plain": [
       "<IPython.core.display.HTML object>"
      ]
     },
     "metadata": {},
     "output_type": "display_data"
    },
    {
     "name": "stderr",
     "output_type": "stream",
     "text": [
      "100%|██████████| 180/180 [00:03<00:00, 48.05it/s]\n",
      "100%|██████████| 180/180 [00:04<00:00, 41.00it/s]\n",
      "100%|██████████| 180/180 [00:03<00:00, 47.75it/s]\n"
     ]
    },
    {
     "name": "stdout",
     "output_type": "stream",
     "text": [
      "Epoch  1,  Loss: 18986.3750,  Regret: 38.1820%\n"
     ]
    },
    {
     "name": "stderr",
     "output_type": "stream",
     "text": [
      "100%|██████████| 180/180 [00:04<00:00, 39.78it/s]\n",
      "100%|██████████| 180/180 [00:03<00:00, 46.86it/s]\n"
     ]
    },
    {
     "name": "stdout",
     "output_type": "stream",
     "text": [
      "Epoch  2,  Loss: 18872.7363,  Regret: 12.7386%\n"
     ]
    },
    {
     "name": "stderr",
     "output_type": "stream",
     "text": [
      "100%|██████████| 180/180 [00:04<00:00, 40.52it/s]\n",
      "100%|██████████| 180/180 [00:03<00:00, 48.18it/s]\n"
     ]
    },
    {
     "name": "stdout",
     "output_type": "stream",
     "text": [
      "Epoch  3,  Loss: 18370.5234,  Regret:  8.9745%\n"
     ]
    },
    {
     "name": "stderr",
     "output_type": "stream",
     "text": [
      "100%|██████████| 180/180 [00:04<00:00, 41.18it/s]\n",
      "100%|██████████| 180/180 [00:03<00:00, 47.02it/s]\n"
     ]
    },
    {
     "name": "stdout",
     "output_type": "stream",
     "text": [
      "Epoch  4,  Loss: 18111.1719,  Regret:  8.3832%\n"
     ]
    },
    {
     "name": "stderr",
     "output_type": "stream",
     "text": [
      "100%|██████████| 180/180 [00:04<00:00, 40.71it/s]\n",
      "100%|██████████| 180/180 [00:03<00:00, 48.25it/s]\n"
     ]
    },
    {
     "name": "stdout",
     "output_type": "stream",
     "text": [
      "Epoch  5,  Loss: 17585.5703,  Regret:  8.1882%\n"
     ]
    },
    {
     "name": "stderr",
     "output_type": "stream",
     "text": [
      "100%|██████████| 180/180 [00:04<00:00, 41.09it/s]\n",
      "100%|██████████| 180/180 [00:03<00:00, 47.33it/s]\n"
     ]
    },
    {
     "name": "stdout",
     "output_type": "stream",
     "text": [
      "Epoch  6,  Loss: 15815.8584,  Regret:  7.9948%\n"
     ]
    },
    {
     "name": "stderr",
     "output_type": "stream",
     "text": [
      "100%|██████████| 180/180 [00:04<00:00, 39.88it/s]\n",
      "100%|██████████| 180/180 [00:03<00:00, 46.00it/s]\n"
     ]
    },
    {
     "name": "stdout",
     "output_type": "stream",
     "text": [
      "Epoch  7,  Loss: 17834.0312,  Regret:  7.8342%\n"
     ]
    },
    {
     "name": "stderr",
     "output_type": "stream",
     "text": [
      "100%|██████████| 180/180 [00:04<00:00, 40.11it/s]\n",
      "100%|██████████| 180/180 [00:03<00:00, 46.52it/s]\n"
     ]
    },
    {
     "name": "stdout",
     "output_type": "stream",
     "text": [
      "Epoch  8,  Loss: 18960.6914,  Regret:  7.7044%\n"
     ]
    },
    {
     "name": "stderr",
     "output_type": "stream",
     "text": [
      "100%|██████████| 180/180 [00:04<00:00, 40.71it/s]\n",
      "100%|██████████| 180/180 [00:03<00:00, 47.45it/s]\n"
     ]
    },
    {
     "name": "stdout",
     "output_type": "stream",
     "text": [
      "Epoch  9,  Loss: 13628.8730,  Regret:  7.6687%\n"
     ]
    },
    {
     "name": "stderr",
     "output_type": "stream",
     "text": [
      "100%|██████████| 180/180 [00:04<00:00, 40.25it/s]\n",
      "100%|██████████| 180/180 [00:04<00:00, 44.71it/s]\n"
     ]
    },
    {
     "name": "stdout",
     "output_type": "stream",
     "text": [
      "Epoch 10,  Loss: 16440.1992,  Regret:  7.6069%\n",
      "Total Elapsed Time: 4030.27 Sec.\n"
     ]
    },
    {
     "data": {
      "text/html": [
       "<style>\n",
       "    table.wandb td:nth-child(1) { padding: 0 10px; text-align: left ; width: auto;} td:nth-child(2) {text-align: left ; width: 100%}\n",
       "    .wandb-row { display: flex; flex-direction: row; flex-wrap: wrap; justify-content: flex-start; width: 100% }\n",
       "    .wandb-col { display: flex; flex-direction: column; flex-basis: 100%; flex: 1; padding: 10px; }\n",
       "    </style>\n",
       "<div class=\"wandb-row\"><div class=\"wandb-col\"><h3>Run history:</h3><br/><table class=\"wandb\"><tr><td>Linear loss</td><td>█▅▃▅▇▃▄█▆▄▄▇▄▁▂▆▇▂▅▃▇▃▂▄▄▁▇▆▄▁▄▅▂▂▄▃▃▁▇▆</td></tr><tr><td>Regret</td><td>█▂▁▁▁▁▁▁▁▁</td></tr></table><br/></div><div class=\"wandb-col\"><h3>Run summary:</h3><br/><table class=\"wandb\"><tr><td>Linear loss</td><td>16440.19922</td></tr><tr><td>Regret</td><td>0.07607</td></tr></table><br/></div></div>"
      ],
      "text/plain": [
       "<IPython.core.display.HTML object>"
      ]
     },
     "metadata": {},
     "output_type": "display_data"
    },
    {
     "data": {
      "text/html": [
       " View run <strong style=\"color:#cdcd00\">cool-sweep-3</strong> at: <a href='https://wandb.ai/Pyepo_special/Sweep%20Pyepo%20Basic%20Model/runs/20yfe3dr' target=\"_blank\">https://wandb.ai/Pyepo_special/Sweep%20Pyepo%20Basic%20Model/runs/20yfe3dr</a><br/> View project at: <a href='https://wandb.ai/Pyepo_special/Sweep%20Pyepo%20Basic%20Model' target=\"_blank\">https://wandb.ai/Pyepo_special/Sweep%20Pyepo%20Basic%20Model</a><br/>Synced 5 W&B file(s), 0 media file(s), 0 artifact file(s) and 0 other file(s)"
      ],
      "text/plain": [
       "<IPython.core.display.HTML object>"
      ]
     },
     "metadata": {},
     "output_type": "display_data"
    },
    {
     "data": {
      "text/html": [
       "Find logs at: <code>.\\wandb\\run-20240515_115435-20yfe3dr\\logs</code>"
      ],
      "text/plain": [
       "<IPython.core.display.HTML object>"
      ]
     },
     "metadata": {},
     "output_type": "display_data"
    },
    {
     "name": "stderr",
     "output_type": "stream",
     "text": [
      "\u001b[34m\u001b[1mwandb\u001b[0m: Agent Starting Run: u0sd86oc with config:\n",
      "\u001b[34m\u001b[1mwandb\u001b[0m: \tdropout: 0.9\n",
      "\u001b[34m\u001b[1mwandb\u001b[0m: \tgamma: 0.9\n",
      "\u001b[34m\u001b[1mwandb\u001b[0m: \tlr: 0.0001\n",
      "\u001b[34m\u001b[1mwandb\u001b[0m: \tmethod_name: spo+\n",
      "\u001b[34m\u001b[1mwandb\u001b[0m: \tneurons: 128\n",
      "\u001b[34m\u001b[1mwandb\u001b[0m: \tnum_epochs: 20\n",
      "Failed to detect the name of this notebook, you can set it manually with the WANDB_NOTEBOOK_NAME environment variable to enable code saving.\n"
     ]
    },
    {
     "data": {
      "text/html": [
       "Tracking run with wandb version 0.17.0"
      ],
      "text/plain": [
       "<IPython.core.display.HTML object>"
      ]
     },
     "metadata": {},
     "output_type": "display_data"
    },
    {
     "data": {
      "text/html": [
       "Run data is saved locally in <code>c:\\Users\\ande7\\Documents\\Semester 3\\Special\\Course Material\\contextual_dm_in_power_sys\\main_folder\\models\\PyEpo\\wandb\\run-20240515_115614-u0sd86oc</code>"
      ],
      "text/plain": [
       "<IPython.core.display.HTML object>"
      ]
     },
     "metadata": {},
     "output_type": "display_data"
    },
    {
     "data": {
      "text/html": [
       "Syncing run <strong><a href='https://wandb.ai/Pyepo_special/Sweep%20Pyepo%20Basic%20Model/runs/u0sd86oc' target=\"_blank\">major-sweep-4</a></strong> to <a href='https://wandb.ai/Pyepo_special/Sweep%20Pyepo%20Basic%20Model' target=\"_blank\">Weights & Biases</a> (<a href='https://wandb.me/run' target=\"_blank\">docs</a>)<br/>Sweep page: <a href='https://wandb.ai/Pyepo_special/Sweep%20Pyepo%20Basic%20Model/sweeps/21l2bgkz' target=\"_blank\">https://wandb.ai/Pyepo_special/Sweep%20Pyepo%20Basic%20Model/sweeps/21l2bgkz</a>"
      ],
      "text/plain": [
       "<IPython.core.display.HTML object>"
      ]
     },
     "metadata": {},
     "output_type": "display_data"
    },
    {
     "data": {
      "text/html": [
       " View project at <a href='https://wandb.ai/Pyepo_special/Sweep%20Pyepo%20Basic%20Model' target=\"_blank\">https://wandb.ai/Pyepo_special/Sweep%20Pyepo%20Basic%20Model</a>"
      ],
      "text/plain": [
       "<IPython.core.display.HTML object>"
      ]
     },
     "metadata": {},
     "output_type": "display_data"
    },
    {
     "data": {
      "text/html": [
       " View sweep at <a href='https://wandb.ai/Pyepo_special/Sweep%20Pyepo%20Basic%20Model/sweeps/21l2bgkz' target=\"_blank\">https://wandb.ai/Pyepo_special/Sweep%20Pyepo%20Basic%20Model/sweeps/21l2bgkz</a>"
      ],
      "text/plain": [
       "<IPython.core.display.HTML object>"
      ]
     },
     "metadata": {},
     "output_type": "display_data"
    },
    {
     "data": {
      "text/html": [
       " View run at <a href='https://wandb.ai/Pyepo_special/Sweep%20Pyepo%20Basic%20Model/runs/u0sd86oc' target=\"_blank\">https://wandb.ai/Pyepo_special/Sweep%20Pyepo%20Basic%20Model/runs/u0sd86oc</a>"
      ],
      "text/plain": [
       "<IPython.core.display.HTML object>"
      ]
     },
     "metadata": {},
     "output_type": "display_data"
    },
    {
     "name": "stderr",
     "output_type": "stream",
     "text": [
      "100%|██████████| 180/180 [00:03<00:00, 47.48it/s]\n",
      "100%|██████████| 180/180 [00:04<00:00, 38.07it/s]\n",
      "100%|██████████| 180/180 [00:03<00:00, 47.41it/s]\n"
     ]
    },
    {
     "name": "stdout",
     "output_type": "stream",
     "text": [
      "Epoch  1,  Loss: 18945.9688,  Regret: 19.5487%\n"
     ]
    },
    {
     "name": "stderr",
     "output_type": "stream",
     "text": [
      "100%|██████████| 180/180 [00:04<00:00, 37.88it/s]\n",
      "100%|██████████| 180/180 [00:03<00:00, 48.10it/s]\n"
     ]
    },
    {
     "name": "stdout",
     "output_type": "stream",
     "text": [
      "Epoch  2,  Loss: 18561.8203,  Regret:  9.6015%\n"
     ]
    },
    {
     "name": "stderr",
     "output_type": "stream",
     "text": [
      "100%|██████████| 180/180 [00:04<00:00, 39.10it/s]\n",
      "100%|██████████| 180/180 [00:03<00:00, 47.21it/s]\n"
     ]
    },
    {
     "name": "stdout",
     "output_type": "stream",
     "text": [
      "Epoch  3,  Loss: 17839.2695,  Regret:  8.3619%\n"
     ]
    },
    {
     "name": "stderr",
     "output_type": "stream",
     "text": [
      "100%|██████████| 180/180 [00:04<00:00, 37.82it/s]\n",
      "100%|██████████| 180/180 [00:03<00:00, 47.96it/s]\n"
     ]
    },
    {
     "name": "stdout",
     "output_type": "stream",
     "text": [
      "Epoch  4,  Loss: 16552.8398,  Regret:  8.3172%\n"
     ]
    },
    {
     "name": "stderr",
     "output_type": "stream",
     "text": [
      "100%|██████████| 180/180 [00:04<00:00, 37.51it/s]\n",
      "100%|██████████| 180/180 [00:03<00:00, 47.38it/s]\n"
     ]
    },
    {
     "name": "stdout",
     "output_type": "stream",
     "text": [
      "Epoch  5,  Loss: 15822.1143,  Regret:  8.0593%\n"
     ]
    },
    {
     "name": "stderr",
     "output_type": "stream",
     "text": [
      "100%|██████████| 180/180 [00:04<00:00, 38.90it/s]\n",
      "100%|██████████| 180/180 [00:02<00:00, 63.94it/s]\n"
     ]
    },
    {
     "name": "stdout",
     "output_type": "stream",
     "text": [
      "Epoch  6,  Loss: 12723.0527,  Regret:  7.9012%\n"
     ]
    },
    {
     "name": "stderr",
     "output_type": "stream",
     "text": [
      "100%|██████████| 180/180 [00:04<00:00, 40.44it/s]\n",
      "100%|██████████| 180/180 [00:03<00:00, 45.92it/s]\n"
     ]
    },
    {
     "name": "stdout",
     "output_type": "stream",
     "text": [
      "Epoch  7,  Loss: 16368.4355,  Regret:  7.8541%\n"
     ]
    },
    {
     "name": "stderr",
     "output_type": "stream",
     "text": [
      "100%|██████████| 180/180 [00:04<00:00, 38.53it/s]\n",
      "100%|██████████| 180/180 [00:03<00:00, 46.65it/s]\n"
     ]
    },
    {
     "name": "stdout",
     "output_type": "stream",
     "text": [
      "Epoch  8,  Loss: 14500.8477,  Regret:  7.7806%\n"
     ]
    },
    {
     "name": "stderr",
     "output_type": "stream",
     "text": [
      "100%|██████████| 180/180 [00:04<00:00, 38.65it/s]\n",
      "100%|██████████| 180/180 [00:03<00:00, 46.22it/s]\n"
     ]
    },
    {
     "name": "stdout",
     "output_type": "stream",
     "text": [
      "Epoch  9,  Loss: 14199.0449,  Regret:  7.6960%\n"
     ]
    },
    {
     "name": "stderr",
     "output_type": "stream",
     "text": [
      "100%|██████████| 180/180 [00:04<00:00, 38.19it/s]\n",
      "100%|██████████| 180/180 [00:03<00:00, 46.54it/s]\n"
     ]
    },
    {
     "name": "stdout",
     "output_type": "stream",
     "text": [
      "Epoch 10,  Loss: 13114.6602,  Regret:  7.6819%\n"
     ]
    },
    {
     "name": "stderr",
     "output_type": "stream",
     "text": [
      "100%|██████████| 180/180 [00:04<00:00, 37.55it/s]\n",
      "100%|██████████| 180/180 [00:03<00:00, 46.32it/s]\n"
     ]
    },
    {
     "name": "stdout",
     "output_type": "stream",
     "text": [
      "Epoch 11,  Loss: 13013.1006,  Regret:  7.6551%\n"
     ]
    },
    {
     "name": "stderr",
     "output_type": "stream",
     "text": [
      "100%|██████████| 180/180 [00:04<00:00, 37.85it/s]\n",
      "100%|██████████| 180/180 [00:03<00:00, 46.46it/s]\n"
     ]
    },
    {
     "name": "stdout",
     "output_type": "stream",
     "text": [
      "Epoch 12,  Loss: 13415.8984,  Regret:  7.6293%\n"
     ]
    },
    {
     "name": "stderr",
     "output_type": "stream",
     "text": [
      "100%|██████████| 180/180 [00:04<00:00, 38.03it/s]\n",
      "100%|██████████| 180/180 [00:03<00:00, 47.81it/s]\n"
     ]
    },
    {
     "name": "stdout",
     "output_type": "stream",
     "text": [
      "Epoch 13,  Loss: 13914.5234,  Regret:  7.6619%\n"
     ]
    },
    {
     "name": "stderr",
     "output_type": "stream",
     "text": [
      "100%|██████████| 180/180 [00:04<00:00, 39.12it/s]\n",
      "100%|██████████| 180/180 [00:03<00:00, 47.76it/s]\n"
     ]
    },
    {
     "name": "stdout",
     "output_type": "stream",
     "text": [
      "Epoch 14,  Loss: 11935.8096,  Regret:  7.6535%\n"
     ]
    },
    {
     "name": "stderr",
     "output_type": "stream",
     "text": [
      "100%|██████████| 180/180 [00:04<00:00, 39.64it/s]\n",
      "100%|██████████| 180/180 [00:03<00:00, 46.73it/s]\n"
     ]
    },
    {
     "name": "stdout",
     "output_type": "stream",
     "text": [
      "Epoch 15,  Loss: 15240.4541,  Regret:  7.6048%\n"
     ]
    },
    {
     "name": "stderr",
     "output_type": "stream",
     "text": [
      "100%|██████████| 180/180 [00:04<00:00, 38.55it/s]\n",
      "100%|██████████| 180/180 [00:03<00:00, 46.99it/s]\n"
     ]
    },
    {
     "name": "stdout",
     "output_type": "stream",
     "text": [
      "Epoch 16,  Loss: 10987.7100,  Regret:  7.6115%\n"
     ]
    },
    {
     "name": "stderr",
     "output_type": "stream",
     "text": [
      "100%|██████████| 180/180 [00:04<00:00, 37.55it/s]\n",
      "100%|██████████| 180/180 [00:03<00:00, 46.70it/s]\n"
     ]
    },
    {
     "name": "stdout",
     "output_type": "stream",
     "text": [
      "Epoch 17,  Loss: 12147.4141,  Regret:  7.5994%\n"
     ]
    },
    {
     "name": "stderr",
     "output_type": "stream",
     "text": [
      "100%|██████████| 180/180 [00:04<00:00, 37.83it/s]\n",
      "100%|██████████| 180/180 [00:03<00:00, 46.05it/s]\n"
     ]
    },
    {
     "name": "stdout",
     "output_type": "stream",
     "text": [
      "Epoch 18,  Loss: 13146.1270,  Regret:  7.6310%\n"
     ]
    },
    {
     "name": "stderr",
     "output_type": "stream",
     "text": [
      "100%|██████████| 180/180 [00:04<00:00, 37.64it/s]\n",
      "100%|██████████| 180/180 [00:04<00:00, 40.62it/s]\n"
     ]
    },
    {
     "name": "stdout",
     "output_type": "stream",
     "text": [
      "Epoch 19,  Loss: 11349.7441,  Regret:  7.6251%\n"
     ]
    },
    {
     "name": "stderr",
     "output_type": "stream",
     "text": [
      "100%|██████████| 180/180 [00:04<00:00, 36.44it/s]\n",
      "100%|██████████| 180/180 [00:03<00:00, 46.19it/s]\n"
     ]
    },
    {
     "name": "stdout",
     "output_type": "stream",
     "text": [
      "Epoch 20,  Loss: 16479.1465,  Regret:  7.6107%\n",
      "Total Elapsed Time: 8587.32 Sec.\n"
     ]
    },
    {
     "data": {
      "text/html": [
       "<style>\n",
       "    table.wandb td:nth-child(1) { padding: 0 10px; text-align: left ; width: auto;} td:nth-child(2) {text-align: left ; width: 100%}\n",
       "    .wandb-row { display: flex; flex-direction: row; flex-wrap: wrap; justify-content: flex-start; width: 100% }\n",
       "    .wandb-col { display: flex; flex-direction: column; flex-basis: 100%; flex: 1; padding: 10px; }\n",
       "    </style>\n",
       "<div class=\"wandb-row\"><div class=\"wandb-col\"><h3>Run history:</h3><br/><table class=\"wandb\"><tr><td>Linear loss</td><td>▃▂▆▄▃▆▂▂▇▅▂▇▂▇▃▄▂▇▁▆▃▅▁█▂▄▂▅▂▆▂▅▂▇▁▆▃▆▁▄</td></tr><tr><td>Regret</td><td>█▂▁▁▁▁▁▁▁▁▁▁▁▁▁▁▁▁▁▁</td></tr></table><br/></div><div class=\"wandb-col\"><h3>Run summary:</h3><br/><table class=\"wandb\"><tr><td>Linear loss</td><td>16479.14648</td></tr><tr><td>Regret</td><td>0.07611</td></tr></table><br/></div></div>"
      ],
      "text/plain": [
       "<IPython.core.display.HTML object>"
      ]
     },
     "metadata": {},
     "output_type": "display_data"
    },
    {
     "data": {
      "text/html": [
       " View run <strong style=\"color:#cdcd00\">major-sweep-4</strong> at: <a href='https://wandb.ai/Pyepo_special/Sweep%20Pyepo%20Basic%20Model/runs/u0sd86oc' target=\"_blank\">https://wandb.ai/Pyepo_special/Sweep%20Pyepo%20Basic%20Model/runs/u0sd86oc</a><br/> View project at: <a href='https://wandb.ai/Pyepo_special/Sweep%20Pyepo%20Basic%20Model' target=\"_blank\">https://wandb.ai/Pyepo_special/Sweep%20Pyepo%20Basic%20Model</a><br/>Synced 5 W&B file(s), 0 media file(s), 0 artifact file(s) and 0 other file(s)"
      ],
      "text/plain": [
       "<IPython.core.display.HTML object>"
      ]
     },
     "metadata": {},
     "output_type": "display_data"
    },
    {
     "data": {
      "text/html": [
       "Find logs at: <code>.\\wandb\\run-20240515_115614-u0sd86oc\\logs</code>"
      ],
      "text/plain": [
       "<IPython.core.display.HTML object>"
      ]
     },
     "metadata": {},
     "output_type": "display_data"
    },
    {
     "name": "stderr",
     "output_type": "stream",
     "text": [
      "\u001b[34m\u001b[1mwandb\u001b[0m: Agent Starting Run: x18orxhd with config:\n",
      "\u001b[34m\u001b[1mwandb\u001b[0m: \tdropout: 0.5\n",
      "\u001b[34m\u001b[1mwandb\u001b[0m: \tgamma: 0.95\n",
      "\u001b[34m\u001b[1mwandb\u001b[0m: \tlr: 0.01\n",
      "\u001b[34m\u001b[1mwandb\u001b[0m: \tmethod_name: spo+\n",
      "\u001b[34m\u001b[1mwandb\u001b[0m: \tneurons: 32\n",
      "\u001b[34m\u001b[1mwandb\u001b[0m: \tnum_epochs: 30\n",
      "Failed to detect the name of this notebook, you can set it manually with the WANDB_NOTEBOOK_NAME environment variable to enable code saving.\n"
     ]
    },
    {
     "data": {
      "text/html": [
       "Tracking run with wandb version 0.17.0"
      ],
      "text/plain": [
       "<IPython.core.display.HTML object>"
      ]
     },
     "metadata": {},
     "output_type": "display_data"
    },
    {
     "data": {
      "text/html": [
       "Run data is saved locally in <code>c:\\Users\\ande7\\Documents\\Semester 3\\Special\\Course Material\\contextual_dm_in_power_sys\\main_folder\\models\\PyEpo\\wandb\\run-20240515_115925-x18orxhd</code>"
      ],
      "text/plain": [
       "<IPython.core.display.HTML object>"
      ]
     },
     "metadata": {},
     "output_type": "display_data"
    },
    {
     "data": {
      "text/html": [
       "Syncing run <strong><a href='https://wandb.ai/Pyepo_special/Sweep%20Pyepo%20Basic%20Model/runs/x18orxhd' target=\"_blank\">snowy-sweep-5</a></strong> to <a href='https://wandb.ai/Pyepo_special/Sweep%20Pyepo%20Basic%20Model' target=\"_blank\">Weights & Biases</a> (<a href='https://wandb.me/run' target=\"_blank\">docs</a>)<br/>Sweep page: <a href='https://wandb.ai/Pyepo_special/Sweep%20Pyepo%20Basic%20Model/sweeps/21l2bgkz' target=\"_blank\">https://wandb.ai/Pyepo_special/Sweep%20Pyepo%20Basic%20Model/sweeps/21l2bgkz</a>"
      ],
      "text/plain": [
       "<IPython.core.display.HTML object>"
      ]
     },
     "metadata": {},
     "output_type": "display_data"
    },
    {
     "data": {
      "text/html": [
       " View project at <a href='https://wandb.ai/Pyepo_special/Sweep%20Pyepo%20Basic%20Model' target=\"_blank\">https://wandb.ai/Pyepo_special/Sweep%20Pyepo%20Basic%20Model</a>"
      ],
      "text/plain": [
       "<IPython.core.display.HTML object>"
      ]
     },
     "metadata": {},
     "output_type": "display_data"
    },
    {
     "data": {
      "text/html": [
       " View sweep at <a href='https://wandb.ai/Pyepo_special/Sweep%20Pyepo%20Basic%20Model/sweeps/21l2bgkz' target=\"_blank\">https://wandb.ai/Pyepo_special/Sweep%20Pyepo%20Basic%20Model/sweeps/21l2bgkz</a>"
      ],
      "text/plain": [
       "<IPython.core.display.HTML object>"
      ]
     },
     "metadata": {},
     "output_type": "display_data"
    },
    {
     "data": {
      "text/html": [
       " View run at <a href='https://wandb.ai/Pyepo_special/Sweep%20Pyepo%20Basic%20Model/runs/x18orxhd' target=\"_blank\">https://wandb.ai/Pyepo_special/Sweep%20Pyepo%20Basic%20Model/runs/x18orxhd</a>"
      ],
      "text/plain": [
       "<IPython.core.display.HTML object>"
      ]
     },
     "metadata": {},
     "output_type": "display_data"
    },
    {
     "name": "stderr",
     "output_type": "stream",
     "text": [
      "100%|██████████| 180/180 [00:06<00:00, 27.61it/s]\n",
      "100%|██████████| 180/180 [00:04<00:00, 38.91it/s]\n",
      "100%|██████████| 180/180 [00:05<00:00, 30.06it/s]\n"
     ]
    },
    {
     "name": "stdout",
     "output_type": "stream",
     "text": [
      "Epoch  1,  Loss: 13074.6650,  Regret: 14.4285%\n"
     ]
    },
    {
     "name": "stderr",
     "output_type": "stream",
     "text": [
      "100%|██████████| 180/180 [00:04<00:00, 36.21it/s]\n",
      "100%|██████████| 180/180 [00:05<00:00, 32.87it/s]\n"
     ]
    },
    {
     "name": "stdout",
     "output_type": "stream",
     "text": [
      "Epoch  2,  Loss: 12907.5225,  Regret:  8.8636%\n"
     ]
    },
    {
     "name": "stderr",
     "output_type": "stream",
     "text": [
      "100%|██████████| 180/180 [00:04<00:00, 36.34it/s]\n",
      "100%|██████████| 180/180 [00:13<00:00, 13.62it/s]\n"
     ]
    },
    {
     "name": "stdout",
     "output_type": "stream",
     "text": [
      "Epoch  3,  Loss: 13235.5205,  Regret:  9.7789%\n"
     ]
    },
    {
     "name": "stderr",
     "output_type": "stream",
     "text": [
      "100%|██████████| 180/180 [00:05<00:00, 31.69it/s]\n",
      "100%|██████████| 180/180 [00:06<00:00, 27.66it/s]\n"
     ]
    },
    {
     "name": "stdout",
     "output_type": "stream",
     "text": [
      "Epoch  4,  Loss: 13971.1738,  Regret:  9.2091%\n"
     ]
    },
    {
     "name": "stderr",
     "output_type": "stream",
     "text": [
      "100%|██████████| 180/180 [00:05<00:00, 32.79it/s]\n",
      "100%|██████████| 180/180 [00:06<00:00, 27.34it/s]\n"
     ]
    },
    {
     "name": "stdout",
     "output_type": "stream",
     "text": [
      "Epoch  5,  Loss: 11476.9863,  Regret:  8.6336%\n"
     ]
    },
    {
     "name": "stderr",
     "output_type": "stream",
     "text": [
      "100%|██████████| 180/180 [00:06<00:00, 26.72it/s]\n",
      "100%|██████████| 180/180 [00:05<00:00, 35.87it/s]\n"
     ]
    },
    {
     "name": "stdout",
     "output_type": "stream",
     "text": [
      "Epoch  6,  Loss: 12939.6074,  Regret:  8.1572%\n"
     ]
    },
    {
     "name": "stderr",
     "output_type": "stream",
     "text": [
      "100%|██████████| 180/180 [00:07<00:00, 24.83it/s]\n",
      "100%|██████████| 180/180 [00:04<00:00, 40.71it/s]\n"
     ]
    },
    {
     "name": "stdout",
     "output_type": "stream",
     "text": [
      "Epoch  7,  Loss: 13911.1035,  Regret:  8.0433%\n"
     ]
    },
    {
     "name": "stderr",
     "output_type": "stream",
     "text": [
      "100%|██████████| 180/180 [00:05<00:00, 31.61it/s]\n",
      "100%|██████████| 180/180 [00:04<00:00, 39.78it/s]\n"
     ]
    },
    {
     "name": "stdout",
     "output_type": "stream",
     "text": [
      "Epoch  8,  Loss: 11072.1963,  Regret:  7.8689%\n"
     ]
    },
    {
     "name": "stderr",
     "output_type": "stream",
     "text": [
      "100%|██████████| 180/180 [00:05<00:00, 33.70it/s]\n",
      "100%|██████████| 180/180 [00:04<00:00, 41.24it/s]\n"
     ]
    },
    {
     "name": "stdout",
     "output_type": "stream",
     "text": [
      "Epoch  9,  Loss: 10054.9248,  Regret:  9.1638%\n"
     ]
    },
    {
     "name": "stderr",
     "output_type": "stream",
     "text": [
      "100%|██████████| 180/180 [00:04<00:00, 36.67it/s]\n",
      "100%|██████████| 180/180 [00:03<00:00, 47.86it/s]\n"
     ]
    },
    {
     "name": "stdout",
     "output_type": "stream",
     "text": [
      "Epoch 10,  Loss: 10625.1035,  Regret:  8.0033%\n"
     ]
    },
    {
     "name": "stderr",
     "output_type": "stream",
     "text": [
      "100%|██████████| 180/180 [00:05<00:00, 33.66it/s]\n",
      "100%|██████████| 180/180 [00:03<00:00, 45.12it/s]\n"
     ]
    },
    {
     "name": "stdout",
     "output_type": "stream",
     "text": [
      "Epoch 11,  Loss: 10551.5469,  Regret:  8.7389%\n"
     ]
    },
    {
     "name": "stderr",
     "output_type": "stream",
     "text": [
      "100%|██████████| 180/180 [00:04<00:00, 36.28it/s]\n",
      "100%|██████████| 180/180 [00:03<00:00, 45.20it/s]\n"
     ]
    },
    {
     "name": "stdout",
     "output_type": "stream",
     "text": [
      "Epoch 12,  Loss: 13907.9492,  Regret:  9.1425%\n"
     ]
    },
    {
     "name": "stderr",
     "output_type": "stream",
     "text": [
      "100%|██████████| 180/180 [00:04<00:00, 40.31it/s]\n",
      "100%|██████████| 180/180 [00:04<00:00, 44.87it/s]\n"
     ]
    },
    {
     "name": "stdout",
     "output_type": "stream",
     "text": [
      "Epoch 13,  Loss: 10914.4893,  Regret:  8.2382%\n"
     ]
    },
    {
     "name": "stderr",
     "output_type": "stream",
     "text": [
      "100%|██████████| 180/180 [00:04<00:00, 39.54it/s]\n",
      "100%|██████████| 180/180 [00:03<00:00, 45.67it/s]\n"
     ]
    },
    {
     "name": "stdout",
     "output_type": "stream",
     "text": [
      "Epoch 14,  Loss: 10085.5811,  Regret:  8.8090%\n"
     ]
    },
    {
     "name": "stderr",
     "output_type": "stream",
     "text": [
      "100%|██████████| 180/180 [00:04<00:00, 39.89it/s]\n",
      "100%|██████████| 180/180 [00:04<00:00, 40.99it/s]\n"
     ]
    },
    {
     "name": "stdout",
     "output_type": "stream",
     "text": [
      "Epoch 15,  Loss: 11939.3838,  Regret:  8.0705%\n"
     ]
    },
    {
     "name": "stderr",
     "output_type": "stream",
     "text": [
      "100%|██████████| 180/180 [00:04<00:00, 39.93it/s]\n",
      "100%|██████████| 180/180 [00:03<00:00, 45.86it/s]\n"
     ]
    },
    {
     "name": "stdout",
     "output_type": "stream",
     "text": [
      "Epoch 16,  Loss: 9086.7246,  Regret:  8.4324%\n"
     ]
    },
    {
     "name": "stderr",
     "output_type": "stream",
     "text": [
      "100%|██████████| 180/180 [00:04<00:00, 39.84it/s]\n",
      "100%|██████████| 180/180 [00:04<00:00, 44.89it/s]\n"
     ]
    },
    {
     "name": "stdout",
     "output_type": "stream",
     "text": [
      "Epoch 17,  Loss: 9418.1377,  Regret:  7.8391%\n"
     ]
    },
    {
     "name": "stderr",
     "output_type": "stream",
     "text": [
      "100%|██████████| 180/180 [00:04<00:00, 39.77it/s]\n",
      "100%|██████████| 180/180 [00:03<00:00, 45.20it/s]\n"
     ]
    },
    {
     "name": "stdout",
     "output_type": "stream",
     "text": [
      "Epoch 18,  Loss: 8799.9209,  Regret:  9.8124%\n"
     ]
    },
    {
     "name": "stderr",
     "output_type": "stream",
     "text": [
      "100%|██████████| 180/180 [00:04<00:00, 39.47it/s]\n",
      "100%|██████████| 180/180 [00:03<00:00, 49.71it/s]\n"
     ]
    },
    {
     "name": "stdout",
     "output_type": "stream",
     "text": [
      "Epoch 19,  Loss: 11081.3857,  Regret:  9.0228%\n"
     ]
    },
    {
     "name": "stderr",
     "output_type": "stream",
     "text": [
      "100%|██████████| 180/180 [00:03<00:00, 50.48it/s]\n",
      "100%|██████████| 180/180 [00:04<00:00, 44.26it/s]\n"
     ]
    },
    {
     "name": "stdout",
     "output_type": "stream",
     "text": [
      "Epoch 20,  Loss: 12880.0176,  Regret:  9.6635%\n"
     ]
    },
    {
     "name": "stderr",
     "output_type": "stream",
     "text": [
      "100%|██████████| 180/180 [00:03<00:00, 52.59it/s]\n",
      "100%|██████████| 180/180 [00:01<00:00, 130.79it/s]\n"
     ]
    },
    {
     "name": "stdout",
     "output_type": "stream",
     "text": [
      "Epoch 21,  Loss: 11372.1797,  Regret:  9.1713%\n"
     ]
    },
    {
     "name": "stderr",
     "output_type": "stream",
     "text": [
      "100%|██████████| 180/180 [00:03<00:00, 53.02it/s]\n",
      "100%|██████████| 180/180 [00:01<00:00, 116.00it/s]\n"
     ]
    },
    {
     "name": "stdout",
     "output_type": "stream",
     "text": [
      "Epoch 22,  Loss: 11192.1025,  Regret:  8.8549%\n"
     ]
    },
    {
     "name": "stderr",
     "output_type": "stream",
     "text": [
      "100%|██████████| 180/180 [00:04<00:00, 43.76it/s]\n",
      "100%|██████████| 180/180 [00:03<00:00, 54.45it/s]\n"
     ]
    },
    {
     "name": "stdout",
     "output_type": "stream",
     "text": [
      "Epoch 23,  Loss: 9396.9834,  Regret:  8.7128%\n"
     ]
    },
    {
     "name": "stderr",
     "output_type": "stream",
     "text": [
      "100%|██████████| 180/180 [00:04<00:00, 40.86it/s]\n",
      "100%|██████████| 180/180 [00:03<00:00, 45.57it/s]\n"
     ]
    },
    {
     "name": "stdout",
     "output_type": "stream",
     "text": [
      "Epoch 24,  Loss: 7996.1787,  Regret:  9.8893%\n"
     ]
    },
    {
     "name": "stderr",
     "output_type": "stream",
     "text": [
      "100%|██████████| 180/180 [00:04<00:00, 40.66it/s]\n",
      "100%|██████████| 180/180 [00:03<00:00, 47.31it/s]\n"
     ]
    },
    {
     "name": "stdout",
     "output_type": "stream",
     "text": [
      "Epoch 25,  Loss: 13670.9062,  Regret: 10.5391%\n"
     ]
    },
    {
     "name": "stderr",
     "output_type": "stream",
     "text": [
      "100%|██████████| 180/180 [00:04<00:00, 40.29it/s]\n",
      "100%|██████████| 180/180 [00:03<00:00, 45.97it/s]\n"
     ]
    },
    {
     "name": "stdout",
     "output_type": "stream",
     "text": [
      "Epoch 26,  Loss: 9626.1875,  Regret: 10.5434%\n"
     ]
    },
    {
     "name": "stderr",
     "output_type": "stream",
     "text": [
      "100%|██████████| 180/180 [00:04<00:00, 40.94it/s]\n",
      "100%|██████████| 180/180 [00:03<00:00, 47.20it/s]\n"
     ]
    },
    {
     "name": "stdout",
     "output_type": "stream",
     "text": [
      "Epoch 27,  Loss: 11882.6787,  Regret:  9.0332%\n"
     ]
    },
    {
     "name": "stderr",
     "output_type": "stream",
     "text": [
      "100%|██████████| 180/180 [00:04<00:00, 40.56it/s]\n",
      "100%|██████████| 180/180 [00:03<00:00, 47.75it/s]\n"
     ]
    },
    {
     "name": "stdout",
     "output_type": "stream",
     "text": [
      "Epoch 28,  Loss: 11040.3613,  Regret:  9.4102%\n"
     ]
    },
    {
     "name": "stderr",
     "output_type": "stream",
     "text": [
      "100%|██████████| 180/180 [00:04<00:00, 40.38it/s]\n",
      "100%|██████████| 180/180 [00:03<00:00, 46.89it/s]\n"
     ]
    },
    {
     "name": "stdout",
     "output_type": "stream",
     "text": [
      "Epoch 29,  Loss: 11082.4629,  Regret: 10.4020%\n"
     ]
    },
    {
     "name": "stderr",
     "output_type": "stream",
     "text": [
      "100%|██████████| 180/180 [00:04<00:00, 40.42it/s]\n",
      "100%|██████████| 180/180 [00:03<00:00, 46.52it/s]\n"
     ]
    },
    {
     "name": "stdout",
     "output_type": "stream",
     "text": [
      "Epoch 30,  Loss: 9624.1006,  Regret: 11.4069%\n",
      "Total Elapsed Time: 13270.91 Sec.\n"
     ]
    },
    {
     "data": {
      "text/html": [
       "<style>\n",
       "    table.wandb td:nth-child(1) { padding: 0 10px; text-align: left ; width: auto;} td:nth-child(2) {text-align: left ; width: 100%}\n",
       "    .wandb-row { display: flex; flex-direction: row; flex-wrap: wrap; justify-content: flex-start; width: 100% }\n",
       "    .wandb-col { display: flex; flex-direction: column; flex-basis: 100%; flex: 1; padding: 10px; }\n",
       "    </style>\n",
       "<div class=\"wandb-row\"><div class=\"wandb-col\"><h3>Run history:</h3><br/><table class=\"wandb\"><tr><td>Linear loss</td><td>▂█▆▂▂▅▄▃▁▃▅▂▂▇▆▁▂▁▄▁▁▃▇▂▁▁▇▅▃▆▇▂▂▂▇▅▁▆▄▂</td></tr><tr><td>Regret</td><td>█▂▃▂▂▁▁▁▂▁▂▂▁▂▁▂▁▃▂▃▂▂▂▃▄▄▂▃▄▅</td></tr></table><br/></div><div class=\"wandb-col\"><h3>Run summary:</h3><br/><table class=\"wandb\"><tr><td>Linear loss</td><td>9624.10059</td></tr><tr><td>Regret</td><td>0.11407</td></tr></table><br/></div></div>"
      ],
      "text/plain": [
       "<IPython.core.display.HTML object>"
      ]
     },
     "metadata": {},
     "output_type": "display_data"
    },
    {
     "data": {
      "text/html": [
       " View run <strong style=\"color:#cdcd00\">snowy-sweep-5</strong> at: <a href='https://wandb.ai/Pyepo_special/Sweep%20Pyepo%20Basic%20Model/runs/x18orxhd' target=\"_blank\">https://wandb.ai/Pyepo_special/Sweep%20Pyepo%20Basic%20Model/runs/x18orxhd</a><br/> View project at: <a href='https://wandb.ai/Pyepo_special/Sweep%20Pyepo%20Basic%20Model' target=\"_blank\">https://wandb.ai/Pyepo_special/Sweep%20Pyepo%20Basic%20Model</a><br/>Synced 5 W&B file(s), 0 media file(s), 0 artifact file(s) and 0 other file(s)"
      ],
      "text/plain": [
       "<IPython.core.display.HTML object>"
      ]
     },
     "metadata": {},
     "output_type": "display_data"
    },
    {
     "data": {
      "text/html": [
       "Find logs at: <code>.\\wandb\\run-20240515_115925-x18orxhd\\logs</code>"
      ],
      "text/plain": [
       "<IPython.core.display.HTML object>"
      ]
     },
     "metadata": {},
     "output_type": "display_data"
    },
    {
     "name": "stderr",
     "output_type": "stream",
     "text": [
      "\u001b[34m\u001b[1mwandb\u001b[0m: Sweep Agent: Waiting for job.\n",
      "\u001b[34m\u001b[1mwandb\u001b[0m: Job received.\n",
      "\u001b[34m\u001b[1mwandb\u001b[0m: Agent Starting Run: hz1uu8q4 with config:\n",
      "\u001b[34m\u001b[1mwandb\u001b[0m: \tdropout: 0.2\n",
      "\u001b[34m\u001b[1mwandb\u001b[0m: \tgamma: 0.95\n",
      "\u001b[34m\u001b[1mwandb\u001b[0m: \tlr: 0.01\n",
      "\u001b[34m\u001b[1mwandb\u001b[0m: \tmethod_name: spo+\n",
      "\u001b[34m\u001b[1mwandb\u001b[0m: \tneurons: 32\n",
      "\u001b[34m\u001b[1mwandb\u001b[0m: \tnum_epochs: 10\n",
      "Failed to detect the name of this notebook, you can set it manually with the WANDB_NOTEBOOK_NAME environment variable to enable code saving.\n"
     ]
    },
    {
     "data": {
      "text/html": [
       "Tracking run with wandb version 0.17.0"
      ],
      "text/plain": [
       "<IPython.core.display.HTML object>"
      ]
     },
     "metadata": {},
     "output_type": "display_data"
    },
    {
     "data": {
      "text/html": [
       "Run data is saved locally in <code>c:\\Users\\ande7\\Documents\\Semester 3\\Special\\Course Material\\contextual_dm_in_power_sys\\main_folder\\models\\PyEpo\\wandb\\run-20240515_120430-hz1uu8q4</code>"
      ],
      "text/plain": [
       "<IPython.core.display.HTML object>"
      ]
     },
     "metadata": {},
     "output_type": "display_data"
    },
    {
     "data": {
      "text/html": [
       "Syncing run <strong><a href='https://wandb.ai/Pyepo_special/Sweep%20Pyepo%20Basic%20Model/runs/hz1uu8q4' target=\"_blank\">charmed-sweep-6</a></strong> to <a href='https://wandb.ai/Pyepo_special/Sweep%20Pyepo%20Basic%20Model' target=\"_blank\">Weights & Biases</a> (<a href='https://wandb.me/run' target=\"_blank\">docs</a>)<br/>Sweep page: <a href='https://wandb.ai/Pyepo_special/Sweep%20Pyepo%20Basic%20Model/sweeps/21l2bgkz' target=\"_blank\">https://wandb.ai/Pyepo_special/Sweep%20Pyepo%20Basic%20Model/sweeps/21l2bgkz</a>"
      ],
      "text/plain": [
       "<IPython.core.display.HTML object>"
      ]
     },
     "metadata": {},
     "output_type": "display_data"
    },
    {
     "data": {
      "text/html": [
       " View project at <a href='https://wandb.ai/Pyepo_special/Sweep%20Pyepo%20Basic%20Model' target=\"_blank\">https://wandb.ai/Pyepo_special/Sweep%20Pyepo%20Basic%20Model</a>"
      ],
      "text/plain": [
       "<IPython.core.display.HTML object>"
      ]
     },
     "metadata": {},
     "output_type": "display_data"
    },
    {
     "data": {
      "text/html": [
       " View sweep at <a href='https://wandb.ai/Pyepo_special/Sweep%20Pyepo%20Basic%20Model/sweeps/21l2bgkz' target=\"_blank\">https://wandb.ai/Pyepo_special/Sweep%20Pyepo%20Basic%20Model/sweeps/21l2bgkz</a>"
      ],
      "text/plain": [
       "<IPython.core.display.HTML object>"
      ]
     },
     "metadata": {},
     "output_type": "display_data"
    },
    {
     "data": {
      "text/html": [
       " View run at <a href='https://wandb.ai/Pyepo_special/Sweep%20Pyepo%20Basic%20Model/runs/hz1uu8q4' target=\"_blank\">https://wandb.ai/Pyepo_special/Sweep%20Pyepo%20Basic%20Model/runs/hz1uu8q4</a>"
      ],
      "text/plain": [
       "<IPython.core.display.HTML object>"
      ]
     },
     "metadata": {},
     "output_type": "display_data"
    },
    {
     "name": "stderr",
     "output_type": "stream",
     "text": [
      "100%|██████████| 180/180 [00:04<00:00, 42.58it/s]\n",
      "100%|██████████| 180/180 [00:04<00:00, 41.80it/s]\n",
      "100%|██████████| 180/180 [00:04<00:00, 42.92it/s]\n"
     ]
    },
    {
     "name": "stdout",
     "output_type": "stream",
     "text": [
      "Epoch  1,  Loss: 14649.3086,  Regret: 16.4602%\n"
     ]
    },
    {
     "name": "stderr",
     "output_type": "stream",
     "text": [
      "100%|██████████| 180/180 [00:04<00:00, 40.95it/s]\n",
      "100%|██████████| 180/180 [00:04<00:00, 41.48it/s]\n"
     ]
    },
    {
     "name": "stdout",
     "output_type": "stream",
     "text": [
      "Epoch  2,  Loss: 16710.9434,  Regret: 12.3331%\n"
     ]
    },
    {
     "name": "stderr",
     "output_type": "stream",
     "text": [
      "100%|██████████| 180/180 [00:04<00:00, 40.80it/s]\n",
      "100%|██████████| 180/180 [00:04<00:00, 42.85it/s]\n"
     ]
    },
    {
     "name": "stdout",
     "output_type": "stream",
     "text": [
      "Epoch  3,  Loss: 8287.4082,  Regret:  9.6792%\n"
     ]
    },
    {
     "name": "stderr",
     "output_type": "stream",
     "text": [
      "100%|██████████| 180/180 [00:04<00:00, 41.39it/s]\n",
      "100%|██████████| 180/180 [00:03<00:00, 47.32it/s]\n"
     ]
    },
    {
     "name": "stdout",
     "output_type": "stream",
     "text": [
      "Epoch  4,  Loss: 13632.2305,  Regret:  8.9215%\n"
     ]
    },
    {
     "name": "stderr",
     "output_type": "stream",
     "text": [
      "100%|██████████| 180/180 [00:04<00:00, 41.32it/s]\n",
      "100%|██████████| 180/180 [00:05<00:00, 34.74it/s]\n"
     ]
    },
    {
     "name": "stdout",
     "output_type": "stream",
     "text": [
      "Epoch  5,  Loss: 12103.7861,  Regret:  8.5672%\n"
     ]
    },
    {
     "name": "stderr",
     "output_type": "stream",
     "text": [
      "100%|██████████| 180/180 [00:05<00:00, 34.58it/s]\n",
      "100%|██████████| 180/180 [00:07<00:00, 22.97it/s]\n"
     ]
    },
    {
     "name": "stdout",
     "output_type": "stream",
     "text": [
      "Epoch  6,  Loss: 13278.5039,  Regret:  9.2006%\n"
     ]
    },
    {
     "name": "stderr",
     "output_type": "stream",
     "text": [
      "100%|██████████| 180/180 [00:06<00:00, 29.75it/s]\n",
      "100%|██████████| 180/180 [00:04<00:00, 37.77it/s]\n"
     ]
    },
    {
     "name": "stdout",
     "output_type": "stream",
     "text": [
      "Epoch  7,  Loss: 13342.2461,  Regret:  8.6497%\n"
     ]
    },
    {
     "name": "stderr",
     "output_type": "stream",
     "text": [
      "100%|██████████| 180/180 [00:05<00:00, 30.49it/s]\n",
      "100%|██████████| 180/180 [00:03<00:00, 47.30it/s]\n"
     ]
    },
    {
     "name": "stdout",
     "output_type": "stream",
     "text": [
      "Epoch  8,  Loss: 11909.0879,  Regret:  8.8080%\n"
     ]
    },
    {
     "name": "stderr",
     "output_type": "stream",
     "text": [
      "100%|██████████| 180/180 [00:05<00:00, 30.99it/s]\n",
      "100%|██████████| 180/180 [00:04<00:00, 43.74it/s]\n"
     ]
    },
    {
     "name": "stdout",
     "output_type": "stream",
     "text": [
      "Epoch  9,  Loss: 12295.1660,  Regret:  8.9607%\n"
     ]
    },
    {
     "name": "stderr",
     "output_type": "stream",
     "text": [
      "100%|██████████| 180/180 [00:05<00:00, 30.31it/s]\n",
      "100%|██████████| 180/180 [00:04<00:00, 44.92it/s]\n"
     ]
    },
    {
     "name": "stdout",
     "output_type": "stream",
     "text": [
      "Epoch 10,  Loss: 11726.0918,  Regret:  8.4691%\n",
      "Total Elapsed Time: 4413.89 Sec.\n"
     ]
    },
    {
     "data": {
      "text/html": [
       "<style>\n",
       "    table.wandb td:nth-child(1) { padding: 0 10px; text-align: left ; width: auto;} td:nth-child(2) {text-align: left ; width: 100%}\n",
       "    .wandb-row { display: flex; flex-direction: row; flex-wrap: wrap; justify-content: flex-start; width: 100% }\n",
       "    .wandb-col { display: flex; flex-direction: column; flex-basis: 100%; flex: 1; padding: 10px; }\n",
       "    </style>\n",
       "<div class=\"wandb-row\"><div class=\"wandb-col\"><h3>Run history:</h3><br/><table class=\"wandb\"><tr><td>Linear loss</td><td>█▄▂▆█▃▂▇▇▄▂▆▃▂▂▆█▂▄▅▇▃▂▄▂▁▇▆▃▁▄▅▁▂▄▅▁▂▅▇</td></tr><tr><td>Regret</td><td>█▄▂▁▁▂▁▁▁▁</td></tr></table><br/></div><div class=\"wandb-col\"><h3>Run summary:</h3><br/><table class=\"wandb\"><tr><td>Linear loss</td><td>11726.0918</td></tr><tr><td>Regret</td><td>0.08469</td></tr></table><br/></div></div>"
      ],
      "text/plain": [
       "<IPython.core.display.HTML object>"
      ]
     },
     "metadata": {},
     "output_type": "display_data"
    },
    {
     "data": {
      "text/html": [
       " View run <strong style=\"color:#cdcd00\">charmed-sweep-6</strong> at: <a href='https://wandb.ai/Pyepo_special/Sweep%20Pyepo%20Basic%20Model/runs/hz1uu8q4' target=\"_blank\">https://wandb.ai/Pyepo_special/Sweep%20Pyepo%20Basic%20Model/runs/hz1uu8q4</a><br/> View project at: <a href='https://wandb.ai/Pyepo_special/Sweep%20Pyepo%20Basic%20Model' target=\"_blank\">https://wandb.ai/Pyepo_special/Sweep%20Pyepo%20Basic%20Model</a><br/>Synced 5 W&B file(s), 0 media file(s), 0 artifact file(s) and 0 other file(s)"
      ],
      "text/plain": [
       "<IPython.core.display.HTML object>"
      ]
     },
     "metadata": {},
     "output_type": "display_data"
    },
    {
     "data": {
      "text/html": [
       "Find logs at: <code>.\\wandb\\run-20240515_120430-hz1uu8q4\\logs</code>"
      ],
      "text/plain": [
       "<IPython.core.display.HTML object>"
      ]
     },
     "metadata": {},
     "output_type": "display_data"
    },
    {
     "name": "stderr",
     "output_type": "stream",
     "text": [
      "\u001b[34m\u001b[1mwandb\u001b[0m: Agent Starting Run: lfuvqeno with config:\n",
      "\u001b[34m\u001b[1mwandb\u001b[0m: \tdropout: 0.5\n",
      "\u001b[34m\u001b[1mwandb\u001b[0m: \tgamma: 0.95\n",
      "\u001b[34m\u001b[1mwandb\u001b[0m: \tlr: 0.001\n",
      "\u001b[34m\u001b[1mwandb\u001b[0m: \tmethod_name: spo+\n",
      "\u001b[34m\u001b[1mwandb\u001b[0m: \tneurons: 64\n",
      "\u001b[34m\u001b[1mwandb\u001b[0m: \tnum_epochs: 20\n",
      "Failed to detect the name of this notebook, you can set it manually with the WANDB_NOTEBOOK_NAME environment variable to enable code saving.\n"
     ]
    },
    {
     "data": {
      "text/html": [
       "Tracking run with wandb version 0.17.0"
      ],
      "text/plain": [
       "<IPython.core.display.HTML object>"
      ]
     },
     "metadata": {},
     "output_type": "display_data"
    },
    {
     "data": {
      "text/html": [
       "Run data is saved locally in <code>c:\\Users\\ande7\\Documents\\Semester 3\\Special\\Course Material\\contextual_dm_in_power_sys\\main_folder\\models\\PyEpo\\wandb\\run-20240515_120624-lfuvqeno</code>"
      ],
      "text/plain": [
       "<IPython.core.display.HTML object>"
      ]
     },
     "metadata": {},
     "output_type": "display_data"
    },
    {
     "data": {
      "text/html": [
       "Syncing run <strong><a href='https://wandb.ai/Pyepo_special/Sweep%20Pyepo%20Basic%20Model/runs/lfuvqeno' target=\"_blank\">charmed-sweep-7</a></strong> to <a href='https://wandb.ai/Pyepo_special/Sweep%20Pyepo%20Basic%20Model' target=\"_blank\">Weights & Biases</a> (<a href='https://wandb.me/run' target=\"_blank\">docs</a>)<br/>Sweep page: <a href='https://wandb.ai/Pyepo_special/Sweep%20Pyepo%20Basic%20Model/sweeps/21l2bgkz' target=\"_blank\">https://wandb.ai/Pyepo_special/Sweep%20Pyepo%20Basic%20Model/sweeps/21l2bgkz</a>"
      ],
      "text/plain": [
       "<IPython.core.display.HTML object>"
      ]
     },
     "metadata": {},
     "output_type": "display_data"
    },
    {
     "data": {
      "text/html": [
       " View project at <a href='https://wandb.ai/Pyepo_special/Sweep%20Pyepo%20Basic%20Model' target=\"_blank\">https://wandb.ai/Pyepo_special/Sweep%20Pyepo%20Basic%20Model</a>"
      ],
      "text/plain": [
       "<IPython.core.display.HTML object>"
      ]
     },
     "metadata": {},
     "output_type": "display_data"
    },
    {
     "data": {
      "text/html": [
       " View sweep at <a href='https://wandb.ai/Pyepo_special/Sweep%20Pyepo%20Basic%20Model/sweeps/21l2bgkz' target=\"_blank\">https://wandb.ai/Pyepo_special/Sweep%20Pyepo%20Basic%20Model/sweeps/21l2bgkz</a>"
      ],
      "text/plain": [
       "<IPython.core.display.HTML object>"
      ]
     },
     "metadata": {},
     "output_type": "display_data"
    },
    {
     "data": {
      "text/html": [
       " View run at <a href='https://wandb.ai/Pyepo_special/Sweep%20Pyepo%20Basic%20Model/runs/lfuvqeno' target=\"_blank\">https://wandb.ai/Pyepo_special/Sweep%20Pyepo%20Basic%20Model/runs/lfuvqeno</a>"
      ],
      "text/plain": [
       "<IPython.core.display.HTML object>"
      ]
     },
     "metadata": {},
     "output_type": "display_data"
    },
    {
     "name": "stderr",
     "output_type": "stream",
     "text": [
      "100%|██████████| 180/180 [00:03<00:00, 45.45it/s]\n",
      "100%|██████████| 180/180 [00:04<00:00, 40.72it/s]\n",
      "100%|██████████| 180/180 [00:04<00:00, 42.72it/s]\n"
     ]
    },
    {
     "name": "stdout",
     "output_type": "stream",
     "text": [
      "Epoch  1,  Loss: 12535.8457,  Regret:  8.4438%\n"
     ]
    },
    {
     "name": "stderr",
     "output_type": "stream",
     "text": [
      "100%|██████████| 180/180 [00:04<00:00, 40.04it/s]\n",
      "100%|██████████| 180/180 [00:04<00:00, 42.61it/s]\n"
     ]
    },
    {
     "name": "stdout",
     "output_type": "stream",
     "text": [
      "Epoch  2,  Loss: 11691.0400,  Regret:  8.2638%\n"
     ]
    },
    {
     "name": "stderr",
     "output_type": "stream",
     "text": [
      "100%|██████████| 180/180 [00:04<00:00, 40.02it/s]\n",
      "100%|██████████| 180/180 [00:04<00:00, 43.27it/s]\n"
     ]
    },
    {
     "name": "stdout",
     "output_type": "stream",
     "text": [
      "Epoch  3,  Loss: 10839.3574,  Regret:  7.9269%\n"
     ]
    },
    {
     "name": "stderr",
     "output_type": "stream",
     "text": [
      "100%|██████████| 180/180 [00:04<00:00, 40.68it/s]\n",
      "100%|██████████| 180/180 [00:04<00:00, 40.28it/s]\n"
     ]
    },
    {
     "name": "stdout",
     "output_type": "stream",
     "text": [
      "Epoch  4,  Loss: 10621.7529,  Regret:  7.7224%\n"
     ]
    },
    {
     "name": "stderr",
     "output_type": "stream",
     "text": [
      "100%|██████████| 180/180 [00:04<00:00, 40.61it/s]\n",
      "100%|██████████| 180/180 [00:04<00:00, 40.70it/s]\n"
     ]
    },
    {
     "name": "stdout",
     "output_type": "stream",
     "text": [
      "Epoch  5,  Loss: 11263.1025,  Regret:  7.6445%\n"
     ]
    },
    {
     "name": "stderr",
     "output_type": "stream",
     "text": [
      "100%|██████████| 180/180 [00:04<00:00, 40.12it/s]\n",
      "100%|██████████| 180/180 [00:04<00:00, 41.30it/s]\n"
     ]
    },
    {
     "name": "stdout",
     "output_type": "stream",
     "text": [
      "Epoch  6,  Loss: 11140.5879,  Regret:  7.4651%\n"
     ]
    },
    {
     "name": "stderr",
     "output_type": "stream",
     "text": [
      "100%|██████████| 180/180 [00:04<00:00, 40.39it/s]\n",
      "100%|██████████| 180/180 [00:04<00:00, 43.54it/s]\n"
     ]
    },
    {
     "name": "stdout",
     "output_type": "stream",
     "text": [
      "Epoch  7,  Loss: 13444.4131,  Regret:  7.2543%\n"
     ]
    },
    {
     "name": "stderr",
     "output_type": "stream",
     "text": [
      "100%|██████████| 180/180 [00:04<00:00, 40.68it/s]\n",
      "100%|██████████| 180/180 [00:04<00:00, 41.44it/s]\n"
     ]
    },
    {
     "name": "stdout",
     "output_type": "stream",
     "text": [
      "Epoch  8,  Loss: 12825.1621,  Regret:  7.5851%\n"
     ]
    },
    {
     "name": "stderr",
     "output_type": "stream",
     "text": [
      "100%|██████████| 180/180 [00:04<00:00, 39.62it/s]\n",
      "100%|██████████| 180/180 [00:04<00:00, 40.51it/s]\n"
     ]
    },
    {
     "name": "stdout",
     "output_type": "stream",
     "text": [
      "Epoch  9,  Loss: 10221.0225,  Regret:  7.3331%\n"
     ]
    },
    {
     "name": "stderr",
     "output_type": "stream",
     "text": [
      "100%|██████████| 180/180 [00:04<00:00, 40.03it/s]\n",
      "100%|██████████| 180/180 [00:04<00:00, 42.88it/s]\n"
     ]
    },
    {
     "name": "stdout",
     "output_type": "stream",
     "text": [
      "Epoch 10,  Loss: 11358.4395,  Regret:  7.3547%\n"
     ]
    },
    {
     "name": "stderr",
     "output_type": "stream",
     "text": [
      "100%|██████████| 180/180 [00:04<00:00, 40.69it/s]\n",
      "100%|██████████| 180/180 [00:04<00:00, 40.82it/s]\n"
     ]
    },
    {
     "name": "stdout",
     "output_type": "stream",
     "text": [
      "Epoch 11,  Loss: 10848.4902,  Regret:  7.3504%\n"
     ]
    },
    {
     "name": "stderr",
     "output_type": "stream",
     "text": [
      "100%|██████████| 180/180 [00:04<00:00, 40.59it/s]\n",
      "100%|██████████| 180/180 [00:04<00:00, 38.57it/s]\n"
     ]
    },
    {
     "name": "stdout",
     "output_type": "stream",
     "text": [
      "Epoch 12,  Loss: 11077.8975,  Regret:  7.4181%\n"
     ]
    },
    {
     "name": "stderr",
     "output_type": "stream",
     "text": [
      "100%|██████████| 180/180 [00:04<00:00, 40.28it/s]\n",
      "100%|██████████| 180/180 [00:04<00:00, 40.39it/s]\n"
     ]
    },
    {
     "name": "stdout",
     "output_type": "stream",
     "text": [
      "Epoch 13,  Loss: 11219.5391,  Regret:  7.7283%\n"
     ]
    },
    {
     "name": "stderr",
     "output_type": "stream",
     "text": [
      "100%|██████████| 180/180 [00:04<00:00, 41.52it/s]\n",
      "100%|██████████| 180/180 [00:03<00:00, 45.15it/s]\n"
     ]
    },
    {
     "name": "stdout",
     "output_type": "stream",
     "text": [
      "Epoch 14,  Loss: 10866.8008,  Regret:  7.9050%\n"
     ]
    },
    {
     "name": "stderr",
     "output_type": "stream",
     "text": [
      "100%|██████████| 180/180 [00:05<00:00, 31.28it/s]\n",
      "100%|██████████| 180/180 [00:03<00:00, 53.02it/s]\n"
     ]
    },
    {
     "name": "stdout",
     "output_type": "stream",
     "text": [
      "Epoch 15,  Loss: 8785.8262,  Regret:  7.7753%\n"
     ]
    },
    {
     "name": "stderr",
     "output_type": "stream",
     "text": [
      "100%|██████████| 180/180 [00:04<00:00, 40.32it/s]\n",
      "100%|██████████| 180/180 [00:03<00:00, 53.71it/s]\n"
     ]
    },
    {
     "name": "stdout",
     "output_type": "stream",
     "text": [
      "Epoch 16,  Loss: 9913.8154,  Regret:  7.7825%\n"
     ]
    },
    {
     "name": "stderr",
     "output_type": "stream",
     "text": [
      "100%|██████████| 180/180 [00:04<00:00, 40.42it/s]\n",
      "100%|██████████| 180/180 [00:03<00:00, 48.13it/s]\n"
     ]
    },
    {
     "name": "stdout",
     "output_type": "stream",
     "text": [
      "Epoch 17,  Loss: 10186.5449,  Regret:  7.4432%\n"
     ]
    },
    {
     "name": "stderr",
     "output_type": "stream",
     "text": [
      "100%|██████████| 180/180 [00:04<00:00, 39.86it/s]\n",
      "100%|██████████| 180/180 [00:05<00:00, 35.16it/s]\n"
     ]
    },
    {
     "name": "stdout",
     "output_type": "stream",
     "text": [
      "Epoch 18,  Loss: 13429.4492,  Regret:  7.7554%\n"
     ]
    },
    {
     "name": "stderr",
     "output_type": "stream",
     "text": [
      "100%|██████████| 180/180 [00:03<00:00, 49.69it/s]\n",
      "100%|██████████| 180/180 [00:05<00:00, 31.48it/s]\n"
     ]
    },
    {
     "name": "stdout",
     "output_type": "stream",
     "text": [
      "Epoch 19,  Loss: 10387.8730,  Regret:  7.7166%\n"
     ]
    },
    {
     "name": "stderr",
     "output_type": "stream",
     "text": [
      "100%|██████████| 180/180 [00:02<00:00, 62.38it/s]\n",
      "100%|██████████| 180/180 [00:01<00:00, 122.81it/s]\n"
     ]
    },
    {
     "name": "stdout",
     "output_type": "stream",
     "text": [
      "Epoch 20,  Loss: 8597.7725,  Regret:  8.4269%\n",
      "Total Elapsed Time: 7934.33 Sec.\n"
     ]
    },
    {
     "data": {
      "text/html": [
       "<style>\n",
       "    table.wandb td:nth-child(1) { padding: 0 10px; text-align: left ; width: auto;} td:nth-child(2) {text-align: left ; width: 100%}\n",
       "    .wandb-row { display: flex; flex-direction: row; flex-wrap: wrap; justify-content: flex-start; width: 100% }\n",
       "    .wandb-col { display: flex; flex-direction: column; flex-basis: 100%; flex: 1; padding: 10px; }\n",
       "    </style>\n",
       "<div class=\"wandb-row\"><div class=\"wandb-col\"><h3>Run history:</h3><br/><table class=\"wandb\"><tr><td>Linear loss</td><td>▄▂█▂▃▆▂▂▇▄▁▅▂▅▃▄▁▇▁▆▃▅▁▅▂▄▃▅▁▅▃▄▁▆▃▇▄▅▁▄</td></tr><tr><td>Regret</td><td>█▇▅▄▃▂▁▃▁▂▂▂▄▅▄▄▂▄▄█</td></tr></table><br/></div><div class=\"wandb-col\"><h3>Run summary:</h3><br/><table class=\"wandb\"><tr><td>Linear loss</td><td>8597.77246</td></tr><tr><td>Regret</td><td>0.08427</td></tr></table><br/></div></div>"
      ],
      "text/plain": [
       "<IPython.core.display.HTML object>"
      ]
     },
     "metadata": {},
     "output_type": "display_data"
    },
    {
     "data": {
      "text/html": [
       " View run <strong style=\"color:#cdcd00\">charmed-sweep-7</strong> at: <a href='https://wandb.ai/Pyepo_special/Sweep%20Pyepo%20Basic%20Model/runs/lfuvqeno' target=\"_blank\">https://wandb.ai/Pyepo_special/Sweep%20Pyepo%20Basic%20Model/runs/lfuvqeno</a><br/> View project at: <a href='https://wandb.ai/Pyepo_special/Sweep%20Pyepo%20Basic%20Model' target=\"_blank\">https://wandb.ai/Pyepo_special/Sweep%20Pyepo%20Basic%20Model</a><br/>Synced 5 W&B file(s), 0 media file(s), 0 artifact file(s) and 0 other file(s)"
      ],
      "text/plain": [
       "<IPython.core.display.HTML object>"
      ]
     },
     "metadata": {},
     "output_type": "display_data"
    },
    {
     "data": {
      "text/html": [
       "Find logs at: <code>.\\wandb\\run-20240515_120624-lfuvqeno\\logs</code>"
      ],
      "text/plain": [
       "<IPython.core.display.HTML object>"
      ]
     },
     "metadata": {},
     "output_type": "display_data"
    },
    {
     "name": "stderr",
     "output_type": "stream",
     "text": [
      "\u001b[34m\u001b[1mwandb\u001b[0m: Agent Starting Run: rh9yeggk with config:\n",
      "\u001b[34m\u001b[1mwandb\u001b[0m: \tdropout: 0.9\n",
      "\u001b[34m\u001b[1mwandb\u001b[0m: \tgamma: 0.99\n",
      "\u001b[34m\u001b[1mwandb\u001b[0m: \tlr: 0.0001\n",
      "\u001b[34m\u001b[1mwandb\u001b[0m: \tmethod_name: spo+\n",
      "\u001b[34m\u001b[1mwandb\u001b[0m: \tneurons: 32\n",
      "\u001b[34m\u001b[1mwandb\u001b[0m: \tnum_epochs: 30\n",
      "Failed to detect the name of this notebook, you can set it manually with the WANDB_NOTEBOOK_NAME environment variable to enable code saving.\n"
     ]
    },
    {
     "data": {
      "text/html": [
       "Tracking run with wandb version 0.17.0"
      ],
      "text/plain": [
       "<IPython.core.display.HTML object>"
      ]
     },
     "metadata": {},
     "output_type": "display_data"
    },
    {
     "data": {
      "text/html": [
       "Run data is saved locally in <code>c:\\Users\\ande7\\Documents\\Semester 3\\Special\\Course Material\\contextual_dm_in_power_sys\\main_folder\\models\\PyEpo\\wandb\\run-20240515_120940-rh9yeggk</code>"
      ],
      "text/plain": [
       "<IPython.core.display.HTML object>"
      ]
     },
     "metadata": {},
     "output_type": "display_data"
    },
    {
     "data": {
      "text/html": [
       "Syncing run <strong><a href='https://wandb.ai/Pyepo_special/Sweep%20Pyepo%20Basic%20Model/runs/rh9yeggk' target=\"_blank\">vague-sweep-8</a></strong> to <a href='https://wandb.ai/Pyepo_special/Sweep%20Pyepo%20Basic%20Model' target=\"_blank\">Weights & Biases</a> (<a href='https://wandb.me/run' target=\"_blank\">docs</a>)<br/>Sweep page: <a href='https://wandb.ai/Pyepo_special/Sweep%20Pyepo%20Basic%20Model/sweeps/21l2bgkz' target=\"_blank\">https://wandb.ai/Pyepo_special/Sweep%20Pyepo%20Basic%20Model/sweeps/21l2bgkz</a>"
      ],
      "text/plain": [
       "<IPython.core.display.HTML object>"
      ]
     },
     "metadata": {},
     "output_type": "display_data"
    },
    {
     "data": {
      "text/html": [
       " View project at <a href='https://wandb.ai/Pyepo_special/Sweep%20Pyepo%20Basic%20Model' target=\"_blank\">https://wandb.ai/Pyepo_special/Sweep%20Pyepo%20Basic%20Model</a>"
      ],
      "text/plain": [
       "<IPython.core.display.HTML object>"
      ]
     },
     "metadata": {},
     "output_type": "display_data"
    },
    {
     "data": {
      "text/html": [
       " View sweep at <a href='https://wandb.ai/Pyepo_special/Sweep%20Pyepo%20Basic%20Model/sweeps/21l2bgkz' target=\"_blank\">https://wandb.ai/Pyepo_special/Sweep%20Pyepo%20Basic%20Model/sweeps/21l2bgkz</a>"
      ],
      "text/plain": [
       "<IPython.core.display.HTML object>"
      ]
     },
     "metadata": {},
     "output_type": "display_data"
    },
    {
     "data": {
      "text/html": [
       " View run at <a href='https://wandb.ai/Pyepo_special/Sweep%20Pyepo%20Basic%20Model/runs/rh9yeggk' target=\"_blank\">https://wandb.ai/Pyepo_special/Sweep%20Pyepo%20Basic%20Model/runs/rh9yeggk</a>"
      ],
      "text/plain": [
       "<IPython.core.display.HTML object>"
      ]
     },
     "metadata": {},
     "output_type": "display_data"
    },
    {
     "name": "stderr",
     "output_type": "stream",
     "text": [
      "100%|██████████| 180/180 [00:03<00:00, 47.84it/s]\n",
      "100%|██████████| 180/180 [00:15<00:00, 11.77it/s]\n",
      "100%|██████████| 180/180 [00:04<00:00, 44.52it/s]\n"
     ]
    },
    {
     "name": "stdout",
     "output_type": "stream",
     "text": [
      "Epoch  1,  Loss: 19537.9180,  Regret: 48.5597%\n"
     ]
    },
    {
     "name": "stderr",
     "output_type": "stream",
     "text": [
      "100%|██████████| 180/180 [00:15<00:00, 11.66it/s]\n",
      "100%|██████████| 180/180 [00:04<00:00, 39.69it/s]\n"
     ]
    },
    {
     "name": "stdout",
     "output_type": "stream",
     "text": [
      "Epoch  2,  Loss: 19448.4473,  Regret: 29.7112%\n"
     ]
    },
    {
     "name": "stderr",
     "output_type": "stream",
     "text": [
      "100%|██████████| 180/180 [00:14<00:00, 12.29it/s]\n",
      "100%|██████████| 180/180 [00:05<00:00, 31.47it/s]\n"
     ]
    },
    {
     "name": "stdout",
     "output_type": "stream",
     "text": [
      "Epoch  3,  Loss: 18871.0156,  Regret: 15.9369%\n"
     ]
    },
    {
     "name": "stderr",
     "output_type": "stream",
     "text": [
      "100%|██████████| 180/180 [00:13<00:00, 13.83it/s]\n",
      "100%|██████████| 180/180 [00:04<00:00, 40.93it/s]\n"
     ]
    },
    {
     "name": "stdout",
     "output_type": "stream",
     "text": [
      "Epoch  4,  Loss: 17863.4121,  Regret: 12.1759%\n"
     ]
    },
    {
     "name": "stderr",
     "output_type": "stream",
     "text": [
      "100%|██████████| 180/180 [00:12<00:00, 13.96it/s]\n",
      "100%|██████████| 180/180 [00:03<00:00, 50.31it/s]\n"
     ]
    },
    {
     "name": "stdout",
     "output_type": "stream",
     "text": [
      "Epoch  5,  Loss: 18856.9863,  Regret: 10.4984%\n"
     ]
    },
    {
     "name": "stderr",
     "output_type": "stream",
     "text": [
      "100%|██████████| 180/180 [00:11<00:00, 15.51it/s]\n",
      "100%|██████████| 180/180 [00:03<00:00, 49.97it/s]\n"
     ]
    },
    {
     "name": "stdout",
     "output_type": "stream",
     "text": [
      "Epoch  6,  Loss: 16549.5723,  Regret:  8.8659%\n"
     ]
    },
    {
     "name": "stderr",
     "output_type": "stream",
     "text": [
      "100%|██████████| 180/180 [00:04<00:00, 41.07it/s]\n",
      "100%|██████████| 180/180 [00:04<00:00, 40.64it/s]\n"
     ]
    },
    {
     "name": "stdout",
     "output_type": "stream",
     "text": [
      "Epoch  7,  Loss: 15826.3848,  Regret:  8.3598%\n"
     ]
    },
    {
     "name": "stderr",
     "output_type": "stream",
     "text": [
      "100%|██████████| 180/180 [00:04<00:00, 41.68it/s]\n",
      "100%|██████████| 180/180 [00:04<00:00, 40.16it/s]\n"
     ]
    },
    {
     "name": "stdout",
     "output_type": "stream",
     "text": [
      "Epoch  8,  Loss: 18928.1934,  Regret:  8.0541%\n"
     ]
    },
    {
     "name": "stderr",
     "output_type": "stream",
     "text": [
      "100%|██████████| 180/180 [00:04<00:00, 40.88it/s]\n",
      "100%|██████████| 180/180 [00:04<00:00, 41.17it/s]\n"
     ]
    },
    {
     "name": "stdout",
     "output_type": "stream",
     "text": [
      "Epoch  9,  Loss: 18843.3633,  Regret:  8.1124%\n"
     ]
    },
    {
     "name": "stderr",
     "output_type": "stream",
     "text": [
      "100%|██████████| 180/180 [00:04<00:00, 41.01it/s]\n",
      "100%|██████████| 180/180 [00:04<00:00, 43.25it/s]\n"
     ]
    },
    {
     "name": "stdout",
     "output_type": "stream",
     "text": [
      "Epoch 10,  Loss: 17378.9512,  Regret:  8.1253%\n"
     ]
    },
    {
     "name": "stderr",
     "output_type": "stream",
     "text": [
      "100%|██████████| 180/180 [00:04<00:00, 41.09it/s]\n",
      "100%|██████████| 180/180 [00:04<00:00, 42.11it/s]\n"
     ]
    },
    {
     "name": "stdout",
     "output_type": "stream",
     "text": [
      "Epoch 11,  Loss: 14696.5693,  Regret:  8.1807%\n"
     ]
    },
    {
     "name": "stderr",
     "output_type": "stream",
     "text": [
      "100%|██████████| 180/180 [00:04<00:00, 40.99it/s]\n",
      "100%|██████████| 180/180 [00:04<00:00, 40.41it/s]\n"
     ]
    },
    {
     "name": "stdout",
     "output_type": "stream",
     "text": [
      "Epoch 12,  Loss: 16463.7891,  Regret:  8.0989%\n"
     ]
    },
    {
     "name": "stderr",
     "output_type": "stream",
     "text": [
      "100%|██████████| 180/180 [00:04<00:00, 41.00it/s]\n",
      "100%|██████████| 180/180 [00:04<00:00, 43.29it/s]\n"
     ]
    },
    {
     "name": "stdout",
     "output_type": "stream",
     "text": [
      "Epoch 13,  Loss: 17177.8887,  Regret:  7.9332%\n"
     ]
    },
    {
     "name": "stderr",
     "output_type": "stream",
     "text": [
      "100%|██████████| 180/180 [00:04<00:00, 41.24it/s]\n",
      "100%|██████████| 180/180 [00:04<00:00, 43.06it/s]\n"
     ]
    },
    {
     "name": "stdout",
     "output_type": "stream",
     "text": [
      "Epoch 14,  Loss: 18474.2812,  Regret:  7.9499%\n"
     ]
    },
    {
     "name": "stderr",
     "output_type": "stream",
     "text": [
      "100%|██████████| 180/180 [00:04<00:00, 41.40it/s]\n",
      "100%|██████████| 180/180 [00:04<00:00, 38.15it/s]\n"
     ]
    },
    {
     "name": "stdout",
     "output_type": "stream",
     "text": [
      "Epoch 15,  Loss: 15128.0127,  Regret:  8.0538%\n"
     ]
    },
    {
     "name": "stderr",
     "output_type": "stream",
     "text": [
      "100%|██████████| 180/180 [00:04<00:00, 41.76it/s]\n",
      "100%|██████████| 180/180 [00:04<00:00, 41.04it/s]\n"
     ]
    },
    {
     "name": "stdout",
     "output_type": "stream",
     "text": [
      "Epoch 16,  Loss: 13488.3984,  Regret:  7.9305%\n"
     ]
    },
    {
     "name": "stderr",
     "output_type": "stream",
     "text": [
      "100%|██████████| 180/180 [00:04<00:00, 40.84it/s]\n",
      "100%|██████████| 180/180 [00:04<00:00, 40.26it/s]\n"
     ]
    },
    {
     "name": "stdout",
     "output_type": "stream",
     "text": [
      "Epoch 17,  Loss: 13133.1523,  Regret:  7.8855%\n"
     ]
    },
    {
     "name": "stderr",
     "output_type": "stream",
     "text": [
      "100%|██████████| 180/180 [00:04<00:00, 41.04it/s]\n",
      "100%|██████████| 180/180 [00:04<00:00, 44.37it/s]\n"
     ]
    },
    {
     "name": "stdout",
     "output_type": "stream",
     "text": [
      "Epoch 18,  Loss: 15005.5029,  Regret:  7.7823%\n"
     ]
    },
    {
     "name": "stderr",
     "output_type": "stream",
     "text": [
      "100%|██████████| 180/180 [00:04<00:00, 41.20it/s]\n",
      "100%|██████████| 180/180 [00:04<00:00, 40.35it/s]\n"
     ]
    },
    {
     "name": "stdout",
     "output_type": "stream",
     "text": [
      "Epoch 19,  Loss: 14277.5205,  Regret:  7.8453%\n"
     ]
    },
    {
     "name": "stderr",
     "output_type": "stream",
     "text": [
      "100%|██████████| 180/180 [00:04<00:00, 40.85it/s]\n",
      "100%|██████████| 180/180 [00:04<00:00, 41.19it/s]\n"
     ]
    },
    {
     "name": "stdout",
     "output_type": "stream",
     "text": [
      "Epoch 20,  Loss: 12965.8389,  Regret:  7.8996%\n"
     ]
    },
    {
     "name": "stderr",
     "output_type": "stream",
     "text": [
      "100%|██████████| 180/180 [00:04<00:00, 41.29it/s]\n",
      "100%|██████████| 180/180 [00:04<00:00, 40.75it/s]\n"
     ]
    },
    {
     "name": "stdout",
     "output_type": "stream",
     "text": [
      "Epoch 21,  Loss: 14032.0771,  Regret:  7.9083%\n"
     ]
    },
    {
     "name": "stderr",
     "output_type": "stream",
     "text": [
      "100%|██████████| 180/180 [00:04<00:00, 41.46it/s]\n",
      "100%|██████████| 180/180 [00:04<00:00, 40.34it/s]\n"
     ]
    },
    {
     "name": "stdout",
     "output_type": "stream",
     "text": [
      "Epoch 22,  Loss: 11904.7148,  Regret:  7.7552%\n"
     ]
    },
    {
     "name": "stderr",
     "output_type": "stream",
     "text": [
      "100%|██████████| 180/180 [00:04<00:00, 40.83it/s]\n",
      "100%|██████████| 180/180 [00:04<00:00, 40.53it/s]\n"
     ]
    },
    {
     "name": "stdout",
     "output_type": "stream",
     "text": [
      "Epoch 23,  Loss: 11821.5928,  Regret:  7.7906%\n"
     ]
    },
    {
     "name": "stderr",
     "output_type": "stream",
     "text": [
      "100%|██████████| 180/180 [00:04<00:00, 41.31it/s]\n",
      "100%|██████████| 180/180 [00:04<00:00, 40.52it/s]\n"
     ]
    },
    {
     "name": "stdout",
     "output_type": "stream",
     "text": [
      "Epoch 24,  Loss: 12499.4629,  Regret:  7.8241%\n"
     ]
    },
    {
     "name": "stderr",
     "output_type": "stream",
     "text": [
      "100%|██████████| 180/180 [00:04<00:00, 40.78it/s]\n",
      "100%|██████████| 180/180 [00:04<00:00, 43.19it/s]\n"
     ]
    },
    {
     "name": "stdout",
     "output_type": "stream",
     "text": [
      "Epoch 25,  Loss: 14437.0664,  Regret:  7.7591%\n"
     ]
    },
    {
     "name": "stderr",
     "output_type": "stream",
     "text": [
      "100%|██████████| 180/180 [00:04<00:00, 40.49it/s]\n",
      "100%|██████████| 180/180 [00:04<00:00, 41.65it/s]\n"
     ]
    },
    {
     "name": "stdout",
     "output_type": "stream",
     "text": [
      "Epoch 26,  Loss: 13655.8652,  Regret:  7.7449%\n"
     ]
    },
    {
     "name": "stderr",
     "output_type": "stream",
     "text": [
      "100%|██████████| 180/180 [00:04<00:00, 41.07it/s]\n",
      "100%|██████████| 180/180 [00:04<00:00, 43.74it/s]\n"
     ]
    },
    {
     "name": "stdout",
     "output_type": "stream",
     "text": [
      "Epoch 27,  Loss: 12387.6787,  Regret:  7.7201%\n"
     ]
    },
    {
     "name": "stderr",
     "output_type": "stream",
     "text": [
      "100%|██████████| 180/180 [00:04<00:00, 41.31it/s]\n",
      "100%|██████████| 180/180 [00:04<00:00, 41.46it/s]\n"
     ]
    },
    {
     "name": "stdout",
     "output_type": "stream",
     "text": [
      "Epoch 28,  Loss: 12853.8623,  Regret:  7.6546%\n"
     ]
    },
    {
     "name": "stderr",
     "output_type": "stream",
     "text": [
      "100%|██████████| 180/180 [00:04<00:00, 40.44it/s]\n",
      "100%|██████████| 180/180 [00:04<00:00, 42.23it/s]\n"
     ]
    },
    {
     "name": "stdout",
     "output_type": "stream",
     "text": [
      "Epoch 29,  Loss: 11668.8848,  Regret:  7.6881%\n"
     ]
    },
    {
     "name": "stderr",
     "output_type": "stream",
     "text": [
      "100%|██████████| 180/180 [00:04<00:00, 40.70it/s]\n",
      "100%|██████████| 180/180 [00:04<00:00, 41.40it/s]\n"
     ]
    },
    {
     "name": "stdout",
     "output_type": "stream",
     "text": [
      "Epoch 30,  Loss: 17457.6699,  Regret:  7.5816%\n",
      "Total Elapsed Time: 16900.46 Sec.\n"
     ]
    },
    {
     "data": {
      "text/html": [
       "<style>\n",
       "    table.wandb td:nth-child(1) { padding: 0 10px; text-align: left ; width: auto;} td:nth-child(2) {text-align: left ; width: 100%}\n",
       "    .wandb-row { display: flex; flex-direction: row; flex-wrap: wrap; justify-content: flex-start; width: 100% }\n",
       "    .wandb-col { display: flex; flex-direction: column; flex-basis: 100%; flex: 1; padding: 10px; }\n",
       "    </style>\n",
       "<div class=\"wandb-row\"><div class=\"wandb-col\"><h3>Run history:</h3><br/><table class=\"wandb\"><tr><td>Linear loss</td><td>▃▇█▃▂▆▆▃▁▅▆▂▄▇▇▁▂▂▃▃▂▄█▁▂▃▄▄▃▆█▂▁▄▇▄▁▇▅▄</td></tr><tr><td>Regret</td><td>█▅▂▂▁▁▁▁▁▁▁▁▁▁▁▁▁▁▁▁▁▁▁▁▁▁▁▁▁▁</td></tr></table><br/></div><div class=\"wandb-col\"><h3>Run summary:</h3><br/><table class=\"wandb\"><tr><td>Linear loss</td><td>17457.66992</td></tr><tr><td>Regret</td><td>0.07582</td></tr></table><br/></div></div>"
      ],
      "text/plain": [
       "<IPython.core.display.HTML object>"
      ]
     },
     "metadata": {},
     "output_type": "display_data"
    },
    {
     "data": {
      "text/html": [
       " View run <strong style=\"color:#cdcd00\">vague-sweep-8</strong> at: <a href='https://wandb.ai/Pyepo_special/Sweep%20Pyepo%20Basic%20Model/runs/rh9yeggk' target=\"_blank\">https://wandb.ai/Pyepo_special/Sweep%20Pyepo%20Basic%20Model/runs/rh9yeggk</a><br/> View project at: <a href='https://wandb.ai/Pyepo_special/Sweep%20Pyepo%20Basic%20Model' target=\"_blank\">https://wandb.ai/Pyepo_special/Sweep%20Pyepo%20Basic%20Model</a><br/>Synced 5 W&B file(s), 0 media file(s), 0 artifact file(s) and 0 other file(s)"
      ],
      "text/plain": [
       "<IPython.core.display.HTML object>"
      ]
     },
     "metadata": {},
     "output_type": "display_data"
    },
    {
     "data": {
      "text/html": [
       "Find logs at: <code>.\\wandb\\run-20240515_120940-rh9yeggk\\logs</code>"
      ],
      "text/plain": [
       "<IPython.core.display.HTML object>"
      ]
     },
     "metadata": {},
     "output_type": "display_data"
    },
    {
     "name": "stderr",
     "output_type": "stream",
     "text": [
      "\u001b[34m\u001b[1mwandb\u001b[0m: Agent Starting Run: xna78ja8 with config:\n",
      "\u001b[34m\u001b[1mwandb\u001b[0m: \tdropout: 0.9\n",
      "\u001b[34m\u001b[1mwandb\u001b[0m: \tgamma: 0.95\n",
      "\u001b[34m\u001b[1mwandb\u001b[0m: \tlr: 0.0001\n",
      "\u001b[34m\u001b[1mwandb\u001b[0m: \tmethod_name: spo+\n",
      "\u001b[34m\u001b[1mwandb\u001b[0m: \tneurons: 32\n",
      "\u001b[34m\u001b[1mwandb\u001b[0m: \tnum_epochs: 20\n",
      "Failed to detect the name of this notebook, you can set it manually with the WANDB_NOTEBOOK_NAME environment variable to enable code saving.\n"
     ]
    },
    {
     "data": {
      "text/html": [
       "Tracking run with wandb version 0.17.0"
      ],
      "text/plain": [
       "<IPython.core.display.HTML object>"
      ]
     },
     "metadata": {},
     "output_type": "display_data"
    },
    {
     "data": {
      "text/html": [
       "Run data is saved locally in <code>c:\\Users\\ande7\\Documents\\Semester 3\\Special\\Course Material\\contextual_dm_in_power_sys\\main_folder\\models\\PyEpo\\wandb\\run-20240515_121517-xna78ja8</code>"
      ],
      "text/plain": [
       "<IPython.core.display.HTML object>"
      ]
     },
     "metadata": {},
     "output_type": "display_data"
    },
    {
     "data": {
      "text/html": [
       "Syncing run <strong><a href='https://wandb.ai/Pyepo_special/Sweep%20Pyepo%20Basic%20Model/runs/xna78ja8' target=\"_blank\">gentle-sweep-9</a></strong> to <a href='https://wandb.ai/Pyepo_special/Sweep%20Pyepo%20Basic%20Model' target=\"_blank\">Weights & Biases</a> (<a href='https://wandb.me/run' target=\"_blank\">docs</a>)<br/>Sweep page: <a href='https://wandb.ai/Pyepo_special/Sweep%20Pyepo%20Basic%20Model/sweeps/21l2bgkz' target=\"_blank\">https://wandb.ai/Pyepo_special/Sweep%20Pyepo%20Basic%20Model/sweeps/21l2bgkz</a>"
      ],
      "text/plain": [
       "<IPython.core.display.HTML object>"
      ]
     },
     "metadata": {},
     "output_type": "display_data"
    },
    {
     "data": {
      "text/html": [
       " View project at <a href='https://wandb.ai/Pyepo_special/Sweep%20Pyepo%20Basic%20Model' target=\"_blank\">https://wandb.ai/Pyepo_special/Sweep%20Pyepo%20Basic%20Model</a>"
      ],
      "text/plain": [
       "<IPython.core.display.HTML object>"
      ]
     },
     "metadata": {},
     "output_type": "display_data"
    },
    {
     "data": {
      "text/html": [
       " View sweep at <a href='https://wandb.ai/Pyepo_special/Sweep%20Pyepo%20Basic%20Model/sweeps/21l2bgkz' target=\"_blank\">https://wandb.ai/Pyepo_special/Sweep%20Pyepo%20Basic%20Model/sweeps/21l2bgkz</a>"
      ],
      "text/plain": [
       "<IPython.core.display.HTML object>"
      ]
     },
     "metadata": {},
     "output_type": "display_data"
    },
    {
     "data": {
      "text/html": [
       " View run at <a href='https://wandb.ai/Pyepo_special/Sweep%20Pyepo%20Basic%20Model/runs/xna78ja8' target=\"_blank\">https://wandb.ai/Pyepo_special/Sweep%20Pyepo%20Basic%20Model/runs/xna78ja8</a>"
      ],
      "text/plain": [
       "<IPython.core.display.HTML object>"
      ]
     },
     "metadata": {},
     "output_type": "display_data"
    },
    {
     "name": "stderr",
     "output_type": "stream",
     "text": [
      "100%|██████████| 180/180 [00:04<00:00, 42.04it/s]\n",
      "100%|██████████| 180/180 [00:04<00:00, 41.11it/s]\n",
      "100%|██████████| 180/180 [00:04<00:00, 43.83it/s]\n"
     ]
    },
    {
     "name": "stdout",
     "output_type": "stream",
     "text": [
      "Epoch  1,  Loss: 19796.7676,  Regret: 43.2914%\n"
     ]
    },
    {
     "name": "stderr",
     "output_type": "stream",
     "text": [
      "100%|██████████| 180/180 [00:04<00:00, 40.14it/s]\n",
      "100%|██████████| 180/180 [00:04<00:00, 41.24it/s]\n"
     ]
    },
    {
     "name": "stdout",
     "output_type": "stream",
     "text": [
      "Epoch  2,  Loss: 18758.8008,  Regret: 26.8154%\n"
     ]
    },
    {
     "name": "stderr",
     "output_type": "stream",
     "text": [
      "100%|██████████| 180/180 [00:04<00:00, 40.33it/s]\n",
      "100%|██████████| 180/180 [00:04<00:00, 41.36it/s]\n"
     ]
    },
    {
     "name": "stdout",
     "output_type": "stream",
     "text": [
      "Epoch  3,  Loss: 19614.0820,  Regret: 18.3584%\n"
     ]
    },
    {
     "name": "stderr",
     "output_type": "stream",
     "text": [
      "100%|██████████| 180/180 [00:04<00:00, 40.51it/s]\n",
      "100%|██████████| 180/180 [00:04<00:00, 40.25it/s]\n"
     ]
    },
    {
     "name": "stdout",
     "output_type": "stream",
     "text": [
      "Epoch  4,  Loss: 18091.3945,  Regret: 13.3244%\n"
     ]
    },
    {
     "name": "stderr",
     "output_type": "stream",
     "text": [
      "100%|██████████| 180/180 [00:04<00:00, 40.78it/s]\n",
      "100%|██████████| 180/180 [00:04<00:00, 40.41it/s]\n"
     ]
    },
    {
     "name": "stdout",
     "output_type": "stream",
     "text": [
      "Epoch  5,  Loss: 19437.7031,  Regret: 10.3622%\n"
     ]
    },
    {
     "name": "stderr",
     "output_type": "stream",
     "text": [
      "100%|██████████| 180/180 [00:04<00:00, 40.96it/s]\n",
      "100%|██████████| 180/180 [00:04<00:00, 44.78it/s]\n"
     ]
    },
    {
     "name": "stdout",
     "output_type": "stream",
     "text": [
      "Epoch  6,  Loss: 19404.9277,  Regret:  9.1502%\n"
     ]
    },
    {
     "name": "stderr",
     "output_type": "stream",
     "text": [
      "100%|██████████| 180/180 [00:04<00:00, 40.59it/s]\n",
      "100%|██████████| 180/180 [00:04<00:00, 42.91it/s]\n"
     ]
    },
    {
     "name": "stdout",
     "output_type": "stream",
     "text": [
      "Epoch  7,  Loss: 19347.2656,  Regret:  8.6565%\n"
     ]
    },
    {
     "name": "stderr",
     "output_type": "stream",
     "text": [
      "100%|██████████| 180/180 [00:04<00:00, 40.12it/s]\n",
      "100%|██████████| 180/180 [00:04<00:00, 41.93it/s]\n"
     ]
    },
    {
     "name": "stdout",
     "output_type": "stream",
     "text": [
      "Epoch  8,  Loss: 19295.6055,  Regret:  8.5218%\n"
     ]
    },
    {
     "name": "stderr",
     "output_type": "stream",
     "text": [
      "100%|██████████| 180/180 [03:17<00:00,  1.09s/it]\n",
      "100%|██████████| 180/180 [00:02<00:00, 64.52it/s]\n"
     ]
    },
    {
     "name": "stdout",
     "output_type": "stream",
     "text": [
      "Epoch  9,  Loss: 16126.4189,  Regret:  8.4132%\n"
     ]
    },
    {
     "name": "stderr",
     "output_type": "stream",
     "text": [
      "100%|██████████| 180/180 [00:03<00:00, 45.74it/s]\n",
      "100%|██████████| 180/180 [00:03<00:00, 48.09it/s]\n"
     ]
    },
    {
     "name": "stdout",
     "output_type": "stream",
     "text": [
      "Epoch 10,  Loss: 16023.8496,  Regret:  8.2481%\n"
     ]
    },
    {
     "name": "stderr",
     "output_type": "stream",
     "text": [
      "100%|██████████| 180/180 [00:04<00:00, 41.74it/s]\n",
      "100%|██████████| 180/180 [00:04<00:00, 43.12it/s]\n"
     ]
    },
    {
     "name": "stdout",
     "output_type": "stream",
     "text": [
      "Epoch 11,  Loss: 13048.3301,  Regret:  8.2322%\n"
     ]
    },
    {
     "name": "stderr",
     "output_type": "stream",
     "text": [
      "100%|██████████| 180/180 [00:04<00:00, 41.56it/s]\n",
      "100%|██████████| 180/180 [00:04<00:00, 42.71it/s]\n"
     ]
    },
    {
     "name": "stdout",
     "output_type": "stream",
     "text": [
      "Epoch 12,  Loss: 19110.2734,  Regret:  8.1345%\n"
     ]
    },
    {
     "name": "stderr",
     "output_type": "stream",
     "text": [
      "100%|██████████| 180/180 [00:04<00:00, 41.24it/s]\n",
      "100%|██████████| 180/180 [00:04<00:00, 39.59it/s]\n"
     ]
    },
    {
     "name": "stdout",
     "output_type": "stream",
     "text": [
      "Epoch 13,  Loss: 15148.2207,  Regret:  8.0467%\n"
     ]
    },
    {
     "name": "stderr",
     "output_type": "stream",
     "text": [
      "100%|██████████| 180/180 [00:04<00:00, 40.86it/s]\n",
      "100%|██████████| 180/180 [00:04<00:00, 41.30it/s]\n"
     ]
    },
    {
     "name": "stdout",
     "output_type": "stream",
     "text": [
      "Epoch 14,  Loss: 15527.1816,  Regret:  7.9766%\n"
     ]
    },
    {
     "name": "stderr",
     "output_type": "stream",
     "text": [
      "100%|██████████| 180/180 [00:04<00:00, 42.40it/s]\n",
      "100%|██████████| 180/180 [00:04<00:00, 41.25it/s]\n"
     ]
    },
    {
     "name": "stdout",
     "output_type": "stream",
     "text": [
      "Epoch 15,  Loss: 18997.3477,  Regret:  7.9346%\n"
     ]
    },
    {
     "name": "stderr",
     "output_type": "stream",
     "text": [
      "100%|██████████| 180/180 [00:04<00:00, 40.43it/s]\n",
      "100%|██████████| 180/180 [00:04<00:00, 42.45it/s]\n"
     ]
    },
    {
     "name": "stdout",
     "output_type": "stream",
     "text": [
      "Epoch 16,  Loss: 16285.7344,  Regret:  7.9090%\n"
     ]
    },
    {
     "name": "stderr",
     "output_type": "stream",
     "text": [
      "100%|██████████| 180/180 [00:04<00:00, 40.98it/s]\n",
      "100%|██████████| 180/180 [00:04<00:00, 41.29it/s]\n"
     ]
    },
    {
     "name": "stdout",
     "output_type": "stream",
     "text": [
      "Epoch 17,  Loss: 13273.3848,  Regret:  7.9147%\n"
     ]
    },
    {
     "name": "stderr",
     "output_type": "stream",
     "text": [
      "100%|██████████| 180/180 [00:04<00:00, 40.95it/s]\n",
      "100%|██████████| 180/180 [00:04<00:00, 39.23it/s]\n"
     ]
    },
    {
     "name": "stdout",
     "output_type": "stream",
     "text": [
      "Epoch 18,  Loss: 17208.4375,  Regret:  7.8829%\n"
     ]
    },
    {
     "name": "stderr",
     "output_type": "stream",
     "text": [
      "100%|██████████| 180/180 [00:04<00:00, 40.46it/s]\n",
      "100%|██████████| 180/180 [00:04<00:00, 38.62it/s]\n"
     ]
    },
    {
     "name": "stdout",
     "output_type": "stream",
     "text": [
      "Epoch 19,  Loss: 13963.2656,  Regret:  7.8898%\n"
     ]
    },
    {
     "name": "stderr",
     "output_type": "stream",
     "text": [
      "100%|██████████| 180/180 [00:04<00:00, 40.36it/s]\n",
      "100%|██████████| 180/180 [00:04<00:00, 40.46it/s]\n"
     ]
    },
    {
     "name": "stdout",
     "output_type": "stream",
     "text": [
      "Epoch 20,  Loss: 14222.7910,  Regret:  7.8626%\n",
      "Total Elapsed Time: 16636.03 Sec.\n"
     ]
    },
    {
     "data": {
      "text/html": [
       "<style>\n",
       "    table.wandb td:nth-child(1) { padding: 0 10px; text-align: left ; width: auto;} td:nth-child(2) {text-align: left ; width: 100%}\n",
       "    .wandb-row { display: flex; flex-direction: row; flex-wrap: wrap; justify-content: flex-start; width: 100% }\n",
       "    .wandb-col { display: flex; flex-direction: column; flex-basis: 100%; flex: 1; padding: 10px; }\n",
       "    </style>\n",
       "<div class=\"wandb-row\"><div class=\"wandb-col\"><h3>Run history:</h3><br/><table class=\"wandb\"><tr><td>Linear loss</td><td>▃▂▆▃▄▇▃▂▆▅▁▇▁▆▄▅▁▅▃▆▂▇▃█▃▄▃▆▁▆▂▄▂▅▂▅▃▅▁▄</td></tr><tr><td>Regret</td><td>█▅▃▂▁▁▁▁▁▁▁▁▁▁▁▁▁▁▁▁</td></tr></table><br/></div><div class=\"wandb-col\"><h3>Run summary:</h3><br/><table class=\"wandb\"><tr><td>Linear loss</td><td>14222.79102</td></tr><tr><td>Regret</td><td>0.07863</td></tr></table><br/></div></div>"
      ],
      "text/plain": [
       "<IPython.core.display.HTML object>"
      ]
     },
     "metadata": {},
     "output_type": "display_data"
    },
    {
     "data": {
      "text/html": [
       " View run <strong style=\"color:#cdcd00\">gentle-sweep-9</strong> at: <a href='https://wandb.ai/Pyepo_special/Sweep%20Pyepo%20Basic%20Model/runs/xna78ja8' target=\"_blank\">https://wandb.ai/Pyepo_special/Sweep%20Pyepo%20Basic%20Model/runs/xna78ja8</a><br/> View project at: <a href='https://wandb.ai/Pyepo_special/Sweep%20Pyepo%20Basic%20Model' target=\"_blank\">https://wandb.ai/Pyepo_special/Sweep%20Pyepo%20Basic%20Model</a><br/>Synced 5 W&B file(s), 0 media file(s), 0 artifact file(s) and 0 other file(s)"
      ],
      "text/plain": [
       "<IPython.core.display.HTML object>"
      ]
     },
     "metadata": {},
     "output_type": "display_data"
    },
    {
     "data": {
      "text/html": [
       "Find logs at: <code>.\\wandb\\run-20240515_121517-xna78ja8\\logs</code>"
      ],
      "text/plain": [
       "<IPython.core.display.HTML object>"
      ]
     },
     "metadata": {},
     "output_type": "display_data"
    },
    {
     "name": "stderr",
     "output_type": "stream",
     "text": [
      "\u001b[34m\u001b[1mwandb\u001b[0m: Agent Starting Run: e4gmgk9l with config:\n",
      "\u001b[34m\u001b[1mwandb\u001b[0m: \tdropout: 0.5\n",
      "\u001b[34m\u001b[1mwandb\u001b[0m: \tgamma: 0.9\n",
      "\u001b[34m\u001b[1mwandb\u001b[0m: \tlr: 0.001\n",
      "\u001b[34m\u001b[1mwandb\u001b[0m: \tmethod_name: spo+\n",
      "\u001b[34m\u001b[1mwandb\u001b[0m: \tneurons: 32\n",
      "\u001b[34m\u001b[1mwandb\u001b[0m: \tnum_epochs: 10\n",
      "Failed to detect the name of this notebook, you can set it manually with the WANDB_NOTEBOOK_NAME environment variable to enable code saving.\n"
     ]
    },
    {
     "data": {
      "text/html": [
       "Tracking run with wandb version 0.17.0"
      ],
      "text/plain": [
       "<IPython.core.display.HTML object>"
      ]
     },
     "metadata": {},
     "output_type": "display_data"
    },
    {
     "data": {
      "text/html": [
       "Run data is saved locally in <code>c:\\Users\\ande7\\Documents\\Semester 3\\Special\\Course Material\\contextual_dm_in_power_sys\\main_folder\\models\\PyEpo\\wandb\\run-20240515_122140-e4gmgk9l</code>"
      ],
      "text/plain": [
       "<IPython.core.display.HTML object>"
      ]
     },
     "metadata": {},
     "output_type": "display_data"
    },
    {
     "data": {
      "text/html": [
       "Syncing run <strong><a href='https://wandb.ai/Pyepo_special/Sweep%20Pyepo%20Basic%20Model/runs/e4gmgk9l' target=\"_blank\">silvery-sweep-10</a></strong> to <a href='https://wandb.ai/Pyepo_special/Sweep%20Pyepo%20Basic%20Model' target=\"_blank\">Weights & Biases</a> (<a href='https://wandb.me/run' target=\"_blank\">docs</a>)<br/>Sweep page: <a href='https://wandb.ai/Pyepo_special/Sweep%20Pyepo%20Basic%20Model/sweeps/21l2bgkz' target=\"_blank\">https://wandb.ai/Pyepo_special/Sweep%20Pyepo%20Basic%20Model/sweeps/21l2bgkz</a>"
      ],
      "text/plain": [
       "<IPython.core.display.HTML object>"
      ]
     },
     "metadata": {},
     "output_type": "display_data"
    },
    {
     "data": {
      "text/html": [
       " View project at <a href='https://wandb.ai/Pyepo_special/Sweep%20Pyepo%20Basic%20Model' target=\"_blank\">https://wandb.ai/Pyepo_special/Sweep%20Pyepo%20Basic%20Model</a>"
      ],
      "text/plain": [
       "<IPython.core.display.HTML object>"
      ]
     },
     "metadata": {},
     "output_type": "display_data"
    },
    {
     "data": {
      "text/html": [
       " View sweep at <a href='https://wandb.ai/Pyepo_special/Sweep%20Pyepo%20Basic%20Model/sweeps/21l2bgkz' target=\"_blank\">https://wandb.ai/Pyepo_special/Sweep%20Pyepo%20Basic%20Model/sweeps/21l2bgkz</a>"
      ],
      "text/plain": [
       "<IPython.core.display.HTML object>"
      ]
     },
     "metadata": {},
     "output_type": "display_data"
    },
    {
     "data": {
      "text/html": [
       " View run at <a href='https://wandb.ai/Pyepo_special/Sweep%20Pyepo%20Basic%20Model/runs/e4gmgk9l' target=\"_blank\">https://wandb.ai/Pyepo_special/Sweep%20Pyepo%20Basic%20Model/runs/e4gmgk9l</a>"
      ],
      "text/plain": [
       "<IPython.core.display.HTML object>"
      ]
     },
     "metadata": {},
     "output_type": "display_data"
    },
    {
     "name": "stderr",
     "output_type": "stream",
     "text": [
      "100%|██████████| 180/180 [00:04<00:00, 41.86it/s]\n",
      "100%|██████████| 180/180 [00:04<00:00, 40.63it/s]\n",
      "100%|██████████| 180/180 [00:04<00:00, 42.19it/s]\n"
     ]
    },
    {
     "name": "stdout",
     "output_type": "stream",
     "text": [
      "Epoch  1,  Loss: 14290.1523,  Regret:  7.7980%\n"
     ]
    },
    {
     "name": "stderr",
     "output_type": "stream",
     "text": [
      "100%|██████████| 180/180 [00:04<00:00, 40.03it/s]\n",
      "100%|██████████| 180/180 [00:04<00:00, 41.07it/s]\n"
     ]
    },
    {
     "name": "stdout",
     "output_type": "stream",
     "text": [
      "Epoch  2,  Loss: 13516.0469,  Regret:  7.7883%\n"
     ]
    },
    {
     "name": "stderr",
     "output_type": "stream",
     "text": [
      "100%|██████████| 180/180 [00:04<00:00, 41.14it/s]\n",
      "100%|██████████| 180/180 [00:04<00:00, 40.64it/s]\n"
     ]
    },
    {
     "name": "stdout",
     "output_type": "stream",
     "text": [
      "Epoch  3,  Loss: 11902.4873,  Regret:  7.9723%\n"
     ]
    },
    {
     "name": "stderr",
     "output_type": "stream",
     "text": [
      "100%|██████████| 180/180 [00:04<00:00, 41.44it/s]\n",
      "100%|██████████| 180/180 [00:04<00:00, 44.53it/s]\n"
     ]
    },
    {
     "name": "stdout",
     "output_type": "stream",
     "text": [
      "Epoch  4,  Loss: 12759.3926,  Regret:  8.0435%\n"
     ]
    },
    {
     "name": "stderr",
     "output_type": "stream",
     "text": [
      "100%|██████████| 180/180 [00:04<00:00, 41.96it/s]\n",
      "100%|██████████| 180/180 [00:04<00:00, 41.17it/s]\n"
     ]
    },
    {
     "name": "stdout",
     "output_type": "stream",
     "text": [
      "Epoch  5,  Loss: 10941.8818,  Regret:  7.4578%\n"
     ]
    },
    {
     "name": "stderr",
     "output_type": "stream",
     "text": [
      "100%|██████████| 180/180 [00:04<00:00, 41.66it/s]\n",
      "100%|██████████| 180/180 [00:04<00:00, 41.81it/s]\n"
     ]
    },
    {
     "name": "stdout",
     "output_type": "stream",
     "text": [
      "Epoch  6,  Loss: 11082.8320,  Regret:  7.5293%\n"
     ]
    },
    {
     "name": "stderr",
     "output_type": "stream",
     "text": [
      "100%|██████████| 180/180 [00:04<00:00, 41.48it/s]\n",
      "100%|██████████| 180/180 [00:04<00:00, 42.80it/s]\n"
     ]
    },
    {
     "name": "stdout",
     "output_type": "stream",
     "text": [
      "Epoch  7,  Loss: 12943.0205,  Regret:  7.5066%\n"
     ]
    },
    {
     "name": "stderr",
     "output_type": "stream",
     "text": [
      "100%|██████████| 180/180 [00:04<00:00, 40.58it/s]\n",
      "100%|██████████| 180/180 [00:04<00:00, 43.36it/s]\n"
     ]
    },
    {
     "name": "stdout",
     "output_type": "stream",
     "text": [
      "Epoch  8,  Loss: 11357.9385,  Regret:  7.2346%\n"
     ]
    },
    {
     "name": "stderr",
     "output_type": "stream",
     "text": [
      "100%|██████████| 180/180 [00:04<00:00, 41.13it/s]\n",
      "100%|██████████| 180/180 [00:04<00:00, 42.46it/s]\n"
     ]
    },
    {
     "name": "stdout",
     "output_type": "stream",
     "text": [
      "Epoch  9,  Loss: 11514.1484,  Regret:  7.2056%\n"
     ]
    },
    {
     "name": "stderr",
     "output_type": "stream",
     "text": [
      "100%|██████████| 180/180 [00:04<00:00, 41.23it/s]\n",
      "100%|██████████| 180/180 [00:04<00:00, 39.65it/s]\n"
     ]
    },
    {
     "name": "stdout",
     "output_type": "stream",
     "text": [
      "Epoch 10,  Loss: 10982.2061,  Regret:  7.2300%\n",
      "Total Elapsed Time: 3984.77 Sec.\n"
     ]
    },
    {
     "data": {
      "text/html": [
       "<style>\n",
       "    table.wandb td:nth-child(1) { padding: 0 10px; text-align: left ; width: auto;} td:nth-child(2) {text-align: left ; width: 100%}\n",
       "    .wandb-row { display: flex; flex-direction: row; flex-wrap: wrap; justify-content: flex-start; width: 100% }\n",
       "    .wandb-col { display: flex; flex-direction: column; flex-basis: 100%; flex: 1; padding: 10px; }\n",
       "    </style>\n",
       "<div class=\"wandb-row\"><div class=\"wandb-col\"><h3>Run history:</h3><br/><table class=\"wandb\"><tr><td>Linear loss</td><td>█▅▂▅▇▃▂▆█▄▂▆▃▁▃▅▇▂▃▅▇▃▂▄▃▂▆▆▃▁▄▅▁▂▄▅▂▂▅▇</td></tr><tr><td>Regret</td><td>▆▆▇█▃▄▄▁▁▁</td></tr></table><br/></div><div class=\"wandb-col\"><h3>Run summary:</h3><br/><table class=\"wandb\"><tr><td>Linear loss</td><td>10982.20605</td></tr><tr><td>Regret</td><td>0.0723</td></tr></table><br/></div></div>"
      ],
      "text/plain": [
       "<IPython.core.display.HTML object>"
      ]
     },
     "metadata": {},
     "output_type": "display_data"
    },
    {
     "data": {
      "text/html": [
       " View run <strong style=\"color:#cdcd00\">silvery-sweep-10</strong> at: <a href='https://wandb.ai/Pyepo_special/Sweep%20Pyepo%20Basic%20Model/runs/e4gmgk9l' target=\"_blank\">https://wandb.ai/Pyepo_special/Sweep%20Pyepo%20Basic%20Model/runs/e4gmgk9l</a><br/> View project at: <a href='https://wandb.ai/Pyepo_special/Sweep%20Pyepo%20Basic%20Model' target=\"_blank\">https://wandb.ai/Pyepo_special/Sweep%20Pyepo%20Basic%20Model</a><br/>Synced 5 W&B file(s), 0 media file(s), 0 artifact file(s) and 0 other file(s)"
      ],
      "text/plain": [
       "<IPython.core.display.HTML object>"
      ]
     },
     "metadata": {},
     "output_type": "display_data"
    },
    {
     "data": {
      "text/html": [
       "Find logs at: <code>.\\wandb\\run-20240515_122140-e4gmgk9l\\logs</code>"
      ],
      "text/plain": [
       "<IPython.core.display.HTML object>"
      ]
     },
     "metadata": {},
     "output_type": "display_data"
    },
    {
     "name": "stderr",
     "output_type": "stream",
     "text": [
      "\u001b[34m\u001b[1mwandb\u001b[0m: Agent Starting Run: v1q5x9g6 with config:\n",
      "\u001b[34m\u001b[1mwandb\u001b[0m: \tdropout: 0.9\n",
      "\u001b[34m\u001b[1mwandb\u001b[0m: \tgamma: 0.99\n",
      "\u001b[34m\u001b[1mwandb\u001b[0m: \tlr: 0.01\n",
      "\u001b[34m\u001b[1mwandb\u001b[0m: \tmethod_name: spo+\n",
      "\u001b[34m\u001b[1mwandb\u001b[0m: \tneurons: 32\n",
      "\u001b[34m\u001b[1mwandb\u001b[0m: \tnum_epochs: 10\n",
      "Failed to detect the name of this notebook, you can set it manually with the WANDB_NOTEBOOK_NAME environment variable to enable code saving.\n"
     ]
    },
    {
     "data": {
      "text/html": [
       "Tracking run with wandb version 0.17.0"
      ],
      "text/plain": [
       "<IPython.core.display.HTML object>"
      ]
     },
     "metadata": {},
     "output_type": "display_data"
    },
    {
     "data": {
      "text/html": [
       "Run data is saved locally in <code>c:\\Users\\ande7\\Documents\\Semester 3\\Special\\Course Material\\contextual_dm_in_power_sys\\main_folder\\models\\PyEpo\\wandb\\run-20240515_122324-v1q5x9g6</code>"
      ],
      "text/plain": [
       "<IPython.core.display.HTML object>"
      ]
     },
     "metadata": {},
     "output_type": "display_data"
    },
    {
     "data": {
      "text/html": [
       "Syncing run <strong><a href='https://wandb.ai/Pyepo_special/Sweep%20Pyepo%20Basic%20Model/runs/v1q5x9g6' target=\"_blank\">rosy-sweep-11</a></strong> to <a href='https://wandb.ai/Pyepo_special/Sweep%20Pyepo%20Basic%20Model' target=\"_blank\">Weights & Biases</a> (<a href='https://wandb.me/run' target=\"_blank\">docs</a>)<br/>Sweep page: <a href='https://wandb.ai/Pyepo_special/Sweep%20Pyepo%20Basic%20Model/sweeps/21l2bgkz' target=\"_blank\">https://wandb.ai/Pyepo_special/Sweep%20Pyepo%20Basic%20Model/sweeps/21l2bgkz</a>"
      ],
      "text/plain": [
       "<IPython.core.display.HTML object>"
      ]
     },
     "metadata": {},
     "output_type": "display_data"
    },
    {
     "data": {
      "text/html": [
       " View project at <a href='https://wandb.ai/Pyepo_special/Sweep%20Pyepo%20Basic%20Model' target=\"_blank\">https://wandb.ai/Pyepo_special/Sweep%20Pyepo%20Basic%20Model</a>"
      ],
      "text/plain": [
       "<IPython.core.display.HTML object>"
      ]
     },
     "metadata": {},
     "output_type": "display_data"
    },
    {
     "data": {
      "text/html": [
       " View sweep at <a href='https://wandb.ai/Pyepo_special/Sweep%20Pyepo%20Basic%20Model/sweeps/21l2bgkz' target=\"_blank\">https://wandb.ai/Pyepo_special/Sweep%20Pyepo%20Basic%20Model/sweeps/21l2bgkz</a>"
      ],
      "text/plain": [
       "<IPython.core.display.HTML object>"
      ]
     },
     "metadata": {},
     "output_type": "display_data"
    },
    {
     "data": {
      "text/html": [
       " View run at <a href='https://wandb.ai/Pyepo_special/Sweep%20Pyepo%20Basic%20Model/runs/v1q5x9g6' target=\"_blank\">https://wandb.ai/Pyepo_special/Sweep%20Pyepo%20Basic%20Model/runs/v1q5x9g6</a>"
      ],
      "text/plain": [
       "<IPython.core.display.HTML object>"
      ]
     },
     "metadata": {},
     "output_type": "display_data"
    },
    {
     "name": "stderr",
     "output_type": "stream",
     "text": [
      "100%|██████████| 180/180 [00:04<00:00, 38.81it/s]\n",
      "100%|██████████| 180/180 [00:04<00:00, 41.54it/s]\n",
      "100%|██████████| 180/180 [00:04<00:00, 41.09it/s]\n"
     ]
    },
    {
     "name": "stdout",
     "output_type": "stream",
     "text": [
      "Epoch  1,  Loss: 15460.0264,  Regret: 10.7922%\n"
     ]
    },
    {
     "name": "stderr",
     "output_type": "stream",
     "text": [
      "100%|██████████| 180/180 [00:04<00:00, 41.19it/s]\n",
      "100%|██████████| 180/180 [00:04<00:00, 40.55it/s]\n"
     ]
    },
    {
     "name": "stdout",
     "output_type": "stream",
     "text": [
      "Epoch  2,  Loss: 13340.8125,  Regret:  8.5067%\n"
     ]
    },
    {
     "name": "stderr",
     "output_type": "stream",
     "text": [
      "100%|██████████| 180/180 [00:04<00:00, 40.47it/s]\n",
      "100%|██████████| 180/180 [00:04<00:00, 42.71it/s]\n"
     ]
    },
    {
     "name": "stdout",
     "output_type": "stream",
     "text": [
      "Epoch  3,  Loss: 10409.5000,  Regret:  7.7484%\n"
     ]
    },
    {
     "name": "stderr",
     "output_type": "stream",
     "text": [
      "100%|██████████| 180/180 [00:04<00:00, 41.28it/s]\n",
      "100%|██████████| 180/180 [00:04<00:00, 42.41it/s]\n"
     ]
    },
    {
     "name": "stdout",
     "output_type": "stream",
     "text": [
      "Epoch  4,  Loss: 11047.4189,  Regret:  7.6597%\n"
     ]
    },
    {
     "name": "stderr",
     "output_type": "stream",
     "text": [
      "100%|██████████| 180/180 [00:04<00:00, 41.35it/s]\n",
      "100%|██████████| 180/180 [00:04<00:00, 40.46it/s]\n"
     ]
    },
    {
     "name": "stdout",
     "output_type": "stream",
     "text": [
      "Epoch  5,  Loss: 10744.1582,  Regret:  7.7034%\n"
     ]
    },
    {
     "name": "stderr",
     "output_type": "stream",
     "text": [
      "100%|██████████| 180/180 [00:04<00:00, 41.04it/s]\n",
      "100%|██████████| 180/180 [00:04<00:00, 43.01it/s]\n"
     ]
    },
    {
     "name": "stdout",
     "output_type": "stream",
     "text": [
      "Epoch  6,  Loss: 10876.4551,  Regret:  7.6039%\n"
     ]
    },
    {
     "name": "stderr",
     "output_type": "stream",
     "text": [
      "100%|██████████| 180/180 [00:04<00:00, 41.10it/s]\n",
      "100%|██████████| 180/180 [00:04<00:00, 39.00it/s]\n"
     ]
    },
    {
     "name": "stdout",
     "output_type": "stream",
     "text": [
      "Epoch  7,  Loss: 12684.0996,  Regret:  7.9949%\n"
     ]
    },
    {
     "name": "stderr",
     "output_type": "stream",
     "text": [
      "100%|██████████| 180/180 [00:04<00:00, 41.58it/s]\n",
      "100%|██████████| 180/180 [00:04<00:00, 38.52it/s]\n"
     ]
    },
    {
     "name": "stdout",
     "output_type": "stream",
     "text": [
      "Epoch  8,  Loss: 10202.2490,  Regret:  7.8823%\n"
     ]
    },
    {
     "name": "stderr",
     "output_type": "stream",
     "text": [
      "100%|██████████| 180/180 [00:04<00:00, 40.94it/s]\n",
      "100%|██████████| 180/180 [00:04<00:00, 39.97it/s]\n"
     ]
    },
    {
     "name": "stdout",
     "output_type": "stream",
     "text": [
      "Epoch  9,  Loss: 15507.5898,  Regret:  7.7079%\n"
     ]
    },
    {
     "name": "stderr",
     "output_type": "stream",
     "text": [
      "100%|██████████| 180/180 [00:04<00:00, 41.79it/s]\n",
      "100%|██████████| 180/180 [00:03<00:00, 48.14it/s]\n"
     ]
    },
    {
     "name": "stdout",
     "output_type": "stream",
     "text": [
      "Epoch 10,  Loss: 15661.9961,  Regret:  7.7065%\n",
      "Total Elapsed Time: 3988.04 Sec.\n"
     ]
    },
    {
     "data": {
      "text/html": [
       "<style>\n",
       "    table.wandb td:nth-child(1) { padding: 0 10px; text-align: left ; width: auto;} td:nth-child(2) {text-align: left ; width: 100%}\n",
       "    .wandb-row { display: flex; flex-direction: row; flex-wrap: wrap; justify-content: flex-start; width: 100% }\n",
       "    .wandb-col { display: flex; flex-direction: column; flex-basis: 100%; flex: 1; padding: 10px; }\n",
       "    </style>\n",
       "<div class=\"wandb-row\"><div class=\"wandb-col\"><h3>Run history:</h3><br/><table class=\"wandb\"><tr><td>Linear loss</td><td>█▃▃▅█▂▂▇▇▄▂▆▃▁▂▆▇▂▄▇▇▂▂▄▃▁▆▆▃▁▄▅▁▂▄▄▁▁▅▇</td></tr><tr><td>Regret</td><td>█▃▁▁▁▁▂▂▁▁</td></tr></table><br/></div><div class=\"wandb-col\"><h3>Run summary:</h3><br/><table class=\"wandb\"><tr><td>Linear loss</td><td>15661.99609</td></tr><tr><td>Regret</td><td>0.07706</td></tr></table><br/></div></div>"
      ],
      "text/plain": [
       "<IPython.core.display.HTML object>"
      ]
     },
     "metadata": {},
     "output_type": "display_data"
    },
    {
     "data": {
      "text/html": [
       " View run <strong style=\"color:#cdcd00\">rosy-sweep-11</strong> at: <a href='https://wandb.ai/Pyepo_special/Sweep%20Pyepo%20Basic%20Model/runs/v1q5x9g6' target=\"_blank\">https://wandb.ai/Pyepo_special/Sweep%20Pyepo%20Basic%20Model/runs/v1q5x9g6</a><br/> View project at: <a href='https://wandb.ai/Pyepo_special/Sweep%20Pyepo%20Basic%20Model' target=\"_blank\">https://wandb.ai/Pyepo_special/Sweep%20Pyepo%20Basic%20Model</a><br/>Synced 5 W&B file(s), 0 media file(s), 0 artifact file(s) and 0 other file(s)"
      ],
      "text/plain": [
       "<IPython.core.display.HTML object>"
      ]
     },
     "metadata": {},
     "output_type": "display_data"
    },
    {
     "data": {
      "text/html": [
       "Find logs at: <code>.\\wandb\\run-20240515_122324-v1q5x9g6\\logs</code>"
      ],
      "text/plain": [
       "<IPython.core.display.HTML object>"
      ]
     },
     "metadata": {},
     "output_type": "display_data"
    },
    {
     "name": "stderr",
     "output_type": "stream",
     "text": [
      "\u001b[34m\u001b[1mwandb\u001b[0m: Agent Starting Run: kmtw299q with config:\n",
      "\u001b[34m\u001b[1mwandb\u001b[0m: \tdropout: 0.5\n",
      "\u001b[34m\u001b[1mwandb\u001b[0m: \tgamma: 0.99\n",
      "\u001b[34m\u001b[1mwandb\u001b[0m: \tlr: 0.01\n",
      "\u001b[34m\u001b[1mwandb\u001b[0m: \tmethod_name: spo+\n",
      "\u001b[34m\u001b[1mwandb\u001b[0m: \tneurons: 32\n",
      "\u001b[34m\u001b[1mwandb\u001b[0m: \tnum_epochs: 30\n",
      "Failed to detect the name of this notebook, you can set it manually with the WANDB_NOTEBOOK_NAME environment variable to enable code saving.\n"
     ]
    },
    {
     "data": {
      "text/html": [
       "Tracking run with wandb version 0.17.0"
      ],
      "text/plain": [
       "<IPython.core.display.HTML object>"
      ]
     },
     "metadata": {},
     "output_type": "display_data"
    },
    {
     "data": {
      "text/html": [
       "Run data is saved locally in <code>c:\\Users\\ande7\\Documents\\Semester 3\\Special\\Course Material\\contextual_dm_in_power_sys\\main_folder\\models\\PyEpo\\wandb\\run-20240515_122508-kmtw299q</code>"
      ],
      "text/plain": [
       "<IPython.core.display.HTML object>"
      ]
     },
     "metadata": {},
     "output_type": "display_data"
    },
    {
     "data": {
      "text/html": [
       "Syncing run <strong><a href='https://wandb.ai/Pyepo_special/Sweep%20Pyepo%20Basic%20Model/runs/kmtw299q' target=\"_blank\">youthful-sweep-12</a></strong> to <a href='https://wandb.ai/Pyepo_special/Sweep%20Pyepo%20Basic%20Model' target=\"_blank\">Weights & Biases</a> (<a href='https://wandb.me/run' target=\"_blank\">docs</a>)<br/>Sweep page: <a href='https://wandb.ai/Pyepo_special/Sweep%20Pyepo%20Basic%20Model/sweeps/21l2bgkz' target=\"_blank\">https://wandb.ai/Pyepo_special/Sweep%20Pyepo%20Basic%20Model/sweeps/21l2bgkz</a>"
      ],
      "text/plain": [
       "<IPython.core.display.HTML object>"
      ]
     },
     "metadata": {},
     "output_type": "display_data"
    },
    {
     "data": {
      "text/html": [
       " View project at <a href='https://wandb.ai/Pyepo_special/Sweep%20Pyepo%20Basic%20Model' target=\"_blank\">https://wandb.ai/Pyepo_special/Sweep%20Pyepo%20Basic%20Model</a>"
      ],
      "text/plain": [
       "<IPython.core.display.HTML object>"
      ]
     },
     "metadata": {},
     "output_type": "display_data"
    },
    {
     "data": {
      "text/html": [
       " View sweep at <a href='https://wandb.ai/Pyepo_special/Sweep%20Pyepo%20Basic%20Model/sweeps/21l2bgkz' target=\"_blank\">https://wandb.ai/Pyepo_special/Sweep%20Pyepo%20Basic%20Model/sweeps/21l2bgkz</a>"
      ],
      "text/plain": [
       "<IPython.core.display.HTML object>"
      ]
     },
     "metadata": {},
     "output_type": "display_data"
    },
    {
     "data": {
      "text/html": [
       " View run at <a href='https://wandb.ai/Pyepo_special/Sweep%20Pyepo%20Basic%20Model/runs/kmtw299q' target=\"_blank\">https://wandb.ai/Pyepo_special/Sweep%20Pyepo%20Basic%20Model/runs/kmtw299q</a>"
      ],
      "text/plain": [
       "<IPython.core.display.HTML object>"
      ]
     },
     "metadata": {},
     "output_type": "display_data"
    },
    {
     "name": "stderr",
     "output_type": "stream",
     "text": [
      "100%|██████████| 180/180 [00:03<00:00, 45.90it/s]\n",
      "100%|██████████| 180/180 [00:04<00:00, 41.05it/s]\n",
      "100%|██████████| 180/180 [00:04<00:00, 44.29it/s]\n"
     ]
    },
    {
     "name": "stdout",
     "output_type": "stream",
     "text": [
      "Epoch  1,  Loss: 15865.0918,  Regret:  9.7673%\n"
     ]
    },
    {
     "name": "stderr",
     "output_type": "stream",
     "text": [
      "100%|██████████| 180/180 [00:04<00:00, 39.02it/s]\n",
      "100%|██████████| 180/180 [00:03<00:00, 45.35it/s]\n"
     ]
    },
    {
     "name": "stdout",
     "output_type": "stream",
     "text": [
      "Epoch  2,  Loss: 14002.8301,  Regret: 12.5243%\n"
     ]
    },
    {
     "name": "stderr",
     "output_type": "stream",
     "text": [
      "100%|██████████| 180/180 [00:04<00:00, 42.27it/s]\n",
      "100%|██████████| 180/180 [00:03<00:00, 45.28it/s]\n"
     ]
    },
    {
     "name": "stdout",
     "output_type": "stream",
     "text": [
      "Epoch  3,  Loss: 16171.6123,  Regret:  9.9519%\n"
     ]
    },
    {
     "name": "stderr",
     "output_type": "stream",
     "text": [
      "100%|██████████| 180/180 [00:04<00:00, 41.80it/s]\n",
      "100%|██████████| 180/180 [00:03<00:00, 45.64it/s]\n"
     ]
    },
    {
     "name": "stdout",
     "output_type": "stream",
     "text": [
      "Epoch  4,  Loss: 15273.2334,  Regret:  9.1745%\n"
     ]
    },
    {
     "name": "stderr",
     "output_type": "stream",
     "text": [
      "100%|██████████| 180/180 [00:06<00:00, 25.88it/s]\n",
      "100%|██████████| 180/180 [00:06<00:00, 29.14it/s]\n"
     ]
    },
    {
     "name": "stdout",
     "output_type": "stream",
     "text": [
      "Epoch  5,  Loss: 11579.5117,  Regret:  8.6040%\n"
     ]
    },
    {
     "name": "stderr",
     "output_type": "stream",
     "text": [
      "100%|██████████| 180/180 [00:07<00:00, 23.47it/s]\n",
      "100%|██████████| 180/180 [00:02<00:00, 88.34it/s] \n"
     ]
    },
    {
     "name": "stdout",
     "output_type": "stream",
     "text": [
      "Epoch  6,  Loss: 12283.8877,  Regret:  8.7100%\n"
     ]
    },
    {
     "name": "stderr",
     "output_type": "stream",
     "text": [
      "100%|██████████| 180/180 [00:04<00:00, 36.04it/s]\n",
      "100%|██████████| 180/180 [00:01<00:00, 115.74it/s]\n"
     ]
    },
    {
     "name": "stdout",
     "output_type": "stream",
     "text": [
      "Epoch  7,  Loss: 10418.2412,  Regret:  8.5077%\n"
     ]
    },
    {
     "name": "stderr",
     "output_type": "stream",
     "text": [
      "100%|██████████| 180/180 [00:04<00:00, 38.16it/s]\n",
      "100%|██████████| 180/180 [00:04<00:00, 44.47it/s]\n"
     ]
    },
    {
     "name": "stdout",
     "output_type": "stream",
     "text": [
      "Epoch  8,  Loss: 10393.4951,  Regret:  9.0797%\n"
     ]
    },
    {
     "name": "stderr",
     "output_type": "stream",
     "text": [
      "100%|██████████| 180/180 [00:06<00:00, 26.25it/s]\n",
      "100%|██████████| 180/180 [00:04<00:00, 42.60it/s]\n"
     ]
    },
    {
     "name": "stdout",
     "output_type": "stream",
     "text": [
      "Epoch  9,  Loss: 11255.0361,  Regret:  7.5444%\n"
     ]
    },
    {
     "name": "stderr",
     "output_type": "stream",
     "text": [
      "100%|██████████| 180/180 [00:04<00:00, 37.53it/s]\n",
      "100%|██████████| 180/180 [00:01<00:00, 106.97it/s]\n"
     ]
    },
    {
     "name": "stdout",
     "output_type": "stream",
     "text": [
      "Epoch 10,  Loss: 12294.6523,  Regret: 11.9919%\n"
     ]
    },
    {
     "name": "stderr",
     "output_type": "stream",
     "text": [
      "100%|██████████| 180/180 [00:04<00:00, 36.28it/s]\n",
      "100%|██████████| 180/180 [00:01<00:00, 102.23it/s]\n"
     ]
    },
    {
     "name": "stdout",
     "output_type": "stream",
     "text": [
      "Epoch 11,  Loss: 11725.3164,  Regret:  8.6641%\n"
     ]
    },
    {
     "name": "stderr",
     "output_type": "stream",
     "text": [
      "100%|██████████| 180/180 [00:05<00:00, 31.45it/s]\n",
      "100%|██████████| 180/180 [00:05<00:00, 34.32it/s]\n"
     ]
    },
    {
     "name": "stdout",
     "output_type": "stream",
     "text": [
      "Epoch 12,  Loss: 10875.0693,  Regret:  8.3922%\n"
     ]
    },
    {
     "name": "stderr",
     "output_type": "stream",
     "text": [
      "100%|██████████| 180/180 [00:04<00:00, 39.11it/s]\n",
      "100%|██████████| 180/180 [00:03<00:00, 46.82it/s]\n"
     ]
    },
    {
     "name": "stdout",
     "output_type": "stream",
     "text": [
      "Epoch 13,  Loss: 9982.7812,  Regret:  7.7767%\n"
     ]
    },
    {
     "name": "stderr",
     "output_type": "stream",
     "text": [
      "100%|██████████| 180/180 [00:05<00:00, 34.02it/s]\n",
      "100%|██████████| 180/180 [00:03<00:00, 46.90it/s]\n"
     ]
    },
    {
     "name": "stdout",
     "output_type": "stream",
     "text": [
      "Epoch 14,  Loss: 10607.2461,  Regret:  7.7856%\n"
     ]
    },
    {
     "name": "stderr",
     "output_type": "stream",
     "text": [
      "100%|██████████| 180/180 [00:05<00:00, 34.28it/s]\n",
      "100%|██████████| 180/180 [00:05<00:00, 31.89it/s]\n"
     ]
    },
    {
     "name": "stdout",
     "output_type": "stream",
     "text": [
      "Epoch 15,  Loss: 10411.1162,  Regret:  7.8651%\n"
     ]
    },
    {
     "name": "stderr",
     "output_type": "stream",
     "text": [
      "100%|██████████| 180/180 [00:06<00:00, 28.66it/s]\n",
      "100%|██████████| 180/180 [00:05<00:00, 31.12it/s]\n"
     ]
    },
    {
     "name": "stdout",
     "output_type": "stream",
     "text": [
      "Epoch 16,  Loss: 10000.5205,  Regret:  7.6424%\n"
     ]
    },
    {
     "name": "stderr",
     "output_type": "stream",
     "text": [
      "100%|██████████| 180/180 [00:06<00:00, 29.55it/s]\n",
      "100%|██████████| 180/180 [00:04<00:00, 37.08it/s]\n"
     ]
    },
    {
     "name": "stdout",
     "output_type": "stream",
     "text": [
      "Epoch 17,  Loss: 10142.0488,  Regret:  8.9516%\n"
     ]
    },
    {
     "name": "stderr",
     "output_type": "stream",
     "text": [
      "100%|██████████| 180/180 [00:05<00:00, 35.38it/s]\n",
      "100%|██████████| 180/180 [00:02<00:00, 83.80it/s]\n"
     ]
    },
    {
     "name": "stdout",
     "output_type": "stream",
     "text": [
      "Epoch 18,  Loss: 10391.7441,  Regret:  7.7071%\n"
     ]
    },
    {
     "name": "stderr",
     "output_type": "stream",
     "text": [
      "100%|██████████| 180/180 [00:05<00:00, 32.15it/s]\n",
      "100%|██████████| 180/180 [00:02<00:00, 89.82it/s] \n"
     ]
    },
    {
     "name": "stdout",
     "output_type": "stream",
     "text": [
      "Epoch 19,  Loss: 10416.5469,  Regret:  8.3246%\n"
     ]
    },
    {
     "name": "stderr",
     "output_type": "stream",
     "text": [
      "100%|██████████| 180/180 [00:06<00:00, 29.12it/s]\n",
      "100%|██████████| 180/180 [00:02<00:00, 81.43it/s]\n"
     ]
    },
    {
     "name": "stdout",
     "output_type": "stream",
     "text": [
      "Epoch 20,  Loss: 10313.2676,  Regret:  8.0845%\n"
     ]
    },
    {
     "name": "stderr",
     "output_type": "stream",
     "text": [
      "100%|██████████| 180/180 [00:06<00:00, 25.73it/s]\n",
      "100%|██████████| 180/180 [00:02<00:00, 72.33it/s]\n"
     ]
    },
    {
     "name": "stdout",
     "output_type": "stream",
     "text": [
      "Epoch 21,  Loss: 10457.7764,  Regret:  8.3414%\n"
     ]
    },
    {
     "name": "stderr",
     "output_type": "stream",
     "text": [
      "100%|██████████| 180/180 [00:05<00:00, 30.47it/s]\n",
      "100%|██████████| 180/180 [00:01<00:00, 95.87it/s] \n"
     ]
    },
    {
     "name": "stdout",
     "output_type": "stream",
     "text": [
      "Epoch 22,  Loss: 10679.6904,  Regret:  8.1754%\n"
     ]
    },
    {
     "name": "stderr",
     "output_type": "stream",
     "text": [
      "100%|██████████| 180/180 [00:05<00:00, 31.91it/s]\n",
      "100%|██████████| 180/180 [00:01<00:00, 91.75it/s] \n"
     ]
    },
    {
     "name": "stdout",
     "output_type": "stream",
     "text": [
      "Epoch 23,  Loss: 10371.9609,  Regret:  7.9146%\n"
     ]
    },
    {
     "name": "stderr",
     "output_type": "stream",
     "text": [
      "100%|██████████| 180/180 [00:05<00:00, 30.79it/s]\n",
      "100%|██████████| 180/180 [00:01<00:00, 90.26it/s] \n"
     ]
    },
    {
     "name": "stdout",
     "output_type": "stream",
     "text": [
      "Epoch 24,  Loss: 10692.4414,  Regret:  8.6898%\n"
     ]
    },
    {
     "name": "stderr",
     "output_type": "stream",
     "text": [
      "100%|██████████| 180/180 [00:05<00:00, 31.29it/s]\n",
      "100%|██████████| 180/180 [00:01<00:00, 97.71it/s] \n"
     ]
    },
    {
     "name": "stdout",
     "output_type": "stream",
     "text": [
      "Epoch 25,  Loss: 10736.4707,  Regret:  7.6350%\n"
     ]
    },
    {
     "name": "stderr",
     "output_type": "stream",
     "text": [
      "100%|██████████| 180/180 [00:06<00:00, 27.11it/s]\n",
      "100%|██████████| 180/180 [00:07<00:00, 25.71it/s]\n"
     ]
    },
    {
     "name": "stdout",
     "output_type": "stream",
     "text": [
      "Epoch 26,  Loss: 11017.9336,  Regret:  7.8548%\n"
     ]
    },
    {
     "name": "stderr",
     "output_type": "stream",
     "text": [
      "100%|██████████| 180/180 [00:09<00:00, 18.95it/s]\n",
      "100%|██████████| 180/180 [00:07<00:00, 24.01it/s]\n"
     ]
    },
    {
     "name": "stdout",
     "output_type": "stream",
     "text": [
      "Epoch 27,  Loss: 10375.4355,  Regret:  8.6377%\n"
     ]
    },
    {
     "name": "stderr",
     "output_type": "stream",
     "text": [
      "100%|██████████| 180/180 [00:07<00:00, 24.61it/s]\n",
      "100%|██████████| 180/180 [00:04<00:00, 37.97it/s]\n"
     ]
    },
    {
     "name": "stdout",
     "output_type": "stream",
     "text": [
      "Epoch 28,  Loss: 9883.1191,  Regret:  7.6466%\n"
     ]
    },
    {
     "name": "stderr",
     "output_type": "stream",
     "text": [
      "100%|██████████| 180/180 [00:07<00:00, 25.04it/s]\n",
      "100%|██████████| 180/180 [00:04<00:00, 39.97it/s]\n"
     ]
    },
    {
     "name": "stdout",
     "output_type": "stream",
     "text": [
      "Epoch 29,  Loss: 9825.3223,  Regret:  7.5539%\n"
     ]
    },
    {
     "name": "stderr",
     "output_type": "stream",
     "text": [
      "100%|██████████| 180/180 [00:06<00:00, 28.68it/s]\n",
      "100%|██████████| 180/180 [00:03<00:00, 45.50it/s]\n"
     ]
    },
    {
     "name": "stdout",
     "output_type": "stream",
     "text": [
      "Epoch 30,  Loss: 9822.5410,  Regret:  7.8054%\n",
      "Total Elapsed Time: 15812.51 Sec.\n"
     ]
    },
    {
     "data": {
      "text/html": [
       "<style>\n",
       "    table.wandb td:nth-child(1) { padding: 0 10px; text-align: left ; width: auto;} td:nth-child(2) {text-align: left ; width: 100%}\n",
       "    .wandb-row { display: flex; flex-direction: row; flex-wrap: wrap; justify-content: flex-start; width: 100% }\n",
       "    .wandb-col { display: flex; flex-direction: column; flex-basis: 100%; flex: 1; padding: 10px; }\n",
       "    </style>\n",
       "<div class=\"wandb-row\"><div class=\"wandb-col\"><h3>Run history:</h3><br/><table class=\"wandb\"><tr><td>Linear loss</td><td>▄▇█▂▄▅▃▃▁▂▅▂▂▆▅▁▂▁▄▁▃▃▆▁▁▁▄▃▂▇▆▂▂▂▆▅▁▆▄▃</td></tr><tr><td>Regret</td><td>▄█▄▃▂▃▂▃▁▇▃▂▁▁▁▁▃▁▂▂▂▂▂▃▁▁▃▁▁▁</td></tr></table><br/></div><div class=\"wandb-col\"><h3>Run summary:</h3><br/><table class=\"wandb\"><tr><td>Linear loss</td><td>9822.54102</td></tr><tr><td>Regret</td><td>0.07805</td></tr></table><br/></div></div>"
      ],
      "text/plain": [
       "<IPython.core.display.HTML object>"
      ]
     },
     "metadata": {},
     "output_type": "display_data"
    },
    {
     "data": {
      "text/html": [
       " View run <strong style=\"color:#cdcd00\">youthful-sweep-12</strong> at: <a href='https://wandb.ai/Pyepo_special/Sweep%20Pyepo%20Basic%20Model/runs/kmtw299q' target=\"_blank\">https://wandb.ai/Pyepo_special/Sweep%20Pyepo%20Basic%20Model/runs/kmtw299q</a><br/> View project at: <a href='https://wandb.ai/Pyepo_special/Sweep%20Pyepo%20Basic%20Model' target=\"_blank\">https://wandb.ai/Pyepo_special/Sweep%20Pyepo%20Basic%20Model</a><br/>Synced 5 W&B file(s), 0 media file(s), 0 artifact file(s) and 0 other file(s)"
      ],
      "text/plain": [
       "<IPython.core.display.HTML object>"
      ]
     },
     "metadata": {},
     "output_type": "display_data"
    },
    {
     "data": {
      "text/html": [
       "Find logs at: <code>.\\wandb\\run-20240515_122508-kmtw299q\\logs</code>"
      ],
      "text/plain": [
       "<IPython.core.display.HTML object>"
      ]
     },
     "metadata": {},
     "output_type": "display_data"
    },
    {
     "name": "stderr",
     "output_type": "stream",
     "text": [
      "\u001b[34m\u001b[1mwandb\u001b[0m: Agent Starting Run: eger943f with config:\n",
      "\u001b[34m\u001b[1mwandb\u001b[0m: \tdropout: 0.7\n",
      "\u001b[34m\u001b[1mwandb\u001b[0m: \tgamma: 0.99\n",
      "\u001b[34m\u001b[1mwandb\u001b[0m: \tlr: 0.0001\n",
      "\u001b[34m\u001b[1mwandb\u001b[0m: \tmethod_name: spo+\n",
      "\u001b[34m\u001b[1mwandb\u001b[0m: \tneurons: 128\n",
      "\u001b[34m\u001b[1mwandb\u001b[0m: \tnum_epochs: 20\n",
      "Failed to detect the name of this notebook, you can set it manually with the WANDB_NOTEBOOK_NAME environment variable to enable code saving.\n"
     ]
    },
    {
     "data": {
      "text/html": [
       "Tracking run with wandb version 0.17.0"
      ],
      "text/plain": [
       "<IPython.core.display.HTML object>"
      ]
     },
     "metadata": {},
     "output_type": "display_data"
    },
    {
     "data": {
      "text/html": [
       "Run data is saved locally in <code>c:\\Users\\ande7\\Documents\\Semester 3\\Special\\Course Material\\contextual_dm_in_power_sys\\main_folder\\models\\PyEpo\\wandb\\run-20240515_123013-eger943f</code>"
      ],
      "text/plain": [
       "<IPython.core.display.HTML object>"
      ]
     },
     "metadata": {},
     "output_type": "display_data"
    },
    {
     "data": {
      "text/html": [
       "Syncing run <strong><a href='https://wandb.ai/Pyepo_special/Sweep%20Pyepo%20Basic%20Model/runs/eger943f' target=\"_blank\">peach-sweep-13</a></strong> to <a href='https://wandb.ai/Pyepo_special/Sweep%20Pyepo%20Basic%20Model' target=\"_blank\">Weights & Biases</a> (<a href='https://wandb.me/run' target=\"_blank\">docs</a>)<br/>Sweep page: <a href='https://wandb.ai/Pyepo_special/Sweep%20Pyepo%20Basic%20Model/sweeps/21l2bgkz' target=\"_blank\">https://wandb.ai/Pyepo_special/Sweep%20Pyepo%20Basic%20Model/sweeps/21l2bgkz</a>"
      ],
      "text/plain": [
       "<IPython.core.display.HTML object>"
      ]
     },
     "metadata": {},
     "output_type": "display_data"
    },
    {
     "data": {
      "text/html": [
       " View project at <a href='https://wandb.ai/Pyepo_special/Sweep%20Pyepo%20Basic%20Model' target=\"_blank\">https://wandb.ai/Pyepo_special/Sweep%20Pyepo%20Basic%20Model</a>"
      ],
      "text/plain": [
       "<IPython.core.display.HTML object>"
      ]
     },
     "metadata": {},
     "output_type": "display_data"
    },
    {
     "data": {
      "text/html": [
       " View sweep at <a href='https://wandb.ai/Pyepo_special/Sweep%20Pyepo%20Basic%20Model/sweeps/21l2bgkz' target=\"_blank\">https://wandb.ai/Pyepo_special/Sweep%20Pyepo%20Basic%20Model/sweeps/21l2bgkz</a>"
      ],
      "text/plain": [
       "<IPython.core.display.HTML object>"
      ]
     },
     "metadata": {},
     "output_type": "display_data"
    },
    {
     "data": {
      "text/html": [
       " View run at <a href='https://wandb.ai/Pyepo_special/Sweep%20Pyepo%20Basic%20Model/runs/eger943f' target=\"_blank\">https://wandb.ai/Pyepo_special/Sweep%20Pyepo%20Basic%20Model/runs/eger943f</a>"
      ],
      "text/plain": [
       "<IPython.core.display.HTML object>"
      ]
     },
     "metadata": {},
     "output_type": "display_data"
    },
    {
     "name": "stderr",
     "output_type": "stream",
     "text": [
      "100%|██████████| 180/180 [00:06<00:00, 28.74it/s]\n",
      "100%|██████████| 180/180 [00:13<00:00, 13.02it/s]\n",
      "100%|██████████| 180/180 [00:06<00:00, 29.04it/s]\n"
     ]
    },
    {
     "name": "stdout",
     "output_type": "stream",
     "text": [
      "Epoch  1,  Loss: 18938.9004,  Regret: 10.6064%\n"
     ]
    },
    {
     "name": "stderr",
     "output_type": "stream",
     "text": [
      "100%|██████████| 180/180 [00:09<00:00, 18.36it/s]\n",
      "100%|██████████| 180/180 [00:06<00:00, 28.61it/s]\n"
     ]
    },
    {
     "name": "stdout",
     "output_type": "stream",
     "text": [
      "Epoch  2,  Loss: 17095.6230,  Regret:  7.9557%\n"
     ]
    },
    {
     "name": "stderr",
     "output_type": "stream",
     "text": [
      "100%|██████████| 180/180 [00:11<00:00, 15.94it/s]\n",
      "100%|██████████| 180/180 [00:07<00:00, 23.86it/s]\n"
     ]
    },
    {
     "name": "stdout",
     "output_type": "stream",
     "text": [
      "Epoch  3,  Loss: 13525.4834,  Regret:  7.9380%\n"
     ]
    },
    {
     "name": "stderr",
     "output_type": "stream",
     "text": [
      "100%|██████████| 180/180 [00:14<00:00, 12.74it/s]\n",
      "100%|██████████| 180/180 [00:07<00:00, 22.85it/s]\n"
     ]
    },
    {
     "name": "stdout",
     "output_type": "stream",
     "text": [
      "Epoch  4,  Loss: 14080.3740,  Regret:  7.8946%\n"
     ]
    },
    {
     "name": "stderr",
     "output_type": "stream",
     "text": [
      "100%|██████████| 180/180 [00:17<00:00, 10.39it/s]\n",
      "100%|██████████| 180/180 [00:08<00:00, 21.47it/s]\n"
     ]
    },
    {
     "name": "stdout",
     "output_type": "stream",
     "text": [
      "Epoch  5,  Loss: 13954.8926,  Regret:  7.9353%\n"
     ]
    },
    {
     "name": "stderr",
     "output_type": "stream",
     "text": [
      "100%|██████████| 180/180 [00:12<00:00, 14.00it/s]\n",
      "100%|██████████| 180/180 [00:05<00:00, 32.91it/s]\n"
     ]
    },
    {
     "name": "stdout",
     "output_type": "stream",
     "text": [
      "Epoch  6,  Loss: 11159.3945,  Regret:  7.9676%\n"
     ]
    },
    {
     "name": "stderr",
     "output_type": "stream",
     "text": [
      "100%|██████████| 180/180 [00:06<00:00, 26.70it/s]\n",
      "100%|██████████| 180/180 [00:05<00:00, 31.73it/s]\n"
     ]
    },
    {
     "name": "stdout",
     "output_type": "stream",
     "text": [
      "Epoch  7,  Loss: 11881.8271,  Regret:  7.7469%\n"
     ]
    },
    {
     "name": "stderr",
     "output_type": "stream",
     "text": [
      "100%|██████████| 180/180 [00:06<00:00, 29.53it/s]\n",
      "100%|██████████| 180/180 [00:06<00:00, 26.31it/s]\n"
     ]
    },
    {
     "name": "stdout",
     "output_type": "stream",
     "text": [
      "Epoch  8,  Loss: 11899.8184,  Regret:  7.7284%\n"
     ]
    },
    {
     "name": "stderr",
     "output_type": "stream",
     "text": [
      "100%|██████████| 180/180 [00:14<00:00, 12.01it/s]\n",
      "100%|██████████| 180/180 [00:07<00:00, 23.62it/s]\n"
     ]
    },
    {
     "name": "stdout",
     "output_type": "stream",
     "text": [
      "Epoch  9,  Loss: 11304.3086,  Regret:  7.6448%\n"
     ]
    },
    {
     "name": "stderr",
     "output_type": "stream",
     "text": [
      "100%|██████████| 180/180 [00:13<00:00, 13.21it/s]\n",
      "100%|██████████| 180/180 [00:09<00:00, 19.35it/s]\n"
     ]
    },
    {
     "name": "stdout",
     "output_type": "stream",
     "text": [
      "Epoch 10,  Loss: 11057.3066,  Regret:  7.7780%\n"
     ]
    },
    {
     "name": "stderr",
     "output_type": "stream",
     "text": [
      "100%|██████████| 180/180 [00:16<00:00, 10.95it/s]\n",
      "100%|██████████| 180/180 [00:08<00:00, 20.52it/s]\n"
     ]
    },
    {
     "name": "stdout",
     "output_type": "stream",
     "text": [
      "Epoch 11,  Loss: 10442.8750,  Regret:  7.7480%\n"
     ]
    },
    {
     "name": "stderr",
     "output_type": "stream",
     "text": [
      "100%|██████████| 180/180 [00:15<00:00, 11.70it/s]\n",
      "100%|██████████| 180/180 [00:07<00:00, 25.24it/s]\n"
     ]
    },
    {
     "name": "stdout",
     "output_type": "stream",
     "text": [
      "Epoch 12,  Loss: 11343.2852,  Regret:  7.6824%\n"
     ]
    },
    {
     "name": "stderr",
     "output_type": "stream",
     "text": [
      "100%|██████████| 180/180 [00:14<00:00, 12.70it/s]\n",
      "100%|██████████| 180/180 [00:06<00:00, 29.92it/s]\n"
     ]
    },
    {
     "name": "stdout",
     "output_type": "stream",
     "text": [
      "Epoch 13,  Loss: 12864.4766,  Regret:  7.6591%\n"
     ]
    },
    {
     "name": "stderr",
     "output_type": "stream",
     "text": [
      "100%|██████████| 180/180 [00:12<00:00, 14.70it/s]\n",
      "100%|██████████| 180/180 [00:06<00:00, 26.51it/s]\n"
     ]
    },
    {
     "name": "stdout",
     "output_type": "stream",
     "text": [
      "Epoch 14,  Loss: 11261.8398,  Regret:  7.7805%\n"
     ]
    },
    {
     "name": "stderr",
     "output_type": "stream",
     "text": [
      "100%|██████████| 180/180 [00:16<00:00, 10.99it/s]\n",
      "100%|██████████| 180/180 [00:08<00:00, 20.84it/s]\n"
     ]
    },
    {
     "name": "stdout",
     "output_type": "stream",
     "text": [
      "Epoch 15,  Loss: 9587.7861,  Regret:  7.5143%\n"
     ]
    },
    {
     "name": "stderr",
     "output_type": "stream",
     "text": [
      "100%|██████████| 180/180 [00:17<00:00, 10.48it/s]\n",
      "100%|██████████| 180/180 [00:09<00:00, 18.65it/s]\n"
     ]
    },
    {
     "name": "stdout",
     "output_type": "stream",
     "text": [
      "Epoch 16,  Loss: 9126.4395,  Regret:  7.4149%\n"
     ]
    },
    {
     "name": "stderr",
     "output_type": "stream",
     "text": [
      "100%|██████████| 180/180 [00:15<00:00, 11.80it/s]\n",
      "100%|██████████| 180/180 [00:09<00:00, 18.58it/s]\n"
     ]
    },
    {
     "name": "stdout",
     "output_type": "stream",
     "text": [
      "Epoch 17,  Loss: 10905.4473,  Regret:  7.4538%\n"
     ]
    },
    {
     "name": "stderr",
     "output_type": "stream",
     "text": [
      "100%|██████████| 180/180 [00:11<00:00, 15.86it/s]\n",
      "100%|██████████| 180/180 [00:09<00:00, 18.89it/s]\n"
     ]
    },
    {
     "name": "stdout",
     "output_type": "stream",
     "text": [
      "Epoch 18,  Loss: 8625.7295,  Regret:  7.4638%\n"
     ]
    },
    {
     "name": "stderr",
     "output_type": "stream",
     "text": [
      "100%|██████████| 180/180 [00:11<00:00, 15.21it/s]\n",
      "100%|██████████| 180/180 [00:09<00:00, 19.74it/s]\n"
     ]
    },
    {
     "name": "stdout",
     "output_type": "stream",
     "text": [
      "Epoch 19,  Loss: 11367.3877,  Regret:  7.4032%\n"
     ]
    },
    {
     "name": "stderr",
     "output_type": "stream",
     "text": [
      "100%|██████████| 180/180 [00:15<00:00, 11.59it/s]\n",
      "100%|██████████| 180/180 [00:08<00:00, 21.91it/s]\n"
     ]
    },
    {
     "name": "stdout",
     "output_type": "stream",
     "text": [
      "Epoch 20,  Loss: 9953.6797,  Regret:  7.4114%\n",
      "Total Elapsed Time: 24287.63 Sec.\n"
     ]
    },
    {
     "data": {
      "text/html": [
       "<style>\n",
       "    table.wandb td:nth-child(1) { padding: 0 10px; text-align: left ; width: auto;} td:nth-child(2) {text-align: left ; width: 100%}\n",
       "    .wandb-row { display: flex; flex-direction: row; flex-wrap: wrap; justify-content: flex-start; width: 100% }\n",
       "    .wandb-col { display: flex; flex-direction: column; flex-basis: 100%; flex: 1; padding: 10px; }\n",
       "    </style>\n",
       "<div class=\"wandb-row\"><div class=\"wandb-col\"><h3>Run history:</h3><br/><table class=\"wandb\"><tr><td>Linear loss</td><td>▄▃▇▄▄▆▂▂█▄▁▇▂▇▃▄▁▇▃▆▃▅▁█▂▅▃▅▂▆▃▅▂▆▂▆▃▆▁▅</td></tr><tr><td>Regret</td><td>█▂▂▂▂▂▂▂▂▂▂▂▂▂▁▁▁▁▁▁</td></tr></table><br/></div><div class=\"wandb-col\"><h3>Run summary:</h3><br/><table class=\"wandb\"><tr><td>Linear loss</td><td>9953.67969</td></tr><tr><td>Regret</td><td>0.07411</td></tr></table><br/></div></div>"
      ],
      "text/plain": [
       "<IPython.core.display.HTML object>"
      ]
     },
     "metadata": {},
     "output_type": "display_data"
    },
    {
     "data": {
      "text/html": [
       " View run <strong style=\"color:#cdcd00\">peach-sweep-13</strong> at: <a href='https://wandb.ai/Pyepo_special/Sweep%20Pyepo%20Basic%20Model/runs/eger943f' target=\"_blank\">https://wandb.ai/Pyepo_special/Sweep%20Pyepo%20Basic%20Model/runs/eger943f</a><br/> View project at: <a href='https://wandb.ai/Pyepo_special/Sweep%20Pyepo%20Basic%20Model' target=\"_blank\">https://wandb.ai/Pyepo_special/Sweep%20Pyepo%20Basic%20Model</a><br/>Synced 5 W&B file(s), 0 media file(s), 0 artifact file(s) and 0 other file(s)"
      ],
      "text/plain": [
       "<IPython.core.display.HTML object>"
      ]
     },
     "metadata": {},
     "output_type": "display_data"
    },
    {
     "data": {
      "text/html": [
       "Find logs at: <code>.\\wandb\\run-20240515_123013-eger943f\\logs</code>"
      ],
      "text/plain": [
       "<IPython.core.display.HTML object>"
      ]
     },
     "metadata": {},
     "output_type": "display_data"
    },
    {
     "name": "stderr",
     "output_type": "stream",
     "text": [
      "\u001b[34m\u001b[1mwandb\u001b[0m: Agent Starting Run: hz93u1yn with config:\n",
      "\u001b[34m\u001b[1mwandb\u001b[0m: \tdropout: 0.5\n",
      "\u001b[34m\u001b[1mwandb\u001b[0m: \tgamma: 0.99\n",
      "\u001b[34m\u001b[1mwandb\u001b[0m: \tlr: 0.01\n",
      "\u001b[34m\u001b[1mwandb\u001b[0m: \tmethod_name: spo+\n",
      "\u001b[34m\u001b[1mwandb\u001b[0m: \tneurons: 32\n",
      "\u001b[34m\u001b[1mwandb\u001b[0m: \tnum_epochs: 10\n",
      "Failed to detect the name of this notebook, you can set it manually with the WANDB_NOTEBOOK_NAME environment variable to enable code saving.\n"
     ]
    },
    {
     "data": {
      "text/html": [
       "Tracking run with wandb version 0.17.0"
      ],
      "text/plain": [
       "<IPython.core.display.HTML object>"
      ]
     },
     "metadata": {},
     "output_type": "display_data"
    },
    {
     "data": {
      "text/html": [
       "Run data is saved locally in <code>c:\\Users\\ande7\\Documents\\Semester 3\\Special\\Course Material\\contextual_dm_in_power_sys\\main_folder\\models\\PyEpo\\wandb\\run-20240515_123742-hz93u1yn</code>"
      ],
      "text/plain": [
       "<IPython.core.display.HTML object>"
      ]
     },
     "metadata": {},
     "output_type": "display_data"
    },
    {
     "data": {
      "text/html": [
       "Syncing run <strong><a href='https://wandb.ai/Pyepo_special/Sweep%20Pyepo%20Basic%20Model/runs/hz93u1yn' target=\"_blank\">divine-sweep-14</a></strong> to <a href='https://wandb.ai/Pyepo_special/Sweep%20Pyepo%20Basic%20Model' target=\"_blank\">Weights & Biases</a> (<a href='https://wandb.me/run' target=\"_blank\">docs</a>)<br/>Sweep page: <a href='https://wandb.ai/Pyepo_special/Sweep%20Pyepo%20Basic%20Model/sweeps/21l2bgkz' target=\"_blank\">https://wandb.ai/Pyepo_special/Sweep%20Pyepo%20Basic%20Model/sweeps/21l2bgkz</a>"
      ],
      "text/plain": [
       "<IPython.core.display.HTML object>"
      ]
     },
     "metadata": {},
     "output_type": "display_data"
    },
    {
     "data": {
      "text/html": [
       " View project at <a href='https://wandb.ai/Pyepo_special/Sweep%20Pyepo%20Basic%20Model' target=\"_blank\">https://wandb.ai/Pyepo_special/Sweep%20Pyepo%20Basic%20Model</a>"
      ],
      "text/plain": [
       "<IPython.core.display.HTML object>"
      ]
     },
     "metadata": {},
     "output_type": "display_data"
    },
    {
     "data": {
      "text/html": [
       " View sweep at <a href='https://wandb.ai/Pyepo_special/Sweep%20Pyepo%20Basic%20Model/sweeps/21l2bgkz' target=\"_blank\">https://wandb.ai/Pyepo_special/Sweep%20Pyepo%20Basic%20Model/sweeps/21l2bgkz</a>"
      ],
      "text/plain": [
       "<IPython.core.display.HTML object>"
      ]
     },
     "metadata": {},
     "output_type": "display_data"
    },
    {
     "data": {
      "text/html": [
       " View run at <a href='https://wandb.ai/Pyepo_special/Sweep%20Pyepo%20Basic%20Model/runs/hz93u1yn' target=\"_blank\">https://wandb.ai/Pyepo_special/Sweep%20Pyepo%20Basic%20Model/runs/hz93u1yn</a>"
      ],
      "text/plain": [
       "<IPython.core.display.HTML object>"
      ]
     },
     "metadata": {},
     "output_type": "display_data"
    },
    {
     "name": "stderr",
     "output_type": "stream",
     "text": [
      "100%|██████████| 180/180 [00:09<00:00, 18.34it/s]\n",
      "100%|██████████| 180/180 [00:16<00:00, 10.90it/s]\n",
      "100%|██████████| 180/180 [00:07<00:00, 23.39it/s]\n"
     ]
    },
    {
     "name": "stdout",
     "output_type": "stream",
     "text": [
      "Epoch  1,  Loss: 14437.6035,  Regret: 21.5167%\n"
     ]
    },
    {
     "name": "stderr",
     "output_type": "stream",
     "text": [
      "100%|██████████| 180/180 [00:10<00:00, 16.41it/s]\n",
      "100%|██████████| 180/180 [00:05<00:00, 32.81it/s]\n"
     ]
    },
    {
     "name": "stdout",
     "output_type": "stream",
     "text": [
      "Epoch  2,  Loss: 12317.7012,  Regret: 12.1700%\n"
     ]
    },
    {
     "name": "stderr",
     "output_type": "stream",
     "text": [
      "100%|██████████| 180/180 [00:04<00:00, 39.21it/s]\n",
      "100%|██████████| 180/180 [00:04<00:00, 40.27it/s]\n"
     ]
    },
    {
     "name": "stdout",
     "output_type": "stream",
     "text": [
      "Epoch  3,  Loss: 15915.2715,  Regret:  8.5501%\n"
     ]
    },
    {
     "name": "stderr",
     "output_type": "stream",
     "text": [
      "100%|██████████| 180/180 [00:04<00:00, 39.52it/s]\n",
      "100%|██████████| 180/180 [00:04<00:00, 43.84it/s]\n"
     ]
    },
    {
     "name": "stdout",
     "output_type": "stream",
     "text": [
      "Epoch  4,  Loss: 13583.1328,  Regret:  8.8510%\n"
     ]
    },
    {
     "name": "stderr",
     "output_type": "stream",
     "text": [
      "100%|██████████| 180/180 [00:04<00:00, 41.14it/s]\n",
      "100%|██████████| 180/180 [00:04<00:00, 41.99it/s]\n"
     ]
    },
    {
     "name": "stdout",
     "output_type": "stream",
     "text": [
      "Epoch  5,  Loss: 12715.9863,  Regret:  7.8796%\n"
     ]
    },
    {
     "name": "stderr",
     "output_type": "stream",
     "text": [
      "100%|██████████| 180/180 [00:04<00:00, 36.87it/s]\n",
      "100%|██████████| 180/180 [00:04<00:00, 37.27it/s]\n"
     ]
    },
    {
     "name": "stdout",
     "output_type": "stream",
     "text": [
      "Epoch  6,  Loss: 14597.0361,  Regret:  8.7586%\n"
     ]
    },
    {
     "name": "stderr",
     "output_type": "stream",
     "text": [
      "100%|██████████| 180/180 [00:05<00:00, 35.57it/s]\n",
      "100%|██████████| 180/180 [00:04<00:00, 40.63it/s]\n"
     ]
    },
    {
     "name": "stdout",
     "output_type": "stream",
     "text": [
      "Epoch  7,  Loss: 12066.0820,  Regret:  8.0745%\n"
     ]
    },
    {
     "name": "stderr",
     "output_type": "stream",
     "text": [
      "100%|██████████| 180/180 [00:04<00:00, 36.98it/s]\n",
      "100%|██████████| 180/180 [00:04<00:00, 39.35it/s]\n"
     ]
    },
    {
     "name": "stdout",
     "output_type": "stream",
     "text": [
      "Epoch  8,  Loss: 13228.7402,  Regret:  9.0736%\n"
     ]
    },
    {
     "name": "stderr",
     "output_type": "stream",
     "text": [
      "100%|██████████| 180/180 [00:05<00:00, 33.38it/s]\n",
      "100%|██████████| 180/180 [00:04<00:00, 36.66it/s]\n"
     ]
    },
    {
     "name": "stdout",
     "output_type": "stream",
     "text": [
      "Epoch  9,  Loss: 13086.3809,  Regret:  8.5480%\n"
     ]
    },
    {
     "name": "stderr",
     "output_type": "stream",
     "text": [
      "100%|██████████| 180/180 [00:05<00:00, 34.93it/s]\n",
      "100%|██████████| 180/180 [00:04<00:00, 38.46it/s]\n"
     ]
    },
    {
     "name": "stdout",
     "output_type": "stream",
     "text": [
      "Epoch 10,  Loss: 10852.6455,  Regret:  7.8026%\n",
      "Total Elapsed Time: 6000.11 Sec.\n"
     ]
    },
    {
     "data": {
      "text/html": [
       "<style>\n",
       "    table.wandb td:nth-child(1) { padding: 0 10px; text-align: left ; width: auto;} td:nth-child(2) {text-align: left ; width: 100%}\n",
       "    .wandb-row { display: flex; flex-direction: row; flex-wrap: wrap; justify-content: flex-start; width: 100% }\n",
       "    .wandb-col { display: flex; flex-direction: column; flex-basis: 100%; flex: 1; padding: 10px; }\n",
       "    </style>\n",
       "<div class=\"wandb-row\"><div class=\"wandb-col\"><h3>Run history:</h3><br/><table class=\"wandb\"><tr><td>Linear loss</td><td>▆▄▁▄▅▂▂▄▅▂▂▅▃▁▂▅▅▂▃█▅▂▁▃▂▁▄▅▂▁▃▄▁▂▃▃▁▁▄▅</td></tr><tr><td>Regret</td><td>█▃▁▂▁▁▁▂▁▁</td></tr></table><br/></div><div class=\"wandb-col\"><h3>Run summary:</h3><br/><table class=\"wandb\"><tr><td>Linear loss</td><td>10852.64551</td></tr><tr><td>Regret</td><td>0.07803</td></tr></table><br/></div></div>"
      ],
      "text/plain": [
       "<IPython.core.display.HTML object>"
      ]
     },
     "metadata": {},
     "output_type": "display_data"
    },
    {
     "data": {
      "text/html": [
       " View run <strong style=\"color:#cdcd00\">divine-sweep-14</strong> at: <a href='https://wandb.ai/Pyepo_special/Sweep%20Pyepo%20Basic%20Model/runs/hz93u1yn' target=\"_blank\">https://wandb.ai/Pyepo_special/Sweep%20Pyepo%20Basic%20Model/runs/hz93u1yn</a><br/> View project at: <a href='https://wandb.ai/Pyepo_special/Sweep%20Pyepo%20Basic%20Model' target=\"_blank\">https://wandb.ai/Pyepo_special/Sweep%20Pyepo%20Basic%20Model</a><br/>Synced 5 W&B file(s), 0 media file(s), 0 artifact file(s) and 0 other file(s)"
      ],
      "text/plain": [
       "<IPython.core.display.HTML object>"
      ]
     },
     "metadata": {},
     "output_type": "display_data"
    },
    {
     "data": {
      "text/html": [
       "Find logs at: <code>.\\wandb\\run-20240515_123742-hz93u1yn\\logs</code>"
      ],
      "text/plain": [
       "<IPython.core.display.HTML object>"
      ]
     },
     "metadata": {},
     "output_type": "display_data"
    },
    {
     "name": "stderr",
     "output_type": "stream",
     "text": [
      "\u001b[34m\u001b[1mwandb\u001b[0m: Agent Starting Run: m5o9d38y with config:\n",
      "\u001b[34m\u001b[1mwandb\u001b[0m: \tdropout: 0.7\n",
      "\u001b[34m\u001b[1mwandb\u001b[0m: \tgamma: 0.99\n",
      "\u001b[34m\u001b[1mwandb\u001b[0m: \tlr: 0.0001\n",
      "\u001b[34m\u001b[1mwandb\u001b[0m: \tmethod_name: spo+\n",
      "\u001b[34m\u001b[1mwandb\u001b[0m: \tneurons: 32\n",
      "\u001b[34m\u001b[1mwandb\u001b[0m: \tnum_epochs: 20\n",
      "Failed to detect the name of this notebook, you can set it manually with the WANDB_NOTEBOOK_NAME environment variable to enable code saving.\n"
     ]
    },
    {
     "data": {
      "text/html": [
       "Tracking run with wandb version 0.17.0"
      ],
      "text/plain": [
       "<IPython.core.display.HTML object>"
      ]
     },
     "metadata": {},
     "output_type": "display_data"
    },
    {
     "data": {
      "text/html": [
       "Run data is saved locally in <code>c:\\Users\\ande7\\Documents\\Semester 3\\Special\\Course Material\\contextual_dm_in_power_sys\\main_folder\\models\\PyEpo\\wandb\\run-20240515_124004-m5o9d38y</code>"
      ],
      "text/plain": [
       "<IPython.core.display.HTML object>"
      ]
     },
     "metadata": {},
     "output_type": "display_data"
    },
    {
     "data": {
      "text/html": [
       "Syncing run <strong><a href='https://wandb.ai/Pyepo_special/Sweep%20Pyepo%20Basic%20Model/runs/m5o9d38y' target=\"_blank\">dazzling-sweep-15</a></strong> to <a href='https://wandb.ai/Pyepo_special/Sweep%20Pyepo%20Basic%20Model' target=\"_blank\">Weights & Biases</a> (<a href='https://wandb.me/run' target=\"_blank\">docs</a>)<br/>Sweep page: <a href='https://wandb.ai/Pyepo_special/Sweep%20Pyepo%20Basic%20Model/sweeps/21l2bgkz' target=\"_blank\">https://wandb.ai/Pyepo_special/Sweep%20Pyepo%20Basic%20Model/sweeps/21l2bgkz</a>"
      ],
      "text/plain": [
       "<IPython.core.display.HTML object>"
      ]
     },
     "metadata": {},
     "output_type": "display_data"
    },
    {
     "data": {
      "text/html": [
       " View project at <a href='https://wandb.ai/Pyepo_special/Sweep%20Pyepo%20Basic%20Model' target=\"_blank\">https://wandb.ai/Pyepo_special/Sweep%20Pyepo%20Basic%20Model</a>"
      ],
      "text/plain": [
       "<IPython.core.display.HTML object>"
      ]
     },
     "metadata": {},
     "output_type": "display_data"
    },
    {
     "data": {
      "text/html": [
       " View sweep at <a href='https://wandb.ai/Pyepo_special/Sweep%20Pyepo%20Basic%20Model/sweeps/21l2bgkz' target=\"_blank\">https://wandb.ai/Pyepo_special/Sweep%20Pyepo%20Basic%20Model/sweeps/21l2bgkz</a>"
      ],
      "text/plain": [
       "<IPython.core.display.HTML object>"
      ]
     },
     "metadata": {},
     "output_type": "display_data"
    },
    {
     "data": {
      "text/html": [
       " View run at <a href='https://wandb.ai/Pyepo_special/Sweep%20Pyepo%20Basic%20Model/runs/m5o9d38y' target=\"_blank\">https://wandb.ai/Pyepo_special/Sweep%20Pyepo%20Basic%20Model/runs/m5o9d38y</a>"
      ],
      "text/plain": [
       "<IPython.core.display.HTML object>"
      ]
     },
     "metadata": {},
     "output_type": "display_data"
    },
    {
     "name": "stderr",
     "output_type": "stream",
     "text": [
      "100%|██████████| 180/180 [00:04<00:00, 42.05it/s]\n",
      "100%|██████████| 180/180 [02:23<00:00,  1.25it/s]\n",
      "100%|██████████| 180/180 [00:02<00:00, 61.86it/s]\n"
     ]
    },
    {
     "name": "stdout",
     "output_type": "stream",
     "text": [
      "Epoch  1,  Loss: 19501.2422,  Regret: 46.8705%\n"
     ]
    },
    {
     "name": "stderr",
     "output_type": "stream",
     "text": [
      "100%|██████████| 180/180 [00:04<00:00, 43.16it/s]\n",
      "100%|██████████| 180/180 [00:03<00:00, 48.70it/s]\n"
     ]
    },
    {
     "name": "stdout",
     "output_type": "stream",
     "text": [
      "Epoch  2,  Loss: 19124.0625,  Regret: 25.3611%\n"
     ]
    },
    {
     "name": "stderr",
     "output_type": "stream",
     "text": [
      "100%|██████████| 180/180 [00:04<00:00, 41.85it/s]\n",
      "100%|██████████| 180/180 [00:04<00:00, 39.04it/s]\n"
     ]
    },
    {
     "name": "stdout",
     "output_type": "stream",
     "text": [
      "Epoch  3,  Loss: 18858.8184,  Regret: 12.5525%\n"
     ]
    },
    {
     "name": "stderr",
     "output_type": "stream",
     "text": [
      "100%|██████████| 180/180 [00:04<00:00, 41.38it/s]\n",
      "100%|██████████| 180/180 [00:04<00:00, 43.40it/s]\n"
     ]
    },
    {
     "name": "stdout",
     "output_type": "stream",
     "text": [
      "Epoch  4,  Loss: 17358.3750,  Regret:  9.9638%\n"
     ]
    },
    {
     "name": "stderr",
     "output_type": "stream",
     "text": [
      "100%|██████████| 180/180 [00:04<00:00, 42.20it/s]\n",
      "100%|██████████| 180/180 [00:03<00:00, 45.88it/s]\n"
     ]
    },
    {
     "name": "stdout",
     "output_type": "stream",
     "text": [
      "Epoch  5,  Loss: 17185.5664,  Regret:  9.1509%\n"
     ]
    },
    {
     "name": "stderr",
     "output_type": "stream",
     "text": [
      "100%|██████████| 180/180 [00:04<00:00, 42.20it/s]\n",
      "100%|██████████| 180/180 [00:04<00:00, 44.05it/s]\n"
     ]
    },
    {
     "name": "stdout",
     "output_type": "stream",
     "text": [
      "Epoch  6,  Loss: 18082.3672,  Regret:  8.5458%\n"
     ]
    },
    {
     "name": "stderr",
     "output_type": "stream",
     "text": [
      "100%|██████████| 180/180 [00:04<00:00, 42.71it/s]\n",
      "100%|██████████| 180/180 [00:04<00:00, 43.13it/s]\n"
     ]
    },
    {
     "name": "stdout",
     "output_type": "stream",
     "text": [
      "Epoch  7,  Loss: 15096.9668,  Regret:  8.2898%\n"
     ]
    },
    {
     "name": "stderr",
     "output_type": "stream",
     "text": [
      "100%|██████████| 180/180 [00:04<00:00, 42.62it/s]\n",
      "100%|██████████| 180/180 [00:04<00:00, 43.36it/s]\n"
     ]
    },
    {
     "name": "stdout",
     "output_type": "stream",
     "text": [
      "Epoch  8,  Loss: 15825.3750,  Regret:  8.2015%\n"
     ]
    },
    {
     "name": "stderr",
     "output_type": "stream",
     "text": [
      "100%|██████████| 180/180 [00:04<00:00, 41.76it/s]\n",
      "100%|██████████| 180/180 [00:04<00:00, 42.78it/s]\n"
     ]
    },
    {
     "name": "stdout",
     "output_type": "stream",
     "text": [
      "Epoch  9,  Loss: 13714.2500,  Regret:  8.0686%\n"
     ]
    },
    {
     "name": "stderr",
     "output_type": "stream",
     "text": [
      "100%|██████████| 180/180 [00:04<00:00, 42.19it/s]\n",
      "100%|██████████| 180/180 [00:03<00:00, 45.30it/s]\n"
     ]
    },
    {
     "name": "stdout",
     "output_type": "stream",
     "text": [
      "Epoch 10,  Loss: 13877.7949,  Regret:  7.9561%\n"
     ]
    },
    {
     "name": "stderr",
     "output_type": "stream",
     "text": [
      "100%|██████████| 180/180 [00:04<00:00, 41.70it/s]\n",
      "100%|██████████| 180/180 [00:04<00:00, 38.19it/s]\n"
     ]
    },
    {
     "name": "stdout",
     "output_type": "stream",
     "text": [
      "Epoch 11,  Loss: 13462.7734,  Regret:  7.8249%\n"
     ]
    },
    {
     "name": "stderr",
     "output_type": "stream",
     "text": [
      "100%|██████████| 180/180 [00:04<00:00, 42.26it/s]\n",
      "100%|██████████| 180/180 [00:04<00:00, 44.05it/s]\n"
     ]
    },
    {
     "name": "stdout",
     "output_type": "stream",
     "text": [
      "Epoch 12,  Loss: 13641.8867,  Regret:  7.7772%\n"
     ]
    },
    {
     "name": "stderr",
     "output_type": "stream",
     "text": [
      "100%|██████████| 180/180 [00:04<00:00, 42.18it/s]\n",
      "100%|██████████| 180/180 [00:03<00:00, 45.78it/s]\n"
     ]
    },
    {
     "name": "stdout",
     "output_type": "stream",
     "text": [
      "Epoch 13,  Loss: 14328.1826,  Regret:  7.7963%\n"
     ]
    },
    {
     "name": "stderr",
     "output_type": "stream",
     "text": [
      "100%|██████████| 180/180 [00:04<00:00, 42.65it/s]\n",
      "100%|██████████| 180/180 [00:04<00:00, 43.49it/s]\n"
     ]
    },
    {
     "name": "stdout",
     "output_type": "stream",
     "text": [
      "Epoch 14,  Loss: 13680.8418,  Regret:  7.6120%\n"
     ]
    },
    {
     "name": "stderr",
     "output_type": "stream",
     "text": [
      "100%|██████████| 180/180 [00:04<00:00, 43.94it/s]\n",
      "100%|██████████| 180/180 [00:04<00:00, 43.13it/s]\n"
     ]
    },
    {
     "name": "stdout",
     "output_type": "stream",
     "text": [
      "Epoch 15,  Loss: 14104.0957,  Regret:  7.5381%\n"
     ]
    },
    {
     "name": "stderr",
     "output_type": "stream",
     "text": [
      "100%|██████████| 180/180 [00:04<00:00, 43.04it/s]\n",
      "100%|██████████| 180/180 [00:04<00:00, 44.76it/s]\n"
     ]
    },
    {
     "name": "stdout",
     "output_type": "stream",
     "text": [
      "Epoch 16,  Loss: 12339.9072,  Regret:  7.5588%\n"
     ]
    },
    {
     "name": "stderr",
     "output_type": "stream",
     "text": [
      "100%|██████████| 180/180 [00:04<00:00, 43.15it/s]\n",
      "100%|██████████| 180/180 [00:03<00:00, 45.84it/s]\n"
     ]
    },
    {
     "name": "stdout",
     "output_type": "stream",
     "text": [
      "Epoch 17,  Loss: 12921.8779,  Regret:  7.5146%\n"
     ]
    },
    {
     "name": "stderr",
     "output_type": "stream",
     "text": [
      "100%|██████████| 180/180 [00:04<00:00, 41.81it/s]\n",
      "100%|██████████| 180/180 [00:04<00:00, 41.39it/s]\n"
     ]
    },
    {
     "name": "stdout",
     "output_type": "stream",
     "text": [
      "Epoch 18,  Loss: 15230.8828,  Regret:  7.3890%\n"
     ]
    },
    {
     "name": "stderr",
     "output_type": "stream",
     "text": [
      "100%|██████████| 180/180 [00:04<00:00, 42.24it/s]\n",
      "100%|██████████| 180/180 [00:04<00:00, 42.64it/s]\n"
     ]
    },
    {
     "name": "stdout",
     "output_type": "stream",
     "text": [
      "Epoch 19,  Loss: 11461.5996,  Regret:  7.3423%\n"
     ]
    },
    {
     "name": "stderr",
     "output_type": "stream",
     "text": [
      "100%|██████████| 180/180 [00:05<00:00, 32.92it/s]\n",
      "100%|██████████| 180/180 [00:04<00:00, 42.64it/s]\n"
     ]
    },
    {
     "name": "stdout",
     "output_type": "stream",
     "text": [
      "Epoch 20,  Loss: 14345.9453,  Regret:  7.2198%\n",
      "Total Elapsed Time: 22405.54 Sec.\n"
     ]
    },
    {
     "data": {
      "text/html": [
       "<style>\n",
       "    table.wandb td:nth-child(1) { padding: 0 10px; text-align: left ; width: auto;} td:nth-child(2) {text-align: left ; width: 100%}\n",
       "    .wandb-row { display: flex; flex-direction: row; flex-wrap: wrap; justify-content: flex-start; width: 100% }\n",
       "    .wandb-col { display: flex; flex-direction: column; flex-basis: 100%; flex: 1; padding: 10px; }\n",
       "    </style>\n",
       "<div class=\"wandb-row\"><div class=\"wandb-col\"><h3>Run history:</h3><br/><table class=\"wandb\"><tr><td>Linear loss</td><td>▃▃▆▄▄█▃▃▆▅▃▇▂▆▄▄▂▆▃▅▃▅▁█▂▄▂▆▂▅▃▅▂▆▁▅▃▆▁▄</td></tr><tr><td>Regret</td><td>█▄▂▁▁▁▁▁▁▁▁▁▁▁▁▁▁▁▁▁</td></tr></table><br/></div><div class=\"wandb-col\"><h3>Run summary:</h3><br/><table class=\"wandb\"><tr><td>Linear loss</td><td>14345.94531</td></tr><tr><td>Regret</td><td>0.0722</td></tr></table><br/></div></div>"
      ],
      "text/plain": [
       "<IPython.core.display.HTML object>"
      ]
     },
     "metadata": {},
     "output_type": "display_data"
    },
    {
     "data": {
      "text/html": [
       " View run <strong style=\"color:#cdcd00\">dazzling-sweep-15</strong> at: <a href='https://wandb.ai/Pyepo_special/Sweep%20Pyepo%20Basic%20Model/runs/m5o9d38y' target=\"_blank\">https://wandb.ai/Pyepo_special/Sweep%20Pyepo%20Basic%20Model/runs/m5o9d38y</a><br/> View project at: <a href='https://wandb.ai/Pyepo_special/Sweep%20Pyepo%20Basic%20Model' target=\"_blank\">https://wandb.ai/Pyepo_special/Sweep%20Pyepo%20Basic%20Model</a><br/>Synced 5 W&B file(s), 0 media file(s), 0 artifact file(s) and 0 other file(s)"
      ],
      "text/plain": [
       "<IPython.core.display.HTML object>"
      ]
     },
     "metadata": {},
     "output_type": "display_data"
    },
    {
     "data": {
      "text/html": [
       "Find logs at: <code>.\\wandb\\run-20240515_124004-m5o9d38y\\logs</code>"
      ],
      "text/plain": [
       "<IPython.core.display.HTML object>"
      ]
     },
     "metadata": {},
     "output_type": "display_data"
    },
    {
     "name": "stderr",
     "output_type": "stream",
     "text": [
      "\u001b[34m\u001b[1mwandb\u001b[0m: Agent Starting Run: kw41utnk with config:\n",
      "\u001b[34m\u001b[1mwandb\u001b[0m: \tdropout: 0.5\n",
      "\u001b[34m\u001b[1mwandb\u001b[0m: \tgamma: 0.9\n",
      "\u001b[34m\u001b[1mwandb\u001b[0m: \tlr: 0.01\n",
      "\u001b[34m\u001b[1mwandb\u001b[0m: \tmethod_name: spo+\n",
      "\u001b[34m\u001b[1mwandb\u001b[0m: \tneurons: 128\n",
      "\u001b[34m\u001b[1mwandb\u001b[0m: \tnum_epochs: 20\n",
      "Failed to detect the name of this notebook, you can set it manually with the WANDB_NOTEBOOK_NAME environment variable to enable code saving.\n"
     ]
    },
    {
     "data": {
      "text/html": [
       "Tracking run with wandb version 0.17.0"
      ],
      "text/plain": [
       "<IPython.core.display.HTML object>"
      ]
     },
     "metadata": {},
     "output_type": "display_data"
    },
    {
     "data": {
      "text/html": [
       "Run data is saved locally in <code>c:\\Users\\ande7\\Documents\\Semester 3\\Special\\Course Material\\contextual_dm_in_power_sys\\main_folder\\models\\PyEpo\\wandb\\run-20240515_124531-kw41utnk</code>"
      ],
      "text/plain": [
       "<IPython.core.display.HTML object>"
      ]
     },
     "metadata": {},
     "output_type": "display_data"
    },
    {
     "data": {
      "text/html": [
       "Syncing run <strong><a href='https://wandb.ai/Pyepo_special/Sweep%20Pyepo%20Basic%20Model/runs/kw41utnk' target=\"_blank\">curious-sweep-16</a></strong> to <a href='https://wandb.ai/Pyepo_special/Sweep%20Pyepo%20Basic%20Model' target=\"_blank\">Weights & Biases</a> (<a href='https://wandb.me/run' target=\"_blank\">docs</a>)<br/>Sweep page: <a href='https://wandb.ai/Pyepo_special/Sweep%20Pyepo%20Basic%20Model/sweeps/21l2bgkz' target=\"_blank\">https://wandb.ai/Pyepo_special/Sweep%20Pyepo%20Basic%20Model/sweeps/21l2bgkz</a>"
      ],
      "text/plain": [
       "<IPython.core.display.HTML object>"
      ]
     },
     "metadata": {},
     "output_type": "display_data"
    },
    {
     "data": {
      "text/html": [
       " View project at <a href='https://wandb.ai/Pyepo_special/Sweep%20Pyepo%20Basic%20Model' target=\"_blank\">https://wandb.ai/Pyepo_special/Sweep%20Pyepo%20Basic%20Model</a>"
      ],
      "text/plain": [
       "<IPython.core.display.HTML object>"
      ]
     },
     "metadata": {},
     "output_type": "display_data"
    },
    {
     "data": {
      "text/html": [
       " View sweep at <a href='https://wandb.ai/Pyepo_special/Sweep%20Pyepo%20Basic%20Model/sweeps/21l2bgkz' target=\"_blank\">https://wandb.ai/Pyepo_special/Sweep%20Pyepo%20Basic%20Model/sweeps/21l2bgkz</a>"
      ],
      "text/plain": [
       "<IPython.core.display.HTML object>"
      ]
     },
     "metadata": {},
     "output_type": "display_data"
    },
    {
     "data": {
      "text/html": [
       " View run at <a href='https://wandb.ai/Pyepo_special/Sweep%20Pyepo%20Basic%20Model/runs/kw41utnk' target=\"_blank\">https://wandb.ai/Pyepo_special/Sweep%20Pyepo%20Basic%20Model/runs/kw41utnk</a>"
      ],
      "text/plain": [
       "<IPython.core.display.HTML object>"
      ]
     },
     "metadata": {},
     "output_type": "display_data"
    },
    {
     "name": "stderr",
     "output_type": "stream",
     "text": [
      "100%|██████████| 180/180 [00:04<00:00, 42.51it/s]\n",
      "100%|██████████| 180/180 [00:06<00:00, 25.89it/s]\n",
      "100%|██████████| 180/180 [00:04<00:00, 39.52it/s]\n"
     ]
    },
    {
     "name": "stdout",
     "output_type": "stream",
     "text": [
      "Epoch  1,  Loss: 14191.5586,  Regret: 17.6118%\n"
     ]
    },
    {
     "name": "stderr",
     "output_type": "stream",
     "text": [
      "100%|██████████| 180/180 [00:08<00:00, 21.26it/s]\n",
      "100%|██████████| 180/180 [00:07<00:00, 24.89it/s]\n"
     ]
    },
    {
     "name": "stdout",
     "output_type": "stream",
     "text": [
      "Epoch  2,  Loss: 11071.4141,  Regret: 25.4605%\n"
     ]
    },
    {
     "name": "stderr",
     "output_type": "stream",
     "text": [
      "100%|██████████| 180/180 [00:05<00:00, 32.47it/s]\n",
      "100%|██████████| 180/180 [00:04<00:00, 38.91it/s]\n"
     ]
    },
    {
     "name": "stdout",
     "output_type": "stream",
     "text": [
      "Epoch  3,  Loss: 17285.6172,  Regret:  8.7431%\n"
     ]
    },
    {
     "name": "stderr",
     "output_type": "stream",
     "text": [
      "100%|██████████| 180/180 [00:04<00:00, 39.37it/s]\n",
      "100%|██████████| 180/180 [00:04<00:00, 42.84it/s]\n"
     ]
    },
    {
     "name": "stdout",
     "output_type": "stream",
     "text": [
      "Epoch  4,  Loss: 14576.4902,  Regret: 15.6740%\n"
     ]
    },
    {
     "name": "stderr",
     "output_type": "stream",
     "text": [
      "100%|██████████| 180/180 [00:04<00:00, 36.32it/s]\n",
      "100%|██████████| 180/180 [00:04<00:00, 44.76it/s]\n"
     ]
    },
    {
     "name": "stdout",
     "output_type": "stream",
     "text": [
      "Epoch  5,  Loss: 14311.2148,  Regret:  9.7466%\n"
     ]
    },
    {
     "name": "stderr",
     "output_type": "stream",
     "text": [
      "100%|██████████| 180/180 [00:05<00:00, 31.91it/s]\n",
      "100%|██████████| 180/180 [00:04<00:00, 37.07it/s]\n"
     ]
    },
    {
     "name": "stdout",
     "output_type": "stream",
     "text": [
      "Epoch  6,  Loss: 19861.7676,  Regret: 18.4132%\n"
     ]
    },
    {
     "name": "stderr",
     "output_type": "stream",
     "text": [
      "100%|██████████| 180/180 [00:05<00:00, 31.91it/s]\n",
      "100%|██████████| 180/180 [00:04<00:00, 41.28it/s]\n"
     ]
    },
    {
     "name": "stdout",
     "output_type": "stream",
     "text": [
      "Epoch  7,  Loss: 15291.8291,  Regret:  8.0743%\n"
     ]
    },
    {
     "name": "stderr",
     "output_type": "stream",
     "text": [
      "100%|██████████| 180/180 [00:16<00:00, 10.81it/s]\n",
      "100%|██████████| 180/180 [00:08<00:00, 22.39it/s]\n"
     ]
    },
    {
     "name": "stdout",
     "output_type": "stream",
     "text": [
      "Epoch  8,  Loss: 14803.7539,  Regret:  8.1583%\n"
     ]
    },
    {
     "name": "stderr",
     "output_type": "stream",
     "text": [
      "100%|██████████| 180/180 [00:08<00:00, 22.08it/s]\n",
      "100%|██████████| 180/180 [00:04<00:00, 40.80it/s]\n"
     ]
    },
    {
     "name": "stdout",
     "output_type": "stream",
     "text": [
      "Epoch  9,  Loss: 15265.7979,  Regret:  8.1783%\n"
     ]
    },
    {
     "name": "stderr",
     "output_type": "stream",
     "text": [
      "100%|██████████| 180/180 [00:08<00:00, 22.38it/s]\n",
      "100%|██████████| 180/180 [00:04<00:00, 39.61it/s]\n"
     ]
    },
    {
     "name": "stdout",
     "output_type": "stream",
     "text": [
      "Epoch 10,  Loss: 14734.2969,  Regret:  8.3540%\n"
     ]
    },
    {
     "name": "stderr",
     "output_type": "stream",
     "text": [
      "100%|██████████| 180/180 [00:05<00:00, 30.39it/s]\n",
      "100%|██████████| 180/180 [00:04<00:00, 41.93it/s]\n"
     ]
    },
    {
     "name": "stdout",
     "output_type": "stream",
     "text": [
      "Epoch 11,  Loss: 15106.7051,  Regret:  8.2297%\n"
     ]
    },
    {
     "name": "stderr",
     "output_type": "stream",
     "text": [
      "100%|██████████| 180/180 [00:05<00:00, 30.17it/s]\n",
      "100%|██████████| 180/180 [00:04<00:00, 40.93it/s]\n"
     ]
    },
    {
     "name": "stdout",
     "output_type": "stream",
     "text": [
      "Epoch 12,  Loss: 14945.8594,  Regret:  8.3750%\n"
     ]
    },
    {
     "name": "stderr",
     "output_type": "stream",
     "text": [
      "100%|██████████| 180/180 [00:07<00:00, 24.16it/s]\n",
      "100%|██████████| 180/180 [00:04<00:00, 42.39it/s]\n"
     ]
    },
    {
     "name": "stdout",
     "output_type": "stream",
     "text": [
      "Epoch 13,  Loss: 14920.4775,  Regret:  8.4731%\n"
     ]
    },
    {
     "name": "stderr",
     "output_type": "stream",
     "text": [
      "100%|██████████| 180/180 [00:06<00:00, 26.01it/s]\n",
      "100%|██████████| 180/180 [00:04<00:00, 40.68it/s]\n"
     ]
    },
    {
     "name": "stdout",
     "output_type": "stream",
     "text": [
      "Epoch 14,  Loss: 14843.0176,  Regret:  8.2905%\n"
     ]
    },
    {
     "name": "stderr",
     "output_type": "stream",
     "text": [
      "100%|██████████| 180/180 [00:07<00:00, 24.75it/s]\n",
      "100%|██████████| 180/180 [00:04<00:00, 39.33it/s]\n"
     ]
    },
    {
     "name": "stdout",
     "output_type": "stream",
     "text": [
      "Epoch 15,  Loss: 14159.4160,  Regret:  8.4824%\n"
     ]
    },
    {
     "name": "stderr",
     "output_type": "stream",
     "text": [
      "100%|██████████| 180/180 [00:07<00:00, 24.80it/s]\n",
      "100%|██████████| 180/180 [00:04<00:00, 40.80it/s]\n"
     ]
    },
    {
     "name": "stdout",
     "output_type": "stream",
     "text": [
      "Epoch 16,  Loss: 13588.5430,  Regret:  8.1084%\n"
     ]
    },
    {
     "name": "stderr",
     "output_type": "stream",
     "text": [
      "100%|██████████| 180/180 [00:09<00:00, 19.36it/s]\n",
      "100%|██████████| 180/180 [00:04<00:00, 38.47it/s]\n"
     ]
    },
    {
     "name": "stdout",
     "output_type": "stream",
     "text": [
      "Epoch 17,  Loss: 14551.3564,  Regret:  7.9836%\n"
     ]
    },
    {
     "name": "stderr",
     "output_type": "stream",
     "text": [
      "100%|██████████| 180/180 [00:08<00:00, 20.35it/s]\n",
      "100%|██████████| 180/180 [00:04<00:00, 40.27it/s]\n"
     ]
    },
    {
     "name": "stdout",
     "output_type": "stream",
     "text": [
      "Epoch 18,  Loss: 12293.7031,  Regret:  8.2798%\n"
     ]
    },
    {
     "name": "stderr",
     "output_type": "stream",
     "text": [
      "100%|██████████| 180/180 [00:07<00:00, 25.15it/s]\n",
      "100%|██████████| 180/180 [00:04<00:00, 41.06it/s]\n"
     ]
    },
    {
     "name": "stdout",
     "output_type": "stream",
     "text": [
      "Epoch 19,  Loss: 9967.0732,  Regret:  8.4304%\n"
     ]
    },
    {
     "name": "stderr",
     "output_type": "stream",
     "text": [
      "100%|██████████| 180/180 [00:07<00:00, 24.08it/s]\n",
      "100%|██████████| 180/180 [00:04<00:00, 41.90it/s]\n"
     ]
    },
    {
     "name": "stdout",
     "output_type": "stream",
     "text": [
      "Epoch 20,  Loss: 9599.5771,  Regret:  8.1455%\n",
      "Total Elapsed Time: 12926.94 Sec.\n"
     ]
    },
    {
     "data": {
      "text/html": [
       "<style>\n",
       "    table.wandb td:nth-child(1) { padding: 0 10px; text-align: left ; width: auto;} td:nth-child(2) {text-align: left ; width: 100%}\n",
       "    .wandb-row { display: flex; flex-direction: row; flex-wrap: wrap; justify-content: flex-start; width: 100% }\n",
       "    .wandb-col { display: flex; flex-direction: column; flex-basis: 100%; flex: 1; padding: 10px; }\n",
       "    </style>\n",
       "<div class=\"wandb-row\"><div class=\"wandb-col\"><h3>Run history:</h3><br/><table class=\"wandb\"><tr><td>Linear loss</td><td>▂▂█▂▅▆▃▃█▄▂▆▂▇▄▄▁▇▃▇▃▆▂█▃▅▃▆▂▃▃▁▂▇▂▇▄▅▁▅</td></tr><tr><td>Regret</td><td>▅█▁▄▂▅▁▁▁▁▁▁▁▁▁▁▁▁▁▁</td></tr></table><br/></div><div class=\"wandb-col\"><h3>Run summary:</h3><br/><table class=\"wandb\"><tr><td>Linear loss</td><td>9599.57715</td></tr><tr><td>Regret</td><td>0.08145</td></tr></table><br/></div></div>"
      ],
      "text/plain": [
       "<IPython.core.display.HTML object>"
      ]
     },
     "metadata": {},
     "output_type": "display_data"
    },
    {
     "data": {
      "text/html": [
       " View run <strong style=\"color:#cdcd00\">curious-sweep-16</strong> at: <a href='https://wandb.ai/Pyepo_special/Sweep%20Pyepo%20Basic%20Model/runs/kw41utnk' target=\"_blank\">https://wandb.ai/Pyepo_special/Sweep%20Pyepo%20Basic%20Model/runs/kw41utnk</a><br/> View project at: <a href='https://wandb.ai/Pyepo_special/Sweep%20Pyepo%20Basic%20Model' target=\"_blank\">https://wandb.ai/Pyepo_special/Sweep%20Pyepo%20Basic%20Model</a><br/>Synced 5 W&B file(s), 0 media file(s), 0 artifact file(s) and 0 other file(s)"
      ],
      "text/plain": [
       "<IPython.core.display.HTML object>"
      ]
     },
     "metadata": {},
     "output_type": "display_data"
    },
    {
     "data": {
      "text/html": [
       "Find logs at: <code>.\\wandb\\run-20240515_124531-kw41utnk\\logs</code>"
      ],
      "text/plain": [
       "<IPython.core.display.HTML object>"
      ]
     },
     "metadata": {},
     "output_type": "display_data"
    },
    {
     "name": "stderr",
     "output_type": "stream",
     "text": [
      "\u001b[34m\u001b[1mwandb\u001b[0m: Agent Starting Run: hbflsvr3 with config:\n",
      "\u001b[34m\u001b[1mwandb\u001b[0m: \tdropout: 0.7\n",
      "\u001b[34m\u001b[1mwandb\u001b[0m: \tgamma: 0.99\n",
      "\u001b[34m\u001b[1mwandb\u001b[0m: \tlr: 0.0001\n",
      "\u001b[34m\u001b[1mwandb\u001b[0m: \tmethod_name: spo+\n",
      "\u001b[34m\u001b[1mwandb\u001b[0m: \tneurons: 128\n",
      "\u001b[34m\u001b[1mwandb\u001b[0m: \tnum_epochs: 10\n",
      "Failed to detect the name of this notebook, you can set it manually with the WANDB_NOTEBOOK_NAME environment variable to enable code saving.\n"
     ]
    },
    {
     "data": {
      "text/html": [
       "Tracking run with wandb version 0.17.0"
      ],
      "text/plain": [
       "<IPython.core.display.HTML object>"
      ]
     },
     "metadata": {},
     "output_type": "display_data"
    },
    {
     "data": {
      "text/html": [
       "Run data is saved locally in <code>c:\\Users\\ande7\\Documents\\Semester 3\\Special\\Course Material\\contextual_dm_in_power_sys\\main_folder\\models\\PyEpo\\wandb\\run-20240515_124955-hbflsvr3</code>"
      ],
      "text/plain": [
       "<IPython.core.display.HTML object>"
      ]
     },
     "metadata": {},
     "output_type": "display_data"
    },
    {
     "data": {
      "text/html": [
       "Syncing run <strong><a href='https://wandb.ai/Pyepo_special/Sweep%20Pyepo%20Basic%20Model/runs/hbflsvr3' target=\"_blank\">helpful-sweep-17</a></strong> to <a href='https://wandb.ai/Pyepo_special/Sweep%20Pyepo%20Basic%20Model' target=\"_blank\">Weights & Biases</a> (<a href='https://wandb.me/run' target=\"_blank\">docs</a>)<br/>Sweep page: <a href='https://wandb.ai/Pyepo_special/Sweep%20Pyepo%20Basic%20Model/sweeps/21l2bgkz' target=\"_blank\">https://wandb.ai/Pyepo_special/Sweep%20Pyepo%20Basic%20Model/sweeps/21l2bgkz</a>"
      ],
      "text/plain": [
       "<IPython.core.display.HTML object>"
      ]
     },
     "metadata": {},
     "output_type": "display_data"
    },
    {
     "data": {
      "text/html": [
       " View project at <a href='https://wandb.ai/Pyepo_special/Sweep%20Pyepo%20Basic%20Model' target=\"_blank\">https://wandb.ai/Pyepo_special/Sweep%20Pyepo%20Basic%20Model</a>"
      ],
      "text/plain": [
       "<IPython.core.display.HTML object>"
      ]
     },
     "metadata": {},
     "output_type": "display_data"
    },
    {
     "data": {
      "text/html": [
       " View sweep at <a href='https://wandb.ai/Pyepo_special/Sweep%20Pyepo%20Basic%20Model/sweeps/21l2bgkz' target=\"_blank\">https://wandb.ai/Pyepo_special/Sweep%20Pyepo%20Basic%20Model/sweeps/21l2bgkz</a>"
      ],
      "text/plain": [
       "<IPython.core.display.HTML object>"
      ]
     },
     "metadata": {},
     "output_type": "display_data"
    },
    {
     "data": {
      "text/html": [
       " View run at <a href='https://wandb.ai/Pyepo_special/Sweep%20Pyepo%20Basic%20Model/runs/hbflsvr3' target=\"_blank\">https://wandb.ai/Pyepo_special/Sweep%20Pyepo%20Basic%20Model/runs/hbflsvr3</a>"
      ],
      "text/plain": [
       "<IPython.core.display.HTML object>"
      ]
     },
     "metadata": {},
     "output_type": "display_data"
    },
    {
     "name": "stderr",
     "output_type": "stream",
     "text": [
      "100%|██████████| 180/180 [00:04<00:00, 38.49it/s]\n",
      "100%|██████████| 180/180 [00:04<00:00, 39.50it/s]\n",
      "100%|██████████| 180/180 [00:04<00:00, 44.21it/s]\n"
     ]
    },
    {
     "name": "stdout",
     "output_type": "stream",
     "text": [
      "Epoch  1,  Loss: 19222.6270,  Regret:  8.8684%\n"
     ]
    },
    {
     "name": "stderr",
     "output_type": "stream",
     "text": [
      "100%|██████████| 180/180 [00:04<00:00, 38.94it/s]\n",
      "100%|██████████| 180/180 [00:04<00:00, 44.35it/s]\n"
     ]
    },
    {
     "name": "stdout",
     "output_type": "stream",
     "text": [
      "Epoch  2,  Loss: 17453.1133,  Regret:  7.6538%\n"
     ]
    },
    {
     "name": "stderr",
     "output_type": "stream",
     "text": [
      "100%|██████████| 180/180 [00:04<00:00, 38.81it/s]\n",
      "100%|██████████| 180/180 [00:04<00:00, 43.19it/s]\n"
     ]
    },
    {
     "name": "stdout",
     "output_type": "stream",
     "text": [
      "Epoch  3,  Loss: 15596.3633,  Regret:  7.4829%\n"
     ]
    },
    {
     "name": "stderr",
     "output_type": "stream",
     "text": [
      "100%|██████████| 180/180 [00:04<00:00, 39.25it/s]\n",
      "100%|██████████| 180/180 [00:04<00:00, 41.74it/s]\n"
     ]
    },
    {
     "name": "stdout",
     "output_type": "stream",
     "text": [
      "Epoch  4,  Loss: 14137.8506,  Regret:  7.8721%\n"
     ]
    },
    {
     "name": "stderr",
     "output_type": "stream",
     "text": [
      "100%|██████████| 180/180 [00:04<00:00, 38.60it/s]\n",
      "100%|██████████| 180/180 [00:04<00:00, 39.00it/s]\n"
     ]
    },
    {
     "name": "stdout",
     "output_type": "stream",
     "text": [
      "Epoch  5,  Loss: 12715.0693,  Regret:  7.7142%\n"
     ]
    },
    {
     "name": "stderr",
     "output_type": "stream",
     "text": [
      "100%|██████████| 180/180 [00:04<00:00, 39.98it/s]\n",
      "100%|██████████| 180/180 [00:04<00:00, 39.68it/s]\n"
     ]
    },
    {
     "name": "stdout",
     "output_type": "stream",
     "text": [
      "Epoch  6,  Loss: 12594.5879,  Regret:  7.6872%\n"
     ]
    },
    {
     "name": "stderr",
     "output_type": "stream",
     "text": [
      "100%|██████████| 180/180 [00:04<00:00, 38.53it/s]\n",
      "100%|██████████| 180/180 [00:04<00:00, 41.67it/s]\n"
     ]
    },
    {
     "name": "stdout",
     "output_type": "stream",
     "text": [
      "Epoch  7,  Loss: 11910.9863,  Regret:  7.8037%\n"
     ]
    },
    {
     "name": "stderr",
     "output_type": "stream",
     "text": [
      "100%|██████████| 180/180 [00:04<00:00, 38.81it/s]\n",
      "100%|██████████| 180/180 [00:04<00:00, 40.46it/s]\n"
     ]
    },
    {
     "name": "stdout",
     "output_type": "stream",
     "text": [
      "Epoch  8,  Loss: 11672.3301,  Regret:  7.7713%\n"
     ]
    },
    {
     "name": "stderr",
     "output_type": "stream",
     "text": [
      "100%|██████████| 180/180 [00:04<00:00, 39.15it/s]\n",
      "100%|██████████| 180/180 [00:04<00:00, 41.73it/s]\n"
     ]
    },
    {
     "name": "stdout",
     "output_type": "stream",
     "text": [
      "Epoch  9,  Loss: 11181.2227,  Regret:  7.7115%\n"
     ]
    },
    {
     "name": "stderr",
     "output_type": "stream",
     "text": [
      "100%|██████████| 180/180 [00:04<00:00, 38.89it/s]\n",
      "100%|██████████| 180/180 [00:04<00:00, 41.47it/s]\n"
     ]
    },
    {
     "name": "stdout",
     "output_type": "stream",
     "text": [
      "Epoch 10,  Loss: 11287.5410,  Regret:  7.7269%\n",
      "Total Elapsed Time: 4193.99 Sec.\n"
     ]
    },
    {
     "data": {
      "text/html": [
       "<style>\n",
       "    table.wandb td:nth-child(1) { padding: 0 10px; text-align: left ; width: auto;} td:nth-child(2) {text-align: left ; width: 100%}\n",
       "    .wandb-row { display: flex; flex-direction: row; flex-wrap: wrap; justify-content: flex-start; width: 100% }\n",
       "    .wandb-col { display: flex; flex-direction: column; flex-basis: 100%; flex: 1; padding: 10px; }\n",
       "    </style>\n",
       "<div class=\"wandb-row\"><div class=\"wandb-col\"><h3>Run history:</h3><br/><table class=\"wandb\"><tr><td>Linear loss</td><td>█▅▃▆▇▄▄█▇▄▂▇▄▁▂▆▇▂▄▄▇▃▂▄▃▁▅▇▃▁▄▅▁▂▄▄▁▂▆▇</td></tr><tr><td>Regret</td><td>█▂▁▃▂▂▃▂▂▂</td></tr></table><br/></div><div class=\"wandb-col\"><h3>Run summary:</h3><br/><table class=\"wandb\"><tr><td>Linear loss</td><td>11287.54102</td></tr><tr><td>Regret</td><td>0.07727</td></tr></table><br/></div></div>"
      ],
      "text/plain": [
       "<IPython.core.display.HTML object>"
      ]
     },
     "metadata": {},
     "output_type": "display_data"
    },
    {
     "data": {
      "text/html": [
       " View run <strong style=\"color:#cdcd00\">helpful-sweep-17</strong> at: <a href='https://wandb.ai/Pyepo_special/Sweep%20Pyepo%20Basic%20Model/runs/hbflsvr3' target=\"_blank\">https://wandb.ai/Pyepo_special/Sweep%20Pyepo%20Basic%20Model/runs/hbflsvr3</a><br/> View project at: <a href='https://wandb.ai/Pyepo_special/Sweep%20Pyepo%20Basic%20Model' target=\"_blank\">https://wandb.ai/Pyepo_special/Sweep%20Pyepo%20Basic%20Model</a><br/>Synced 5 W&B file(s), 0 media file(s), 0 artifact file(s) and 0 other file(s)"
      ],
      "text/plain": [
       "<IPython.core.display.HTML object>"
      ]
     },
     "metadata": {},
     "output_type": "display_data"
    },
    {
     "data": {
      "text/html": [
       "Find logs at: <code>.\\wandb\\run-20240515_124955-hbflsvr3\\logs</code>"
      ],
      "text/plain": [
       "<IPython.core.display.HTML object>"
      ]
     },
     "metadata": {},
     "output_type": "display_data"
    },
    {
     "name": "stderr",
     "output_type": "stream",
     "text": [
      "\u001b[34m\u001b[1mwandb\u001b[0m: Agent Starting Run: o7bt3no7 with config:\n",
      "\u001b[34m\u001b[1mwandb\u001b[0m: \tdropout: 0.5\n",
      "\u001b[34m\u001b[1mwandb\u001b[0m: \tgamma: 0.99\n",
      "\u001b[34m\u001b[1mwandb\u001b[0m: \tlr: 0.0001\n",
      "\u001b[34m\u001b[1mwandb\u001b[0m: \tmethod_name: spo+\n",
      "\u001b[34m\u001b[1mwandb\u001b[0m: \tneurons: 32\n",
      "\u001b[34m\u001b[1mwandb\u001b[0m: \tnum_epochs: 20\n",
      "Failed to detect the name of this notebook, you can set it manually with the WANDB_NOTEBOOK_NAME environment variable to enable code saving.\n"
     ]
    },
    {
     "data": {
      "text/html": [
       "Tracking run with wandb version 0.17.0"
      ],
      "text/plain": [
       "<IPython.core.display.HTML object>"
      ]
     },
     "metadata": {},
     "output_type": "display_data"
    },
    {
     "data": {
      "text/html": [
       "Run data is saved locally in <code>c:\\Users\\ande7\\Documents\\Semester 3\\Special\\Course Material\\contextual_dm_in_power_sys\\main_folder\\models\\PyEpo\\wandb\\run-20240515_125143-o7bt3no7</code>"
      ],
      "text/plain": [
       "<IPython.core.display.HTML object>"
      ]
     },
     "metadata": {},
     "output_type": "display_data"
    },
    {
     "data": {
      "text/html": [
       "Syncing run <strong><a href='https://wandb.ai/Pyepo_special/Sweep%20Pyepo%20Basic%20Model/runs/o7bt3no7' target=\"_blank\">woven-sweep-18</a></strong> to <a href='https://wandb.ai/Pyepo_special/Sweep%20Pyepo%20Basic%20Model' target=\"_blank\">Weights & Biases</a> (<a href='https://wandb.me/run' target=\"_blank\">docs</a>)<br/>Sweep page: <a href='https://wandb.ai/Pyepo_special/Sweep%20Pyepo%20Basic%20Model/sweeps/21l2bgkz' target=\"_blank\">https://wandb.ai/Pyepo_special/Sweep%20Pyepo%20Basic%20Model/sweeps/21l2bgkz</a>"
      ],
      "text/plain": [
       "<IPython.core.display.HTML object>"
      ]
     },
     "metadata": {},
     "output_type": "display_data"
    },
    {
     "data": {
      "text/html": [
       " View project at <a href='https://wandb.ai/Pyepo_special/Sweep%20Pyepo%20Basic%20Model' target=\"_blank\">https://wandb.ai/Pyepo_special/Sweep%20Pyepo%20Basic%20Model</a>"
      ],
      "text/plain": [
       "<IPython.core.display.HTML object>"
      ]
     },
     "metadata": {},
     "output_type": "display_data"
    },
    {
     "data": {
      "text/html": [
       " View sweep at <a href='https://wandb.ai/Pyepo_special/Sweep%20Pyepo%20Basic%20Model/sweeps/21l2bgkz' target=\"_blank\">https://wandb.ai/Pyepo_special/Sweep%20Pyepo%20Basic%20Model/sweeps/21l2bgkz</a>"
      ],
      "text/plain": [
       "<IPython.core.display.HTML object>"
      ]
     },
     "metadata": {},
     "output_type": "display_data"
    },
    {
     "data": {
      "text/html": [
       " View run at <a href='https://wandb.ai/Pyepo_special/Sweep%20Pyepo%20Basic%20Model/runs/o7bt3no7' target=\"_blank\">https://wandb.ai/Pyepo_special/Sweep%20Pyepo%20Basic%20Model/runs/o7bt3no7</a>"
      ],
      "text/plain": [
       "<IPython.core.display.HTML object>"
      ]
     },
     "metadata": {},
     "output_type": "display_data"
    },
    {
     "name": "stderr",
     "output_type": "stream",
     "text": [
      "100%|██████████| 180/180 [00:04<00:00, 40.68it/s]\n",
      "100%|██████████| 180/180 [00:04<00:00, 40.83it/s]\n",
      "100%|██████████| 180/180 [00:04<00:00, 41.44it/s]\n"
     ]
    },
    {
     "name": "stdout",
     "output_type": "stream",
     "text": [
      "Epoch  1,  Loss: 19441.6406,  Regret: 35.4935%\n"
     ]
    },
    {
     "name": "stderr",
     "output_type": "stream",
     "text": [
      "100%|██████████| 180/180 [00:04<00:00, 41.44it/s]\n",
      "100%|██████████| 180/180 [00:04<00:00, 39.85it/s]\n"
     ]
    },
    {
     "name": "stdout",
     "output_type": "stream",
     "text": [
      "Epoch  2,  Loss: 18766.2461,  Regret: 17.8448%\n"
     ]
    },
    {
     "name": "stderr",
     "output_type": "stream",
     "text": [
      "100%|██████████| 180/180 [00:04<00:00, 40.83it/s]\n",
      "100%|██████████| 180/180 [00:04<00:00, 41.28it/s]\n"
     ]
    },
    {
     "name": "stdout",
     "output_type": "stream",
     "text": [
      "Epoch  3,  Loss: 18330.3203,  Regret:  9.7776%\n"
     ]
    },
    {
     "name": "stderr",
     "output_type": "stream",
     "text": [
      "100%|██████████| 180/180 [00:04<00:00, 41.42it/s]\n",
      "100%|██████████| 180/180 [00:04<00:00, 38.11it/s]\n"
     ]
    },
    {
     "name": "stdout",
     "output_type": "stream",
     "text": [
      "Epoch  4,  Loss: 16669.9883,  Regret:  8.2784%\n"
     ]
    },
    {
     "name": "stderr",
     "output_type": "stream",
     "text": [
      "100%|██████████| 180/180 [00:11<00:00, 16.12it/s]\n",
      "100%|██████████| 180/180 [00:06<00:00, 27.11it/s]\n"
     ]
    },
    {
     "name": "stdout",
     "output_type": "stream",
     "text": [
      "Epoch  5,  Loss: 15954.0762,  Regret:  8.0870%\n"
     ]
    },
    {
     "name": "stderr",
     "output_type": "stream",
     "text": [
      "100%|██████████| 180/180 [00:11<00:00, 15.12it/s]\n",
      "100%|██████████| 180/180 [00:05<00:00, 35.03it/s]\n"
     ]
    },
    {
     "name": "stdout",
     "output_type": "stream",
     "text": [
      "Epoch  6,  Loss: 15265.6338,  Regret:  8.0164%\n"
     ]
    },
    {
     "name": "stderr",
     "output_type": "stream",
     "text": [
      "100%|██████████| 180/180 [00:09<00:00, 18.82it/s]\n",
      "100%|██████████| 180/180 [00:04<00:00, 39.40it/s]\n"
     ]
    },
    {
     "name": "stdout",
     "output_type": "stream",
     "text": [
      "Epoch  7,  Loss: 14281.0566,  Regret:  7.8296%\n"
     ]
    },
    {
     "name": "stderr",
     "output_type": "stream",
     "text": [
      "100%|██████████| 180/180 [00:06<00:00, 28.12it/s]\n",
      "100%|██████████| 180/180 [00:04<00:00, 38.91it/s]\n"
     ]
    },
    {
     "name": "stdout",
     "output_type": "stream",
     "text": [
      "Epoch  8,  Loss: 14831.4463,  Regret:  7.9070%\n"
     ]
    },
    {
     "name": "stderr",
     "output_type": "stream",
     "text": [
      "100%|██████████| 180/180 [00:06<00:00, 26.09it/s]\n",
      "100%|██████████| 180/180 [00:06<00:00, 28.99it/s]\n"
     ]
    },
    {
     "name": "stdout",
     "output_type": "stream",
     "text": [
      "Epoch  9,  Loss: 15167.2031,  Regret:  8.0157%\n"
     ]
    },
    {
     "name": "stderr",
     "output_type": "stream",
     "text": [
      "100%|██████████| 180/180 [00:08<00:00, 22.11it/s]\n",
      "100%|██████████| 180/180 [00:04<00:00, 37.04it/s]\n"
     ]
    },
    {
     "name": "stdout",
     "output_type": "stream",
     "text": [
      "Epoch 10,  Loss: 12745.3740,  Regret:  7.8706%\n"
     ]
    },
    {
     "name": "stderr",
     "output_type": "stream",
     "text": [
      "100%|██████████| 180/180 [00:08<00:00, 20.36it/s]\n",
      "100%|██████████| 180/180 [00:04<00:00, 36.03it/s]\n"
     ]
    },
    {
     "name": "stdout",
     "output_type": "stream",
     "text": [
      "Epoch 11,  Loss: 12559.9746,  Regret:  7.8110%\n"
     ]
    },
    {
     "name": "stderr",
     "output_type": "stream",
     "text": [
      "100%|██████████| 180/180 [00:12<00:00, 14.12it/s]\n",
      "100%|██████████| 180/180 [00:06<00:00, 26.34it/s]\n"
     ]
    },
    {
     "name": "stdout",
     "output_type": "stream",
     "text": [
      "Epoch 12,  Loss: 16198.3301,  Regret:  7.7726%\n"
     ]
    },
    {
     "name": "stderr",
     "output_type": "stream",
     "text": [
      "100%|██████████| 180/180 [00:12<00:00, 14.12it/s]\n",
      "100%|██████████| 180/180 [00:05<00:00, 31.93it/s]\n"
     ]
    },
    {
     "name": "stdout",
     "output_type": "stream",
     "text": [
      "Epoch 13,  Loss: 12207.3379,  Regret:  7.6232%\n"
     ]
    },
    {
     "name": "stderr",
     "output_type": "stream",
     "text": [
      "100%|██████████| 180/180 [00:09<00:00, 18.57it/s]\n",
      "100%|██████████| 180/180 [00:04<00:00, 37.92it/s]\n"
     ]
    },
    {
     "name": "stdout",
     "output_type": "stream",
     "text": [
      "Epoch 14,  Loss: 11903.7539,  Regret:  7.6611%\n"
     ]
    },
    {
     "name": "stderr",
     "output_type": "stream",
     "text": [
      "100%|██████████| 180/180 [00:06<00:00, 26.57it/s]\n",
      "100%|██████████| 180/180 [00:04<00:00, 39.73it/s]\n"
     ]
    },
    {
     "name": "stdout",
     "output_type": "stream",
     "text": [
      "Epoch 15,  Loss: 11716.7285,  Regret:  7.5974%\n"
     ]
    },
    {
     "name": "stderr",
     "output_type": "stream",
     "text": [
      "100%|██████████| 180/180 [00:06<00:00, 26.64it/s]\n",
      "100%|██████████| 180/180 [00:05<00:00, 32.33it/s]\n"
     ]
    },
    {
     "name": "stdout",
     "output_type": "stream",
     "text": [
      "Epoch 16,  Loss: 14572.8389,  Regret:  7.5099%\n"
     ]
    },
    {
     "name": "stderr",
     "output_type": "stream",
     "text": [
      "100%|██████████| 180/180 [00:07<00:00, 24.20it/s]\n",
      "100%|██████████| 180/180 [00:04<00:00, 39.41it/s]\n"
     ]
    },
    {
     "name": "stdout",
     "output_type": "stream",
     "text": [
      "Epoch 17,  Loss: 11954.5996,  Regret:  7.4351%\n"
     ]
    },
    {
     "name": "stderr",
     "output_type": "stream",
     "text": [
      "100%|██████████| 180/180 [00:06<00:00, 29.00it/s]\n",
      "100%|██████████| 180/180 [00:04<00:00, 41.19it/s]\n"
     ]
    },
    {
     "name": "stdout",
     "output_type": "stream",
     "text": [
      "Epoch 18,  Loss: 11428.8857,  Regret:  7.4258%\n"
     ]
    },
    {
     "name": "stderr",
     "output_type": "stream",
     "text": [
      "100%|██████████| 180/180 [00:05<00:00, 34.69it/s]\n",
      "100%|██████████| 180/180 [00:04<00:00, 38.06it/s]\n"
     ]
    },
    {
     "name": "stdout",
     "output_type": "stream",
     "text": [
      "Epoch 19,  Loss: 11812.6074,  Regret:  7.3508%\n"
     ]
    },
    {
     "name": "stderr",
     "output_type": "stream",
     "text": [
      "100%|██████████| 180/180 [00:07<00:00, 24.38it/s]\n",
      "100%|██████████| 180/180 [00:04<00:00, 38.90it/s]\n"
     ]
    },
    {
     "name": "stdout",
     "output_type": "stream",
     "text": [
      "Epoch 20,  Loss: 11973.7334,  Regret:  7.2950%\n",
      "Total Elapsed Time: 13927.88 Sec.\n"
     ]
    },
    {
     "data": {
      "text/html": [
       "<style>\n",
       "    table.wandb td:nth-child(1) { padding: 0 10px; text-align: left ; width: auto;} td:nth-child(2) {text-align: left ; width: 100%}\n",
       "    .wandb-row { display: flex; flex-direction: row; flex-wrap: wrap; justify-content: flex-start; width: 100% }\n",
       "    .wandb-col { display: flex; flex-direction: column; flex-basis: 100%; flex: 1; padding: 10px; }\n",
       "    </style>\n",
       "<div class=\"wandb-row\"><div class=\"wandb-col\"><h3>Run history:</h3><br/><table class=\"wandb\"><tr><td>Linear loss</td><td>▃▂▆▄▄█▂▂▆▄▂▇▂▆▃▄▁▆▃▆▃▅▁█▂▄▄▆▁▅▃▅▁▆▂▅▂▆▁▄</td></tr><tr><td>Regret</td><td>█▄▂▁▁▁▁▁▁▁▁▁▁▁▁▁▁▁▁▁</td></tr></table><br/></div><div class=\"wandb-col\"><h3>Run summary:</h3><br/><table class=\"wandb\"><tr><td>Linear loss</td><td>11973.7334</td></tr><tr><td>Regret</td><td>0.07295</td></tr></table><br/></div></div>"
      ],
      "text/plain": [
       "<IPython.core.display.HTML object>"
      ]
     },
     "metadata": {},
     "output_type": "display_data"
    },
    {
     "data": {
      "text/html": [
       " View run <strong style=\"color:#cdcd00\">woven-sweep-18</strong> at: <a href='https://wandb.ai/Pyepo_special/Sweep%20Pyepo%20Basic%20Model/runs/o7bt3no7' target=\"_blank\">https://wandb.ai/Pyepo_special/Sweep%20Pyepo%20Basic%20Model/runs/o7bt3no7</a><br/> View project at: <a href='https://wandb.ai/Pyepo_special/Sweep%20Pyepo%20Basic%20Model' target=\"_blank\">https://wandb.ai/Pyepo_special/Sweep%20Pyepo%20Basic%20Model</a><br/>Synced 5 W&B file(s), 0 media file(s), 0 artifact file(s) and 0 other file(s)"
      ],
      "text/plain": [
       "<IPython.core.display.HTML object>"
      ]
     },
     "metadata": {},
     "output_type": "display_data"
    },
    {
     "data": {
      "text/html": [
       "Find logs at: <code>.\\wandb\\run-20240515_125143-o7bt3no7\\logs</code>"
      ],
      "text/plain": [
       "<IPython.core.display.HTML object>"
      ]
     },
     "metadata": {},
     "output_type": "display_data"
    },
    {
     "name": "stderr",
     "output_type": "stream",
     "text": [
      "\u001b[34m\u001b[1mwandb\u001b[0m: Agent Starting Run: 507nh422 with config:\n",
      "\u001b[34m\u001b[1mwandb\u001b[0m: \tdropout: 0.2\n",
      "\u001b[34m\u001b[1mwandb\u001b[0m: \tgamma: 0.99\n",
      "\u001b[34m\u001b[1mwandb\u001b[0m: \tlr: 0.0001\n",
      "\u001b[34m\u001b[1mwandb\u001b[0m: \tmethod_name: spo+\n",
      "\u001b[34m\u001b[1mwandb\u001b[0m: \tneurons: 128\n",
      "\u001b[34m\u001b[1mwandb\u001b[0m: \tnum_epochs: 20\n",
      "Failed to detect the name of this notebook, you can set it manually with the WANDB_NOTEBOOK_NAME environment variable to enable code saving.\n"
     ]
    },
    {
     "data": {
      "text/html": [
       "Tracking run with wandb version 0.17.0"
      ],
      "text/plain": [
       "<IPython.core.display.HTML object>"
      ]
     },
     "metadata": {},
     "output_type": "display_data"
    },
    {
     "data": {
      "text/html": [
       "Run data is saved locally in <code>c:\\Users\\ande7\\Documents\\Semester 3\\Special\\Course Material\\contextual_dm_in_power_sys\\main_folder\\models\\PyEpo\\wandb\\run-20240515_125618-507nh422</code>"
      ],
      "text/plain": [
       "<IPython.core.display.HTML object>"
      ]
     },
     "metadata": {},
     "output_type": "display_data"
    },
    {
     "data": {
      "text/html": [
       "Syncing run <strong><a href='https://wandb.ai/Pyepo_special/Sweep%20Pyepo%20Basic%20Model/runs/507nh422' target=\"_blank\">misty-sweep-19</a></strong> to <a href='https://wandb.ai/Pyepo_special/Sweep%20Pyepo%20Basic%20Model' target=\"_blank\">Weights & Biases</a> (<a href='https://wandb.me/run' target=\"_blank\">docs</a>)<br/>Sweep page: <a href='https://wandb.ai/Pyepo_special/Sweep%20Pyepo%20Basic%20Model/sweeps/21l2bgkz' target=\"_blank\">https://wandb.ai/Pyepo_special/Sweep%20Pyepo%20Basic%20Model/sweeps/21l2bgkz</a>"
      ],
      "text/plain": [
       "<IPython.core.display.HTML object>"
      ]
     },
     "metadata": {},
     "output_type": "display_data"
    },
    {
     "data": {
      "text/html": [
       " View project at <a href='https://wandb.ai/Pyepo_special/Sweep%20Pyepo%20Basic%20Model' target=\"_blank\">https://wandb.ai/Pyepo_special/Sweep%20Pyepo%20Basic%20Model</a>"
      ],
      "text/plain": [
       "<IPython.core.display.HTML object>"
      ]
     },
     "metadata": {},
     "output_type": "display_data"
    },
    {
     "data": {
      "text/html": [
       " View sweep at <a href='https://wandb.ai/Pyepo_special/Sweep%20Pyepo%20Basic%20Model/sweeps/21l2bgkz' target=\"_blank\">https://wandb.ai/Pyepo_special/Sweep%20Pyepo%20Basic%20Model/sweeps/21l2bgkz</a>"
      ],
      "text/plain": [
       "<IPython.core.display.HTML object>"
      ]
     },
     "metadata": {},
     "output_type": "display_data"
    },
    {
     "data": {
      "text/html": [
       " View run at <a href='https://wandb.ai/Pyepo_special/Sweep%20Pyepo%20Basic%20Model/runs/507nh422' target=\"_blank\">https://wandb.ai/Pyepo_special/Sweep%20Pyepo%20Basic%20Model/runs/507nh422</a>"
      ],
      "text/plain": [
       "<IPython.core.display.HTML object>"
      ]
     },
     "metadata": {},
     "output_type": "display_data"
    },
    {
     "name": "stderr",
     "output_type": "stream",
     "text": [
      "100%|██████████| 180/180 [00:04<00:00, 36.31it/s]\n",
      "100%|██████████| 180/180 [00:06<00:00, 25.76it/s]\n",
      "100%|██████████| 180/180 [00:05<00:00, 32.23it/s]\n"
     ]
    },
    {
     "name": "stdout",
     "output_type": "stream",
     "text": [
      "Epoch  1,  Loss: 18887.3008,  Regret:  8.4391%\n"
     ]
    },
    {
     "name": "stderr",
     "output_type": "stream",
     "text": [
      "100%|██████████| 180/180 [00:07<00:00, 25.57it/s]\n",
      "100%|██████████| 180/180 [00:06<00:00, 29.69it/s]\n"
     ]
    },
    {
     "name": "stdout",
     "output_type": "stream",
     "text": [
      "Epoch  2,  Loss: 16275.7441,  Regret:  7.3416%\n"
     ]
    },
    {
     "name": "stderr",
     "output_type": "stream",
     "text": [
      "100%|██████████| 180/180 [00:08<00:00, 20.87it/s]\n",
      "100%|██████████| 180/180 [00:04<00:00, 40.24it/s]\n"
     ]
    },
    {
     "name": "stdout",
     "output_type": "stream",
     "text": [
      "Epoch  3,  Loss: 13946.6855,  Regret:  7.2424%\n"
     ]
    },
    {
     "name": "stderr",
     "output_type": "stream",
     "text": [
      "100%|██████████| 180/180 [00:06<00:00, 27.43it/s]\n",
      "100%|██████████| 180/180 [00:01<00:00, 112.04it/s]\n"
     ]
    },
    {
     "name": "stdout",
     "output_type": "stream",
     "text": [
      "Epoch  4,  Loss: 12989.8750,  Regret:  7.2373%\n"
     ]
    },
    {
     "name": "stderr",
     "output_type": "stream",
     "text": [
      "100%|██████████| 180/180 [00:05<00:00, 30.75it/s]\n",
      "100%|██████████| 180/180 [00:03<00:00, 46.07it/s]\n"
     ]
    },
    {
     "name": "stdout",
     "output_type": "stream",
     "text": [
      "Epoch  5,  Loss: 11822.1436,  Regret:  7.1854%\n"
     ]
    },
    {
     "name": "stderr",
     "output_type": "stream",
     "text": [
      "100%|██████████| 180/180 [00:04<00:00, 40.03it/s]\n",
      "100%|██████████| 180/180 [00:03<00:00, 49.09it/s]\n"
     ]
    },
    {
     "name": "stdout",
     "output_type": "stream",
     "text": [
      "Epoch  6,  Loss: 12677.0312,  Regret:  7.2690%\n"
     ]
    },
    {
     "name": "stderr",
     "output_type": "stream",
     "text": [
      "100%|██████████| 180/180 [00:04<00:00, 40.41it/s]\n",
      "100%|██████████| 180/180 [00:03<00:00, 47.18it/s]\n"
     ]
    },
    {
     "name": "stdout",
     "output_type": "stream",
     "text": [
      "Epoch  7,  Loss: 11631.0762,  Regret:  7.3194%\n"
     ]
    },
    {
     "name": "stderr",
     "output_type": "stream",
     "text": [
      "100%|██████████| 180/180 [00:04<00:00, 37.26it/s]\n",
      "100%|██████████| 180/180 [00:03<00:00, 51.33it/s]\n"
     ]
    },
    {
     "name": "stdout",
     "output_type": "stream",
     "text": [
      "Epoch  8,  Loss: 11060.0986,  Regret:  7.2560%\n"
     ]
    },
    {
     "name": "stderr",
     "output_type": "stream",
     "text": [
      "100%|██████████| 180/180 [00:04<00:00, 40.36it/s]\n",
      "100%|██████████| 180/180 [00:03<00:00, 50.63it/s]\n"
     ]
    },
    {
     "name": "stdout",
     "output_type": "stream",
     "text": [
      "Epoch  9,  Loss: 11195.8311,  Regret:  7.2850%\n"
     ]
    },
    {
     "name": "stderr",
     "output_type": "stream",
     "text": [
      "100%|██████████| 180/180 [00:04<00:00, 40.09it/s]\n",
      "100%|██████████| 180/180 [00:03<00:00, 49.73it/s]\n"
     ]
    },
    {
     "name": "stdout",
     "output_type": "stream",
     "text": [
      "Epoch 10,  Loss: 10829.7451,  Regret:  7.4079%\n"
     ]
    },
    {
     "name": "stderr",
     "output_type": "stream",
     "text": [
      "100%|██████████| 180/180 [00:04<00:00, 38.90it/s]\n",
      "100%|██████████| 180/180 [00:04<00:00, 43.32it/s]\n"
     ]
    },
    {
     "name": "stdout",
     "output_type": "stream",
     "text": [
      "Epoch 11,  Loss: 11016.3320,  Regret:  7.3567%\n"
     ]
    },
    {
     "name": "stderr",
     "output_type": "stream",
     "text": [
      "100%|██████████| 180/180 [00:04<00:00, 38.51it/s]\n",
      "100%|██████████| 180/180 [00:03<00:00, 51.48it/s]\n"
     ]
    },
    {
     "name": "stdout",
     "output_type": "stream",
     "text": [
      "Epoch 12,  Loss: 9946.9971,  Regret:  7.3192%\n"
     ]
    },
    {
     "name": "stderr",
     "output_type": "stream",
     "text": [
      "100%|██████████| 180/180 [00:04<00:00, 40.22it/s]\n",
      "100%|██████████| 180/180 [00:03<00:00, 52.08it/s]\n"
     ]
    },
    {
     "name": "stdout",
     "output_type": "stream",
     "text": [
      "Epoch 13,  Loss: 9908.3438,  Regret:  7.2969%\n"
     ]
    },
    {
     "name": "stderr",
     "output_type": "stream",
     "text": [
      "100%|██████████| 180/180 [00:05<00:00, 33.21it/s]\n",
      "100%|██████████| 180/180 [00:03<00:00, 50.51it/s]\n"
     ]
    },
    {
     "name": "stdout",
     "output_type": "stream",
     "text": [
      "Epoch 14,  Loss: 10070.9541,  Regret:  7.1475%\n"
     ]
    },
    {
     "name": "stderr",
     "output_type": "stream",
     "text": [
      "100%|██████████| 180/180 [00:05<00:00, 35.80it/s]\n",
      "100%|██████████| 180/180 [00:03<00:00, 45.92it/s]\n"
     ]
    },
    {
     "name": "stdout",
     "output_type": "stream",
     "text": [
      "Epoch 15,  Loss: 10893.8730,  Regret:  7.1952%\n"
     ]
    },
    {
     "name": "stderr",
     "output_type": "stream",
     "text": [
      "100%|██████████| 180/180 [00:04<00:00, 39.71it/s]\n",
      "100%|██████████| 180/180 [00:04<00:00, 44.75it/s]\n"
     ]
    },
    {
     "name": "stdout",
     "output_type": "stream",
     "text": [
      "Epoch 16,  Loss: 10037.7295,  Regret:  7.2363%\n"
     ]
    },
    {
     "name": "stderr",
     "output_type": "stream",
     "text": [
      "100%|██████████| 180/180 [00:04<00:00, 39.34it/s]\n",
      "100%|██████████| 180/180 [00:03<00:00, 52.33it/s]\n"
     ]
    },
    {
     "name": "stdout",
     "output_type": "stream",
     "text": [
      "Epoch 17,  Loss: 9450.8721,  Regret:  7.1526%\n"
     ]
    },
    {
     "name": "stderr",
     "output_type": "stream",
     "text": [
      "100%|██████████| 180/180 [00:05<00:00, 35.45it/s]\n",
      "100%|██████████| 180/180 [00:03<00:00, 51.73it/s]\n"
     ]
    },
    {
     "name": "stdout",
     "output_type": "stream",
     "text": [
      "Epoch 18,  Loss: 9891.8018,  Regret:  7.0894%\n"
     ]
    },
    {
     "name": "stderr",
     "output_type": "stream",
     "text": [
      "100%|██████████| 180/180 [00:06<00:00, 28.66it/s]\n",
      "100%|██████████| 180/180 [00:05<00:00, 31.93it/s]\n"
     ]
    },
    {
     "name": "stdout",
     "output_type": "stream",
     "text": [
      "Epoch 19,  Loss: 10039.4834,  Regret:  7.1880%\n"
     ]
    },
    {
     "name": "stderr",
     "output_type": "stream",
     "text": [
      "100%|██████████| 180/180 [00:05<00:00, 35.51it/s]\n",
      "100%|██████████| 180/180 [00:03<00:00, 49.60it/s]\n"
     ]
    },
    {
     "name": "stdout",
     "output_type": "stream",
     "text": [
      "Epoch 20,  Loss: 10041.5186,  Regret:  7.0939%\n",
      "Total Elapsed Time: 9432.04 Sec.\n"
     ]
    },
    {
     "data": {
      "text/html": [
       "<style>\n",
       "    table.wandb td:nth-child(1) { padding: 0 10px; text-align: left ; width: auto;} td:nth-child(2) {text-align: left ; width: 100%}\n",
       "    .wandb-row { display: flex; flex-direction: row; flex-wrap: wrap; justify-content: flex-start; width: 100% }\n",
       "    .wandb-col { display: flex; flex-direction: column; flex-basis: 100%; flex: 1; padding: 10px; }\n",
       "    </style>\n",
       "<div class=\"wandb-row\"><div class=\"wandb-col\"><h3>Run history:</h3><br/><table class=\"wandb\"><tr><td>Linear loss</td><td>▄▃▇▄▃▆▂▂█▄▁▆▂▆▃▄▁▆▂▆▃▅▁█▃▅▃▅▁▆▃▅▂▆▂▆▃▆▁▄</td></tr><tr><td>Regret</td><td>█▂▂▂▁▂▂▂▂▃▂▂▂▁▂▂▁▁▂▁</td></tr></table><br/></div><div class=\"wandb-col\"><h3>Run summary:</h3><br/><table class=\"wandb\"><tr><td>Linear loss</td><td>10041.51855</td></tr><tr><td>Regret</td><td>0.07094</td></tr></table><br/></div></div>"
      ],
      "text/plain": [
       "<IPython.core.display.HTML object>"
      ]
     },
     "metadata": {},
     "output_type": "display_data"
    },
    {
     "data": {
      "text/html": [
       " View run <strong style=\"color:#cdcd00\">misty-sweep-19</strong> at: <a href='https://wandb.ai/Pyepo_special/Sweep%20Pyepo%20Basic%20Model/runs/507nh422' target=\"_blank\">https://wandb.ai/Pyepo_special/Sweep%20Pyepo%20Basic%20Model/runs/507nh422</a><br/> View project at: <a href='https://wandb.ai/Pyepo_special/Sweep%20Pyepo%20Basic%20Model' target=\"_blank\">https://wandb.ai/Pyepo_special/Sweep%20Pyepo%20Basic%20Model</a><br/>Synced 5 W&B file(s), 0 media file(s), 0 artifact file(s) and 0 other file(s)"
      ],
      "text/plain": [
       "<IPython.core.display.HTML object>"
      ]
     },
     "metadata": {},
     "output_type": "display_data"
    },
    {
     "data": {
      "text/html": [
       "Find logs at: <code>.\\wandb\\run-20240515_125618-507nh422\\logs</code>"
      ],
      "text/plain": [
       "<IPython.core.display.HTML object>"
      ]
     },
     "metadata": {},
     "output_type": "display_data"
    },
    {
     "name": "stderr",
     "output_type": "stream",
     "text": [
      "\u001b[34m\u001b[1mwandb\u001b[0m: Agent Starting Run: yd3eevhp with config:\n",
      "\u001b[34m\u001b[1mwandb\u001b[0m: \tdropout: 0.9\n",
      "\u001b[34m\u001b[1mwandb\u001b[0m: \tgamma: 0.9\n",
      "\u001b[34m\u001b[1mwandb\u001b[0m: \tlr: 0.0001\n",
      "\u001b[34m\u001b[1mwandb\u001b[0m: \tmethod_name: spo+\n",
      "\u001b[34m\u001b[1mwandb\u001b[0m: \tneurons: 32\n",
      "\u001b[34m\u001b[1mwandb\u001b[0m: \tnum_epochs: 10\n",
      "Failed to detect the name of this notebook, you can set it manually with the WANDB_NOTEBOOK_NAME environment variable to enable code saving.\n"
     ]
    },
    {
     "data": {
      "text/html": [
       "Tracking run with wandb version 0.17.0"
      ],
      "text/plain": [
       "<IPython.core.display.HTML object>"
      ]
     },
     "metadata": {},
     "output_type": "display_data"
    },
    {
     "data": {
      "text/html": [
       "Run data is saved locally in <code>c:\\Users\\ande7\\Documents\\Semester 3\\Special\\Course Material\\contextual_dm_in_power_sys\\main_folder\\models\\PyEpo\\wandb\\run-20240515_125943-yd3eevhp</code>"
      ],
      "text/plain": [
       "<IPython.core.display.HTML object>"
      ]
     },
     "metadata": {},
     "output_type": "display_data"
    },
    {
     "data": {
      "text/html": [
       "Syncing run <strong><a href='https://wandb.ai/Pyepo_special/Sweep%20Pyepo%20Basic%20Model/runs/yd3eevhp' target=\"_blank\">exalted-sweep-20</a></strong> to <a href='https://wandb.ai/Pyepo_special/Sweep%20Pyepo%20Basic%20Model' target=\"_blank\">Weights & Biases</a> (<a href='https://wandb.me/run' target=\"_blank\">docs</a>)<br/>Sweep page: <a href='https://wandb.ai/Pyepo_special/Sweep%20Pyepo%20Basic%20Model/sweeps/21l2bgkz' target=\"_blank\">https://wandb.ai/Pyepo_special/Sweep%20Pyepo%20Basic%20Model/sweeps/21l2bgkz</a>"
      ],
      "text/plain": [
       "<IPython.core.display.HTML object>"
      ]
     },
     "metadata": {},
     "output_type": "display_data"
    },
    {
     "data": {
      "text/html": [
       " View project at <a href='https://wandb.ai/Pyepo_special/Sweep%20Pyepo%20Basic%20Model' target=\"_blank\">https://wandb.ai/Pyepo_special/Sweep%20Pyepo%20Basic%20Model</a>"
      ],
      "text/plain": [
       "<IPython.core.display.HTML object>"
      ]
     },
     "metadata": {},
     "output_type": "display_data"
    },
    {
     "data": {
      "text/html": [
       " View sweep at <a href='https://wandb.ai/Pyepo_special/Sweep%20Pyepo%20Basic%20Model/sweeps/21l2bgkz' target=\"_blank\">https://wandb.ai/Pyepo_special/Sweep%20Pyepo%20Basic%20Model/sweeps/21l2bgkz</a>"
      ],
      "text/plain": [
       "<IPython.core.display.HTML object>"
      ]
     },
     "metadata": {},
     "output_type": "display_data"
    },
    {
     "data": {
      "text/html": [
       " View run at <a href='https://wandb.ai/Pyepo_special/Sweep%20Pyepo%20Basic%20Model/runs/yd3eevhp' target=\"_blank\">https://wandb.ai/Pyepo_special/Sweep%20Pyepo%20Basic%20Model/runs/yd3eevhp</a>"
      ],
      "text/plain": [
       "<IPython.core.display.HTML object>"
      ]
     },
     "metadata": {},
     "output_type": "display_data"
    },
    {
     "name": "stderr",
     "output_type": "stream",
     "text": [
      "100%|██████████| 180/180 [00:04<00:00, 41.00it/s]\n",
      "100%|██████████| 180/180 [00:06<00:00, 26.24it/s]\n",
      "100%|██████████| 180/180 [00:04<00:00, 43.69it/s]\n"
     ]
    },
    {
     "name": "stdout",
     "output_type": "stream",
     "text": [
      "Epoch  1,  Loss: 20080.1211,  Regret: 49.6902%\n"
     ]
    },
    {
     "name": "stderr",
     "output_type": "stream",
     "text": [
      "100%|██████████| 180/180 [00:06<00:00, 27.95it/s]\n",
      "100%|██████████| 180/180 [00:03<00:00, 48.28it/s]\n"
     ]
    },
    {
     "name": "stdout",
     "output_type": "stream",
     "text": [
      "Epoch  2,  Loss: 18857.5332,  Regret: 34.2495%\n"
     ]
    },
    {
     "name": "stderr",
     "output_type": "stream",
     "text": [
      "100%|██████████| 180/180 [00:04<00:00, 39.37it/s]\n",
      "100%|██████████| 180/180 [00:04<00:00, 41.08it/s]\n"
     ]
    },
    {
     "name": "stdout",
     "output_type": "stream",
     "text": [
      "Epoch  3,  Loss: 19049.5684,  Regret: 21.7931%\n"
     ]
    },
    {
     "name": "stderr",
     "output_type": "stream",
     "text": [
      "100%|██████████| 180/180 [00:06<00:00, 29.10it/s]\n",
      "100%|██████████| 180/180 [00:04<00:00, 38.26it/s]\n"
     ]
    },
    {
     "name": "stdout",
     "output_type": "stream",
     "text": [
      "Epoch  4,  Loss: 19462.8633,  Regret: 15.9131%\n"
     ]
    },
    {
     "name": "stderr",
     "output_type": "stream",
     "text": [
      "100%|██████████| 180/180 [00:05<00:00, 33.97it/s]\n",
      "100%|██████████| 180/180 [00:03<00:00, 48.92it/s]\n"
     ]
    },
    {
     "name": "stdout",
     "output_type": "stream",
     "text": [
      "Epoch  5,  Loss: 17523.6406,  Regret: 13.2349%\n"
     ]
    },
    {
     "name": "stderr",
     "output_type": "stream",
     "text": [
      "100%|██████████| 180/180 [00:06<00:00, 28.53it/s]\n",
      "100%|██████████| 180/180 [00:04<00:00, 42.68it/s]\n"
     ]
    },
    {
     "name": "stdout",
     "output_type": "stream",
     "text": [
      "Epoch  6,  Loss: 18420.6816,  Regret: 11.5843%\n"
     ]
    },
    {
     "name": "stderr",
     "output_type": "stream",
     "text": [
      "100%|██████████| 180/180 [00:06<00:00, 26.69it/s]\n",
      "100%|██████████| 180/180 [00:03<00:00, 49.40it/s]\n"
     ]
    },
    {
     "name": "stdout",
     "output_type": "stream",
     "text": [
      "Epoch  7,  Loss: 16157.8867,  Regret: 10.7433%\n"
     ]
    },
    {
     "name": "stderr",
     "output_type": "stream",
     "text": [
      "100%|██████████| 180/180 [00:07<00:00, 24.41it/s]\n",
      "100%|██████████| 180/180 [00:11<00:00, 15.66it/s]\n"
     ]
    },
    {
     "name": "stdout",
     "output_type": "stream",
     "text": [
      "Epoch  8,  Loss: 15169.3242,  Regret: 10.1821%\n"
     ]
    },
    {
     "name": "stderr",
     "output_type": "stream",
     "text": [
      "100%|██████████| 180/180 [00:10<00:00, 17.11it/s]\n",
      "100%|██████████| 180/180 [00:05<00:00, 35.96it/s]\n"
     ]
    },
    {
     "name": "stdout",
     "output_type": "stream",
     "text": [
      "Epoch  9,  Loss: 14175.8066,  Regret:  9.4508%\n"
     ]
    },
    {
     "name": "stderr",
     "output_type": "stream",
     "text": [
      "100%|██████████| 180/180 [00:04<00:00, 39.21it/s]\n",
      "100%|██████████| 180/180 [00:03<00:00, 50.47it/s]\n"
     ]
    },
    {
     "name": "stdout",
     "output_type": "stream",
     "text": [
      "Epoch 10,  Loss: 16708.4160,  Regret:  9.1446%\n",
      "Total Elapsed Time: 6227.38 Sec.\n"
     ]
    },
    {
     "data": {
      "text/html": [
       "<style>\n",
       "    table.wandb td:nth-child(1) { padding: 0 10px; text-align: left ; width: auto;} td:nth-child(2) {text-align: left ; width: 100%}\n",
       "    .wandb-row { display: flex; flex-direction: row; flex-wrap: wrap; justify-content: flex-start; width: 100% }\n",
       "    .wandb-col { display: flex; flex-direction: column; flex-basis: 100%; flex: 1; padding: 10px; }\n",
       "    </style>\n",
       "<div class=\"wandb-row\"><div class=\"wandb-col\"><h3>Run history:</h3><br/><table class=\"wandb\"><tr><td>Linear loss</td><td>▇▄▂▅▇▃▃█▆▄▃▆▅▁▂▆▇▂▇▂▇▂▂▃▄▂▇▆▄▁▆▅▁▂▄▂▃▁█▇</td></tr><tr><td>Regret</td><td>█▅▃▂▂▁▁▁▁▁</td></tr></table><br/></div><div class=\"wandb-col\"><h3>Run summary:</h3><br/><table class=\"wandb\"><tr><td>Linear loss</td><td>16708.41602</td></tr><tr><td>Regret</td><td>0.09145</td></tr></table><br/></div></div>"
      ],
      "text/plain": [
       "<IPython.core.display.HTML object>"
      ]
     },
     "metadata": {},
     "output_type": "display_data"
    },
    {
     "data": {
      "text/html": [
       " View run <strong style=\"color:#cdcd00\">exalted-sweep-20</strong> at: <a href='https://wandb.ai/Pyepo_special/Sweep%20Pyepo%20Basic%20Model/runs/yd3eevhp' target=\"_blank\">https://wandb.ai/Pyepo_special/Sweep%20Pyepo%20Basic%20Model/runs/yd3eevhp</a><br/> View project at: <a href='https://wandb.ai/Pyepo_special/Sweep%20Pyepo%20Basic%20Model' target=\"_blank\">https://wandb.ai/Pyepo_special/Sweep%20Pyepo%20Basic%20Model</a><br/>Synced 5 W&B file(s), 0 media file(s), 0 artifact file(s) and 0 other file(s)"
      ],
      "text/plain": [
       "<IPython.core.display.HTML object>"
      ]
     },
     "metadata": {},
     "output_type": "display_data"
    },
    {
     "data": {
      "text/html": [
       "Find logs at: <code>.\\wandb\\run-20240515_125943-yd3eevhp\\logs</code>"
      ],
      "text/plain": [
       "<IPython.core.display.HTML object>"
      ]
     },
     "metadata": {},
     "output_type": "display_data"
    },
    {
     "name": "stderr",
     "output_type": "stream",
     "text": [
      "\u001b[34m\u001b[1mwandb\u001b[0m: Sweep Agent: Waiting for job.\n",
      "\u001b[34m\u001b[1mwandb\u001b[0m: Job received.\n",
      "\u001b[34m\u001b[1mwandb\u001b[0m: Agent Starting Run: gbewyf53 with config:\n",
      "\u001b[34m\u001b[1mwandb\u001b[0m: \tdropout: 0.2\n",
      "\u001b[34m\u001b[1mwandb\u001b[0m: \tgamma: 0.9\n",
      "\u001b[34m\u001b[1mwandb\u001b[0m: \tlr: 0.0001\n",
      "\u001b[34m\u001b[1mwandb\u001b[0m: \tmethod_name: spo+\n",
      "\u001b[34m\u001b[1mwandb\u001b[0m: \tneurons: 64\n",
      "\u001b[34m\u001b[1mwandb\u001b[0m: \tnum_epochs: 20\n",
      "Failed to detect the name of this notebook, you can set it manually with the WANDB_NOTEBOOK_NAME environment variable to enable code saving.\n"
     ]
    },
    {
     "data": {
      "text/html": [
       "Tracking run with wandb version 0.17.0"
      ],
      "text/plain": [
       "<IPython.core.display.HTML object>"
      ]
     },
     "metadata": {},
     "output_type": "display_data"
    },
    {
     "data": {
      "text/html": [
       "Run data is saved locally in <code>c:\\Users\\ande7\\Documents\\Semester 3\\Special\\Course Material\\contextual_dm_in_power_sys\\main_folder\\models\\PyEpo\\wandb\\run-20240515_130202-gbewyf53</code>"
      ],
      "text/plain": [
       "<IPython.core.display.HTML object>"
      ]
     },
     "metadata": {},
     "output_type": "display_data"
    },
    {
     "data": {
      "text/html": [
       "Syncing run <strong><a href='https://wandb.ai/Pyepo_special/Sweep%20Pyepo%20Basic%20Model/runs/gbewyf53' target=\"_blank\">lunar-sweep-21</a></strong> to <a href='https://wandb.ai/Pyepo_special/Sweep%20Pyepo%20Basic%20Model' target=\"_blank\">Weights & Biases</a> (<a href='https://wandb.me/run' target=\"_blank\">docs</a>)<br/>Sweep page: <a href='https://wandb.ai/Pyepo_special/Sweep%20Pyepo%20Basic%20Model/sweeps/21l2bgkz' target=\"_blank\">https://wandb.ai/Pyepo_special/Sweep%20Pyepo%20Basic%20Model/sweeps/21l2bgkz</a>"
      ],
      "text/plain": [
       "<IPython.core.display.HTML object>"
      ]
     },
     "metadata": {},
     "output_type": "display_data"
    },
    {
     "data": {
      "text/html": [
       " View project at <a href='https://wandb.ai/Pyepo_special/Sweep%20Pyepo%20Basic%20Model' target=\"_blank\">https://wandb.ai/Pyepo_special/Sweep%20Pyepo%20Basic%20Model</a>"
      ],
      "text/plain": [
       "<IPython.core.display.HTML object>"
      ]
     },
     "metadata": {},
     "output_type": "display_data"
    },
    {
     "data": {
      "text/html": [
       " View sweep at <a href='https://wandb.ai/Pyepo_special/Sweep%20Pyepo%20Basic%20Model/sweeps/21l2bgkz' target=\"_blank\">https://wandb.ai/Pyepo_special/Sweep%20Pyepo%20Basic%20Model/sweeps/21l2bgkz</a>"
      ],
      "text/plain": [
       "<IPython.core.display.HTML object>"
      ]
     },
     "metadata": {},
     "output_type": "display_data"
    },
    {
     "data": {
      "text/html": [
       " View run at <a href='https://wandb.ai/Pyepo_special/Sweep%20Pyepo%20Basic%20Model/runs/gbewyf53' target=\"_blank\">https://wandb.ai/Pyepo_special/Sweep%20Pyepo%20Basic%20Model/runs/gbewyf53</a>"
      ],
      "text/plain": [
       "<IPython.core.display.HTML object>"
      ]
     },
     "metadata": {},
     "output_type": "display_data"
    },
    {
     "name": "stderr",
     "output_type": "stream",
     "text": [
      "100%|██████████| 180/180 [00:03<00:00, 49.68it/s]\n",
      "100%|██████████| 180/180 [00:04<00:00, 41.64it/s]\n",
      "100%|██████████| 180/180 [00:03<00:00, 49.19it/s]\n"
     ]
    },
    {
     "name": "stdout",
     "output_type": "stream",
     "text": [
      "Epoch  1,  Loss: 19299.4395,  Regret: 21.0514%\n"
     ]
    },
    {
     "name": "stderr",
     "output_type": "stream",
     "text": [
      "100%|██████████| 180/180 [00:04<00:00, 41.59it/s]\n",
      "100%|██████████| 180/180 [00:03<00:00, 51.70it/s]\n"
     ]
    },
    {
     "name": "stdout",
     "output_type": "stream",
     "text": [
      "Epoch  2,  Loss: 18380.2637,  Regret:  8.6305%\n"
     ]
    },
    {
     "name": "stderr",
     "output_type": "stream",
     "text": [
      "100%|██████████| 180/180 [00:04<00:00, 41.36it/s]\n",
      "100%|██████████| 180/180 [00:04<00:00, 42.00it/s]\n"
     ]
    },
    {
     "name": "stdout",
     "output_type": "stream",
     "text": [
      "Epoch  3,  Loss: 17163.6348,  Regret:  8.1425%\n"
     ]
    },
    {
     "name": "stderr",
     "output_type": "stream",
     "text": [
      "100%|██████████| 180/180 [00:04<00:00, 36.47it/s]\n",
      "100%|██████████| 180/180 [00:01<00:00, 117.59it/s]\n"
     ]
    },
    {
     "name": "stdout",
     "output_type": "stream",
     "text": [
      "Epoch  4,  Loss: 15576.5840,  Regret:  7.7848%\n"
     ]
    },
    {
     "name": "stderr",
     "output_type": "stream",
     "text": [
      "100%|██████████| 180/180 [00:04<00:00, 36.88it/s]\n",
      "100%|██████████| 180/180 [00:03<00:00, 50.54it/s]\n"
     ]
    },
    {
     "name": "stdout",
     "output_type": "stream",
     "text": [
      "Epoch  5,  Loss: 15816.4053,  Regret:  7.7379%\n"
     ]
    },
    {
     "name": "stderr",
     "output_type": "stream",
     "text": [
      "100%|██████████| 180/180 [00:04<00:00, 41.61it/s]\n",
      "100%|██████████| 180/180 [00:03<00:00, 51.11it/s]\n"
     ]
    },
    {
     "name": "stdout",
     "output_type": "stream",
     "text": [
      "Epoch  6,  Loss: 13513.0400,  Regret:  7.7789%\n"
     ]
    },
    {
     "name": "stderr",
     "output_type": "stream",
     "text": [
      "100%|██████████| 180/180 [00:04<00:00, 41.76it/s]\n",
      "100%|██████████| 180/180 [00:03<00:00, 55.21it/s]\n"
     ]
    },
    {
     "name": "stdout",
     "output_type": "stream",
     "text": [
      "Epoch  7,  Loss: 15571.7822,  Regret:  7.8065%\n"
     ]
    },
    {
     "name": "stderr",
     "output_type": "stream",
     "text": [
      "100%|██████████| 180/180 [00:04<00:00, 42.06it/s]\n",
      "100%|██████████| 180/180 [00:03<00:00, 51.14it/s]\n"
     ]
    },
    {
     "name": "stdout",
     "output_type": "stream",
     "text": [
      "Epoch  8,  Loss: 13375.8027,  Regret:  7.7219%\n"
     ]
    },
    {
     "name": "stderr",
     "output_type": "stream",
     "text": [
      "100%|██████████| 180/180 [00:04<00:00, 41.82it/s]\n",
      "100%|██████████| 180/180 [00:03<00:00, 52.85it/s]\n"
     ]
    },
    {
     "name": "stdout",
     "output_type": "stream",
     "text": [
      "Epoch  9,  Loss: 13079.7754,  Regret:  7.7663%\n"
     ]
    },
    {
     "name": "stderr",
     "output_type": "stream",
     "text": [
      "100%|██████████| 180/180 [00:04<00:00, 41.53it/s]\n",
      "100%|██████████| 180/180 [00:03<00:00, 54.39it/s]\n"
     ]
    },
    {
     "name": "stdout",
     "output_type": "stream",
     "text": [
      "Epoch 10,  Loss: 12929.8145,  Regret:  7.7951%\n"
     ]
    },
    {
     "name": "stderr",
     "output_type": "stream",
     "text": [
      "100%|██████████| 180/180 [00:04<00:00, 41.85it/s]\n",
      "100%|██████████| 180/180 [00:03<00:00, 53.73it/s]\n"
     ]
    },
    {
     "name": "stdout",
     "output_type": "stream",
     "text": [
      "Epoch 11,  Loss: 13451.9971,  Regret:  7.7320%\n"
     ]
    },
    {
     "name": "stderr",
     "output_type": "stream",
     "text": [
      "100%|██████████| 180/180 [00:04<00:00, 42.29it/s]\n",
      "100%|██████████| 180/180 [00:03<00:00, 54.42it/s]\n"
     ]
    },
    {
     "name": "stdout",
     "output_type": "stream",
     "text": [
      "Epoch 12,  Loss: 12655.6602,  Regret:  7.7765%\n"
     ]
    },
    {
     "name": "stderr",
     "output_type": "stream",
     "text": [
      "100%|██████████| 180/180 [00:04<00:00, 41.70it/s]\n",
      "100%|██████████| 180/180 [00:03<00:00, 51.68it/s]\n"
     ]
    },
    {
     "name": "stdout",
     "output_type": "stream",
     "text": [
      "Epoch 13,  Loss: 12936.1934,  Regret:  7.7366%\n"
     ]
    },
    {
     "name": "stderr",
     "output_type": "stream",
     "text": [
      "100%|██████████| 180/180 [00:04<00:00, 41.48it/s]\n",
      "100%|██████████| 180/180 [00:03<00:00, 47.94it/s]\n"
     ]
    },
    {
     "name": "stdout",
     "output_type": "stream",
     "text": [
      "Epoch 14,  Loss: 12323.6758,  Regret:  7.7411%\n"
     ]
    },
    {
     "name": "stderr",
     "output_type": "stream",
     "text": [
      "100%|██████████| 180/180 [00:04<00:00, 41.50it/s]\n",
      "100%|██████████| 180/180 [00:03<00:00, 50.44it/s]\n"
     ]
    },
    {
     "name": "stdout",
     "output_type": "stream",
     "text": [
      "Epoch 15,  Loss: 12217.6475,  Regret:  7.7359%\n"
     ]
    },
    {
     "name": "stderr",
     "output_type": "stream",
     "text": [
      "100%|██████████| 180/180 [00:04<00:00, 42.16it/s]\n",
      "100%|██████████| 180/180 [00:03<00:00, 49.11it/s]\n"
     ]
    },
    {
     "name": "stdout",
     "output_type": "stream",
     "text": [
      "Epoch 16,  Loss: 11961.4785,  Regret:  7.7194%\n"
     ]
    },
    {
     "name": "stderr",
     "output_type": "stream",
     "text": [
      "100%|██████████| 180/180 [00:04<00:00, 41.71it/s]\n",
      "100%|██████████| 180/180 [00:03<00:00, 50.08it/s]\n"
     ]
    },
    {
     "name": "stdout",
     "output_type": "stream",
     "text": [
      "Epoch 17,  Loss: 12196.4922,  Regret:  7.6855%\n"
     ]
    },
    {
     "name": "stderr",
     "output_type": "stream",
     "text": [
      "100%|██████████| 180/180 [00:04<00:00, 41.46it/s]\n",
      "100%|██████████| 180/180 [00:03<00:00, 50.48it/s]\n"
     ]
    },
    {
     "name": "stdout",
     "output_type": "stream",
     "text": [
      "Epoch 18,  Loss: 12210.4541,  Regret:  7.6671%\n"
     ]
    },
    {
     "name": "stderr",
     "output_type": "stream",
     "text": [
      "100%|██████████| 180/180 [00:04<00:00, 41.65it/s]\n",
      "100%|██████████| 180/180 [00:03<00:00, 52.13it/s]\n"
     ]
    },
    {
     "name": "stdout",
     "output_type": "stream",
     "text": [
      "Epoch 19,  Loss: 11610.7646,  Regret:  7.6637%\n"
     ]
    },
    {
     "name": "stderr",
     "output_type": "stream",
     "text": [
      "100%|██████████| 180/180 [00:04<00:00, 41.71it/s]\n",
      "100%|██████████| 180/180 [00:03<00:00, 51.75it/s]\n"
     ]
    },
    {
     "name": "stdout",
     "output_type": "stream",
     "text": [
      "Epoch 20,  Loss: 11737.9111,  Regret:  7.6632%\n",
      "Total Elapsed Time: 7889.37 Sec.\n"
     ]
    },
    {
     "data": {
      "text/html": [
       "<style>\n",
       "    table.wandb td:nth-child(1) { padding: 0 10px; text-align: left ; width: auto;} td:nth-child(2) {text-align: left ; width: 100%}\n",
       "    .wandb-row { display: flex; flex-direction: row; flex-wrap: wrap; justify-content: flex-start; width: 100% }\n",
       "    .wandb-col { display: flex; flex-direction: column; flex-basis: 100%; flex: 1; padding: 10px; }\n",
       "    </style>\n",
       "<div class=\"wandb-row\"><div class=\"wandb-col\"><h3>Run history:</h3><br/><table class=\"wandb\"><tr><td>Linear loss</td><td>▃▃▇▄▄▇▁▂▇▅▁▇▁▇▃▅▂▆▂▅▃▅▁█▂▄▂▆▁▆▃▅▁▆▁▅▃▆▁▄</td></tr><tr><td>Regret</td><td>█▂▁▁▁▁▁▁▁▁▁▁▁▁▁▁▁▁▁▁</td></tr></table><br/></div><div class=\"wandb-col\"><h3>Run summary:</h3><br/><table class=\"wandb\"><tr><td>Linear loss</td><td>11737.91113</td></tr><tr><td>Regret</td><td>0.07663</td></tr></table><br/></div></div>"
      ],
      "text/plain": [
       "<IPython.core.display.HTML object>"
      ]
     },
     "metadata": {},
     "output_type": "display_data"
    },
    {
     "data": {
      "text/html": [
       " View run <strong style=\"color:#cdcd00\">lunar-sweep-21</strong> at: <a href='https://wandb.ai/Pyepo_special/Sweep%20Pyepo%20Basic%20Model/runs/gbewyf53' target=\"_blank\">https://wandb.ai/Pyepo_special/Sweep%20Pyepo%20Basic%20Model/runs/gbewyf53</a><br/> View project at: <a href='https://wandb.ai/Pyepo_special/Sweep%20Pyepo%20Basic%20Model' target=\"_blank\">https://wandb.ai/Pyepo_special/Sweep%20Pyepo%20Basic%20Model</a><br/>Synced 5 W&B file(s), 0 media file(s), 0 artifact file(s) and 0 other file(s)"
      ],
      "text/plain": [
       "<IPython.core.display.HTML object>"
      ]
     },
     "metadata": {},
     "output_type": "display_data"
    },
    {
     "data": {
      "text/html": [
       "Find logs at: <code>.\\wandb\\run-20240515_130202-gbewyf53\\logs</code>"
      ],
      "text/plain": [
       "<IPython.core.display.HTML object>"
      ]
     },
     "metadata": {},
     "output_type": "display_data"
    },
    {
     "name": "stderr",
     "output_type": "stream",
     "text": [
      "\u001b[34m\u001b[1mwandb\u001b[0m: Agent Starting Run: p9x8qptj with config:\n",
      "\u001b[34m\u001b[1mwandb\u001b[0m: \tdropout: 0.7\n",
      "\u001b[34m\u001b[1mwandb\u001b[0m: \tgamma: 0.95\n",
      "\u001b[34m\u001b[1mwandb\u001b[0m: \tlr: 0.001\n",
      "\u001b[34m\u001b[1mwandb\u001b[0m: \tmethod_name: spo+\n",
      "\u001b[34m\u001b[1mwandb\u001b[0m: \tneurons: 32\n",
      "\u001b[34m\u001b[1mwandb\u001b[0m: \tnum_epochs: 10\n",
      "Failed to detect the name of this notebook, you can set it manually with the WANDB_NOTEBOOK_NAME environment variable to enable code saving.\n"
     ]
    },
    {
     "data": {
      "text/html": [
       "Tracking run with wandb version 0.17.0"
      ],
      "text/plain": [
       "<IPython.core.display.HTML object>"
      ]
     },
     "metadata": {},
     "output_type": "display_data"
    },
    {
     "data": {
      "text/html": [
       "Run data is saved locally in <code>c:\\Users\\ande7\\Documents\\Semester 3\\Special\\Course Material\\contextual_dm_in_power_sys\\main_folder\\models\\PyEpo\\wandb\\run-20240515_130454-p9x8qptj</code>"
      ],
      "text/plain": [
       "<IPython.core.display.HTML object>"
      ]
     },
     "metadata": {},
     "output_type": "display_data"
    },
    {
     "data": {
      "text/html": [
       "Syncing run <strong><a href='https://wandb.ai/Pyepo_special/Sweep%20Pyepo%20Basic%20Model/runs/p9x8qptj' target=\"_blank\">peachy-sweep-22</a></strong> to <a href='https://wandb.ai/Pyepo_special/Sweep%20Pyepo%20Basic%20Model' target=\"_blank\">Weights & Biases</a> (<a href='https://wandb.me/run' target=\"_blank\">docs</a>)<br/>Sweep page: <a href='https://wandb.ai/Pyepo_special/Sweep%20Pyepo%20Basic%20Model/sweeps/21l2bgkz' target=\"_blank\">https://wandb.ai/Pyepo_special/Sweep%20Pyepo%20Basic%20Model/sweeps/21l2bgkz</a>"
      ],
      "text/plain": [
       "<IPython.core.display.HTML object>"
      ]
     },
     "metadata": {},
     "output_type": "display_data"
    },
    {
     "data": {
      "text/html": [
       " View project at <a href='https://wandb.ai/Pyepo_special/Sweep%20Pyepo%20Basic%20Model' target=\"_blank\">https://wandb.ai/Pyepo_special/Sweep%20Pyepo%20Basic%20Model</a>"
      ],
      "text/plain": [
       "<IPython.core.display.HTML object>"
      ]
     },
     "metadata": {},
     "output_type": "display_data"
    },
    {
     "data": {
      "text/html": [
       " View sweep at <a href='https://wandb.ai/Pyepo_special/Sweep%20Pyepo%20Basic%20Model/sweeps/21l2bgkz' target=\"_blank\">https://wandb.ai/Pyepo_special/Sweep%20Pyepo%20Basic%20Model/sweeps/21l2bgkz</a>"
      ],
      "text/plain": [
       "<IPython.core.display.HTML object>"
      ]
     },
     "metadata": {},
     "output_type": "display_data"
    },
    {
     "data": {
      "text/html": [
       " View run at <a href='https://wandb.ai/Pyepo_special/Sweep%20Pyepo%20Basic%20Model/runs/p9x8qptj' target=\"_blank\">https://wandb.ai/Pyepo_special/Sweep%20Pyepo%20Basic%20Model/runs/p9x8qptj</a>"
      ],
      "text/plain": [
       "<IPython.core.display.HTML object>"
      ]
     },
     "metadata": {},
     "output_type": "display_data"
    },
    {
     "name": "stderr",
     "output_type": "stream",
     "text": [
      "100%|██████████| 180/180 [00:03<00:00, 51.69it/s]\n",
      "100%|██████████| 180/180 [00:04<00:00, 42.28it/s]\n",
      "100%|██████████| 180/180 [00:03<00:00, 51.49it/s]\n"
     ]
    },
    {
     "name": "stdout",
     "output_type": "stream",
     "text": [
      "Epoch  1,  Loss: 15139.6152,  Regret:  8.1627%\n"
     ]
    },
    {
     "name": "stderr",
     "output_type": "stream",
     "text": [
      "100%|██████████| 180/180 [00:04<00:00, 42.61it/s]\n",
      "100%|██████████| 180/180 [00:03<00:00, 52.08it/s]\n"
     ]
    },
    {
     "name": "stdout",
     "output_type": "stream",
     "text": [
      "Epoch  2,  Loss: 12835.8652,  Regret:  8.1863%\n"
     ]
    },
    {
     "name": "stderr",
     "output_type": "stream",
     "text": [
      "100%|██████████| 180/180 [00:04<00:00, 42.53it/s]\n",
      "100%|██████████| 180/180 [00:03<00:00, 50.09it/s]\n"
     ]
    },
    {
     "name": "stdout",
     "output_type": "stream",
     "text": [
      "Epoch  3,  Loss: 10953.9688,  Regret:  7.8368%\n"
     ]
    },
    {
     "name": "stderr",
     "output_type": "stream",
     "text": [
      "100%|██████████| 180/180 [00:04<00:00, 42.23it/s]\n",
      "100%|██████████| 180/180 [00:03<00:00, 47.51it/s]\n"
     ]
    },
    {
     "name": "stdout",
     "output_type": "stream",
     "text": [
      "Epoch  4,  Loss: 12089.8184,  Regret:  7.9854%\n"
     ]
    },
    {
     "name": "stderr",
     "output_type": "stream",
     "text": [
      "100%|██████████| 180/180 [00:04<00:00, 41.87it/s]\n",
      "100%|██████████| 180/180 [00:03<00:00, 48.86it/s]\n"
     ]
    },
    {
     "name": "stdout",
     "output_type": "stream",
     "text": [
      "Epoch  5,  Loss: 12491.6055,  Regret:  7.8052%\n"
     ]
    },
    {
     "name": "stderr",
     "output_type": "stream",
     "text": [
      "100%|██████████| 180/180 [00:04<00:00, 41.92it/s]\n",
      "100%|██████████| 180/180 [00:03<00:00, 50.63it/s]\n"
     ]
    },
    {
     "name": "stdout",
     "output_type": "stream",
     "text": [
      "Epoch  6,  Loss: 13523.1992,  Regret:  7.6999%\n"
     ]
    },
    {
     "name": "stderr",
     "output_type": "stream",
     "text": [
      "100%|██████████| 180/180 [00:04<00:00, 42.47it/s]\n",
      "100%|██████████| 180/180 [00:03<00:00, 48.79it/s]\n"
     ]
    },
    {
     "name": "stdout",
     "output_type": "stream",
     "text": [
      "Epoch  7,  Loss: 10649.3193,  Regret:  7.9188%\n"
     ]
    },
    {
     "name": "stderr",
     "output_type": "stream",
     "text": [
      "100%|██████████| 180/180 [00:04<00:00, 42.32it/s]\n",
      "100%|██████████| 180/180 [00:03<00:00, 48.34it/s]\n"
     ]
    },
    {
     "name": "stdout",
     "output_type": "stream",
     "text": [
      "Epoch  8,  Loss: 9388.1299,  Regret:  8.1333%\n"
     ]
    },
    {
     "name": "stderr",
     "output_type": "stream",
     "text": [
      "100%|██████████| 180/180 [00:04<00:00, 42.03it/s]\n",
      "100%|██████████| 180/180 [00:03<00:00, 49.31it/s]\n"
     ]
    },
    {
     "name": "stdout",
     "output_type": "stream",
     "text": [
      "Epoch  9,  Loss: 8259.9766,  Regret:  7.8232%\n"
     ]
    },
    {
     "name": "stderr",
     "output_type": "stream",
     "text": [
      "100%|██████████| 180/180 [00:04<00:00, 41.89it/s]\n",
      "100%|██████████| 180/180 [00:03<00:00, 51.02it/s]\n"
     ]
    },
    {
     "name": "stdout",
     "output_type": "stream",
     "text": [
      "Epoch 10,  Loss: 12924.0996,  Regret:  7.6411%\n",
      "Total Elapsed Time: 3866.74 Sec.\n"
     ]
    },
    {
     "data": {
      "text/html": [
       "<style>\n",
       "    table.wandb td:nth-child(1) { padding: 0 10px; text-align: left ; width: auto;} td:nth-child(2) {text-align: left ; width: 100%}\n",
       "    .wandb-row { display: flex; flex-direction: row; flex-wrap: wrap; justify-content: flex-start; width: 100% }\n",
       "    .wandb-col { display: flex; flex-direction: column; flex-basis: 100%; flex: 1; padding: 10px; }\n",
       "    </style>\n",
       "<div class=\"wandb-row\"><div class=\"wandb-col\"><h3>Run history:</h3><br/><table class=\"wandb\"><tr><td>Linear loss</td><td>█▅▃▅▇▃▂▆█▃▂▆▃▂▂▆▇▂▅▅█▂▁▄▃▁▆▆▄▁▄▅▁▂▄▅▁▂▅▇</td></tr><tr><td>Regret</td><td>██▄▅▃▂▅▇▃▁</td></tr></table><br/></div><div class=\"wandb-col\"><h3>Run summary:</h3><br/><table class=\"wandb\"><tr><td>Linear loss</td><td>12924.09961</td></tr><tr><td>Regret</td><td>0.07641</td></tr></table><br/></div></div>"
      ],
      "text/plain": [
       "<IPython.core.display.HTML object>"
      ]
     },
     "metadata": {},
     "output_type": "display_data"
    },
    {
     "data": {
      "text/html": [
       " View run <strong style=\"color:#cdcd00\">peachy-sweep-22</strong> at: <a href='https://wandb.ai/Pyepo_special/Sweep%20Pyepo%20Basic%20Model/runs/p9x8qptj' target=\"_blank\">https://wandb.ai/Pyepo_special/Sweep%20Pyepo%20Basic%20Model/runs/p9x8qptj</a><br/> View project at: <a href='https://wandb.ai/Pyepo_special/Sweep%20Pyepo%20Basic%20Model' target=\"_blank\">https://wandb.ai/Pyepo_special/Sweep%20Pyepo%20Basic%20Model</a><br/>Synced 5 W&B file(s), 0 media file(s), 0 artifact file(s) and 0 other file(s)"
      ],
      "text/plain": [
       "<IPython.core.display.HTML object>"
      ]
     },
     "metadata": {},
     "output_type": "display_data"
    },
    {
     "data": {
      "text/html": [
       "Find logs at: <code>.\\wandb\\run-20240515_130454-p9x8qptj\\logs</code>"
      ],
      "text/plain": [
       "<IPython.core.display.HTML object>"
      ]
     },
     "metadata": {},
     "output_type": "display_data"
    },
    {
     "name": "stderr",
     "output_type": "stream",
     "text": [
      "\u001b[34m\u001b[1mwandb\u001b[0m: Agent Starting Run: cu8xz02k with config:\n",
      "\u001b[34m\u001b[1mwandb\u001b[0m: \tdropout: 0.2\n",
      "\u001b[34m\u001b[1mwandb\u001b[0m: \tgamma: 0.95\n",
      "\u001b[34m\u001b[1mwandb\u001b[0m: \tlr: 0.0001\n",
      "\u001b[34m\u001b[1mwandb\u001b[0m: \tmethod_name: spo+\n",
      "\u001b[34m\u001b[1mwandb\u001b[0m: \tneurons: 128\n",
      "\u001b[34m\u001b[1mwandb\u001b[0m: \tnum_epochs: 10\n",
      "Failed to detect the name of this notebook, you can set it manually with the WANDB_NOTEBOOK_NAME environment variable to enable code saving.\n"
     ]
    },
    {
     "data": {
      "text/html": [
       "Tracking run with wandb version 0.17.0"
      ],
      "text/plain": [
       "<IPython.core.display.HTML object>"
      ]
     },
     "metadata": {},
     "output_type": "display_data"
    },
    {
     "data": {
      "text/html": [
       "Run data is saved locally in <code>c:\\Users\\ande7\\Documents\\Semester 3\\Special\\Course Material\\contextual_dm_in_power_sys\\main_folder\\models\\PyEpo\\wandb\\run-20240515_130632-cu8xz02k</code>"
      ],
      "text/plain": [
       "<IPython.core.display.HTML object>"
      ]
     },
     "metadata": {},
     "output_type": "display_data"
    },
    {
     "data": {
      "text/html": [
       "Syncing run <strong><a href='https://wandb.ai/Pyepo_special/Sweep%20Pyepo%20Basic%20Model/runs/cu8xz02k' target=\"_blank\">wobbly-sweep-23</a></strong> to <a href='https://wandb.ai/Pyepo_special/Sweep%20Pyepo%20Basic%20Model' target=\"_blank\">Weights & Biases</a> (<a href='https://wandb.me/run' target=\"_blank\">docs</a>)<br/>Sweep page: <a href='https://wandb.ai/Pyepo_special/Sweep%20Pyepo%20Basic%20Model/sweeps/21l2bgkz' target=\"_blank\">https://wandb.ai/Pyepo_special/Sweep%20Pyepo%20Basic%20Model/sweeps/21l2bgkz</a>"
      ],
      "text/plain": [
       "<IPython.core.display.HTML object>"
      ]
     },
     "metadata": {},
     "output_type": "display_data"
    },
    {
     "data": {
      "text/html": [
       " View project at <a href='https://wandb.ai/Pyepo_special/Sweep%20Pyepo%20Basic%20Model' target=\"_blank\">https://wandb.ai/Pyepo_special/Sweep%20Pyepo%20Basic%20Model</a>"
      ],
      "text/plain": [
       "<IPython.core.display.HTML object>"
      ]
     },
     "metadata": {},
     "output_type": "display_data"
    },
    {
     "data": {
      "text/html": [
       " View sweep at <a href='https://wandb.ai/Pyepo_special/Sweep%20Pyepo%20Basic%20Model/sweeps/21l2bgkz' target=\"_blank\">https://wandb.ai/Pyepo_special/Sweep%20Pyepo%20Basic%20Model/sweeps/21l2bgkz</a>"
      ],
      "text/plain": [
       "<IPython.core.display.HTML object>"
      ]
     },
     "metadata": {},
     "output_type": "display_data"
    },
    {
     "data": {
      "text/html": [
       " View run at <a href='https://wandb.ai/Pyepo_special/Sweep%20Pyepo%20Basic%20Model/runs/cu8xz02k' target=\"_blank\">https://wandb.ai/Pyepo_special/Sweep%20Pyepo%20Basic%20Model/runs/cu8xz02k</a>"
      ],
      "text/plain": [
       "<IPython.core.display.HTML object>"
      ]
     },
     "metadata": {},
     "output_type": "display_data"
    },
    {
     "name": "stderr",
     "output_type": "stream",
     "text": [
      "100%|██████████| 180/180 [00:03<00:00, 54.54it/s]\n",
      "100%|██████████| 180/180 [00:04<00:00, 40.70it/s]\n",
      "100%|██████████| 180/180 [00:03<00:00, 51.54it/s]\n"
     ]
    },
    {
     "name": "stdout",
     "output_type": "stream",
     "text": [
      "Epoch  1,  Loss: 19078.7969,  Regret:  9.0615%\n"
     ]
    },
    {
     "name": "stderr",
     "output_type": "stream",
     "text": [
      "100%|██████████| 180/180 [00:04<00:00, 40.61it/s]\n",
      "100%|██████████| 180/180 [00:03<00:00, 49.69it/s]\n"
     ]
    },
    {
     "name": "stdout",
     "output_type": "stream",
     "text": [
      "Epoch  2,  Loss: 16328.0547,  Regret:  7.8843%\n"
     ]
    },
    {
     "name": "stderr",
     "output_type": "stream",
     "text": [
      "100%|██████████| 180/180 [00:04<00:00, 40.00it/s]\n",
      "100%|██████████| 180/180 [00:03<00:00, 49.71it/s]\n"
     ]
    },
    {
     "name": "stdout",
     "output_type": "stream",
     "text": [
      "Epoch  3,  Loss: 14384.8008,  Regret:  7.7564%\n"
     ]
    },
    {
     "name": "stderr",
     "output_type": "stream",
     "text": [
      "100%|██████████| 180/180 [00:04<00:00, 39.79it/s]\n",
      "100%|██████████| 180/180 [00:03<00:00, 54.71it/s]\n"
     ]
    },
    {
     "name": "stdout",
     "output_type": "stream",
     "text": [
      "Epoch  4,  Loss: 13168.7002,  Regret:  7.6281%\n"
     ]
    },
    {
     "name": "stderr",
     "output_type": "stream",
     "text": [
      "100%|██████████| 180/180 [00:04<00:00, 39.93it/s]\n",
      "100%|██████████| 180/180 [00:03<00:00, 53.15it/s]\n"
     ]
    },
    {
     "name": "stdout",
     "output_type": "stream",
     "text": [
      "Epoch  5,  Loss: 12112.6064,  Regret:  7.5481%\n"
     ]
    },
    {
     "name": "stderr",
     "output_type": "stream",
     "text": [
      "100%|██████████| 180/180 [00:04<00:00, 40.77it/s]\n",
      "100%|██████████| 180/180 [00:03<00:00, 54.60it/s]\n"
     ]
    },
    {
     "name": "stdout",
     "output_type": "stream",
     "text": [
      "Epoch  6,  Loss: 11506.9277,  Regret:  7.4001%\n"
     ]
    },
    {
     "name": "stderr",
     "output_type": "stream",
     "text": [
      "100%|██████████| 180/180 [00:04<00:00, 40.10it/s]\n",
      "100%|██████████| 180/180 [00:03<00:00, 53.30it/s]\n"
     ]
    },
    {
     "name": "stdout",
     "output_type": "stream",
     "text": [
      "Epoch  7,  Loss: 11561.8838,  Regret:  7.5230%\n"
     ]
    },
    {
     "name": "stderr",
     "output_type": "stream",
     "text": [
      "100%|██████████| 180/180 [00:04<00:00, 39.31it/s]\n",
      "100%|██████████| 180/180 [00:03<00:00, 51.03it/s]\n"
     ]
    },
    {
     "name": "stdout",
     "output_type": "stream",
     "text": [
      "Epoch  8,  Loss: 11014.8154,  Regret:  7.5064%\n"
     ]
    },
    {
     "name": "stderr",
     "output_type": "stream",
     "text": [
      "100%|██████████| 180/180 [15:07<00:00,  5.04s/it] \n",
      "100%|██████████| 180/180 [00:04<00:00, 43.70it/s]\n"
     ]
    },
    {
     "name": "stdout",
     "output_type": "stream",
     "text": [
      "Epoch  9,  Loss: 10633.8154,  Regret:  7.5452%\n"
     ]
    },
    {
     "name": "stderr",
     "output_type": "stream",
     "text": [
      "100%|██████████| 180/180 [00:04<00:00, 41.22it/s]\n",
      "100%|██████████| 180/180 [00:03<00:00, 50.63it/s]\n"
     ]
    },
    {
     "name": "stdout",
     "output_type": "stream",
     "text": [
      "Epoch 10,  Loss: 10899.0254,  Regret:  7.4918%\n",
      "Total Elapsed Time: 121452.09 Sec.\n"
     ]
    },
    {
     "data": {
      "text/html": [
       "<style>\n",
       "    table.wandb td:nth-child(1) { padding: 0 10px; text-align: left ; width: auto;} td:nth-child(2) {text-align: left ; width: 100%}\n",
       "    .wandb-row { display: flex; flex-direction: row; flex-wrap: wrap; justify-content: flex-start; width: 100% }\n",
       "    .wandb-col { display: flex; flex-direction: column; flex-basis: 100%; flex: 1; padding: 10px; }\n",
       "    </style>\n",
       "<div class=\"wandb-row\"><div class=\"wandb-col\"><h3>Run history:</h3><br/><table class=\"wandb\"><tr><td>Linear loss</td><td>█▅▃▅▇▃▄▇█▃▂▇▄▁▃▆█▂▄▄█▃▂▄▃▁▅▆▃▁▄▅▁▂▄▄▁▂▆▇</td></tr><tr><td>Regret</td><td>█▃▃▂▂▁▂▁▂▁</td></tr></table><br/></div><div class=\"wandb-col\"><h3>Run summary:</h3><br/><table class=\"wandb\"><tr><td>Linear loss</td><td>10899.02539</td></tr><tr><td>Regret</td><td>0.07492</td></tr></table><br/></div></div>"
      ],
      "text/plain": [
       "<IPython.core.display.HTML object>"
      ]
     },
     "metadata": {},
     "output_type": "display_data"
    },
    {
     "data": {
      "text/html": [
       " View run <strong style=\"color:#cdcd00\">wobbly-sweep-23</strong> at: <a href='https://wandb.ai/Pyepo_special/Sweep%20Pyepo%20Basic%20Model/runs/cu8xz02k' target=\"_blank\">https://wandb.ai/Pyepo_special/Sweep%20Pyepo%20Basic%20Model/runs/cu8xz02k</a><br/> View project at: <a href='https://wandb.ai/Pyepo_special/Sweep%20Pyepo%20Basic%20Model' target=\"_blank\">https://wandb.ai/Pyepo_special/Sweep%20Pyepo%20Basic%20Model</a><br/>Synced 5 W&B file(s), 0 media file(s), 0 artifact file(s) and 0 other file(s)"
      ],
      "text/plain": [
       "<IPython.core.display.HTML object>"
      ]
     },
     "metadata": {},
     "output_type": "display_data"
    },
    {
     "data": {
      "text/html": [
       "Find logs at: <code>.\\wandb\\run-20240515_130632-cu8xz02k\\logs</code>"
      ],
      "text/plain": [
       "<IPython.core.display.HTML object>"
      ]
     },
     "metadata": {},
     "output_type": "display_data"
    },
    {
     "name": "stderr",
     "output_type": "stream",
     "text": [
      "\u001b[34m\u001b[1mwandb\u001b[0m: Sweep Agent: Waiting for job.\n",
      "\u001b[34m\u001b[1mwandb\u001b[0m: Job received.\n",
      "\u001b[34m\u001b[1mwandb\u001b[0m: Agent Starting Run: ftb64mat with config:\n",
      "\u001b[34m\u001b[1mwandb\u001b[0m: \tdropout: 0.7\n",
      "\u001b[34m\u001b[1mwandb\u001b[0m: \tgamma: 0.9\n",
      "\u001b[34m\u001b[1mwandb\u001b[0m: \tlr: 0.01\n",
      "\u001b[34m\u001b[1mwandb\u001b[0m: \tmethod_name: spo+\n",
      "\u001b[34m\u001b[1mwandb\u001b[0m: \tneurons: 128\n",
      "\u001b[34m\u001b[1mwandb\u001b[0m: \tnum_epochs: 30\n",
      "Failed to detect the name of this notebook, you can set it manually with the WANDB_NOTEBOOK_NAME environment variable to enable code saving.\n"
     ]
    },
    {
     "data": {
      "text/html": [
       "Tracking run with wandb version 0.17.0"
      ],
      "text/plain": [
       "<IPython.core.display.HTML object>"
      ]
     },
     "metadata": {},
     "output_type": "display_data"
    },
    {
     "data": {
      "text/html": [
       "Run data is saved locally in <code>c:\\Users\\ande7\\Documents\\Semester 3\\Special\\Course Material\\contextual_dm_in_power_sys\\main_folder\\models\\PyEpo\\wandb\\run-20240515_132321-ftb64mat</code>"
      ],
      "text/plain": [
       "<IPython.core.display.HTML object>"
      ]
     },
     "metadata": {},
     "output_type": "display_data"
    },
    {
     "data": {
      "text/html": [
       "Syncing run <strong><a href='https://wandb.ai/Pyepo_special/Sweep%20Pyepo%20Basic%20Model/runs/ftb64mat' target=\"_blank\">deep-sweep-24</a></strong> to <a href='https://wandb.ai/Pyepo_special/Sweep%20Pyepo%20Basic%20Model' target=\"_blank\">Weights & Biases</a> (<a href='https://wandb.me/run' target=\"_blank\">docs</a>)<br/>Sweep page: <a href='https://wandb.ai/Pyepo_special/Sweep%20Pyepo%20Basic%20Model/sweeps/21l2bgkz' target=\"_blank\">https://wandb.ai/Pyepo_special/Sweep%20Pyepo%20Basic%20Model/sweeps/21l2bgkz</a>"
      ],
      "text/plain": [
       "<IPython.core.display.HTML object>"
      ]
     },
     "metadata": {},
     "output_type": "display_data"
    },
    {
     "data": {
      "text/html": [
       " View project at <a href='https://wandb.ai/Pyepo_special/Sweep%20Pyepo%20Basic%20Model' target=\"_blank\">https://wandb.ai/Pyepo_special/Sweep%20Pyepo%20Basic%20Model</a>"
      ],
      "text/plain": [
       "<IPython.core.display.HTML object>"
      ]
     },
     "metadata": {},
     "output_type": "display_data"
    },
    {
     "data": {
      "text/html": [
       " View sweep at <a href='https://wandb.ai/Pyepo_special/Sweep%20Pyepo%20Basic%20Model/sweeps/21l2bgkz' target=\"_blank\">https://wandb.ai/Pyepo_special/Sweep%20Pyepo%20Basic%20Model/sweeps/21l2bgkz</a>"
      ],
      "text/plain": [
       "<IPython.core.display.HTML object>"
      ]
     },
     "metadata": {},
     "output_type": "display_data"
    },
    {
     "data": {
      "text/html": [
       " View run at <a href='https://wandb.ai/Pyepo_special/Sweep%20Pyepo%20Basic%20Model/runs/ftb64mat' target=\"_blank\">https://wandb.ai/Pyepo_special/Sweep%20Pyepo%20Basic%20Model/runs/ftb64mat</a>"
      ],
      "text/plain": [
       "<IPython.core.display.HTML object>"
      ]
     },
     "metadata": {},
     "output_type": "display_data"
    },
    {
     "name": "stderr",
     "output_type": "stream",
     "text": [
      "100%|██████████| 180/180 [00:04<00:00, 43.79it/s]\n",
      "100%|██████████| 180/180 [00:04<00:00, 39.11it/s]\n",
      "100%|██████████| 180/180 [00:04<00:00, 44.47it/s]\n"
     ]
    },
    {
     "name": "stdout",
     "output_type": "stream",
     "text": [
      "Epoch  1,  Loss: 20297.4727,  Regret: 13.9846%\n"
     ]
    },
    {
     "name": "stderr",
     "output_type": "stream",
     "text": [
      "100%|██████████| 180/180 [00:04<00:00, 39.05it/s]\n",
      "100%|██████████| 180/180 [00:04<00:00, 41.31it/s]\n"
     ]
    },
    {
     "name": "stdout",
     "output_type": "stream",
     "text": [
      "Epoch  2,  Loss: 12058.8906,  Regret: 16.0470%\n"
     ]
    },
    {
     "name": "stderr",
     "output_type": "stream",
     "text": [
      "100%|██████████| 180/180 [00:04<00:00, 39.55it/s]\n",
      "100%|██████████| 180/180 [00:04<00:00, 42.06it/s]\n"
     ]
    },
    {
     "name": "stdout",
     "output_type": "stream",
     "text": [
      "Epoch  3,  Loss: 17213.9629,  Regret:  8.3892%\n"
     ]
    },
    {
     "name": "stderr",
     "output_type": "stream",
     "text": [
      "100%|██████████| 180/180 [00:04<00:00, 39.14it/s]\n",
      "100%|██████████| 180/180 [00:04<00:00, 43.72it/s]\n"
     ]
    },
    {
     "name": "stdout",
     "output_type": "stream",
     "text": [
      "Epoch  4,  Loss: 16453.6133,  Regret:  8.5305%\n"
     ]
    },
    {
     "name": "stderr",
     "output_type": "stream",
     "text": [
      "100%|██████████| 180/180 [00:04<00:00, 38.79it/s]\n",
      "100%|██████████| 180/180 [00:04<00:00, 40.66it/s]\n"
     ]
    },
    {
     "name": "stdout",
     "output_type": "stream",
     "text": [
      "Epoch  5,  Loss: 15047.6377,  Regret:  7.9262%\n"
     ]
    },
    {
     "name": "stderr",
     "output_type": "stream",
     "text": [
      "100%|██████████| 180/180 [00:05<00:00, 35.05it/s]\n",
      "100%|██████████| 180/180 [00:04<00:00, 43.81it/s]\n"
     ]
    },
    {
     "name": "stdout",
     "output_type": "stream",
     "text": [
      "Epoch  6,  Loss: 10662.2109,  Regret:  7.9172%\n"
     ]
    },
    {
     "name": "stderr",
     "output_type": "stream",
     "text": [
      "100%|██████████| 180/180 [00:05<00:00, 33.39it/s]\n",
      "100%|██████████| 180/180 [00:04<00:00, 43.30it/s]\n"
     ]
    },
    {
     "name": "stdout",
     "output_type": "stream",
     "text": [
      "Epoch  7,  Loss: 14123.7305,  Regret:  7.7207%\n"
     ]
    },
    {
     "name": "stderr",
     "output_type": "stream",
     "text": [
      "100%|██████████| 180/180 [00:05<00:00, 32.97it/s]\n",
      "100%|██████████| 180/180 [00:04<00:00, 39.29it/s]\n"
     ]
    },
    {
     "name": "stdout",
     "output_type": "stream",
     "text": [
      "Epoch  8,  Loss: 9924.7812,  Regret:  7.7936%\n"
     ]
    },
    {
     "name": "stderr",
     "output_type": "stream",
     "text": [
      "100%|██████████| 180/180 [00:05<00:00, 32.69it/s]\n",
      "100%|██████████| 180/180 [00:04<00:00, 41.29it/s]\n"
     ]
    },
    {
     "name": "stdout",
     "output_type": "stream",
     "text": [
      "Epoch  9,  Loss: 14108.9746,  Regret:  7.8439%\n"
     ]
    },
    {
     "name": "stderr",
     "output_type": "stream",
     "text": [
      "100%|██████████| 180/180 [00:05<00:00, 32.10it/s]\n",
      "100%|██████████| 180/180 [00:04<00:00, 43.90it/s]\n"
     ]
    },
    {
     "name": "stdout",
     "output_type": "stream",
     "text": [
      "Epoch 10,  Loss: 15205.2285,  Regret:  7.8290%\n"
     ]
    },
    {
     "name": "stderr",
     "output_type": "stream",
     "text": [
      "100%|██████████| 180/180 [00:05<00:00, 32.61it/s]\n",
      "100%|██████████| 180/180 [00:04<00:00, 41.94it/s]\n"
     ]
    },
    {
     "name": "stdout",
     "output_type": "stream",
     "text": [
      "Epoch 11,  Loss: 11784.6592,  Regret:  7.7795%\n"
     ]
    },
    {
     "name": "stderr",
     "output_type": "stream",
     "text": [
      "100%|██████████| 180/180 [00:05<00:00, 32.11it/s]\n",
      "100%|██████████| 180/180 [00:04<00:00, 42.59it/s]\n"
     ]
    },
    {
     "name": "stdout",
     "output_type": "stream",
     "text": [
      "Epoch 12,  Loss: 15042.9336,  Regret:  7.8397%\n"
     ]
    },
    {
     "name": "stderr",
     "output_type": "stream",
     "text": [
      "100%|██████████| 180/180 [00:05<00:00, 31.49it/s]\n",
      "100%|██████████| 180/180 [00:04<00:00, 41.39it/s]\n"
     ]
    },
    {
     "name": "stdout",
     "output_type": "stream",
     "text": [
      "Epoch 13,  Loss: 14226.7734,  Regret:  7.8428%\n"
     ]
    },
    {
     "name": "stderr",
     "output_type": "stream",
     "text": [
      "100%|██████████| 180/180 [00:05<00:00, 31.06it/s]\n",
      "100%|██████████| 180/180 [00:04<00:00, 44.72it/s]\n"
     ]
    },
    {
     "name": "stdout",
     "output_type": "stream",
     "text": [
      "Epoch 14,  Loss: 14869.8184,  Regret:  7.8897%\n"
     ]
    },
    {
     "name": "stderr",
     "output_type": "stream",
     "text": [
      "100%|██████████| 180/180 [00:05<00:00, 30.93it/s]\n",
      "100%|██████████| 180/180 [00:04<00:00, 44.06it/s]\n"
     ]
    },
    {
     "name": "stdout",
     "output_type": "stream",
     "text": [
      "Epoch 15,  Loss: 14795.4434,  Regret:  7.9639%\n"
     ]
    },
    {
     "name": "stderr",
     "output_type": "stream",
     "text": [
      "100%|██████████| 180/180 [00:05<00:00, 30.73it/s]\n",
      "100%|██████████| 180/180 [00:04<00:00, 41.90it/s]\n"
     ]
    },
    {
     "name": "stdout",
     "output_type": "stream",
     "text": [
      "Epoch 16,  Loss: 14733.0498,  Regret:  7.9527%\n"
     ]
    },
    {
     "name": "stderr",
     "output_type": "stream",
     "text": [
      "100%|██████████| 180/180 [00:05<00:00, 31.11it/s]\n",
      "100%|██████████| 180/180 [00:04<00:00, 44.86it/s]\n"
     ]
    },
    {
     "name": "stdout",
     "output_type": "stream",
     "text": [
      "Epoch 17,  Loss: 11895.1611,  Regret:  7.9621%\n"
     ]
    },
    {
     "name": "stderr",
     "output_type": "stream",
     "text": [
      "100%|██████████| 180/180 [00:05<00:00, 31.39it/s]\n",
      "100%|██████████| 180/180 [00:04<00:00, 39.87it/s]\n"
     ]
    },
    {
     "name": "stdout",
     "output_type": "stream",
     "text": [
      "Epoch 18,  Loss: 14651.4551,  Regret:  7.9683%\n"
     ]
    },
    {
     "name": "stderr",
     "output_type": "stream",
     "text": [
      "100%|██████████| 180/180 [00:05<00:00, 31.14it/s]\n",
      "100%|██████████| 180/180 [00:04<00:00, 43.77it/s]\n"
     ]
    },
    {
     "name": "stdout",
     "output_type": "stream",
     "text": [
      "Epoch 19,  Loss: 9315.5859,  Regret:  7.9415%\n"
     ]
    },
    {
     "name": "stderr",
     "output_type": "stream",
     "text": [
      "100%|██████████| 180/180 [00:05<00:00, 31.05it/s]\n",
      "100%|██████████| 180/180 [00:04<00:00, 38.34it/s]\n"
     ]
    },
    {
     "name": "stdout",
     "output_type": "stream",
     "text": [
      "Epoch 20,  Loss: 11429.0879,  Regret:  8.0234%\n"
     ]
    },
    {
     "name": "stderr",
     "output_type": "stream",
     "text": [
      "100%|██████████| 180/180 [00:05<00:00, 31.66it/s]\n",
      "100%|██████████| 180/180 [00:04<00:00, 40.42it/s]\n"
     ]
    },
    {
     "name": "stdout",
     "output_type": "stream",
     "text": [
      "Epoch 21,  Loss: 12968.8662,  Regret:  7.9802%\n"
     ]
    },
    {
     "name": "stderr",
     "output_type": "stream",
     "text": [
      "100%|██████████| 180/180 [00:05<00:00, 30.89it/s]\n",
      "100%|██████████| 180/180 [00:04<00:00, 40.33it/s]\n"
     ]
    },
    {
     "name": "stdout",
     "output_type": "stream",
     "text": [
      "Epoch 22,  Loss: 14505.5547,  Regret:  7.9480%\n"
     ]
    },
    {
     "name": "stderr",
     "output_type": "stream",
     "text": [
      "100%|██████████| 180/180 [00:05<00:00, 31.14it/s]\n",
      "100%|██████████| 180/180 [00:04<00:00, 42.52it/s]\n"
     ]
    },
    {
     "name": "stdout",
     "output_type": "stream",
     "text": [
      "Epoch 23,  Loss: 13222.3447,  Regret:  7.8632%\n"
     ]
    },
    {
     "name": "stderr",
     "output_type": "stream",
     "text": [
      "100%|██████████| 180/180 [00:05<00:00, 31.17it/s]\n",
      "100%|██████████| 180/180 [00:04<00:00, 42.98it/s]\n"
     ]
    },
    {
     "name": "stdout",
     "output_type": "stream",
     "text": [
      "Epoch 24,  Loss: 12828.9824,  Regret:  7.9129%\n"
     ]
    },
    {
     "name": "stderr",
     "output_type": "stream",
     "text": [
      "100%|██████████| 180/180 [00:05<00:00, 31.01it/s]\n",
      "100%|██████████| 180/180 [00:04<00:00, 40.43it/s]\n"
     ]
    },
    {
     "name": "stdout",
     "output_type": "stream",
     "text": [
      "Epoch 25,  Loss: 10713.0781,  Regret:  7.9831%\n"
     ]
    },
    {
     "name": "stderr",
     "output_type": "stream",
     "text": [
      "100%|██████████| 180/180 [00:05<00:00, 30.78it/s]\n",
      "100%|██████████| 180/180 [00:04<00:00, 38.19it/s]\n"
     ]
    },
    {
     "name": "stdout",
     "output_type": "stream",
     "text": [
      "Epoch 26,  Loss: 12412.5166,  Regret:  7.9857%\n"
     ]
    },
    {
     "name": "stderr",
     "output_type": "stream",
     "text": [
      "100%|██████████| 180/180 [00:05<00:00, 30.81it/s]\n",
      "100%|██████████| 180/180 [00:04<00:00, 40.60it/s]\n"
     ]
    },
    {
     "name": "stdout",
     "output_type": "stream",
     "text": [
      "Epoch 27,  Loss: 14364.0254,  Regret:  8.0215%\n"
     ]
    },
    {
     "name": "stderr",
     "output_type": "stream",
     "text": [
      "100%|██████████| 180/180 [00:05<00:00, 30.79it/s]\n",
      "100%|██████████| 180/180 [00:04<00:00, 40.80it/s]\n"
     ]
    },
    {
     "name": "stdout",
     "output_type": "stream",
     "text": [
      "Epoch 28,  Loss: 10106.5732,  Regret:  7.9887%\n"
     ]
    },
    {
     "name": "stderr",
     "output_type": "stream",
     "text": [
      "100%|██████████| 180/180 [00:05<00:00, 30.57it/s]\n",
      "100%|██████████| 180/180 [00:04<00:00, 41.48it/s]\n"
     ]
    },
    {
     "name": "stdout",
     "output_type": "stream",
     "text": [
      "Epoch 29,  Loss: 14322.8496,  Regret:  7.9934%\n"
     ]
    },
    {
     "name": "stderr",
     "output_type": "stream",
     "text": [
      "100%|██████████| 180/180 [00:05<00:00, 31.24it/s]\n",
      "100%|██████████| 180/180 [00:04<00:00, 43.78it/s]\n"
     ]
    },
    {
     "name": "stdout",
     "output_type": "stream",
     "text": [
      "Epoch 30,  Loss: 8482.0615,  Regret:  8.0759%\n",
      "Total Elapsed Time: 14985.92 Sec.\n"
     ]
    },
    {
     "data": {
      "text/html": [
       "<style>\n",
       "    table.wandb td:nth-child(1) { padding: 0 10px; text-align: left ; width: auto;} td:nth-child(2) {text-align: left ; width: 100%}\n",
       "    .wandb-row { display: flex; flex-direction: row; flex-wrap: wrap; justify-content: flex-start; width: 100% }\n",
       "    .wandb-col { display: flex; flex-direction: column; flex-basis: 100%; flex: 1; padding: 10px; }\n",
       "    </style>\n",
       "<div class=\"wandb-row\"><div class=\"wandb-col\"><h3>Run history:</h3><br/><table class=\"wandb\"><tr><td>Linear loss</td><td>▄█▆▂▃▆▃▃▂▅▅▂▃█▆▁▂▂▄▁▂▅▇▁▂▁▅▅▃█▁▂▂▂█▆▁█▄▄</td></tr><tr><td>Regret</td><td>▆█▂▂▁▁▁▁▁▁▁▁▁▁▁▁▁▁▁▁▁▁▁▁▁▁▁▁▁▁</td></tr></table><br/></div><div class=\"wandb-col\"><h3>Run summary:</h3><br/><table class=\"wandb\"><tr><td>Linear loss</td><td>8482.06152</td></tr><tr><td>Regret</td><td>0.08076</td></tr></table><br/></div></div>"
      ],
      "text/plain": [
       "<IPython.core.display.HTML object>"
      ]
     },
     "metadata": {},
     "output_type": "display_data"
    },
    {
     "data": {
      "text/html": [
       " View run <strong style=\"color:#cdcd00\">deep-sweep-24</strong> at: <a href='https://wandb.ai/Pyepo_special/Sweep%20Pyepo%20Basic%20Model/runs/ftb64mat' target=\"_blank\">https://wandb.ai/Pyepo_special/Sweep%20Pyepo%20Basic%20Model/runs/ftb64mat</a><br/> View project at: <a href='https://wandb.ai/Pyepo_special/Sweep%20Pyepo%20Basic%20Model' target=\"_blank\">https://wandb.ai/Pyepo_special/Sweep%20Pyepo%20Basic%20Model</a><br/>Synced 5 W&B file(s), 0 media file(s), 0 artifact file(s) and 0 other file(s)"
      ],
      "text/plain": [
       "<IPython.core.display.HTML object>"
      ]
     },
     "metadata": {},
     "output_type": "display_data"
    },
    {
     "data": {
      "text/html": [
       "Find logs at: <code>.\\wandb\\run-20240515_132321-ftb64mat\\logs</code>"
      ],
      "text/plain": [
       "<IPython.core.display.HTML object>"
      ]
     },
     "metadata": {},
     "output_type": "display_data"
    },
    {
     "name": "stderr",
     "output_type": "stream",
     "text": [
      "\u001b[34m\u001b[1mwandb\u001b[0m: Sweep Agent: Waiting for job.\n",
      "\u001b[34m\u001b[1mwandb\u001b[0m: Job received.\n",
      "\u001b[34m\u001b[1mwandb\u001b[0m: Agent Starting Run: kaw8bkqz with config:\n",
      "\u001b[34m\u001b[1mwandb\u001b[0m: \tdropout: 0.9\n",
      "\u001b[34m\u001b[1mwandb\u001b[0m: \tgamma: 0.95\n",
      "\u001b[34m\u001b[1mwandb\u001b[0m: \tlr: 0.01\n",
      "\u001b[34m\u001b[1mwandb\u001b[0m: \tmethod_name: spo+\n",
      "\u001b[34m\u001b[1mwandb\u001b[0m: \tneurons: 128\n",
      "\u001b[34m\u001b[1mwandb\u001b[0m: \tnum_epochs: 20\n",
      "Failed to detect the name of this notebook, you can set it manually with the WANDB_NOTEBOOK_NAME environment variable to enable code saving.\n"
     ]
    },
    {
     "data": {
      "text/html": [
       "Tracking run with wandb version 0.17.0"
      ],
      "text/plain": [
       "<IPython.core.display.HTML object>"
      ]
     },
     "metadata": {},
     "output_type": "display_data"
    },
    {
     "data": {
      "text/html": [
       "Run data is saved locally in <code>c:\\Users\\ande7\\Documents\\Semester 3\\Special\\Course Material\\contextual_dm_in_power_sys\\main_folder\\models\\PyEpo\\wandb\\run-20240515_133627-kaw8bkqz</code>"
      ],
      "text/plain": [
       "<IPython.core.display.HTML object>"
      ]
     },
     "metadata": {},
     "output_type": "display_data"
    },
    {
     "data": {
      "text/html": [
       "Syncing run <strong><a href='https://wandb.ai/Pyepo_special/Sweep%20Pyepo%20Basic%20Model/runs/kaw8bkqz' target=\"_blank\">devoted-sweep-25</a></strong> to <a href='https://wandb.ai/Pyepo_special/Sweep%20Pyepo%20Basic%20Model' target=\"_blank\">Weights & Biases</a> (<a href='https://wandb.me/run' target=\"_blank\">docs</a>)<br/>Sweep page: <a href='https://wandb.ai/Pyepo_special/Sweep%20Pyepo%20Basic%20Model/sweeps/21l2bgkz' target=\"_blank\">https://wandb.ai/Pyepo_special/Sweep%20Pyepo%20Basic%20Model/sweeps/21l2bgkz</a>"
      ],
      "text/plain": [
       "<IPython.core.display.HTML object>"
      ]
     },
     "metadata": {},
     "output_type": "display_data"
    },
    {
     "data": {
      "text/html": [
       " View project at <a href='https://wandb.ai/Pyepo_special/Sweep%20Pyepo%20Basic%20Model' target=\"_blank\">https://wandb.ai/Pyepo_special/Sweep%20Pyepo%20Basic%20Model</a>"
      ],
      "text/plain": [
       "<IPython.core.display.HTML object>"
      ]
     },
     "metadata": {},
     "output_type": "display_data"
    },
    {
     "data": {
      "text/html": [
       " View sweep at <a href='https://wandb.ai/Pyepo_special/Sweep%20Pyepo%20Basic%20Model/sweeps/21l2bgkz' target=\"_blank\">https://wandb.ai/Pyepo_special/Sweep%20Pyepo%20Basic%20Model/sweeps/21l2bgkz</a>"
      ],
      "text/plain": [
       "<IPython.core.display.HTML object>"
      ]
     },
     "metadata": {},
     "output_type": "display_data"
    },
    {
     "data": {
      "text/html": [
       " View run at <a href='https://wandb.ai/Pyepo_special/Sweep%20Pyepo%20Basic%20Model/runs/kaw8bkqz' target=\"_blank\">https://wandb.ai/Pyepo_special/Sweep%20Pyepo%20Basic%20Model/runs/kaw8bkqz</a>"
      ],
      "text/plain": [
       "<IPython.core.display.HTML object>"
      ]
     },
     "metadata": {},
     "output_type": "display_data"
    },
    {
     "name": "stderr",
     "output_type": "stream",
     "text": [
      "100%|██████████| 180/180 [00:01<00:00, 169.46it/s]\n",
      "100%|██████████| 180/180 [00:02<00:00, 62.88it/s]\n",
      "100%|██████████| 180/180 [00:01<00:00, 155.38it/s]\n"
     ]
    },
    {
     "name": "stdout",
     "output_type": "stream",
     "text": [
      "Epoch  1,  Loss: 14941.5645,  Regret: 12.2762%\n"
     ]
    },
    {
     "name": "stderr",
     "output_type": "stream",
     "text": [
      "100%|██████████| 180/180 [00:03<00:00, 54.88it/s]\n",
      "100%|██████████| 180/180 [00:01<00:00, 131.53it/s]\n"
     ]
    },
    {
     "name": "stdout",
     "output_type": "stream",
     "text": [
      "Epoch  2,  Loss: 22064.2266,  Regret:  7.5242%\n"
     ]
    },
    {
     "name": "stderr",
     "output_type": "stream",
     "text": [
      "100%|██████████| 180/180 [00:03<00:00, 46.90it/s]\n",
      "100%|██████████| 180/180 [00:01<00:00, 132.49it/s]\n"
     ]
    },
    {
     "name": "stdout",
     "output_type": "stream",
     "text": [
      "Epoch  3,  Loss: 15270.4375,  Regret: 18.8759%\n"
     ]
    },
    {
     "name": "stderr",
     "output_type": "stream",
     "text": [
      "100%|██████████| 180/180 [00:04<00:00, 43.34it/s]\n",
      "100%|██████████| 180/180 [00:01<00:00, 108.61it/s]\n"
     ]
    },
    {
     "name": "stdout",
     "output_type": "stream",
     "text": [
      "Epoch  4,  Loss: 18255.3379,  Regret:  7.8399%\n"
     ]
    },
    {
     "name": "stderr",
     "output_type": "stream",
     "text": [
      "100%|██████████| 180/180 [00:04<00:00, 38.60it/s]\n",
      "100%|██████████| 180/180 [00:04<00:00, 42.05it/s]\n"
     ]
    },
    {
     "name": "stdout",
     "output_type": "stream",
     "text": [
      "Epoch  5,  Loss: 10820.1895,  Regret:  7.9926%\n"
     ]
    },
    {
     "name": "stderr",
     "output_type": "stream",
     "text": [
      "100%|██████████| 180/180 [00:04<00:00, 36.65it/s]\n",
      "100%|██████████| 180/180 [00:04<00:00, 39.33it/s]\n"
     ]
    },
    {
     "name": "stdout",
     "output_type": "stream",
     "text": [
      "Epoch  6,  Loss: 15446.5566,  Regret:  7.8780%\n"
     ]
    },
    {
     "name": "stderr",
     "output_type": "stream",
     "text": [
      "100%|██████████| 180/180 [00:05<00:00, 35.54it/s]\n",
      "100%|██████████| 180/180 [00:03<00:00, 45.37it/s]\n"
     ]
    },
    {
     "name": "stdout",
     "output_type": "stream",
     "text": [
      "Epoch  7,  Loss: 14684.1426,  Regret:  7.8805%\n"
     ]
    },
    {
     "name": "stderr",
     "output_type": "stream",
     "text": [
      "100%|██████████| 180/180 [00:03<00:00, 46.56it/s]\n",
      "100%|██████████| 180/180 [00:01<00:00, 164.14it/s]\n"
     ]
    },
    {
     "name": "stdout",
     "output_type": "stream",
     "text": [
      "Epoch  8,  Loss: 15637.5596,  Regret:  7.9360%\n"
     ]
    },
    {
     "name": "stderr",
     "output_type": "stream",
     "text": [
      "100%|██████████| 180/180 [00:03<00:00, 50.10it/s]\n",
      "100%|██████████| 180/180 [00:01<00:00, 160.46it/s]\n"
     ]
    },
    {
     "name": "stdout",
     "output_type": "stream",
     "text": [
      "Epoch  9,  Loss: 15499.7109,  Regret:  7.8529%\n"
     ]
    },
    {
     "name": "stderr",
     "output_type": "stream",
     "text": [
      "100%|██████████| 180/180 [00:03<00:00, 47.82it/s]\n",
      "100%|██████████| 180/180 [00:01<00:00, 156.00it/s]\n"
     ]
    },
    {
     "name": "stdout",
     "output_type": "stream",
     "text": [
      "Epoch 10,  Loss: 22306.5371,  Regret:  7.9202%\n"
     ]
    },
    {
     "name": "stderr",
     "output_type": "stream",
     "text": [
      "100%|██████████| 180/180 [00:04<00:00, 44.76it/s]\n",
      "100%|██████████| 180/180 [00:01<00:00, 156.42it/s]\n"
     ]
    },
    {
     "name": "stdout",
     "output_type": "stream",
     "text": [
      "Epoch 11,  Loss: 17129.0977,  Regret:  7.6177%\n"
     ]
    },
    {
     "name": "stderr",
     "output_type": "stream",
     "text": [
      "100%|██████████| 180/180 [00:04<00:00, 43.68it/s]\n",
      "100%|██████████| 180/180 [00:01<00:00, 144.93it/s]\n"
     ]
    },
    {
     "name": "stdout",
     "output_type": "stream",
     "text": [
      "Epoch 12,  Loss: 13929.1348,  Regret:  7.6322%\n"
     ]
    },
    {
     "name": "stderr",
     "output_type": "stream",
     "text": [
      "100%|██████████| 180/180 [00:04<00:00, 41.23it/s]\n",
      "100%|██████████| 180/180 [00:01<00:00, 143.41it/s]\n"
     ]
    },
    {
     "name": "stdout",
     "output_type": "stream",
     "text": [
      "Epoch 13,  Loss: 14727.4043,  Regret:  7.6876%\n"
     ]
    },
    {
     "name": "stderr",
     "output_type": "stream",
     "text": [
      "100%|██████████| 180/180 [00:04<00:00, 39.53it/s]\n",
      "100%|██████████| 180/180 [00:01<00:00, 143.34it/s]\n"
     ]
    },
    {
     "name": "stdout",
     "output_type": "stream",
     "text": [
      "Epoch 14,  Loss: 14604.4551,  Regret:  7.6382%\n"
     ]
    },
    {
     "name": "stderr",
     "output_type": "stream",
     "text": [
      "100%|██████████| 180/180 [00:04<00:00, 40.74it/s]\n",
      "100%|██████████| 180/180 [00:01<00:00, 149.65it/s]\n"
     ]
    },
    {
     "name": "stdout",
     "output_type": "stream",
     "text": [
      "Epoch 15,  Loss: 14434.3809,  Regret:  7.6200%\n"
     ]
    },
    {
     "name": "stderr",
     "output_type": "stream",
     "text": [
      "100%|██████████| 180/180 [00:04<00:00, 38.47it/s]\n",
      "100%|██████████| 180/180 [00:01<00:00, 93.29it/s]\n"
     ]
    },
    {
     "name": "stdout",
     "output_type": "stream",
     "text": [
      "Epoch 16,  Loss: 14226.5645,  Regret:  7.6238%\n"
     ]
    },
    {
     "name": "stderr",
     "output_type": "stream",
     "text": [
      "100%|██████████| 180/180 [00:05<00:00, 34.26it/s]\n",
      "100%|██████████| 180/180 [00:01<00:00, 144.81it/s]\n"
     ]
    },
    {
     "name": "stdout",
     "output_type": "stream",
     "text": [
      "Epoch 17,  Loss: 11702.1035,  Regret:  7.6381%\n"
     ]
    },
    {
     "name": "stderr",
     "output_type": "stream",
     "text": [
      "100%|██████████| 180/180 [00:04<00:00, 38.21it/s]\n",
      "100%|██████████| 180/180 [00:01<00:00, 150.66it/s]\n"
     ]
    },
    {
     "name": "stdout",
     "output_type": "stream",
     "text": [
      "Epoch 18,  Loss: 13980.4883,  Regret:  7.6466%\n"
     ]
    },
    {
     "name": "stderr",
     "output_type": "stream",
     "text": [
      "100%|██████████| 180/180 [00:04<00:00, 40.50it/s]\n",
      "100%|██████████| 180/180 [00:01<00:00, 142.32it/s]\n"
     ]
    },
    {
     "name": "stdout",
     "output_type": "stream",
     "text": [
      "Epoch 19,  Loss: 13864.1484,  Regret:  7.6598%\n"
     ]
    },
    {
     "name": "stderr",
     "output_type": "stream",
     "text": [
      "100%|██████████| 180/180 [00:04<00:00, 41.40it/s]\n",
      "100%|██████████| 180/180 [00:01<00:00, 141.62it/s]\n"
     ]
    },
    {
     "name": "stdout",
     "output_type": "stream",
     "text": [
      "Epoch 20,  Loss: 13721.4453,  Regret:  7.6590%\n",
      "Total Elapsed Time: 7657.88 Sec.\n"
     ]
    },
    {
     "data": {
      "text/html": [
       "<style>\n",
       "    table.wandb td:nth-child(1) { padding: 0 10px; text-align: left ; width: auto;} td:nth-child(2) {text-align: left ; width: 100%}\n",
       "    .wandb-row { display: flex; flex-direction: row; flex-wrap: wrap; justify-content: flex-start; width: 100% }\n",
       "    .wandb-col { display: flex; flex-direction: column; flex-basis: 100%; flex: 1; padding: 10px; }\n",
       "    </style>\n",
       "<div class=\"wandb-row\"><div class=\"wandb-col\"><h3>Run history:</h3><br/><table class=\"wandb\"><tr><td>Linear loss</td><td>▂▃▆▅▂███▆▅▂▅▃▄▅▄▁▅▁▆▃▅▃█▂▄▃▅▂▆▃▄▂▅▂▆▂▅▁▄</td></tr><tr><td>Regret</td><td>▄▁█▁▁▁▁▁▁▁▁▁▁▁▁▁▁▁▁▁</td></tr></table><br/></div><div class=\"wandb-col\"><h3>Run summary:</h3><br/><table class=\"wandb\"><tr><td>Linear loss</td><td>13721.44531</td></tr><tr><td>Regret</td><td>0.07659</td></tr></table><br/></div></div>"
      ],
      "text/plain": [
       "<IPython.core.display.HTML object>"
      ]
     },
     "metadata": {},
     "output_type": "display_data"
    },
    {
     "data": {
      "text/html": [
       " View run <strong style=\"color:#cdcd00\">devoted-sweep-25</strong> at: <a href='https://wandb.ai/Pyepo_special/Sweep%20Pyepo%20Basic%20Model/runs/kaw8bkqz' target=\"_blank\">https://wandb.ai/Pyepo_special/Sweep%20Pyepo%20Basic%20Model/runs/kaw8bkqz</a><br/> View project at: <a href='https://wandb.ai/Pyepo_special/Sweep%20Pyepo%20Basic%20Model' target=\"_blank\">https://wandb.ai/Pyepo_special/Sweep%20Pyepo%20Basic%20Model</a><br/>Synced 5 W&B file(s), 0 media file(s), 0 artifact file(s) and 0 other file(s)"
      ],
      "text/plain": [
       "<IPython.core.display.HTML object>"
      ]
     },
     "metadata": {},
     "output_type": "display_data"
    },
    {
     "data": {
      "text/html": [
       "Find logs at: <code>.\\wandb\\run-20240515_133627-kaw8bkqz\\logs</code>"
      ],
      "text/plain": [
       "<IPython.core.display.HTML object>"
      ]
     },
     "metadata": {},
     "output_type": "display_data"
    },
    {
     "name": "stderr",
     "output_type": "stream",
     "text": [
      "\u001b[34m\u001b[1mwandb\u001b[0m: Agent Starting Run: 835yij4n with config:\n",
      "\u001b[34m\u001b[1mwandb\u001b[0m: \tdropout: 0.9\n",
      "\u001b[34m\u001b[1mwandb\u001b[0m: \tgamma: 0.95\n",
      "\u001b[34m\u001b[1mwandb\u001b[0m: \tlr: 0.001\n",
      "\u001b[34m\u001b[1mwandb\u001b[0m: \tmethod_name: spo+\n",
      "\u001b[34m\u001b[1mwandb\u001b[0m: \tneurons: 32\n",
      "\u001b[34m\u001b[1mwandb\u001b[0m: \tnum_epochs: 10\n",
      "Failed to detect the name of this notebook, you can set it manually with the WANDB_NOTEBOOK_NAME environment variable to enable code saving.\n"
     ]
    },
    {
     "data": {
      "text/html": [
       "Tracking run with wandb version 0.17.0"
      ],
      "text/plain": [
       "<IPython.core.display.HTML object>"
      ]
     },
     "metadata": {},
     "output_type": "display_data"
    },
    {
     "data": {
      "text/html": [
       "Run data is saved locally in <code>c:\\Users\\ande7\\Documents\\Semester 3\\Special\\Course Material\\contextual_dm_in_power_sys\\main_folder\\models\\PyEpo\\wandb\\run-20240515_133838-835yij4n</code>"
      ],
      "text/plain": [
       "<IPython.core.display.HTML object>"
      ]
     },
     "metadata": {},
     "output_type": "display_data"
    },
    {
     "data": {
      "text/html": [
       "Syncing run <strong><a href='https://wandb.ai/Pyepo_special/Sweep%20Pyepo%20Basic%20Model/runs/835yij4n' target=\"_blank\">stoic-sweep-26</a></strong> to <a href='https://wandb.ai/Pyepo_special/Sweep%20Pyepo%20Basic%20Model' target=\"_blank\">Weights & Biases</a> (<a href='https://wandb.me/run' target=\"_blank\">docs</a>)<br/>Sweep page: <a href='https://wandb.ai/Pyepo_special/Sweep%20Pyepo%20Basic%20Model/sweeps/21l2bgkz' target=\"_blank\">https://wandb.ai/Pyepo_special/Sweep%20Pyepo%20Basic%20Model/sweeps/21l2bgkz</a>"
      ],
      "text/plain": [
       "<IPython.core.display.HTML object>"
      ]
     },
     "metadata": {},
     "output_type": "display_data"
    },
    {
     "data": {
      "text/html": [
       " View project at <a href='https://wandb.ai/Pyepo_special/Sweep%20Pyepo%20Basic%20Model' target=\"_blank\">https://wandb.ai/Pyepo_special/Sweep%20Pyepo%20Basic%20Model</a>"
      ],
      "text/plain": [
       "<IPython.core.display.HTML object>"
      ]
     },
     "metadata": {},
     "output_type": "display_data"
    },
    {
     "data": {
      "text/html": [
       " View sweep at <a href='https://wandb.ai/Pyepo_special/Sweep%20Pyepo%20Basic%20Model/sweeps/21l2bgkz' target=\"_blank\">https://wandb.ai/Pyepo_special/Sweep%20Pyepo%20Basic%20Model/sweeps/21l2bgkz</a>"
      ],
      "text/plain": [
       "<IPython.core.display.HTML object>"
      ]
     },
     "metadata": {},
     "output_type": "display_data"
    },
    {
     "data": {
      "text/html": [
       " View run at <a href='https://wandb.ai/Pyepo_special/Sweep%20Pyepo%20Basic%20Model/runs/835yij4n' target=\"_blank\">https://wandb.ai/Pyepo_special/Sweep%20Pyepo%20Basic%20Model/runs/835yij4n</a>"
      ],
      "text/plain": [
       "<IPython.core.display.HTML object>"
      ]
     },
     "metadata": {},
     "output_type": "display_data"
    },
    {
     "name": "stderr",
     "output_type": "stream",
     "text": [
      "100%|██████████| 180/180 [00:01<00:00, 160.23it/s]\n",
      "100%|██████████| 180/180 [00:02<00:00, 69.68it/s]\n",
      "100%|██████████| 180/180 [00:01<00:00, 154.20it/s]\n"
     ]
    },
    {
     "name": "stdout",
     "output_type": "stream",
     "text": [
      "Epoch  1,  Loss: 18264.6289,  Regret:  8.3223%\n"
     ]
    },
    {
     "name": "stderr",
     "output_type": "stream",
     "text": [
      "100%|██████████| 180/180 [00:02<00:00, 60.86it/s]\n",
      "100%|██████████| 180/180 [00:01<00:00, 147.99it/s]\n"
     ]
    },
    {
     "name": "stdout",
     "output_type": "stream",
     "text": [
      "Epoch  2,  Loss: 18383.1465,  Regret:  8.0560%\n"
     ]
    },
    {
     "name": "stderr",
     "output_type": "stream",
     "text": [
      "100%|██████████| 180/180 [00:02<00:00, 60.08it/s]\n",
      "100%|██████████| 180/180 [00:01<00:00, 147.52it/s]\n"
     ]
    },
    {
     "name": "stdout",
     "output_type": "stream",
     "text": [
      "Epoch  3,  Loss: 15768.7012,  Regret:  7.8277%\n"
     ]
    },
    {
     "name": "stderr",
     "output_type": "stream",
     "text": [
      "100%|██████████| 180/180 [00:03<00:00, 58.00it/s]\n",
      "100%|██████████| 180/180 [00:01<00:00, 144.84it/s]\n"
     ]
    },
    {
     "name": "stdout",
     "output_type": "stream",
     "text": [
      "Epoch  4,  Loss: 14187.3750,  Regret:  7.8106%\n"
     ]
    },
    {
     "name": "stderr",
     "output_type": "stream",
     "text": [
      "100%|██████████| 180/180 [00:03<00:00, 57.76it/s]\n",
      "100%|██████████| 180/180 [00:01<00:00, 143.49it/s]\n"
     ]
    },
    {
     "name": "stdout",
     "output_type": "stream",
     "text": [
      "Epoch  5,  Loss: 12593.0137,  Regret:  8.0551%\n"
     ]
    },
    {
     "name": "stderr",
     "output_type": "stream",
     "text": [
      "100%|██████████| 180/180 [00:03<00:00, 55.23it/s]\n",
      "100%|██████████| 180/180 [00:01<00:00, 140.43it/s]\n"
     ]
    },
    {
     "name": "stdout",
     "output_type": "stream",
     "text": [
      "Epoch  6,  Loss: 15983.0801,  Regret:  8.1015%\n"
     ]
    },
    {
     "name": "stderr",
     "output_type": "stream",
     "text": [
      "100%|██████████| 180/180 [00:03<00:00, 56.57it/s]\n",
      "100%|██████████| 180/180 [00:01<00:00, 134.08it/s]\n"
     ]
    },
    {
     "name": "stdout",
     "output_type": "stream",
     "text": [
      "Epoch  7,  Loss: 10196.9014,  Regret:  7.8993%\n"
     ]
    },
    {
     "name": "stderr",
     "output_type": "stream",
     "text": [
      "100%|██████████| 180/180 [00:03<00:00, 53.54it/s]\n",
      "100%|██████████| 180/180 [00:01<00:00, 138.73it/s]\n"
     ]
    },
    {
     "name": "stdout",
     "output_type": "stream",
     "text": [
      "Epoch  8,  Loss: 14175.9473,  Regret:  7.7238%\n"
     ]
    },
    {
     "name": "stderr",
     "output_type": "stream",
     "text": [
      "100%|██████████| 180/180 [00:03<00:00, 55.25it/s]\n",
      "100%|██████████| 180/180 [00:01<00:00, 139.02it/s]\n"
     ]
    },
    {
     "name": "stdout",
     "output_type": "stream",
     "text": [
      "Epoch  9,  Loss: 12080.1475,  Regret:  7.7515%\n"
     ]
    },
    {
     "name": "stderr",
     "output_type": "stream",
     "text": [
      "100%|██████████| 180/180 [00:03<00:00, 54.73it/s]\n",
      "100%|██████████| 180/180 [00:01<00:00, 141.70it/s]\n"
     ]
    },
    {
     "name": "stdout",
     "output_type": "stream",
     "text": [
      "Epoch 10,  Loss: 10042.5742,  Regret:  7.7444%\n",
      "Total Elapsed Time: 2776.88 Sec.\n"
     ]
    },
    {
     "data": {
      "text/html": [
       "<style>\n",
       "    table.wandb td:nth-child(1) { padding: 0 10px; text-align: left ; width: auto;} td:nth-child(2) {text-align: left ; width: 100%}\n",
       "    .wandb-row { display: flex; flex-direction: row; flex-wrap: wrap; justify-content: flex-start; width: 100% }\n",
       "    .wandb-col { display: flex; flex-direction: column; flex-basis: 100%; flex: 1; padding: 10px; }\n",
       "    </style>\n",
       "<div class=\"wandb-row\"><div class=\"wandb-col\"><h3>Run history:</h3><br/><table class=\"wandb\"><tr><td>Linear loss</td><td>▇▄▃▅▇▂▂▆█▃▂▆▃▂▂▅▇▃▅▃▇▂▂▄▃▁▄▆▃▁▄▅▁▂▃▆▁▁▆▆</td></tr><tr><td>Regret</td><td>█▅▂▂▅▅▃▁▁▁</td></tr></table><br/></div><div class=\"wandb-col\"><h3>Run summary:</h3><br/><table class=\"wandb\"><tr><td>Linear loss</td><td>10042.57422</td></tr><tr><td>Regret</td><td>0.07744</td></tr></table><br/></div></div>"
      ],
      "text/plain": [
       "<IPython.core.display.HTML object>"
      ]
     },
     "metadata": {},
     "output_type": "display_data"
    },
    {
     "data": {
      "text/html": [
       " View run <strong style=\"color:#cdcd00\">stoic-sweep-26</strong> at: <a href='https://wandb.ai/Pyepo_special/Sweep%20Pyepo%20Basic%20Model/runs/835yij4n' target=\"_blank\">https://wandb.ai/Pyepo_special/Sweep%20Pyepo%20Basic%20Model/runs/835yij4n</a><br/> View project at: <a href='https://wandb.ai/Pyepo_special/Sweep%20Pyepo%20Basic%20Model' target=\"_blank\">https://wandb.ai/Pyepo_special/Sweep%20Pyepo%20Basic%20Model</a><br/>Synced 5 W&B file(s), 0 media file(s), 0 artifact file(s) and 0 other file(s)"
      ],
      "text/plain": [
       "<IPython.core.display.HTML object>"
      ]
     },
     "metadata": {},
     "output_type": "display_data"
    },
    {
     "data": {
      "text/html": [
       "Find logs at: <code>.\\wandb\\run-20240515_133838-835yij4n\\logs</code>"
      ],
      "text/plain": [
       "<IPython.core.display.HTML object>"
      ]
     },
     "metadata": {},
     "output_type": "display_data"
    },
    {
     "name": "stderr",
     "output_type": "stream",
     "text": [
      "\u001b[34m\u001b[1mwandb\u001b[0m: Agent Starting Run: hyy0peqr with config:\n",
      "\u001b[34m\u001b[1mwandb\u001b[0m: \tdropout: 0.7\n",
      "\u001b[34m\u001b[1mwandb\u001b[0m: \tgamma: 0.9\n",
      "\u001b[34m\u001b[1mwandb\u001b[0m: \tlr: 0.001\n",
      "\u001b[34m\u001b[1mwandb\u001b[0m: \tmethod_name: spo+\n",
      "\u001b[34m\u001b[1mwandb\u001b[0m: \tneurons: 128\n",
      "\u001b[34m\u001b[1mwandb\u001b[0m: \tnum_epochs: 10\n",
      "Failed to detect the name of this notebook, you can set it manually with the WANDB_NOTEBOOK_NAME environment variable to enable code saving.\n"
     ]
    },
    {
     "data": {
      "text/html": [
       "Tracking run with wandb version 0.17.0"
      ],
      "text/plain": [
       "<IPython.core.display.HTML object>"
      ]
     },
     "metadata": {},
     "output_type": "display_data"
    },
    {
     "data": {
      "text/html": [
       "Run data is saved locally in <code>c:\\Users\\ande7\\Documents\\Semester 3\\Special\\Course Material\\contextual_dm_in_power_sys\\main_folder\\models\\PyEpo\\wandb\\run-20240515_133934-hyy0peqr</code>"
      ],
      "text/plain": [
       "<IPython.core.display.HTML object>"
      ]
     },
     "metadata": {},
     "output_type": "display_data"
    },
    {
     "data": {
      "text/html": [
       "Syncing run <strong><a href='https://wandb.ai/Pyepo_special/Sweep%20Pyepo%20Basic%20Model/runs/hyy0peqr' target=\"_blank\">grateful-sweep-27</a></strong> to <a href='https://wandb.ai/Pyepo_special/Sweep%20Pyepo%20Basic%20Model' target=\"_blank\">Weights & Biases</a> (<a href='https://wandb.me/run' target=\"_blank\">docs</a>)<br/>Sweep page: <a href='https://wandb.ai/Pyepo_special/Sweep%20Pyepo%20Basic%20Model/sweeps/21l2bgkz' target=\"_blank\">https://wandb.ai/Pyepo_special/Sweep%20Pyepo%20Basic%20Model/sweeps/21l2bgkz</a>"
      ],
      "text/plain": [
       "<IPython.core.display.HTML object>"
      ]
     },
     "metadata": {},
     "output_type": "display_data"
    },
    {
     "data": {
      "text/html": [
       " View project at <a href='https://wandb.ai/Pyepo_special/Sweep%20Pyepo%20Basic%20Model' target=\"_blank\">https://wandb.ai/Pyepo_special/Sweep%20Pyepo%20Basic%20Model</a>"
      ],
      "text/plain": [
       "<IPython.core.display.HTML object>"
      ]
     },
     "metadata": {},
     "output_type": "display_data"
    },
    {
     "data": {
      "text/html": [
       " View sweep at <a href='https://wandb.ai/Pyepo_special/Sweep%20Pyepo%20Basic%20Model/sweeps/21l2bgkz' target=\"_blank\">https://wandb.ai/Pyepo_special/Sweep%20Pyepo%20Basic%20Model/sweeps/21l2bgkz</a>"
      ],
      "text/plain": [
       "<IPython.core.display.HTML object>"
      ]
     },
     "metadata": {},
     "output_type": "display_data"
    },
    {
     "data": {
      "text/html": [
       " View run at <a href='https://wandb.ai/Pyepo_special/Sweep%20Pyepo%20Basic%20Model/runs/hyy0peqr' target=\"_blank\">https://wandb.ai/Pyepo_special/Sweep%20Pyepo%20Basic%20Model/runs/hyy0peqr</a>"
      ],
      "text/plain": [
       "<IPython.core.display.HTML object>"
      ]
     },
     "metadata": {},
     "output_type": "display_data"
    },
    {
     "name": "stderr",
     "output_type": "stream",
     "text": [
      "100%|██████████| 180/180 [00:01<00:00, 154.96it/s]\n",
      "100%|██████████| 180/180 [00:03<00:00, 56.93it/s]\n",
      "100%|██████████| 180/180 [00:01<00:00, 146.54it/s]\n"
     ]
    },
    {
     "name": "stdout",
     "output_type": "stream",
     "text": [
      "Epoch  1,  Loss: 13584.8398,  Regret:  8.8491%\n"
     ]
    },
    {
     "name": "stderr",
     "output_type": "stream",
     "text": [
      "100%|██████████| 180/180 [00:03<00:00, 49.77it/s]\n",
      "100%|██████████| 180/180 [00:01<00:00, 145.86it/s]\n"
     ]
    },
    {
     "name": "stdout",
     "output_type": "stream",
     "text": [
      "Epoch  2,  Loss: 11633.7188,  Regret:  8.3197%\n"
     ]
    },
    {
     "name": "stderr",
     "output_type": "stream",
     "text": [
      "100%|██████████| 180/180 [00:03<00:00, 48.63it/s]\n",
      "100%|██████████| 180/180 [00:01<00:00, 141.39it/s]\n"
     ]
    },
    {
     "name": "stdout",
     "output_type": "stream",
     "text": [
      "Epoch  3,  Loss: 11688.2314,  Regret:  8.0392%\n"
     ]
    },
    {
     "name": "stderr",
     "output_type": "stream",
     "text": [
      "100%|██████████| 180/180 [00:03<00:00, 48.07it/s]\n",
      "100%|██████████| 180/180 [00:01<00:00, 137.37it/s]\n"
     ]
    },
    {
     "name": "stdout",
     "output_type": "stream",
     "text": [
      "Epoch  4,  Loss: 12407.6299,  Regret:  7.9070%\n"
     ]
    },
    {
     "name": "stderr",
     "output_type": "stream",
     "text": [
      "100%|██████████| 180/180 [00:03<00:00, 48.44it/s]\n",
      "100%|██████████| 180/180 [00:01<00:00, 140.74it/s]\n"
     ]
    },
    {
     "name": "stdout",
     "output_type": "stream",
     "text": [
      "Epoch  5,  Loss: 12665.1406,  Regret:  7.5597%\n"
     ]
    },
    {
     "name": "stderr",
     "output_type": "stream",
     "text": [
      "100%|██████████| 180/180 [00:03<00:00, 51.71it/s]\n",
      "100%|██████████| 180/180 [00:01<00:00, 145.11it/s]\n"
     ]
    },
    {
     "name": "stdout",
     "output_type": "stream",
     "text": [
      "Epoch  6,  Loss: 11221.4941,  Regret:  7.8506%\n"
     ]
    },
    {
     "name": "stderr",
     "output_type": "stream",
     "text": [
      "100%|██████████| 180/180 [00:03<00:00, 47.67it/s]\n",
      "100%|██████████| 180/180 [00:01<00:00, 136.15it/s]\n"
     ]
    },
    {
     "name": "stdout",
     "output_type": "stream",
     "text": [
      "Epoch  7,  Loss: 11237.3779,  Regret:  7.8167%\n"
     ]
    },
    {
     "name": "stderr",
     "output_type": "stream",
     "text": [
      "100%|██████████| 180/180 [00:03<00:00, 47.92it/s]\n",
      "100%|██████████| 180/180 [00:01<00:00, 141.38it/s]\n"
     ]
    },
    {
     "name": "stdout",
     "output_type": "stream",
     "text": [
      "Epoch  8,  Loss: 9962.3271,  Regret:  7.2883%\n"
     ]
    },
    {
     "name": "stderr",
     "output_type": "stream",
     "text": [
      "100%|██████████| 180/180 [00:03<00:00, 49.31it/s]\n",
      "100%|██████████| 180/180 [00:01<00:00, 143.26it/s]\n"
     ]
    },
    {
     "name": "stdout",
     "output_type": "stream",
     "text": [
      "Epoch  9,  Loss: 8501.7227,  Regret:  7.0889%\n"
     ]
    },
    {
     "name": "stderr",
     "output_type": "stream",
     "text": [
      "100%|██████████| 180/180 [00:03<00:00, 48.73it/s]\n",
      "100%|██████████| 180/180 [00:01<00:00, 138.84it/s]\n"
     ]
    },
    {
     "name": "stdout",
     "output_type": "stream",
     "text": [
      "Epoch 10,  Loss: 9286.0283,  Regret:  7.1118%\n",
      "Total Elapsed Time: 3251.62 Sec.\n"
     ]
    },
    {
     "data": {
      "text/html": [
       "<style>\n",
       "    table.wandb td:nth-child(1) { padding: 0 10px; text-align: left ; width: auto;} td:nth-child(2) {text-align: left ; width: 100%}\n",
       "    .wandb-row { display: flex; flex-direction: row; flex-wrap: wrap; justify-content: flex-start; width: 100% }\n",
       "    .wandb-col { display: flex; flex-direction: column; flex-basis: 100%; flex: 1; padding: 10px; }\n",
       "    </style>\n",
       "<div class=\"wandb-row\"><div class=\"wandb-col\"><h3>Run history:</h3><br/><table class=\"wandb\"><tr><td>Linear loss</td><td>▇▄▂▆▇▃▂▅█▃▂▅▃▁▂▅▆▂▄▅▇▄▂▄▂▁▅▅▃▁▄▄▁▂▄▆▂▂▅▇</td></tr><tr><td>Regret</td><td>█▆▅▄▃▄▄▂▁▁</td></tr></table><br/></div><div class=\"wandb-col\"><h3>Run summary:</h3><br/><table class=\"wandb\"><tr><td>Linear loss</td><td>9286.02832</td></tr><tr><td>Regret</td><td>0.07112</td></tr></table><br/></div></div>"
      ],
      "text/plain": [
       "<IPython.core.display.HTML object>"
      ]
     },
     "metadata": {},
     "output_type": "display_data"
    },
    {
     "data": {
      "text/html": [
       " View run <strong style=\"color:#cdcd00\">grateful-sweep-27</strong> at: <a href='https://wandb.ai/Pyepo_special/Sweep%20Pyepo%20Basic%20Model/runs/hyy0peqr' target=\"_blank\">https://wandb.ai/Pyepo_special/Sweep%20Pyepo%20Basic%20Model/runs/hyy0peqr</a><br/> View project at: <a href='https://wandb.ai/Pyepo_special/Sweep%20Pyepo%20Basic%20Model' target=\"_blank\">https://wandb.ai/Pyepo_special/Sweep%20Pyepo%20Basic%20Model</a><br/>Synced 5 W&B file(s), 0 media file(s), 0 artifact file(s) and 0 other file(s)"
      ],
      "text/plain": [
       "<IPython.core.display.HTML object>"
      ]
     },
     "metadata": {},
     "output_type": "display_data"
    },
    {
     "data": {
      "text/html": [
       "Find logs at: <code>.\\wandb\\run-20240515_133934-hyy0peqr\\logs</code>"
      ],
      "text/plain": [
       "<IPython.core.display.HTML object>"
      ]
     },
     "metadata": {},
     "output_type": "display_data"
    },
    {
     "name": "stderr",
     "output_type": "stream",
     "text": [
      "\u001b[34m\u001b[1mwandb\u001b[0m: Agent Starting Run: nfrrdgho with config:\n",
      "\u001b[34m\u001b[1mwandb\u001b[0m: \tdropout: 0.2\n",
      "\u001b[34m\u001b[1mwandb\u001b[0m: \tgamma: 0.95\n",
      "\u001b[34m\u001b[1mwandb\u001b[0m: \tlr: 0.001\n",
      "\u001b[34m\u001b[1mwandb\u001b[0m: \tmethod_name: spo+\n",
      "\u001b[34m\u001b[1mwandb\u001b[0m: \tneurons: 32\n",
      "\u001b[34m\u001b[1mwandb\u001b[0m: \tnum_epochs: 10\n",
      "Failed to detect the name of this notebook, you can set it manually with the WANDB_NOTEBOOK_NAME environment variable to enable code saving.\n"
     ]
    },
    {
     "data": {
      "text/html": [
       "Tracking run with wandb version 0.17.0"
      ],
      "text/plain": [
       "<IPython.core.display.HTML object>"
      ]
     },
     "metadata": {},
     "output_type": "display_data"
    },
    {
     "data": {
      "text/html": [
       "Run data is saved locally in <code>c:\\Users\\ande7\\Documents\\Semester 3\\Special\\Course Material\\contextual_dm_in_power_sys\\main_folder\\models\\PyEpo\\wandb\\run-20240515_134036-nfrrdgho</code>"
      ],
      "text/plain": [
       "<IPython.core.display.HTML object>"
      ]
     },
     "metadata": {},
     "output_type": "display_data"
    },
    {
     "data": {
      "text/html": [
       "Syncing run <strong><a href='https://wandb.ai/Pyepo_special/Sweep%20Pyepo%20Basic%20Model/runs/nfrrdgho' target=\"_blank\">devoted-sweep-28</a></strong> to <a href='https://wandb.ai/Pyepo_special/Sweep%20Pyepo%20Basic%20Model' target=\"_blank\">Weights & Biases</a> (<a href='https://wandb.me/run' target=\"_blank\">docs</a>)<br/>Sweep page: <a href='https://wandb.ai/Pyepo_special/Sweep%20Pyepo%20Basic%20Model/sweeps/21l2bgkz' target=\"_blank\">https://wandb.ai/Pyepo_special/Sweep%20Pyepo%20Basic%20Model/sweeps/21l2bgkz</a>"
      ],
      "text/plain": [
       "<IPython.core.display.HTML object>"
      ]
     },
     "metadata": {},
     "output_type": "display_data"
    },
    {
     "data": {
      "text/html": [
       " View project at <a href='https://wandb.ai/Pyepo_special/Sweep%20Pyepo%20Basic%20Model' target=\"_blank\">https://wandb.ai/Pyepo_special/Sweep%20Pyepo%20Basic%20Model</a>"
      ],
      "text/plain": [
       "<IPython.core.display.HTML object>"
      ]
     },
     "metadata": {},
     "output_type": "display_data"
    },
    {
     "data": {
      "text/html": [
       " View sweep at <a href='https://wandb.ai/Pyepo_special/Sweep%20Pyepo%20Basic%20Model/sweeps/21l2bgkz' target=\"_blank\">https://wandb.ai/Pyepo_special/Sweep%20Pyepo%20Basic%20Model/sweeps/21l2bgkz</a>"
      ],
      "text/plain": [
       "<IPython.core.display.HTML object>"
      ]
     },
     "metadata": {},
     "output_type": "display_data"
    },
    {
     "data": {
      "text/html": [
       " View run at <a href='https://wandb.ai/Pyepo_special/Sweep%20Pyepo%20Basic%20Model/runs/nfrrdgho' target=\"_blank\">https://wandb.ai/Pyepo_special/Sweep%20Pyepo%20Basic%20Model/runs/nfrrdgho</a>"
      ],
      "text/plain": [
       "<IPython.core.display.HTML object>"
      ]
     },
     "metadata": {},
     "output_type": "display_data"
    },
    {
     "name": "stderr",
     "output_type": "stream",
     "text": [
      "100%|██████████| 180/180 [00:01<00:00, 150.38it/s]\n",
      "100%|██████████| 180/180 [00:02<00:00, 63.92it/s]\n",
      "100%|██████████| 180/180 [00:01<00:00, 157.35it/s]\n"
     ]
    },
    {
     "name": "stdout",
     "output_type": "stream",
     "text": [
      "Epoch  1,  Loss: 12557.1230,  Regret:  7.8119%\n"
     ]
    },
    {
     "name": "stderr",
     "output_type": "stream",
     "text": [
      "100%|██████████| 180/180 [00:03<00:00, 59.63it/s]\n",
      "100%|██████████| 180/180 [00:01<00:00, 152.25it/s]\n"
     ]
    },
    {
     "name": "stdout",
     "output_type": "stream",
     "text": [
      "Epoch  2,  Loss: 13394.6689,  Regret:  7.8394%\n"
     ]
    },
    {
     "name": "stderr",
     "output_type": "stream",
     "text": [
      "100%|██████████| 180/180 [00:03<00:00, 58.34it/s]\n",
      "100%|██████████| 180/180 [00:01<00:00, 140.27it/s]\n"
     ]
    },
    {
     "name": "stdout",
     "output_type": "stream",
     "text": [
      "Epoch  3,  Loss: 11534.9375,  Regret:  7.6364%\n"
     ]
    },
    {
     "name": "stderr",
     "output_type": "stream",
     "text": [
      "100%|██████████| 180/180 [00:03<00:00, 59.54it/s]\n",
      "100%|██████████| 180/180 [00:01<00:00, 144.22it/s]\n"
     ]
    },
    {
     "name": "stdout",
     "output_type": "stream",
     "text": [
      "Epoch  4,  Loss: 10602.2236,  Regret:  7.7842%\n"
     ]
    },
    {
     "name": "stderr",
     "output_type": "stream",
     "text": [
      "100%|██████████| 180/180 [00:03<00:00, 59.23it/s]\n",
      "100%|██████████| 180/180 [00:01<00:00, 144.74it/s]\n"
     ]
    },
    {
     "name": "stdout",
     "output_type": "stream",
     "text": [
      "Epoch  5,  Loss: 12092.3408,  Regret:  7.7687%\n"
     ]
    },
    {
     "name": "stderr",
     "output_type": "stream",
     "text": [
      "100%|██████████| 180/180 [00:03<00:00, 54.86it/s]\n",
      "100%|██████████| 180/180 [00:01<00:00, 140.77it/s]\n"
     ]
    },
    {
     "name": "stdout",
     "output_type": "stream",
     "text": [
      "Epoch  6,  Loss: 10823.9023,  Regret:  7.6074%\n"
     ]
    },
    {
     "name": "stderr",
     "output_type": "stream",
     "text": [
      "100%|██████████| 180/180 [00:03<00:00, 55.98it/s]\n",
      "100%|██████████| 180/180 [00:01<00:00, 144.42it/s]\n"
     ]
    },
    {
     "name": "stdout",
     "output_type": "stream",
     "text": [
      "Epoch  7,  Loss: 10069.8252,  Regret:  7.3299%\n"
     ]
    },
    {
     "name": "stderr",
     "output_type": "stream",
     "text": [
      "100%|██████████| 180/180 [00:03<00:00, 53.53it/s]\n",
      "100%|██████████| 180/180 [00:01<00:00, 126.32it/s]\n"
     ]
    },
    {
     "name": "stdout",
     "output_type": "stream",
     "text": [
      "Epoch  8,  Loss: 9882.2715,  Regret:  7.4396%\n"
     ]
    },
    {
     "name": "stderr",
     "output_type": "stream",
     "text": [
      "100%|██████████| 180/180 [00:03<00:00, 51.22it/s]\n",
      "100%|██████████| 180/180 [00:01<00:00, 140.78it/s]\n"
     ]
    },
    {
     "name": "stdout",
     "output_type": "stream",
     "text": [
      "Epoch  9,  Loss: 10620.3545,  Regret:  7.4706%\n"
     ]
    },
    {
     "name": "stderr",
     "output_type": "stream",
     "text": [
      "100%|██████████| 180/180 [00:03<00:00, 51.88it/s]\n",
      "100%|██████████| 180/180 [00:01<00:00, 132.40it/s]\n"
     ]
    },
    {
     "name": "stdout",
     "output_type": "stream",
     "text": [
      "Epoch 10,  Loss: 9674.5645,  Regret:  7.4843%\n",
      "Total Elapsed Time: 2837.51 Sec.\n"
     ]
    },
    {
     "data": {
      "text/html": [
       "<style>\n",
       "    table.wandb td:nth-child(1) { padding: 0 10px; text-align: left ; width: auto;} td:nth-child(2) {text-align: left ; width: 100%}\n",
       "    .wandb-row { display: flex; flex-direction: row; flex-wrap: wrap; justify-content: flex-start; width: 100% }\n",
       "    .wandb-col { display: flex; flex-direction: column; flex-basis: 100%; flex: 1; padding: 10px; }\n",
       "    </style>\n",
       "<div class=\"wandb-row\"><div class=\"wandb-col\"><h3>Run history:</h3><br/><table class=\"wandb\"><tr><td>Linear loss</td><td>▇▄▁▅▇▃▂▆█▃▂▅▃▁▂▅▆▂▃▅▇▃▂▄▃▁▅▅▂▁▃▄▁▂▃▅▁▂▄▆</td></tr><tr><td>Regret</td><td>██▅▇▇▅▁▃▃▃</td></tr></table><br/></div><div class=\"wandb-col\"><h3>Run summary:</h3><br/><table class=\"wandb\"><tr><td>Linear loss</td><td>9674.56445</td></tr><tr><td>Regret</td><td>0.07484</td></tr></table><br/></div></div>"
      ],
      "text/plain": [
       "<IPython.core.display.HTML object>"
      ]
     },
     "metadata": {},
     "output_type": "display_data"
    },
    {
     "data": {
      "text/html": [
       " View run <strong style=\"color:#cdcd00\">devoted-sweep-28</strong> at: <a href='https://wandb.ai/Pyepo_special/Sweep%20Pyepo%20Basic%20Model/runs/nfrrdgho' target=\"_blank\">https://wandb.ai/Pyepo_special/Sweep%20Pyepo%20Basic%20Model/runs/nfrrdgho</a><br/> View project at: <a href='https://wandb.ai/Pyepo_special/Sweep%20Pyepo%20Basic%20Model' target=\"_blank\">https://wandb.ai/Pyepo_special/Sweep%20Pyepo%20Basic%20Model</a><br/>Synced 5 W&B file(s), 0 media file(s), 0 artifact file(s) and 0 other file(s)"
      ],
      "text/plain": [
       "<IPython.core.display.HTML object>"
      ]
     },
     "metadata": {},
     "output_type": "display_data"
    },
    {
     "data": {
      "text/html": [
       "Find logs at: <code>.\\wandb\\run-20240515_134036-nfrrdgho\\logs</code>"
      ],
      "text/plain": [
       "<IPython.core.display.HTML object>"
      ]
     },
     "metadata": {},
     "output_type": "display_data"
    },
    {
     "name": "stderr",
     "output_type": "stream",
     "text": [
      "\u001b[34m\u001b[1mwandb\u001b[0m: Agent Starting Run: vyge3oos with config:\n",
      "\u001b[34m\u001b[1mwandb\u001b[0m: \tdropout: 0.7\n",
      "\u001b[34m\u001b[1mwandb\u001b[0m: \tgamma: 0.99\n",
      "\u001b[34m\u001b[1mwandb\u001b[0m: \tlr: 0.001\n",
      "\u001b[34m\u001b[1mwandb\u001b[0m: \tmethod_name: spo+\n",
      "\u001b[34m\u001b[1mwandb\u001b[0m: \tneurons: 32\n",
      "\u001b[34m\u001b[1mwandb\u001b[0m: \tnum_epochs: 20\n",
      "Failed to detect the name of this notebook, you can set it manually with the WANDB_NOTEBOOK_NAME environment variable to enable code saving.\n"
     ]
    },
    {
     "data": {
      "text/html": [
       "Tracking run with wandb version 0.17.0"
      ],
      "text/plain": [
       "<IPython.core.display.HTML object>"
      ]
     },
     "metadata": {},
     "output_type": "display_data"
    },
    {
     "data": {
      "text/html": [
       "Run data is saved locally in <code>c:\\Users\\ande7\\Documents\\Semester 3\\Special\\Course Material\\contextual_dm_in_power_sys\\main_folder\\models\\PyEpo\\wandb\\run-20240515_134133-vyge3oos</code>"
      ],
      "text/plain": [
       "<IPython.core.display.HTML object>"
      ]
     },
     "metadata": {},
     "output_type": "display_data"
    },
    {
     "data": {
      "text/html": [
       "Syncing run <strong><a href='https://wandb.ai/Pyepo_special/Sweep%20Pyepo%20Basic%20Model/runs/vyge3oos' target=\"_blank\">ancient-sweep-29</a></strong> to <a href='https://wandb.ai/Pyepo_special/Sweep%20Pyepo%20Basic%20Model' target=\"_blank\">Weights & Biases</a> (<a href='https://wandb.me/run' target=\"_blank\">docs</a>)<br/>Sweep page: <a href='https://wandb.ai/Pyepo_special/Sweep%20Pyepo%20Basic%20Model/sweeps/21l2bgkz' target=\"_blank\">https://wandb.ai/Pyepo_special/Sweep%20Pyepo%20Basic%20Model/sweeps/21l2bgkz</a>"
      ],
      "text/plain": [
       "<IPython.core.display.HTML object>"
      ]
     },
     "metadata": {},
     "output_type": "display_data"
    },
    {
     "data": {
      "text/html": [
       " View project at <a href='https://wandb.ai/Pyepo_special/Sweep%20Pyepo%20Basic%20Model' target=\"_blank\">https://wandb.ai/Pyepo_special/Sweep%20Pyepo%20Basic%20Model</a>"
      ],
      "text/plain": [
       "<IPython.core.display.HTML object>"
      ]
     },
     "metadata": {},
     "output_type": "display_data"
    },
    {
     "data": {
      "text/html": [
       " View sweep at <a href='https://wandb.ai/Pyepo_special/Sweep%20Pyepo%20Basic%20Model/sweeps/21l2bgkz' target=\"_blank\">https://wandb.ai/Pyepo_special/Sweep%20Pyepo%20Basic%20Model/sweeps/21l2bgkz</a>"
      ],
      "text/plain": [
       "<IPython.core.display.HTML object>"
      ]
     },
     "metadata": {},
     "output_type": "display_data"
    },
    {
     "data": {
      "text/html": [
       " View run at <a href='https://wandb.ai/Pyepo_special/Sweep%20Pyepo%20Basic%20Model/runs/vyge3oos' target=\"_blank\">https://wandb.ai/Pyepo_special/Sweep%20Pyepo%20Basic%20Model/runs/vyge3oos</a>"
      ],
      "text/plain": [
       "<IPython.core.display.HTML object>"
      ]
     },
     "metadata": {},
     "output_type": "display_data"
    },
    {
     "name": "stderr",
     "output_type": "stream",
     "text": [
      "100%|██████████| 180/180 [00:01<00:00, 160.29it/s]\n",
      "100%|██████████| 180/180 [00:02<00:00, 69.01it/s]\n",
      "100%|██████████| 180/180 [00:01<00:00, 152.95it/s]\n"
     ]
    },
    {
     "name": "stdout",
     "output_type": "stream",
     "text": [
      "Epoch  1,  Loss: 16537.1875,  Regret:  7.8329%\n"
     ]
    },
    {
     "name": "stderr",
     "output_type": "stream",
     "text": [
      "100%|██████████| 180/180 [00:03<00:00, 52.96it/s]\n",
      "100%|██████████| 180/180 [00:01<00:00, 139.99it/s]\n"
     ]
    },
    {
     "name": "stdout",
     "output_type": "stream",
     "text": [
      "Epoch  2,  Loss: 16679.4766,  Regret:  8.0528%\n"
     ]
    },
    {
     "name": "stderr",
     "output_type": "stream",
     "text": [
      "100%|██████████| 180/180 [00:03<00:00, 55.46it/s]\n",
      "100%|██████████| 180/180 [00:01<00:00, 142.59it/s]\n"
     ]
    },
    {
     "name": "stdout",
     "output_type": "stream",
     "text": [
      "Epoch  3,  Loss: 12740.5703,  Regret:  8.0480%\n"
     ]
    },
    {
     "name": "stderr",
     "output_type": "stream",
     "text": [
      "100%|██████████| 180/180 [00:03<00:00, 56.22it/s]\n",
      "100%|██████████| 180/180 [00:01<00:00, 139.78it/s]\n"
     ]
    },
    {
     "name": "stdout",
     "output_type": "stream",
     "text": [
      "Epoch  4,  Loss: 11087.7246,  Regret:  7.8831%\n"
     ]
    },
    {
     "name": "stderr",
     "output_type": "stream",
     "text": [
      "100%|██████████| 180/180 [00:03<00:00, 56.75it/s]\n",
      "100%|██████████| 180/180 [00:01<00:00, 142.52it/s]\n"
     ]
    },
    {
     "name": "stdout",
     "output_type": "stream",
     "text": [
      "Epoch  5,  Loss: 11477.3525,  Regret:  7.7737%\n"
     ]
    },
    {
     "name": "stderr",
     "output_type": "stream",
     "text": [
      "100%|██████████| 180/180 [00:03<00:00, 58.64it/s]\n",
      "100%|██████████| 180/180 [00:01<00:00, 143.92it/s]\n"
     ]
    },
    {
     "name": "stdout",
     "output_type": "stream",
     "text": [
      "Epoch  6,  Loss: 10260.0498,  Regret:  7.7665%\n"
     ]
    },
    {
     "name": "stderr",
     "output_type": "stream",
     "text": [
      "100%|██████████| 180/180 [00:03<00:00, 59.43it/s]\n",
      "100%|██████████| 180/180 [00:01<00:00, 146.84it/s]\n"
     ]
    },
    {
     "name": "stdout",
     "output_type": "stream",
     "text": [
      "Epoch  7,  Loss: 10074.1230,  Regret:  7.9967%\n"
     ]
    },
    {
     "name": "stderr",
     "output_type": "stream",
     "text": [
      "100%|██████████| 180/180 [00:02<00:00, 60.95it/s]\n",
      "100%|██████████| 180/180 [00:01<00:00, 141.46it/s]\n"
     ]
    },
    {
     "name": "stdout",
     "output_type": "stream",
     "text": [
      "Epoch  8,  Loss: 9986.2393,  Regret:  7.8837%\n"
     ]
    },
    {
     "name": "stderr",
     "output_type": "stream",
     "text": [
      "100%|██████████| 180/180 [00:03<00:00, 50.95it/s]\n",
      "100%|██████████| 180/180 [00:01<00:00, 123.09it/s]\n"
     ]
    },
    {
     "name": "stdout",
     "output_type": "stream",
     "text": [
      "Epoch  9,  Loss: 9521.3457,  Regret:  7.9183%\n"
     ]
    },
    {
     "name": "stderr",
     "output_type": "stream",
     "text": [
      "100%|██████████| 180/180 [00:04<00:00, 44.83it/s]\n",
      "100%|██████████| 180/180 [00:01<00:00, 133.38it/s]\n"
     ]
    },
    {
     "name": "stdout",
     "output_type": "stream",
     "text": [
      "Epoch 10,  Loss: 16095.0645,  Regret:  7.5582%\n"
     ]
    },
    {
     "name": "stderr",
     "output_type": "stream",
     "text": [
      "100%|██████████| 180/180 [00:04<00:00, 42.53it/s]\n",
      "100%|██████████| 180/180 [00:01<00:00, 126.08it/s]\n"
     ]
    },
    {
     "name": "stdout",
     "output_type": "stream",
     "text": [
      "Epoch 11,  Loss: 10713.5527,  Regret:  7.6676%\n"
     ]
    },
    {
     "name": "stderr",
     "output_type": "stream",
     "text": [
      "100%|██████████| 180/180 [00:03<00:00, 51.19it/s]\n",
      "100%|██████████| 180/180 [00:02<00:00, 84.95it/s] \n"
     ]
    },
    {
     "name": "stdout",
     "output_type": "stream",
     "text": [
      "Epoch 12,  Loss: 13485.2246,  Regret:  7.3893%\n"
     ]
    },
    {
     "name": "stderr",
     "output_type": "stream",
     "text": [
      "100%|██████████| 180/180 [00:03<00:00, 52.69it/s]\n",
      "100%|██████████| 180/180 [00:01<00:00, 127.45it/s]\n"
     ]
    },
    {
     "name": "stdout",
     "output_type": "stream",
     "text": [
      "Epoch 13,  Loss: 11899.7793,  Regret:  7.3651%\n"
     ]
    },
    {
     "name": "stderr",
     "output_type": "stream",
     "text": [
      "100%|██████████| 180/180 [00:03<00:00, 56.02it/s]\n",
      "100%|██████████| 180/180 [00:01<00:00, 132.88it/s]\n"
     ]
    },
    {
     "name": "stdout",
     "output_type": "stream",
     "text": [
      "Epoch 14,  Loss: 10753.2275,  Regret:  7.4692%\n"
     ]
    },
    {
     "name": "stderr",
     "output_type": "stream",
     "text": [
      "100%|██████████| 180/180 [00:03<00:00, 54.68it/s]\n",
      "100%|██████████| 180/180 [00:01<00:00, 130.96it/s]\n"
     ]
    },
    {
     "name": "stdout",
     "output_type": "stream",
     "text": [
      "Epoch 15,  Loss: 11422.8174,  Regret:  7.6034%\n"
     ]
    },
    {
     "name": "stderr",
     "output_type": "stream",
     "text": [
      "100%|██████████| 180/180 [00:03<00:00, 57.56it/s]\n",
      "100%|██████████| 180/180 [00:01<00:00, 136.58it/s]\n"
     ]
    },
    {
     "name": "stdout",
     "output_type": "stream",
     "text": [
      "Epoch 16,  Loss: 12531.2695,  Regret:  7.6495%\n"
     ]
    },
    {
     "name": "stderr",
     "output_type": "stream",
     "text": [
      "100%|██████████| 180/180 [00:03<00:00, 57.06it/s]\n",
      "100%|██████████| 180/180 [00:01<00:00, 133.61it/s]\n"
     ]
    },
    {
     "name": "stdout",
     "output_type": "stream",
     "text": [
      "Epoch 17,  Loss: 12340.3496,  Regret:  7.4528%\n"
     ]
    },
    {
     "name": "stderr",
     "output_type": "stream",
     "text": [
      "100%|██████████| 180/180 [00:03<00:00, 57.70it/s]\n",
      "100%|██████████| 180/180 [00:01<00:00, 133.97it/s]\n"
     ]
    },
    {
     "name": "stdout",
     "output_type": "stream",
     "text": [
      "Epoch 18,  Loss: 11175.6250,  Regret:  7.4104%\n"
     ]
    },
    {
     "name": "stderr",
     "output_type": "stream",
     "text": [
      "100%|██████████| 180/180 [00:03<00:00, 56.18it/s]\n",
      "100%|██████████| 180/180 [00:01<00:00, 128.27it/s]\n"
     ]
    },
    {
     "name": "stdout",
     "output_type": "stream",
     "text": [
      "Epoch 19,  Loss: 10307.5703,  Regret:  7.3540%\n"
     ]
    },
    {
     "name": "stderr",
     "output_type": "stream",
     "text": [
      "100%|██████████| 180/180 [00:03<00:00, 58.28it/s]\n",
      "100%|██████████| 180/180 [00:01<00:00, 137.89it/s]\n"
     ]
    },
    {
     "name": "stdout",
     "output_type": "stream",
     "text": [
      "Epoch 20,  Loss: 8712.3857,  Regret:  7.2795%\n",
      "Total Elapsed Time: 5848.95 Sec.\n"
     ]
    },
    {
     "data": {
      "text/html": [
       "<style>\n",
       "    table.wandb td:nth-child(1) { padding: 0 10px; text-align: left ; width: auto;} td:nth-child(2) {text-align: left ; width: 100%}\n",
       "    .wandb-row { display: flex; flex-direction: row; flex-wrap: wrap; justify-content: flex-start; width: 100% }\n",
       "    .wandb-col { display: flex; flex-direction: column; flex-basis: 100%; flex: 1; padding: 10px; }\n",
       "    </style>\n",
       "<div class=\"wandb-row\"><div class=\"wandb-col\"><h3>Run history:</h3><br/><table class=\"wandb\"><tr><td>Linear loss</td><td>▃▂▆▁▃▄▁▃▆▃▁▄▂▄▂▃▁▅▂▅▂▄▁█▃▄▂▅▂▄▂▄▁▅▁▅▂▄▁▄</td></tr><tr><td>Regret</td><td>▆██▆▅▅▇▆▇▄▅▂▂▃▄▄▃▂▂▁</td></tr></table><br/></div><div class=\"wandb-col\"><h3>Run summary:</h3><br/><table class=\"wandb\"><tr><td>Linear loss</td><td>8712.38574</td></tr><tr><td>Regret</td><td>0.07279</td></tr></table><br/></div></div>"
      ],
      "text/plain": [
       "<IPython.core.display.HTML object>"
      ]
     },
     "metadata": {},
     "output_type": "display_data"
    },
    {
     "data": {
      "text/html": [
       " View run <strong style=\"color:#cdcd00\">ancient-sweep-29</strong> at: <a href='https://wandb.ai/Pyepo_special/Sweep%20Pyepo%20Basic%20Model/runs/vyge3oos' target=\"_blank\">https://wandb.ai/Pyepo_special/Sweep%20Pyepo%20Basic%20Model/runs/vyge3oos</a><br/> View project at: <a href='https://wandb.ai/Pyepo_special/Sweep%20Pyepo%20Basic%20Model' target=\"_blank\">https://wandb.ai/Pyepo_special/Sweep%20Pyepo%20Basic%20Model</a><br/>Synced 5 W&B file(s), 0 media file(s), 0 artifact file(s) and 0 other file(s)"
      ],
      "text/plain": [
       "<IPython.core.display.HTML object>"
      ]
     },
     "metadata": {},
     "output_type": "display_data"
    },
    {
     "data": {
      "text/html": [
       "Find logs at: <code>.\\wandb\\run-20240515_134133-vyge3oos\\logs</code>"
      ],
      "text/plain": [
       "<IPython.core.display.HTML object>"
      ]
     },
     "metadata": {},
     "output_type": "display_data"
    },
    {
     "name": "stderr",
     "output_type": "stream",
     "text": [
      "\u001b[34m\u001b[1mwandb\u001b[0m: Agent Starting Run: p5o5ky1r with config:\n",
      "\u001b[34m\u001b[1mwandb\u001b[0m: \tdropout: 0.9\n",
      "\u001b[34m\u001b[1mwandb\u001b[0m: \tgamma: 0.95\n",
      "\u001b[34m\u001b[1mwandb\u001b[0m: \tlr: 0.001\n",
      "\u001b[34m\u001b[1mwandb\u001b[0m: \tmethod_name: spo+\n",
      "\u001b[34m\u001b[1mwandb\u001b[0m: \tneurons: 64\n",
      "\u001b[34m\u001b[1mwandb\u001b[0m: \tnum_epochs: 10\n",
      "Failed to detect the name of this notebook, you can set it manually with the WANDB_NOTEBOOK_NAME environment variable to enable code saving.\n"
     ]
    },
    {
     "data": {
      "text/html": [
       "Tracking run with wandb version 0.17.0"
      ],
      "text/plain": [
       "<IPython.core.display.HTML object>"
      ]
     },
     "metadata": {},
     "output_type": "display_data"
    },
    {
     "data": {
      "text/html": [
       "Run data is saved locally in <code>c:\\Users\\ande7\\Documents\\Semester 3\\Special\\Course Material\\contextual_dm_in_power_sys\\main_folder\\models\\PyEpo\\wandb\\run-20240515_134317-p5o5ky1r</code>"
      ],
      "text/plain": [
       "<IPython.core.display.HTML object>"
      ]
     },
     "metadata": {},
     "output_type": "display_data"
    },
    {
     "data": {
      "text/html": [
       "Syncing run <strong><a href='https://wandb.ai/Pyepo_special/Sweep%20Pyepo%20Basic%20Model/runs/p5o5ky1r' target=\"_blank\">daily-sweep-30</a></strong> to <a href='https://wandb.ai/Pyepo_special/Sweep%20Pyepo%20Basic%20Model' target=\"_blank\">Weights & Biases</a> (<a href='https://wandb.me/run' target=\"_blank\">docs</a>)<br/>Sweep page: <a href='https://wandb.ai/Pyepo_special/Sweep%20Pyepo%20Basic%20Model/sweeps/21l2bgkz' target=\"_blank\">https://wandb.ai/Pyepo_special/Sweep%20Pyepo%20Basic%20Model/sweeps/21l2bgkz</a>"
      ],
      "text/plain": [
       "<IPython.core.display.HTML object>"
      ]
     },
     "metadata": {},
     "output_type": "display_data"
    },
    {
     "data": {
      "text/html": [
       " View project at <a href='https://wandb.ai/Pyepo_special/Sweep%20Pyepo%20Basic%20Model' target=\"_blank\">https://wandb.ai/Pyepo_special/Sweep%20Pyepo%20Basic%20Model</a>"
      ],
      "text/plain": [
       "<IPython.core.display.HTML object>"
      ]
     },
     "metadata": {},
     "output_type": "display_data"
    },
    {
     "data": {
      "text/html": [
       " View sweep at <a href='https://wandb.ai/Pyepo_special/Sweep%20Pyepo%20Basic%20Model/sweeps/21l2bgkz' target=\"_blank\">https://wandb.ai/Pyepo_special/Sweep%20Pyepo%20Basic%20Model/sweeps/21l2bgkz</a>"
      ],
      "text/plain": [
       "<IPython.core.display.HTML object>"
      ]
     },
     "metadata": {},
     "output_type": "display_data"
    },
    {
     "data": {
      "text/html": [
       " View run at <a href='https://wandb.ai/Pyepo_special/Sweep%20Pyepo%20Basic%20Model/runs/p5o5ky1r' target=\"_blank\">https://wandb.ai/Pyepo_special/Sweep%20Pyepo%20Basic%20Model/runs/p5o5ky1r</a>"
      ],
      "text/plain": [
       "<IPython.core.display.HTML object>"
      ]
     },
     "metadata": {},
     "output_type": "display_data"
    },
    {
     "name": "stderr",
     "output_type": "stream",
     "text": [
      "100%|██████████| 180/180 [00:01<00:00, 138.62it/s]\n",
      "100%|██████████| 180/180 [00:02<00:00, 62.02it/s]\n",
      "100%|██████████| 180/180 [00:01<00:00, 133.09it/s]\n"
     ]
    },
    {
     "name": "stdout",
     "output_type": "stream",
     "text": [
      "Epoch  1,  Loss: 14274.8066,  Regret:  8.2001%\n"
     ]
    },
    {
     "name": "stderr",
     "output_type": "stream",
     "text": [
      "100%|██████████| 180/180 [00:03<00:00, 57.96it/s]\n",
      "100%|██████████| 180/180 [00:01<00:00, 140.42it/s]\n"
     ]
    },
    {
     "name": "stdout",
     "output_type": "stream",
     "text": [
      "Epoch  2,  Loss: 13471.7803,  Regret:  7.7742%\n"
     ]
    },
    {
     "name": "stderr",
     "output_type": "stream",
     "text": [
      "100%|██████████| 180/180 [00:03<00:00, 56.94it/s]\n",
      "100%|██████████| 180/180 [00:01<00:00, 129.15it/s]\n"
     ]
    },
    {
     "name": "stdout",
     "output_type": "stream",
     "text": [
      "Epoch  3,  Loss: 13509.2598,  Regret:  7.5969%\n"
     ]
    },
    {
     "name": "stderr",
     "output_type": "stream",
     "text": [
      "100%|██████████| 180/180 [00:03<00:00, 56.31it/s]\n",
      "100%|██████████| 180/180 [00:01<00:00, 135.73it/s]\n"
     ]
    },
    {
     "name": "stdout",
     "output_type": "stream",
     "text": [
      "Epoch  4,  Loss: 16179.7109,  Regret:  7.3977%\n"
     ]
    },
    {
     "name": "stderr",
     "output_type": "stream",
     "text": [
      "100%|██████████| 180/180 [00:03<00:00, 53.50it/s]\n",
      "100%|██████████| 180/180 [00:01<00:00, 124.21it/s]\n"
     ]
    },
    {
     "name": "stdout",
     "output_type": "stream",
     "text": [
      "Epoch  5,  Loss: 12667.5889,  Regret:  7.6616%\n"
     ]
    },
    {
     "name": "stderr",
     "output_type": "stream",
     "text": [
      "100%|██████████| 180/180 [00:03<00:00, 55.81it/s]\n",
      "100%|██████████| 180/180 [00:01<00:00, 107.90it/s]\n"
     ]
    },
    {
     "name": "stdout",
     "output_type": "stream",
     "text": [
      "Epoch  6,  Loss: 11817.7969,  Regret:  7.4780%\n"
     ]
    },
    {
     "name": "stderr",
     "output_type": "stream",
     "text": [
      "100%|██████████| 180/180 [00:03<00:00, 50.91it/s]\n",
      "100%|██████████| 180/180 [00:01<00:00, 113.39it/s]\n"
     ]
    },
    {
     "name": "stdout",
     "output_type": "stream",
     "text": [
      "Epoch  7,  Loss: 12424.9502,  Regret:  7.2898%\n"
     ]
    },
    {
     "name": "stderr",
     "output_type": "stream",
     "text": [
      "100%|██████████| 180/180 [00:03<00:00, 48.90it/s]\n",
      "100%|██████████| 180/180 [00:01<00:00, 113.18it/s]\n"
     ]
    },
    {
     "name": "stdout",
     "output_type": "stream",
     "text": [
      "Epoch  8,  Loss: 10442.0176,  Regret:  7.2418%\n"
     ]
    },
    {
     "name": "stderr",
     "output_type": "stream",
     "text": [
      "100%|██████████| 180/180 [00:03<00:00, 49.03it/s]\n",
      "100%|██████████| 180/180 [00:01<00:00, 140.25it/s]\n"
     ]
    },
    {
     "name": "stdout",
     "output_type": "stream",
     "text": [
      "Epoch  9,  Loss: 10571.3916,  Regret:  7.1744%\n"
     ]
    },
    {
     "name": "stderr",
     "output_type": "stream",
     "text": [
      "100%|██████████| 180/180 [00:03<00:00, 52.61it/s]\n",
      "100%|██████████| 180/180 [00:01<00:00, 123.14it/s]\n"
     ]
    },
    {
     "name": "stdout",
     "output_type": "stream",
     "text": [
      "Epoch 10,  Loss: 9786.9795,  Regret:  7.2747%\n",
      "Total Elapsed Time: 2948.07 Sec.\n"
     ]
    },
    {
     "data": {
      "text/html": [
       "<style>\n",
       "    table.wandb td:nth-child(1) { padding: 0 10px; text-align: left ; width: auto;} td:nth-child(2) {text-align: left ; width: 100%}\n",
       "    .wandb-row { display: flex; flex-direction: row; flex-wrap: wrap; justify-content: flex-start; width: 100% }\n",
       "    .wandb-col { display: flex; flex-direction: column; flex-basis: 100%; flex: 1; padding: 10px; }\n",
       "    </style>\n",
       "<div class=\"wandb-row\"><div class=\"wandb-col\"><h3>Run history:</h3><br/><table class=\"wandb\"><tr><td>Linear loss</td><td>█▅▃▅█▂▁▇▇▄▂▆▂▁▃▆▇▂▅▅█▂▂▄▃▁▄▇▂▁▄▅▁▂▄▅▂▂▅▇</td></tr><tr><td>Regret</td><td>█▅▄▃▄▃▂▁▁▂</td></tr></table><br/></div><div class=\"wandb-col\"><h3>Run summary:</h3><br/><table class=\"wandb\"><tr><td>Linear loss</td><td>9786.97949</td></tr><tr><td>Regret</td><td>0.07275</td></tr></table><br/></div></div>"
      ],
      "text/plain": [
       "<IPython.core.display.HTML object>"
      ]
     },
     "metadata": {},
     "output_type": "display_data"
    },
    {
     "data": {
      "text/html": [
       " View run <strong style=\"color:#cdcd00\">daily-sweep-30</strong> at: <a href='https://wandb.ai/Pyepo_special/Sweep%20Pyepo%20Basic%20Model/runs/p5o5ky1r' target=\"_blank\">https://wandb.ai/Pyepo_special/Sweep%20Pyepo%20Basic%20Model/runs/p5o5ky1r</a><br/> View project at: <a href='https://wandb.ai/Pyepo_special/Sweep%20Pyepo%20Basic%20Model' target=\"_blank\">https://wandb.ai/Pyepo_special/Sweep%20Pyepo%20Basic%20Model</a><br/>Synced 5 W&B file(s), 0 media file(s), 0 artifact file(s) and 0 other file(s)"
      ],
      "text/plain": [
       "<IPython.core.display.HTML object>"
      ]
     },
     "metadata": {},
     "output_type": "display_data"
    },
    {
     "data": {
      "text/html": [
       "Find logs at: <code>.\\wandb\\run-20240515_134317-p5o5ky1r\\logs</code>"
      ],
      "text/plain": [
       "<IPython.core.display.HTML object>"
      ]
     },
     "metadata": {},
     "output_type": "display_data"
    }
   ],
   "source": [
    "wandb.agent(sweep_id, function=trainModel,count=30)"
   ]
  },
  {
   "cell_type": "code",
   "execution_count": null,
   "metadata": {},
   "outputs": [],
   "source": [
    "api = wandb.Api()\n",
    "sweep = api.sweep(\"Pyepo_special/Sweep Pyepo Basic Model/<sweep_id>\")\n",
    "best_run = sweep.best_run()"
   ]
  },
  {
   "cell_type": "code",
   "execution_count": 18,
   "metadata": {},
   "outputs": [
    {
     "data": {
      "text/html": [
       "Tracking run with wandb version 0.17.0"
      ],
      "text/plain": [
       "<IPython.core.display.HTML object>"
      ]
     },
     "metadata": {},
     "output_type": "display_data"
    },
    {
     "data": {
      "text/html": [
       "Run data is saved locally in <code>c:\\Users\\ande7\\Documents\\Semester 3\\Special\\Course Material\\contextual_dm_in_power_sys\\main_folder\\models\\PyEpo\\wandb\\run-20240515_141720-ogr9j4kv</code>"
      ],
      "text/plain": [
       "<IPython.core.display.HTML object>"
      ]
     },
     "metadata": {},
     "output_type": "display_data"
    },
    {
     "data": {
      "text/html": [
       "Syncing run <strong><a href='https://wandb.ai/adh/contextual_dm_in_power_sys/runs/ogr9j4kv' target=\"_blank\">summer-rain-29</a></strong> to <a href='https://wandb.ai/adh/contextual_dm_in_power_sys' target=\"_blank\">Weights & Biases</a> (<a href='https://wandb.me/run' target=\"_blank\">docs</a>)<br/>"
      ],
      "text/plain": [
       "<IPython.core.display.HTML object>"
      ]
     },
     "metadata": {},
     "output_type": "display_data"
    },
    {
     "data": {
      "text/html": [
       " View project at <a href='https://wandb.ai/adh/contextual_dm_in_power_sys' target=\"_blank\">https://wandb.ai/adh/contextual_dm_in_power_sys</a>"
      ],
      "text/plain": [
       "<IPython.core.display.HTML object>"
      ]
     },
     "metadata": {},
     "output_type": "display_data"
    },
    {
     "data": {
      "text/html": [
       " View run at <a href='https://wandb.ai/adh/contextual_dm_in_power_sys/runs/ogr9j4kv' target=\"_blank\">https://wandb.ai/adh/contextual_dm_in_power_sys/runs/ogr9j4kv</a>"
      ],
      "text/plain": [
       "<IPython.core.display.HTML object>"
      ]
     },
     "metadata": {},
     "output_type": "display_data"
    },
    {
     "name": "stderr",
     "output_type": "stream",
     "text": [
      "100%|██████████| 365/365 [00:02<00:00, 141.20it/s]\n",
      "100%|██████████| 365/365 [00:07<00:00, 49.63it/s]\n",
      "100%|██████████| 365/365 [00:02<00:00, 136.30it/s]\n"
     ]
    },
    {
     "name": "stdout",
     "output_type": "stream",
     "text": [
      "Epoch  1,  Loss: 10869.3262,  Regret: 12.9335%\n"
     ]
    },
    {
     "name": "stderr",
     "output_type": "stream",
     "text": [
      "100%|██████████| 365/365 [00:08<00:00, 45.30it/s]\n",
      "100%|██████████| 365/365 [00:02<00:00, 134.43it/s]\n"
     ]
    },
    {
     "name": "stdout",
     "output_type": "stream",
     "text": [
      "Epoch  2,  Loss: 12989.1963,  Regret: 13.7724%\n"
     ]
    },
    {
     "name": "stderr",
     "output_type": "stream",
     "text": [
      "100%|██████████| 365/365 [00:07<00:00, 45.84it/s]\n",
      "100%|██████████| 365/365 [00:02<00:00, 132.72it/s]\n"
     ]
    },
    {
     "name": "stdout",
     "output_type": "stream",
     "text": [
      "Epoch  3,  Loss: 11205.2529,  Regret: 14.8011%\n"
     ]
    },
    {
     "name": "stderr",
     "output_type": "stream",
     "text": [
      "100%|██████████| 365/365 [00:08<00:00, 43.92it/s]\n",
      "100%|██████████| 365/365 [00:02<00:00, 129.89it/s]\n"
     ]
    },
    {
     "name": "stdout",
     "output_type": "stream",
     "text": [
      "Epoch  4,  Loss: 11532.5010,  Regret: 15.1881%\n"
     ]
    },
    {
     "name": "stderr",
     "output_type": "stream",
     "text": [
      "100%|██████████| 365/365 [00:08<00:00, 42.86it/s]\n",
      "100%|██████████| 365/365 [00:02<00:00, 133.60it/s]\n"
     ]
    },
    {
     "name": "stdout",
     "output_type": "stream",
     "text": [
      "Epoch  5,  Loss: 12011.2637,  Regret: 15.2285%\n"
     ]
    },
    {
     "name": "stderr",
     "output_type": "stream",
     "text": [
      "100%|██████████| 365/365 [00:08<00:00, 41.52it/s]\n",
      "100%|██████████| 365/365 [00:02<00:00, 133.10it/s]\n"
     ]
    },
    {
     "name": "stdout",
     "output_type": "stream",
     "text": [
      "Epoch  6,  Loss: 12645.5400,  Regret: 15.0165%\n"
     ]
    },
    {
     "name": "stderr",
     "output_type": "stream",
     "text": [
      "100%|██████████| 365/365 [00:09<00:00, 39.54it/s]\n",
      "100%|██████████| 365/365 [00:02<00:00, 135.26it/s]\n"
     ]
    },
    {
     "name": "stdout",
     "output_type": "stream",
     "text": [
      "Epoch  7,  Loss: 12187.3516,  Regret: 15.6875%\n"
     ]
    },
    {
     "name": "stderr",
     "output_type": "stream",
     "text": [
      "100%|██████████| 365/365 [00:09<00:00, 40.15it/s]\n",
      "100%|██████████| 365/365 [00:02<00:00, 135.70it/s]\n"
     ]
    },
    {
     "name": "stdout",
     "output_type": "stream",
     "text": [
      "Epoch  8,  Loss: 11480.4121,  Regret: 15.9656%\n"
     ]
    },
    {
     "name": "stderr",
     "output_type": "stream",
     "text": [
      "100%|██████████| 365/365 [00:09<00:00, 38.25it/s]\n",
      "100%|██████████| 365/365 [00:09<00:00, 38.61it/s]\n"
     ]
    },
    {
     "name": "stdout",
     "output_type": "stream",
     "text": [
      "Epoch  9,  Loss: 8829.1338,  Regret: 15.9134%\n"
     ]
    },
    {
     "name": "stderr",
     "output_type": "stream",
     "text": [
      "100%|██████████| 365/365 [00:10<00:00, 34.74it/s]\n",
      "100%|██████████| 365/365 [00:11<00:00, 31.93it/s]\n"
     ]
    },
    {
     "name": "stdout",
     "output_type": "stream",
     "text": [
      "Epoch 10,  Loss: 14217.1084,  Regret: 16.5042%\n"
     ]
    },
    {
     "name": "stderr",
     "output_type": "stream",
     "text": [
      "100%|██████████| 365/365 [00:11<00:00, 32.08it/s]\n",
      "100%|██████████| 365/365 [00:09<00:00, 37.83it/s]\n"
     ]
    },
    {
     "name": "stdout",
     "output_type": "stream",
     "text": [
      "Epoch 11,  Loss: 10423.0850,  Regret: 16.6399%\n"
     ]
    },
    {
     "name": "stderr",
     "output_type": "stream",
     "text": [
      "100%|██████████| 365/365 [00:09<00:00, 38.51it/s]\n",
      "100%|██████████| 365/365 [00:09<00:00, 38.29it/s]\n"
     ]
    },
    {
     "name": "stdout",
     "output_type": "stream",
     "text": [
      "Epoch 12,  Loss: 13560.4326,  Regret: 16.6164%\n"
     ]
    },
    {
     "name": "stderr",
     "output_type": "stream",
     "text": [
      "100%|██████████| 365/365 [00:09<00:00, 38.01it/s]\n",
      "100%|██████████| 365/365 [00:09<00:00, 37.48it/s]\n"
     ]
    },
    {
     "name": "stdout",
     "output_type": "stream",
     "text": [
      "Epoch 13,  Loss: 10760.8916,  Regret: 16.8653%\n"
     ]
    },
    {
     "name": "stderr",
     "output_type": "stream",
     "text": [
      "100%|██████████| 365/365 [00:09<00:00, 37.80it/s]\n",
      "100%|██████████| 365/365 [00:09<00:00, 37.63it/s]\n"
     ]
    },
    {
     "name": "stdout",
     "output_type": "stream",
     "text": [
      "Epoch 14,  Loss: 12370.3975,  Regret: 16.9791%\n"
     ]
    },
    {
     "name": "stderr",
     "output_type": "stream",
     "text": [
      "100%|██████████| 365/365 [00:09<00:00, 38.49it/s]\n",
      "100%|██████████| 365/365 [00:02<00:00, 155.64it/s]\n"
     ]
    },
    {
     "name": "stdout",
     "output_type": "stream",
     "text": [
      "Epoch 15,  Loss: 12614.7080,  Regret: 16.8645%\n"
     ]
    },
    {
     "name": "stderr",
     "output_type": "stream",
     "text": [
      "100%|██████████| 365/365 [00:07<00:00, 48.25it/s]\n",
      "100%|██████████| 365/365 [00:03<00:00, 118.98it/s]\n"
     ]
    },
    {
     "name": "stdout",
     "output_type": "stream",
     "text": [
      "Epoch 16,  Loss: 9824.5088,  Regret: 16.8683%\n"
     ]
    },
    {
     "name": "stderr",
     "output_type": "stream",
     "text": [
      "100%|██████████| 365/365 [00:10<00:00, 35.06it/s]\n",
      "100%|██████████| 365/365 [00:02<00:00, 123.23it/s]\n"
     ]
    },
    {
     "name": "stdout",
     "output_type": "stream",
     "text": [
      "Epoch 17,  Loss: 9550.0088,  Regret: 16.7526%\n"
     ]
    },
    {
     "name": "stderr",
     "output_type": "stream",
     "text": [
      "100%|██████████| 365/365 [00:10<00:00, 33.46it/s]\n",
      "100%|██████████| 365/365 [00:02<00:00, 128.44it/s]\n"
     ]
    },
    {
     "name": "stdout",
     "output_type": "stream",
     "text": [
      "Epoch 18,  Loss: 12399.9561,  Regret: 17.7850%\n"
     ]
    },
    {
     "name": "stderr",
     "output_type": "stream",
     "text": [
      "100%|██████████| 365/365 [00:10<00:00, 34.26it/s]\n",
      "100%|██████████| 365/365 [00:03<00:00, 120.94it/s]\n"
     ]
    },
    {
     "name": "stdout",
     "output_type": "stream",
     "text": [
      "Epoch 19,  Loss: 7329.9824,  Regret: 18.0466%\n"
     ]
    },
    {
     "name": "stderr",
     "output_type": "stream",
     "text": [
      "100%|██████████| 365/365 [00:11<00:00, 32.80it/s]\n",
      "100%|██████████| 365/365 [00:03<00:00, 116.34it/s]\n"
     ]
    },
    {
     "name": "stdout",
     "output_type": "stream",
     "text": [
      "Epoch 20,  Loss: 11481.3955,  Regret: 17.6925%\n"
     ]
    },
    {
     "name": "stderr",
     "output_type": "stream",
     "text": [
      "100%|██████████| 365/365 [00:11<00:00, 32.98it/s]\n",
      "100%|██████████| 365/365 [00:03<00:00, 110.73it/s]\n"
     ]
    },
    {
     "name": "stdout",
     "output_type": "stream",
     "text": [
      "Epoch 21,  Loss: 9882.2998,  Regret: 17.8233%\n"
     ]
    },
    {
     "name": "stderr",
     "output_type": "stream",
     "text": [
      "100%|██████████| 365/365 [00:11<00:00, 33.11it/s]\n",
      "100%|██████████| 365/365 [00:03<00:00, 113.59it/s]\n"
     ]
    },
    {
     "name": "stdout",
     "output_type": "stream",
     "text": [
      "Epoch 22,  Loss: 13232.2617,  Regret: 17.5040%\n"
     ]
    },
    {
     "name": "stderr",
     "output_type": "stream",
     "text": [
      "100%|██████████| 365/365 [00:11<00:00, 31.77it/s]\n",
      "100%|██████████| 365/365 [00:03<00:00, 114.05it/s]\n"
     ]
    },
    {
     "name": "stdout",
     "output_type": "stream",
     "text": [
      "Epoch 23,  Loss: 10266.8408,  Regret: 17.5084%\n"
     ]
    },
    {
     "name": "stderr",
     "output_type": "stream",
     "text": [
      "100%|██████████| 365/365 [00:12<00:00, 30.13it/s]\n",
      "100%|██████████| 365/365 [00:03<00:00, 110.75it/s]\n"
     ]
    },
    {
     "name": "stdout",
     "output_type": "stream",
     "text": [
      "Epoch 24,  Loss: 6561.2510,  Regret: 17.4460%\n"
     ]
    },
    {
     "name": "stderr",
     "output_type": "stream",
     "text": [
      "100%|██████████| 365/365 [00:12<00:00, 29.88it/s]\n",
      "100%|██████████| 365/365 [00:03<00:00, 106.45it/s]\n"
     ]
    },
    {
     "name": "stdout",
     "output_type": "stream",
     "text": [
      "Epoch 25,  Loss: 7024.0654,  Regret: 17.7415%\n"
     ]
    },
    {
     "name": "stderr",
     "output_type": "stream",
     "text": [
      "100%|██████████| 365/365 [00:14<00:00, 24.78it/s]\n",
      "100%|██████████| 365/365 [00:03<00:00, 95.63it/s] \n"
     ]
    },
    {
     "name": "stdout",
     "output_type": "stream",
     "text": [
      "Epoch 26,  Loss: 12756.4355,  Regret: 17.5829%\n"
     ]
    },
    {
     "name": "stderr",
     "output_type": "stream",
     "text": [
      "100%|██████████| 365/365 [00:12<00:00, 30.17it/s]\n",
      "100%|██████████| 365/365 [00:03<00:00, 109.88it/s]\n"
     ]
    },
    {
     "name": "stdout",
     "output_type": "stream",
     "text": [
      "Epoch 27,  Loss: 10269.2812,  Regret: 17.6518%\n"
     ]
    },
    {
     "name": "stderr",
     "output_type": "stream",
     "text": [
      "100%|██████████| 365/365 [00:11<00:00, 31.26it/s]\n",
      "100%|██████████| 365/365 [00:03<00:00, 112.56it/s]\n"
     ]
    },
    {
     "name": "stdout",
     "output_type": "stream",
     "text": [
      "Epoch 28,  Loss: 9888.4531,  Regret: 17.9752%\n"
     ]
    },
    {
     "name": "stderr",
     "output_type": "stream",
     "text": [
      "100%|██████████| 365/365 [00:11<00:00, 30.73it/s]\n",
      "100%|██████████| 365/365 [00:03<00:00, 109.39it/s]\n"
     ]
    },
    {
     "name": "stdout",
     "output_type": "stream",
     "text": [
      "Epoch 29,  Loss: 13063.7793,  Regret: 17.8070%\n"
     ]
    },
    {
     "name": "stderr",
     "output_type": "stream",
     "text": [
      "100%|██████████| 365/365 [00:11<00:00, 32.20it/s]\n",
      "100%|██████████| 365/365 [00:03<00:00, 106.24it/s]\n"
     ]
    },
    {
     "name": "stdout",
     "output_type": "stream",
     "text": [
      "Epoch 30,  Loss: 10326.1895,  Regret: 17.7897%\n",
      "Total Elapsed Time: 55546.91 Sec.\n"
     ]
    },
    {
     "data": {
      "text/html": [
       "<style>\n",
       "    table.wandb td:nth-child(1) { padding: 0 10px; text-align: left ; width: auto;} td:nth-child(2) {text-align: left ; width: 100%}\n",
       "    .wandb-row { display: flex; flex-direction: row; flex-wrap: wrap; justify-content: flex-start; width: 100% }\n",
       "    .wandb-col { display: flex; flex-direction: column; flex-basis: 100%; flex: 1; padding: 10px; }\n",
       "    </style>\n",
       "<div class=\"wandb-row\"><div class=\"wandb-col\"><h3>Run history:</h3><br/><table class=\"wandb\"><tr><td>Linear loss</td><td>█▆▂▇▃▃▃▄▅█▁▇▃▃▂▄▃▅▂▇▃▃▃▅▂▁▅▂▆▂▂▄▁▂▁▂▄▃▂▃</td></tr><tr><td>Regret</td><td>▁▂▄▄▄▄▅▅▅▆▆▆▆▇▆▆▆████▇▇▇█▇▇███</td></tr></table><br/></div><div class=\"wandb-col\"><h3>Run summary:</h3><br/><table class=\"wandb\"><tr><td>Linear loss</td><td>10326.18945</td></tr><tr><td>Regret</td><td>0.1779</td></tr></table><br/></div></div>"
      ],
      "text/plain": [
       "<IPython.core.display.HTML object>"
      ]
     },
     "metadata": {},
     "output_type": "display_data"
    },
    {
     "data": {
      "text/html": [
       " View run <strong style=\"color:#cdcd00\">summer-rain-29</strong> at: <a href='https://wandb.ai/adh/contextual_dm_in_power_sys/runs/ogr9j4kv' target=\"_blank\">https://wandb.ai/adh/contextual_dm_in_power_sys/runs/ogr9j4kv</a><br/> View project at: <a href='https://wandb.ai/adh/contextual_dm_in_power_sys' target=\"_blank\">https://wandb.ai/adh/contextual_dm_in_power_sys</a><br/>Synced 5 W&B file(s), 0 media file(s), 0 artifact file(s) and 0 other file(s)"
      ],
      "text/plain": [
       "<IPython.core.display.HTML object>"
      ]
     },
     "metadata": {},
     "output_type": "display_data"
    },
    {
     "data": {
      "text/html": [
       "Find logs at: <code>.\\wandb\\run-20240515_141720-ogr9j4kv\\logs</code>"
      ],
      "text/plain": [
       "<IPython.core.display.HTML object>"
      ]
     },
     "metadata": {},
     "output_type": "display_data"
    }
   ],
   "source": [
    "# Redo training with best hyperparameters\n",
    "best_config={\n",
    "        'lr': 1e-3,\n",
    "        'gamma': 0.9,\n",
    "        'num_epochs': 30,\n",
    "        'neurons': 128,\n",
    "        'dropout': 0.7,\n",
    "        \"method_name\": \"spo+\",\n",
    "    }\n",
    "\n",
    "reg, loss_log, loss_log_regret = trainModel(best_config)\n",
    "wandb.finish()"
   ]
  },
  {
   "cell_type": "code",
   "execution_count": 19,
   "metadata": {},
   "outputs": [],
   "source": [
    "forward_bids = []\n",
    "hydrogen_plan = []\n",
    "reg.eval()\n",
    "for i, data in enumerate(loader_test):\n",
    "    x, c, w, z = data\n",
    "    if torch.cuda.is_available():\n",
    "        x, c, w, z = x.cuda(), c.cuda(), w.cuda(), z.cuda()\n",
    "    predicted_costs = reg(x).detach().numpy()[0]\n",
    "    model = hydrogenPlanning(realized=wind_test[i])\n",
    "    model.setObjective(predicted_costs)\n",
    "    forward, hydrogen = model.get_plan()\n",
    "    forward_bids.extend(forward)\n",
    "    hydrogen_plan.extend(hydrogen)\n"
   ]
  },
  {
   "cell_type": "code",
   "execution_count": 20,
   "metadata": {},
   "outputs": [],
   "source": [
    "pd.DataFrame({\"forward bid\" : forward_bids,\"hydrogen production\" : hydrogen_plan}).to_csv(\"ILO_base_365_best.csv\", index=False)"
   ]
  },
  {
   "cell_type": "code",
   "execution_count": null,
   "metadata": {},
   "outputs": [],
   "source": []
  }
 ],
 "metadata": {
  "kernelspec": {
   "display_name": "Pyepo",
   "language": "python",
   "name": "python3"
  },
  "language_info": {
   "codemirror_mode": {
    "name": "ipython",
    "version": 3
   },
   "file_extension": ".py",
   "mimetype": "text/x-python",
   "name": "python",
   "nbconvert_exporter": "python",
   "pygments_lexer": "ipython3",
   "version": "3.11.9"
  }
 },
 "nbformat": 4,
 "nbformat_minor": 2
}
